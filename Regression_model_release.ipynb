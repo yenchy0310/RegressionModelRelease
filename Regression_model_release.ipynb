{
 "cells": [
  {
   "cell_type": "markdown",
   "metadata": {
    "slideshow": {
     "slide_type": "-"
    }
   },
   "source": [
    "* add humidity_feature (boolen) option"
   ]
  },
  {
   "cell_type": "code",
   "execution_count": 1,
   "metadata": {
    "slideshow": {
     "slide_type": "-"
    }
   },
   "outputs": [
    {
     "data": {
      "text/html": [
       "        <script type=\"text/javascript\">\n",
       "        window.PlotlyConfig = {MathJaxConfig: 'local'};\n",
       "        if (window.MathJax) {MathJax.Hub.Config({SVG: {font: \"STIX-Web\"}});}\n",
       "        if (typeof require !== 'undefined') {\n",
       "        require.undef(\"plotly\");\n",
       "        requirejs.config({\n",
       "            paths: {\n",
       "                'plotly': ['https://cdn.plot.ly/plotly-latest.min']\n",
       "            }\n",
       "        });\n",
       "        require(['plotly'], function(Plotly) {\n",
       "            window._Plotly = Plotly;\n",
       "        });\n",
       "        }\n",
       "        </script>\n",
       "        "
      ]
     },
     "metadata": {},
     "output_type": "display_data"
    },
    {
     "data": {
      "text/html": [
       "        <script type=\"text/javascript\">\n",
       "        window.PlotlyConfig = {MathJaxConfig: 'local'};\n",
       "        if (window.MathJax) {MathJax.Hub.Config({SVG: {font: \"STIX-Web\"}});}\n",
       "        if (typeof require !== 'undefined') {\n",
       "        require.undef(\"plotly\");\n",
       "        requirejs.config({\n",
       "            paths: {\n",
       "                'plotly': ['https://cdn.plot.ly/plotly-latest.min']\n",
       "            }\n",
       "        });\n",
       "        require(['plotly'], function(Plotly) {\n",
       "            window._Plotly = Plotly;\n",
       "        });\n",
       "        }\n",
       "        </script>\n",
       "        "
      ]
     },
     "metadata": {},
     "output_type": "display_data"
    },
    {
     "data": {
      "text/html": [
       "        <script type=\"text/javascript\">\n",
       "        window.PlotlyConfig = {MathJaxConfig: 'local'};\n",
       "        if (window.MathJax) {MathJax.Hub.Config({SVG: {font: \"STIX-Web\"}});}\n",
       "        if (typeof require !== 'undefined') {\n",
       "        require.undef(\"plotly\");\n",
       "        requirejs.config({\n",
       "            paths: {\n",
       "                'plotly': ['https://cdn.plot.ly/plotly-latest.min']\n",
       "            }\n",
       "        });\n",
       "        require(['plotly'], function(Plotly) {\n",
       "            window._Plotly = Plotly;\n",
       "        });\n",
       "        }\n",
       "        </script>\n",
       "        "
      ]
     },
     "metadata": {},
     "output_type": "display_data"
    },
    {
     "data": {
      "text/html": [
       "        <script type=\"text/javascript\">\n",
       "        window.PlotlyConfig = {MathJaxConfig: 'local'};\n",
       "        if (window.MathJax) {MathJax.Hub.Config({SVG: {font: \"STIX-Web\"}});}\n",
       "        if (typeof require !== 'undefined') {\n",
       "        require.undef(\"plotly\");\n",
       "        requirejs.config({\n",
       "            paths: {\n",
       "                'plotly': ['https://cdn.plot.ly/plotly-latest.min']\n",
       "            }\n",
       "        });\n",
       "        require(['plotly'], function(Plotly) {\n",
       "            window._Plotly = Plotly;\n",
       "        });\n",
       "        }\n",
       "        </script>\n",
       "        "
      ]
     },
     "metadata": {},
     "output_type": "display_data"
    },
    {
     "data": {
      "text/html": [
       "        <script type=\"text/javascript\">\n",
       "        window.PlotlyConfig = {MathJaxConfig: 'local'};\n",
       "        if (window.MathJax) {MathJax.Hub.Config({SVG: {font: \"STIX-Web\"}});}\n",
       "        if (typeof require !== 'undefined') {\n",
       "        require.undef(\"plotly\");\n",
       "        requirejs.config({\n",
       "            paths: {\n",
       "                'plotly': ['https://cdn.plot.ly/plotly-latest.min']\n",
       "            }\n",
       "        });\n",
       "        require(['plotly'], function(Plotly) {\n",
       "            window._Plotly = Plotly;\n",
       "        });\n",
       "        }\n",
       "        </script>\n",
       "        "
      ]
     },
     "metadata": {},
     "output_type": "display_data"
    }
   ],
   "source": [
    "import os\n",
    "import pandas as pd\n",
    "import numpy as np\n",
    "import compensation\n",
    "import module_4D\n",
    "import matplotlib.pyplot as plt\n",
    "from modeling_white_card import modeling_white\n",
    "from modeling import modeling\n",
    "from sklearn.linear_model import Ridge, Lasso, LinearRegression\n",
    "from sklearn import linear_model\n",
    "from sklearn.metrics import mean_squared_error\n",
    "import warnings\n",
    "warnings.filterwarnings('ignore')\n",
    "import interpolation\n",
    "\n",
    "import tkinter\n",
    "from tkinter import*\n",
    "# Create Tk root\n",
    "root = Tk()\n",
    "# Hide the main window\n",
    "root.withdraw()\n",
    "root.call('wm', 'attributes', '.', '-topmost', True)\n",
    "from tkinter import filedialog\n",
    "%gui tk"
   ]
  },
  {
   "cell_type": "code",
   "execution_count": 2,
   "metadata": {
    "slideshow": {
     "slide_type": "skip"
    }
   },
   "outputs": [],
   "source": [
    "def data_loading():\n",
    "    path = filedialog.askdirectory()\n",
    "    print(path)\n",
    "    return path"
   ]
  },
  {
   "cell_type": "code",
   "execution_count": 3,
   "metadata": {},
   "outputs": [],
   "source": [
    "def white_card_model(temp, white_intercept, white_coef, degree):\n",
    "          \n",
    "    if degree == 1:\n",
    "        term = [temp]\n",
    "        \n",
    "    elif degree == 2:\n",
    "        term = [temp, temp**2]\n",
    "    \n",
    "    else:\n",
    "        print('Check degree value') \n",
    "        \n",
    "    white_card_std = np.inner(white_coef, term) + white_intercept\n",
    "        \n",
    "    return white_card_std"
   ]
  },
  {
   "cell_type": "code",
   "execution_count": 4,
   "metadata": {
    "slideshow": {
     "slide_type": "skip"
    }
   },
   "outputs": [],
   "source": [
    "def white_card_regression(temp, white_intercept, white_coef):\n",
    "    white_card_std = white_intercept + white_coef*temp\n",
    "    return white_card_std"
   ]
  },
  {
   "cell_type": "code",
   "execution_count": 5,
   "metadata": {
    "slideshow": {
     "slide_type": "skip"
    }
   },
   "outputs": [],
   "source": [
    "def createWhiteCardStdColumn(data):\n",
    "    white_std_list = []\n",
    "    for temp in data['Temperature']:        \n",
    "        white_card_std = white_card_model(temp, white_intercept, white_coef, degree)\n",
    "        white_std_list.append(float(white_card_std)) \n",
    "    data['white card std'] = white_std_list"
   ]
  },
  {
   "cell_type": "code",
   "execution_count": 6,
   "metadata": {
    "slideshow": {
     "slide_type": "skip"
    }
   },
   "outputs": [],
   "source": [
    "\n",
    "def FFT_transform(data):\n",
    "    \n",
    "    '''Fourier Transform'''\n",
    "    \n",
    "    FFT_channel = ['410nm #1_mv', '440nm #1_mv', '470nm #1_mv', \n",
    "                   '510nm #1_mv', '550nm #1_mv', '583nm #1_mv', \n",
    "                   '620nm #1_mv', '670nm #1_mv', '900nm #1_mv',\n",
    "        \n",
    "                   '410nm #2_mv', '440nm #2_mv', '470nm #2_mv', \n",
    "                   '510nm #2_mv', '550nm #2_mv', '583nm #2_mv', \n",
    "                   '620nm #2_mv', '670nm #2_mv', '900nm #2_mv']\n",
    "    \n",
    "    columns_amp = ['410nm #1_mv_FFT_amp', '440nm #1_mv_FFT_amp', '470nm #1_mv_FFT_amp', \n",
    "                   '510nm #1_mv_FFT_amp', '550nm #1_mv_FFT_amp', '583nm #1_mv_FFT_amp', \n",
    "                   '620nm #1_mv_FFT_amp', '670nm #2_mv_FFT_amp', '900nm #1_mv_FFT_amp',    \n",
    "        \n",
    "                   '410nm #2_mv_FFT_amp', '440nm #2_mv_FFT_amp', '470nm #2_mv_FFT_amp', \n",
    "                   '510nm #2_mv_FFT_amp', '550nm #2_mv_FFT_amp', '583nm #2_mv_FFT_amp', \n",
    "                   '620nm #2_mv_FFT_amp', '670nm #2_mv_FFT_amp', '900nm #2_mv_FFT_amp']\n",
    "    \n",
    "    FFT_amp = np.abs(np.fft.fft(data[FFT_channel]))\n",
    "    df_FFT_amp = pd.DataFrame(FFT_amp, columns=columns_amp)\n",
    "    data = pd.concat([data, df_FFT_amp], axis=1, copy=True)\n",
    "    return data"
   ]
  },
  {
   "cell_type": "code",
   "execution_count": 7,
   "metadata": {
    "slideshow": {
     "slide_type": "skip"
    }
   },
   "outputs": [],
   "source": [
    "# def csv_loading():\n",
    "#     path = filedialog.askopenfilename(filetypes = ((\"Comma-Separated Values\",\"*.csv\"),(\"All Files\",\"*.*\")),multiple=True)\n",
    "# #     print(os.path.split(path)[-1])\n",
    "#     return path"
   ]
  },
  {
   "cell_type": "code",
   "execution_count": 8,
   "metadata": {
    "slideshow": {
     "slide_type": "skip"
    }
   },
   "outputs": [
    {
     "name": "stdout",
     "output_type": "stream",
     "text": [
      "C:/Users/bioinspira/Desktop/Data/Tools/Regression_model_release(auto gen)/#20200821154718\n"
     ]
    }
   ],
   "source": [
    "path = data_loading()"
   ]
  },
  {
   "cell_type": "code",
   "execution_count": 9,
   "metadata": {
    "slideshow": {
     "slide_type": "skip"
    }
   },
   "outputs": [
    {
     "name": "stdout",
     "output_type": "stream",
     "text": [
      "sensor_number: #20200821154718\n"
     ]
    }
   ],
   "source": [
    "#sensor serial number\n",
    "sensor_number = path.split('/')[-1]\n",
    "print('sensor_number:', sensor_number)"
   ]
  },
  {
   "cell_type": "markdown",
   "metadata": {
    "slideshow": {
     "slide_type": "slide"
    }
   },
   "source": [
    "# Loading data and FFT transform"
   ]
  },
  {
   "cell_type": "code",
   "execution_count": 10,
   "metadata": {
    "slideshow": {
     "slide_type": "subslide"
    }
   },
   "outputs": [],
   "source": [
    "# load training data\n",
    "A = 0\n",
    "B = 30000\n",
    "df_n20C = FFT_transform(pd.read_csv(path + '/select_data_calibration_n20C.csv')[A:B].reset_index(drop=True))\n",
    "df_n10C = FFT_transform(pd.read_csv(path + '/select_data_calibration_n10C.csv')[A:B].reset_index(drop=True))\n",
    "df_0C = FFT_transform(pd.read_csv(path + '/select_data_calibration_0C.csv')[A:B].reset_index(drop=True))\n",
    "df_10C = FFT_transform(pd.read_csv(path + '/select_data_calibration_10C.csv')[A:B].reset_index(drop=True))\n",
    "train_data_list = [df_n20C, df_n10C, df_0C, df_10C]\n",
    "\n",
    "\n",
    "# Load testing data\n",
    "df_test_n20C = pd.read_csv(path + '/select_data_blind_test_n20C.csv')[A:B].reset_index(drop=True)\n",
    "df_test_n10C = pd.read_csv(path + '/select_data_blind_test_n10C.csv')[A:B].reset_index(drop=True)\n",
    "df_test_10C = pd.read_csv(path + '/select_data_blind_test_10C.csv')[A:B].reset_index(drop=True)\n",
    "test_data_list = [df_test_n20C, df_test_n10C, df_test_10C]"
   ]
  },
  {
   "cell_type": "code",
   "execution_count": 11,
   "metadata": {
    "slideshow": {
     "slide_type": "subslide"
    }
   },
   "outputs": [
    {
     "name": "stdout",
     "output_type": "stream",
     "text": [
      "df_n20C: (70, 80)\n",
      "df_n10C: (70, 80)\n",
      "df_0C: (70, 80)\n",
      "df_10C: (70, 80)\n",
      "-------------------------------------\n",
      "df_test_n20C: (30, 62)\n",
      "df_test_n10C: (30, 62)\n",
      "df_test_10C: (30, 62)\n"
     ]
    }
   ],
   "source": [
    "print('df_n20C:', df_n20C.shape)\n",
    "print('df_n10C:', df_n10C.shape)\n",
    "print('df_0C:', df_0C.shape)\n",
    "print('df_10C:', df_10C.shape)\n",
    "\n",
    "print('-------------------------------------')\n",
    "print('df_test_n20C:', df_test_n20C.shape)\n",
    "print('df_test_n10C:', df_test_n10C.shape)\n",
    "print('df_test_10C:', df_test_10C.shape)\n"
   ]
  },
  {
   "cell_type": "markdown",
   "metadata": {},
   "source": [
    "# White card model"
   ]
  },
  {
   "cell_type": "code",
   "execution_count": 12,
   "metadata": {},
   "outputs": [],
   "source": [
    "# white card paremeter setting\n",
    "name = 'new_test_583nm_no_humidity'\n",
    "model_name=Ridge(alpha=10)                    #regression model\n",
    "channel = '583nm #1'                       #regression channel\n",
    "degree = 1                                   #polynimial degree"
   ]
  },
  {
   "cell_type": "code",
   "execution_count": 13,
   "metadata": {},
   "outputs": [
    {
     "name": "stdout",
     "output_type": "stream",
     "text": [
      "['x0']\n",
      "Coefficient= [70.36270039]\n",
      "Intercept= 36753.69940427113\n"
     ]
    }
   ],
   "source": [
    "df_all = pd.concat(train_data_list).reset_index(drop=True)\n",
    "df_test = pd.concat([df_10C]).reset_index(drop=True)\n",
    "\n",
    "TH_list = ['Temperature', 'Humidity'] \n",
    "ch_list = ['410nm #1', '440nm #1', '470nm #1', \n",
    "           '510nm #1', '550nm #1', '583nm #1', \n",
    "           '620nm #1', '670nm #1', '900nm #1',\n",
    "           \n",
    "           '410nm #2', '440nm #2', '470nm #2', \n",
    "           '510nm #2', '550nm #2', '583nm #2', \n",
    "           '620nm #2', '670nm #2', '900nm #2',\n",
    "\n",
    "\n",
    "           '410nm #1_mv', '440nm #1_mv', '470nm #1_mv', \n",
    "           '510nm #1_mv', '550nm #1_mv', '583nm #1_mv', \n",
    "           '620nm #1_mv', '670nm #1_mv', '900nm #1_mv',\n",
    "           \n",
    "           '410nm #2_mv', '440nm #2_mv', '470nm #2_mv', \n",
    "           '510nm #2_mv', '550nm #2_mv', '583nm #2_mv', \n",
    "           '620nm #2_mv', '670nm #2_mv', '900nm #2_mv'] \n",
    "    \n",
    "\n",
    "\n",
    "y_train = df_all[ch_list]\n",
    "x_train = df_all[TH_list + ch_list]\n",
    "y_test = df_test[ch_list]\n",
    "x_test = df_test[TH_list + ch_list]\n",
    "\n",
    "\n",
    "channels = [channel]\n",
    "\n",
    "### Ridge regression\n",
    "#             step = humidity_step\n",
    "os.chdir(path)\n",
    "for i in channels:\n",
    "    ridge = modeling_white(name=name,\n",
    "                     sensor_number=sensor_number,\n",
    "                     channel=i,\n",
    "                      x_train=x_train, \n",
    "                      y_train=y_train, \n",
    "                      x_test=x_test, \n",
    "                      y_test=y_test, \n",
    "                      model_name=model_name, \n",
    "                      degree=degree                                   \n",
    "                      )\n",
    "    pred, loss = ridge.regression_white_card()\n",
    "#     ridge.loss()\n",
    "#     ridge.plot()\n",
    "    white_intercept, white_coef = ridge.coef()"
   ]
  },
  {
   "cell_type": "code",
   "execution_count": 14,
   "metadata": {},
   "outputs": [],
   "source": [
    "# add white card std column\n",
    "for train_data_comp in train_data_list: \n",
    "    createWhiteCardStdColumn(train_data_comp)\n",
    "for test_data_comp in test_data_list: \n",
    "    createWhiteCardStdColumn(test_data_comp) "
   ]
  },
  {
   "cell_type": "code",
   "execution_count": 15,
   "metadata": {},
   "outputs": [],
   "source": [
    "# Compensation process\n",
    "white_card_std = df_10C                        #for constant compensation function\n",
    "phage_side = 2                                #for compensation\n",
    "white_card_side = 1                           #for compensation\n",
    "# comp_channel = \"583nm\"\n",
    "\n",
    "for train_data_comp in train_data_list: \n",
    "        compensation.compensation_AS7341(train_data_comp, phage_side=phage_side, white_card_side=white_card_side, compChannel=channel)\n",
    "    \n",
    "for test_data_comp in test_data_list: \n",
    "        compensation.compensation_AS7341(test_data_comp, phage_side=phage_side, white_card_side=white_card_side, compChannel=channel)"
   ]
  },
  {
   "cell_type": "markdown",
   "metadata": {
    "slideshow": {
     "slide_type": "slide"
    }
   },
   "source": [
    "# Overview 4D data"
   ]
  },
  {
   "cell_type": "code",
   "execution_count": 16,
   "metadata": {
    "slideshow": {
     "slide_type": "subslide"
    }
   },
   "outputs": [],
   "source": [
    "4D plot\n",
    "training_data = {\n",
    "             'n20C':df_n20C,\n",
    "             'n10C':df_n10C,\n",
    "               '0C':df_0C,\n",
    "              '10C':df_10C,\n",
    "                 }\n",
    "\n",
    "testing_data = {\n",
    "             'n20C_test':df_test_n20C,\n",
    "             'n10C_test':df_test_n10C,\n",
    "              '10C_test':df_test_10C,             \n",
    "               }\n",
    "\n",
    "channel_list=['583nm #1', '583nm #1_comp']\n",
    "module_4D.plot_4D(training_data, testing_data, channel_list, sensor_number)\n",
    "\n",
    "channel_list=['583nm #2', '583nm #2_comp']\n",
    "module_4D.plot_4D(training_data, testing_data, channel_list, sensor_number)"
   ]
  },
  {
   "cell_type": "markdown",
   "metadata": {},
   "source": [
    "## Build up training data and testing data"
   ]
  },
  {
   "cell_type": "markdown",
   "metadata": {},
   "source": [
    "## phage model"
   ]
  },
  {
   "cell_type": "code",
   "execution_count": 17,
   "metadata": {},
   "outputs": [],
   "source": [
    "humidity_feature = False\n",
    "model_name = Ridge(alpha=10)                    #regression model\n",
    "shift = 0                                 #raw data signal shifting\n",
    "multiple = 1                                  #raw data ppm multiple\n",
    "train_channel = '583nm #2'                  #training channel\n",
    "test_channel = '583nm #2'            #testing channel\n",
    "degree = 2                               #polynimial degree\n",
    "output_modify = 1                             #output multiple\n",
    "white_card_side = 1\n",
    "# channel_list=['670nm #1_mv']             #for 4D plot\n",
    "white_card_std_multiple = 1               #for modeling white card STD \n",
    "humidity_step = ['RH40%', 'RH50%', 'RH60%', 'RH70%', 'RH80']"
   ]
  },
  {
   "cell_type": "code",
   "execution_count": 18,
   "metadata": {
    "scrolled": false
   },
   "outputs": [
    {
     "data": {
      "application/vnd.plotly.v1+json": {
       "config": {
        "linkText": "Export to plot.ly",
        "plotlyServerURL": "https://plot.ly",
        "responsive": true,
        "showLink": true
       },
       "data": [
        {
         "line": {
          "color": "rgba(255, 153, 51, 1.0)",
          "dash": "solid",
          "shape": "linear",
          "width": 1.3
         },
         "mode": "lines",
         "name": "ppm",
         "text": "",
         "type": "scatter",
         "uid": "f9d1b922-9c75-4098-ab0f-62eaff38c539",
         "x": [
          0,
          1,
          2,
          3,
          4,
          5,
          6,
          7,
          8,
          9,
          10,
          11,
          12,
          13,
          14,
          15,
          16,
          17,
          18,
          19,
          20,
          21,
          22,
          23,
          24,
          25,
          26,
          27,
          28,
          29
         ],
         "y": [
          0.55,
          0.5625,
          0.55,
          0.55,
          0.5625,
          9.9875,
          10.025,
          9.9875,
          10.000000000000002,
          10.0125,
          60,
          59.975,
          60.02499999999999,
          59.975,
          59.93750000000001,
          0.55,
          0.55,
          0.55,
          0.5625,
          0.55,
          10.025,
          10.0125,
          10.000000000000002,
          10.0125,
          10.000000000000002,
          59.9625,
          60.02499999999999,
          60,
          59.9875,
          59.9625
         ]
        },
        {
         "line": {
          "color": "rgba(55, 128, 191, 1.0)",
          "dash": "solid",
          "shape": "linear",
          "width": 1.3
         },
         "mode": "lines",
         "name": "pred_ppm",
         "text": "",
         "type": "scatter",
         "uid": "e7089574-0afd-4b2c-8a3a-275e3e847f8f",
         "x": [
          0,
          1,
          2,
          3,
          4,
          5,
          6,
          7,
          8,
          9,
          10,
          11,
          12,
          13,
          14,
          15,
          16,
          17,
          18,
          19,
          20,
          21,
          22,
          23,
          24,
          25,
          26,
          27,
          28,
          29
         ],
         "y": [
          -4.821420933352744,
          -4.673300497634636,
          -4.719496060738939,
          -4.730492957565457,
          -4.799034816458909,
          7.725804078798719,
          7.97539291640606,
          7.766300834452291,
          7.629100806285273,
          7.908707827175012,
          59.58325199158712,
          59.36062606275877,
          60.15722429871925,
          60.6226591294012,
          60.437210447939314,
          1.2420274985092878,
          1.2071092586050398,
          1.4459539442642217,
          1.309045632377743,
          1.1766384043680642,
          13.711336026095625,
          15.077911769760355,
          15.467592540329147,
          15.997308640816797,
          14.944660625704039,
          64.26363737928102,
          65.05742882772341,
          65.11805797440243,
          65.5048482751023,
          67.55988414329128
         ]
        },
        {
         "line": {
          "color": "rgba(50, 171, 96, 1.0)",
          "dash": "solid",
          "shape": "linear",
          "width": 1.3
         },
         "mode": "lines",
         "name": "Humidity",
         "text": "",
         "type": "scatter",
         "uid": "f854314a-3bdc-4a44-aaaf-55d4750e9a3f",
         "x": [
          0,
          1,
          2,
          3,
          4,
          5,
          6,
          7,
          8,
          9,
          10,
          11,
          12,
          13,
          14,
          15,
          16,
          17,
          18,
          19,
          20,
          21,
          22,
          23,
          24,
          25,
          26,
          27,
          28,
          29
         ],
         "y": [
          66.91131591796875,
          66.888427734375,
          66.87469482421875,
          66.937255859375,
          66.93572998046875,
          67.28057861328125,
          67.28515625,
          67.31414794921875,
          67.3126220703125,
          67.27752685546875,
          67.59185791015625,
          67.5811767578125,
          67.57659912109375,
          67.6025390625,
          67.62237548828125,
          94.65179443359379,
          94.708251953125,
          94.68841552734379,
          94.732666015625,
          94.75555419921879,
          95.38421630859379,
          95.391845703125,
          95.43914794921879,
          95.43151855468751,
          95.44219970703124,
          96.29974365234379,
          96.331787109375,
          96.35772705078124,
          96.37451171875,
          96.42486572265624
         ]
        },
        {
         "line": {
          "color": "rgba(128, 0, 128, 1.0)",
          "dash": "solid",
          "shape": "linear",
          "width": 1.3
         },
         "mode": "lines",
         "name": "Temperature",
         "text": "",
         "type": "scatter",
         "uid": "565804e7-6e07-476b-aa3b-bb209ca00c9a",
         "x": [
          0,
          1,
          2,
          3,
          4,
          5,
          6,
          7,
          8,
          9,
          10,
          11,
          12,
          13,
          14,
          15,
          16,
          17,
          18,
          19,
          20,
          21,
          22,
          23,
          24,
          25,
          26,
          27,
          28,
          29
         ],
         "y": [
          -21.96067810058591,
          -21.963195800781225,
          -21.96067810058591,
          -21.99340820312497,
          -21.975784301757784,
          -21.955642700195284,
          -21.9581604003906,
          -21.96067810058591,
          -21.95312499999997,
          -21.96571350097653,
          -21.95060729980466,
          -21.9581604003906,
          -21.98081970214841,
          -21.963195800781218,
          -21.945571899414034,
          -21.935501098632717,
          -21.953124999999904,
          -21.935501098632717,
          -21.953124999999904,
          -21.955642700195213,
          -21.945571899413967,
          -21.948089599609276,
          -21.95060729980459,
          -21.968231201171776,
          -21.955642700195213,
          -21.955642700195213,
          -21.968231201171776,
          -21.950607299804588,
          -21.96319580078115,
          -21.950607299804588
         ]
        }
       ],
       "layout": {
        "legend": {
         "bgcolor": "#F5F6F9",
         "font": {
          "color": "#4D5663"
         }
        },
        "paper_bgcolor": "#F5F6F9",
        "plot_bgcolor": "#F5F6F9",
        "title": {
         "font": {
          "color": "#4D5663"
         },
         "text": "(-21C) (66%~96%) (583nm #2) (RMSE=3.9)"
        },
        "xaxis": {
         "gridcolor": "#E1E5ED",
         "showgrid": true,
         "tickfont": {
          "color": "#4D5663"
         },
         "title": {
          "font": {
           "color": "#4D5663"
          },
          "text": ""
         },
         "zerolinecolor": "#E1E5ED"
        },
        "yaxis": {
         "gridcolor": "#E1E5ED",
         "showgrid": true,
         "tickfont": {
          "color": "#4D5663"
         },
         "title": {
          "font": {
           "color": "#4D5663"
          },
          "text": ""
         },
         "zerolinecolor": "#E1E5ED"
        }
       }
      },
      "text/html": [
       "<div>\n",
       "        \n",
       "        \n",
       "            <div id=\"90119d98-8d6c-4b91-b2ee-ae45fecb7ed8\" class=\"plotly-graph-div\" style=\"height:525px; width:100%;\"></div>\n",
       "            <script type=\"text/javascript\">\n",
       "                require([\"plotly\"], function(Plotly) {\n",
       "                    window.PLOTLYENV=window.PLOTLYENV || {};\n",
       "                    window.PLOTLYENV.BASE_URL='https://plot.ly';\n",
       "                    \n",
       "                if (document.getElementById(\"90119d98-8d6c-4b91-b2ee-ae45fecb7ed8\")) {\n",
       "                    Plotly.newPlot(\n",
       "                        '90119d98-8d6c-4b91-b2ee-ae45fecb7ed8',\n",
       "                        [{\"line\": {\"color\": \"rgba(255, 153, 51, 1.0)\", \"dash\": \"solid\", \"shape\": \"linear\", \"width\": 1.3}, \"mode\": \"lines\", \"name\": \"ppm\", \"text\": \"\", \"type\": \"scatter\", \"uid\": \"1b494b3d-b6d5-4bae-ba0a-932c6c7a5516\", \"x\": [0, 1, 2, 3, 4, 5, 6, 7, 8, 9, 10, 11, 12, 13, 14, 15, 16, 17, 18, 19, 20, 21, 22, 23, 24, 25, 26, 27, 28, 29], \"y\": [0.55, 0.5625, 0.55, 0.55, 0.5625, 9.9875, 10.025, 9.9875, 10.000000000000002, 10.0125, 60.0, 59.975, 60.02499999999999, 59.975, 59.93750000000001, 0.55, 0.55, 0.55, 0.5625, 0.55, 10.025, 10.0125, 10.000000000000002, 10.0125, 10.000000000000002, 59.9625, 60.02499999999999, 60.0, 59.9875, 59.9625]}, {\"line\": {\"color\": \"rgba(55, 128, 191, 1.0)\", \"dash\": \"solid\", \"shape\": \"linear\", \"width\": 1.3}, \"mode\": \"lines\", \"name\": \"pred_ppm\", \"text\": \"\", \"type\": \"scatter\", \"uid\": \"b0ff238d-29be-475d-8a36-bfa8bb9305f4\", \"x\": [0, 1, 2, 3, 4, 5, 6, 7, 8, 9, 10, 11, 12, 13, 14, 15, 16, 17, 18, 19, 20, 21, 22, 23, 24, 25, 26, 27, 28, 29], \"y\": [-4.821420933352744, -4.673300497634636, -4.719496060738939, -4.730492957565457, -4.799034816458909, 7.725804078798719, 7.97539291640606, 7.766300834452291, 7.629100806285273, 7.908707827175012, 59.58325199158712, 59.36062606275877, 60.15722429871925, 60.6226591294012, 60.437210447939314, 1.2420274985092878, 1.2071092586050398, 1.4459539442642217, 1.309045632377743, 1.1766384043680642, 13.711336026095625, 15.077911769760355, 15.467592540329147, 15.997308640816797, 14.944660625704039, 64.26363737928102, 65.05742882772341, 65.11805797440243, 65.5048482751023, 67.55988414329128]}, {\"line\": {\"color\": \"rgba(50, 171, 96, 1.0)\", \"dash\": \"solid\", \"shape\": \"linear\", \"width\": 1.3}, \"mode\": \"lines\", \"name\": \"Humidity\", \"text\": \"\", \"type\": \"scatter\", \"uid\": \"2db13e0c-e65c-4e97-85ce-cec604bdc244\", \"x\": [0, 1, 2, 3, 4, 5, 6, 7, 8, 9, 10, 11, 12, 13, 14, 15, 16, 17, 18, 19, 20, 21, 22, 23, 24, 25, 26, 27, 28, 29], \"y\": [66.91131591796875, 66.888427734375, 66.87469482421875, 66.937255859375, 66.93572998046875, 67.28057861328125, 67.28515625, 67.31414794921875, 67.3126220703125, 67.27752685546875, 67.59185791015625, 67.5811767578125, 67.57659912109375, 67.6025390625, 67.62237548828125, 94.65179443359379, 94.708251953125, 94.68841552734379, 94.732666015625, 94.75555419921879, 95.38421630859379, 95.391845703125, 95.43914794921879, 95.43151855468751, 95.44219970703124, 96.29974365234379, 96.331787109375, 96.35772705078124, 96.37451171875, 96.42486572265624]}, {\"line\": {\"color\": \"rgba(128, 0, 128, 1.0)\", \"dash\": \"solid\", \"shape\": \"linear\", \"width\": 1.3}, \"mode\": \"lines\", \"name\": \"Temperature\", \"text\": \"\", \"type\": \"scatter\", \"uid\": \"02a4d116-d644-486e-922b-8a9ba38c1c69\", \"x\": [0, 1, 2, 3, 4, 5, 6, 7, 8, 9, 10, 11, 12, 13, 14, 15, 16, 17, 18, 19, 20, 21, 22, 23, 24, 25, 26, 27, 28, 29], \"y\": [-21.96067810058591, -21.963195800781225, -21.96067810058591, -21.99340820312497, -21.975784301757784, -21.955642700195284, -21.9581604003906, -21.96067810058591, -21.95312499999997, -21.96571350097653, -21.95060729980466, -21.9581604003906, -21.98081970214841, -21.963195800781218, -21.945571899414034, -21.935501098632717, -21.953124999999904, -21.935501098632717, -21.953124999999904, -21.955642700195213, -21.945571899413967, -21.948089599609276, -21.95060729980459, -21.968231201171776, -21.955642700195213, -21.955642700195213, -21.968231201171776, -21.950607299804588, -21.96319580078115, -21.950607299804588]}],\n",
       "                        {\"legend\": {\"bgcolor\": \"#F5F6F9\", \"font\": {\"color\": \"#4D5663\"}}, \"paper_bgcolor\": \"#F5F6F9\", \"plot_bgcolor\": \"#F5F6F9\", \"title\": {\"font\": {\"color\": \"#4D5663\"}, \"text\": \"(-21C) (66%~96%) (583nm #2) (RMSE=3.9)\"}, \"xaxis\": {\"gridcolor\": \"#E1E5ED\", \"showgrid\": true, \"tickfont\": {\"color\": \"#4D5663\"}, \"title\": {\"font\": {\"color\": \"#4D5663\"}, \"text\": \"\"}, \"zerolinecolor\": \"#E1E5ED\"}, \"yaxis\": {\"gridcolor\": \"#E1E5ED\", \"showgrid\": true, \"tickfont\": {\"color\": \"#4D5663\"}, \"title\": {\"font\": {\"color\": \"#4D5663\"}, \"text\": \"\"}, \"zerolinecolor\": \"#E1E5ED\"}},\n",
       "                        {\"showLink\": true, \"linkText\": \"Export to plot.ly\", \"plotlyServerURL\": \"https://plot.ly\", \"responsive\": true}\n",
       "                    ).then(function(){\n",
       "                            \n",
       "var gd = document.getElementById('90119d98-8d6c-4b91-b2ee-ae45fecb7ed8');\n",
       "var x = new MutationObserver(function (mutations, observer) {{\n",
       "        var display = window.getComputedStyle(gd).display;\n",
       "        if (!display || display === 'none') {{\n",
       "            console.log([gd, 'removed!']);\n",
       "            Plotly.purge(gd);\n",
       "            observer.disconnect();\n",
       "        }}\n",
       "}});\n",
       "\n",
       "// Listen for the removal of the full notebook cells\n",
       "var notebookContainer = gd.closest('#notebook-container');\n",
       "if (notebookContainer) {{\n",
       "    x.observe(notebookContainer, {childList: true});\n",
       "}}\n",
       "\n",
       "// Listen for the clearing of the current output cell\n",
       "var outputEl = gd.closest('.output');\n",
       "if (outputEl) {{\n",
       "    x.observe(outputEl, {childList: true});\n",
       "}}\n",
       "\n",
       "                        })\n",
       "                };\n",
       "                });\n",
       "            </script>\n",
       "        </div>"
      ]
     },
     "metadata": {},
     "output_type": "display_data"
    },
    {
     "data": {
      "application/vnd.plotly.v1+json": {
       "config": {
        "linkText": "Export to plot.ly",
        "plotlyServerURL": "https://plot.ly",
        "responsive": true,
        "showLink": true
       },
       "data": [
        {
         "line": {
          "color": "rgba(255, 153, 51, 1.0)",
          "dash": "solid",
          "shape": "linear",
          "width": 1.3
         },
         "mode": "lines",
         "name": "ppm",
         "text": "",
         "type": "scatter",
         "uid": "75baa01f-a15f-4872-a179-7cf160e2e102",
         "x": [
          0,
          1,
          2,
          3,
          4,
          5,
          6,
          7,
          8,
          9,
          10,
          11,
          12,
          13,
          14,
          15,
          16,
          17,
          18,
          19,
          20,
          21,
          22,
          23,
          24,
          25,
          26,
          27,
          28,
          29
         ],
         "y": [
          0.5375,
          0.5375,
          0.5375,
          0.525,
          0.525,
          9.9875,
          9.975,
          10.000000000000002,
          9.9875,
          9.9875,
          60.0375,
          60.0375,
          59.95,
          59.93750000000001,
          59.975,
          0.5125,
          0.5125,
          0.525,
          0.5125,
          0.5,
          10.000000000000002,
          10.000000000000002,
          9.975,
          10.0125,
          10.0125,
          59.975,
          59.93750000000001,
          60.0125,
          60,
          60.0125
         ]
        },
        {
         "line": {
          "color": "rgba(55, 128, 191, 1.0)",
          "dash": "solid",
          "shape": "linear",
          "width": 1.3
         },
         "mode": "lines",
         "name": "pred_ppm",
         "text": "",
         "type": "scatter",
         "uid": "d2f6221d-51e8-48d4-bdda-22459e6a007e",
         "x": [
          0,
          1,
          2,
          3,
          4,
          5,
          6,
          7,
          8,
          9,
          10,
          11,
          12,
          13,
          14,
          15,
          16,
          17,
          18,
          19,
          20,
          21,
          22,
          23,
          24,
          25,
          26,
          27,
          28,
          29
         ],
         "y": [
          0.2566040088495852,
          0.5441560053820869,
          0.8509512521036275,
          0.4741339666166958,
          0.2566040088495852,
          12.243188537822796,
          12.540589754846982,
          13.737594149634079,
          13.123783341768801,
          13.518581807798284,
          62.09491478540497,
          61.829223428303614,
          62.47057533496346,
          62.94269301591175,
          62.92639450532063,
          2.880871754040561,
          2.7746673797291472,
          2.9512280732504586,
          2.2817135657070544,
          3.1129453866636236,
          16.431271565855763,
          15.969620093630166,
          17.228674442184435,
          15.946712673466994,
          18.129851481018367,
          63.50945424334545,
          65.90984548024244,
          66.3269606903371,
          65.00936695270263,
          65.49294780653854
         ]
        },
        {
         "line": {
          "color": "rgba(50, 171, 96, 1.0)",
          "dash": "solid",
          "shape": "linear",
          "width": 1.3
         },
         "mode": "lines",
         "name": "Humidity",
         "text": "",
         "type": "scatter",
         "uid": "18994768-d0d0-4367-911f-867544e19b9e",
         "x": [
          0,
          1,
          2,
          3,
          4,
          5,
          6,
          7,
          8,
          9,
          10,
          11,
          12,
          13,
          14,
          15,
          16,
          17,
          18,
          19,
          20,
          21,
          22,
          23,
          24,
          25,
          26,
          27,
          28,
          29
         ],
         "y": [
          68.93768310546875,
          68.9178466796875,
          68.93463134765625,
          68.963623046875,
          68.96820068359375,
          69.04449462890625,
          69.0399169921875,
          69.00787353515625,
          69.0887451171875,
          69.15740966796875,
          69.32220458984375,
          69.2779541015625,
          69.32220458984375,
          69.378662109375,
          69.39849853515625,
          91.96014404296876,
          91.97998046875,
          92.00286865234376,
          92.083740234375,
          92.04559326171876,
          92.69561767578121,
          92.73376464843749,
          92.76580810546876,
          92.78869628906249,
          92.78106689453121,
          93.72406005859376,
          93.81408691406249,
          93.86749267578121,
          93.731689453125,
          93.91021728515621
         ]
        },
        {
         "line": {
          "color": "rgba(128, 0, 128, 1.0)",
          "dash": "solid",
          "shape": "linear",
          "width": 1.3
         },
         "mode": "lines",
         "name": "Temperature",
         "text": "",
         "type": "scatter",
         "uid": "928a3e66-5ced-4fa0-b83e-4501af95b376",
         "x": [
          0,
          1,
          2,
          3,
          4,
          5,
          6,
          7,
          8,
          9,
          10,
          11,
          12,
          13,
          14,
          15,
          16,
          17,
          18,
          19,
          20,
          21,
          22,
          23,
          24,
          25,
          26,
          27,
          28,
          29
         ],
         "y": [
          -11.940231323242088,
          -11.947784423828026,
          -11.945266723632713,
          -11.95281982421865,
          -11.940231323242088,
          -11.935195922851465,
          -11.9226074218749,
          -11.899948120117088,
          -11.927642822265526,
          -11.930160522460838,
          -11.899948120117088,
          -11.8823242187499,
          -11.879806518554588,
          -11.897430419921776,
          -11.874771118163965,
          -11.864700317382713,
          -11.857147216796776,
          -11.859664916992088,
          -11.877288818359276,
          -11.869735717773338,
          -11.884841918945213,
          -11.877288818359276,
          -11.874771118163965,
          -11.85211181640615,
          -11.864700317382713,
          -11.854629516601465,
          -11.85211181640615,
          -11.839523315429588,
          -11.897430419921776,
          -11.864700317382713
         ]
        }
       ],
       "layout": {
        "legend": {
         "bgcolor": "#F5F6F9",
         "font": {
          "color": "#4D5663"
         }
        },
        "paper_bgcolor": "#F5F6F9",
        "plot_bgcolor": "#F5F6F9",
        "title": {
         "font": {
          "color": "#4D5663"
         },
         "text": "(-11C) (68%~93%) (583nm #2) (RMSE=4.0)"
        },
        "xaxis": {
         "gridcolor": "#E1E5ED",
         "showgrid": true,
         "tickfont": {
          "color": "#4D5663"
         },
         "title": {
          "font": {
           "color": "#4D5663"
          },
          "text": ""
         },
         "zerolinecolor": "#E1E5ED"
        },
        "yaxis": {
         "gridcolor": "#E1E5ED",
         "showgrid": true,
         "tickfont": {
          "color": "#4D5663"
         },
         "title": {
          "font": {
           "color": "#4D5663"
          },
          "text": ""
         },
         "zerolinecolor": "#E1E5ED"
        }
       }
      },
      "text/html": [
       "<div>\n",
       "        \n",
       "        \n",
       "            <div id=\"7f1e3fc5-2dd8-4642-8e94-96b9bf78f299\" class=\"plotly-graph-div\" style=\"height:525px; width:100%;\"></div>\n",
       "            <script type=\"text/javascript\">\n",
       "                require([\"plotly\"], function(Plotly) {\n",
       "                    window.PLOTLYENV=window.PLOTLYENV || {};\n",
       "                    window.PLOTLYENV.BASE_URL='https://plot.ly';\n",
       "                    \n",
       "                if (document.getElementById(\"7f1e3fc5-2dd8-4642-8e94-96b9bf78f299\")) {\n",
       "                    Plotly.newPlot(\n",
       "                        '7f1e3fc5-2dd8-4642-8e94-96b9bf78f299',\n",
       "                        [{\"line\": {\"color\": \"rgba(255, 153, 51, 1.0)\", \"dash\": \"solid\", \"shape\": \"linear\", \"width\": 1.3}, \"mode\": \"lines\", \"name\": \"ppm\", \"text\": \"\", \"type\": \"scatter\", \"uid\": \"9984009b-fd77-4e68-bfb0-14ecb6ec0e33\", \"x\": [0, 1, 2, 3, 4, 5, 6, 7, 8, 9, 10, 11, 12, 13, 14, 15, 16, 17, 18, 19, 20, 21, 22, 23, 24, 25, 26, 27, 28, 29], \"y\": [0.5375, 0.5375, 0.5375, 0.525, 0.525, 9.9875, 9.975, 10.000000000000002, 9.9875, 9.9875, 60.0375, 60.0375, 59.95, 59.93750000000001, 59.975, 0.5125, 0.5125, 0.525, 0.5125, 0.5, 10.000000000000002, 10.000000000000002, 9.975, 10.0125, 10.0125, 59.975, 59.93750000000001, 60.0125, 60.0, 60.0125]}, {\"line\": {\"color\": \"rgba(55, 128, 191, 1.0)\", \"dash\": \"solid\", \"shape\": \"linear\", \"width\": 1.3}, \"mode\": \"lines\", \"name\": \"pred_ppm\", \"text\": \"\", \"type\": \"scatter\", \"uid\": \"67f240f4-c82e-40d0-a4ca-9f2781a686dd\", \"x\": [0, 1, 2, 3, 4, 5, 6, 7, 8, 9, 10, 11, 12, 13, 14, 15, 16, 17, 18, 19, 20, 21, 22, 23, 24, 25, 26, 27, 28, 29], \"y\": [0.2566040088495852, 0.5441560053820869, 0.8509512521036275, 0.4741339666166958, 0.2566040088495852, 12.243188537822796, 12.540589754846982, 13.737594149634079, 13.123783341768801, 13.518581807798284, 62.09491478540497, 61.829223428303614, 62.47057533496346, 62.94269301591175, 62.92639450532063, 2.880871754040561, 2.7746673797291472, 2.9512280732504586, 2.2817135657070544, 3.1129453866636236, 16.431271565855763, 15.969620093630166, 17.228674442184435, 15.946712673466994, 18.129851481018367, 63.50945424334545, 65.90984548024244, 66.3269606903371, 65.00936695270263, 65.49294780653854]}, {\"line\": {\"color\": \"rgba(50, 171, 96, 1.0)\", \"dash\": \"solid\", \"shape\": \"linear\", \"width\": 1.3}, \"mode\": \"lines\", \"name\": \"Humidity\", \"text\": \"\", \"type\": \"scatter\", \"uid\": \"8c44d06f-24b4-42a8-a3fc-1e559b671f8a\", \"x\": [0, 1, 2, 3, 4, 5, 6, 7, 8, 9, 10, 11, 12, 13, 14, 15, 16, 17, 18, 19, 20, 21, 22, 23, 24, 25, 26, 27, 28, 29], \"y\": [68.93768310546875, 68.9178466796875, 68.93463134765625, 68.963623046875, 68.96820068359375, 69.04449462890625, 69.0399169921875, 69.00787353515625, 69.0887451171875, 69.15740966796875, 69.32220458984375, 69.2779541015625, 69.32220458984375, 69.378662109375, 69.39849853515625, 91.96014404296876, 91.97998046875, 92.00286865234376, 92.083740234375, 92.04559326171876, 92.69561767578121, 92.73376464843749, 92.76580810546876, 92.78869628906249, 92.78106689453121, 93.72406005859376, 93.81408691406249, 93.86749267578121, 93.731689453125, 93.91021728515621]}, {\"line\": {\"color\": \"rgba(128, 0, 128, 1.0)\", \"dash\": \"solid\", \"shape\": \"linear\", \"width\": 1.3}, \"mode\": \"lines\", \"name\": \"Temperature\", \"text\": \"\", \"type\": \"scatter\", \"uid\": \"d900a5ad-f544-4a74-ab3c-0e19644f5b8c\", \"x\": [0, 1, 2, 3, 4, 5, 6, 7, 8, 9, 10, 11, 12, 13, 14, 15, 16, 17, 18, 19, 20, 21, 22, 23, 24, 25, 26, 27, 28, 29], \"y\": [-11.940231323242088, -11.947784423828026, -11.945266723632713, -11.95281982421865, -11.940231323242088, -11.935195922851465, -11.9226074218749, -11.899948120117088, -11.927642822265526, -11.930160522460838, -11.899948120117088, -11.8823242187499, -11.879806518554588, -11.897430419921776, -11.874771118163965, -11.864700317382713, -11.857147216796776, -11.859664916992088, -11.877288818359276, -11.869735717773338, -11.884841918945213, -11.877288818359276, -11.874771118163965, -11.85211181640615, -11.864700317382713, -11.854629516601465, -11.85211181640615, -11.839523315429588, -11.897430419921776, -11.864700317382713]}],\n",
       "                        {\"legend\": {\"bgcolor\": \"#F5F6F9\", \"font\": {\"color\": \"#4D5663\"}}, \"paper_bgcolor\": \"#F5F6F9\", \"plot_bgcolor\": \"#F5F6F9\", \"title\": {\"font\": {\"color\": \"#4D5663\"}, \"text\": \"(-11C) (68%~93%) (583nm #2) (RMSE=4.0)\"}, \"xaxis\": {\"gridcolor\": \"#E1E5ED\", \"showgrid\": true, \"tickfont\": {\"color\": \"#4D5663\"}, \"title\": {\"font\": {\"color\": \"#4D5663\"}, \"text\": \"\"}, \"zerolinecolor\": \"#E1E5ED\"}, \"yaxis\": {\"gridcolor\": \"#E1E5ED\", \"showgrid\": true, \"tickfont\": {\"color\": \"#4D5663\"}, \"title\": {\"font\": {\"color\": \"#4D5663\"}, \"text\": \"\"}, \"zerolinecolor\": \"#E1E5ED\"}},\n",
       "                        {\"showLink\": true, \"linkText\": \"Export to plot.ly\", \"plotlyServerURL\": \"https://plot.ly\", \"responsive\": true}\n",
       "                    ).then(function(){\n",
       "                            \n",
       "var gd = document.getElementById('7f1e3fc5-2dd8-4642-8e94-96b9bf78f299');\n",
       "var x = new MutationObserver(function (mutations, observer) {{\n",
       "        var display = window.getComputedStyle(gd).display;\n",
       "        if (!display || display === 'none') {{\n",
       "            console.log([gd, 'removed!']);\n",
       "            Plotly.purge(gd);\n",
       "            observer.disconnect();\n",
       "        }}\n",
       "}});\n",
       "\n",
       "// Listen for the removal of the full notebook cells\n",
       "var notebookContainer = gd.closest('#notebook-container');\n",
       "if (notebookContainer) {{\n",
       "    x.observe(notebookContainer, {childList: true});\n",
       "}}\n",
       "\n",
       "// Listen for the clearing of the current output cell\n",
       "var outputEl = gd.closest('.output');\n",
       "if (outputEl) {{\n",
       "    x.observe(outputEl, {childList: true});\n",
       "}}\n",
       "\n",
       "                        })\n",
       "                };\n",
       "                });\n",
       "            </script>\n",
       "        </div>"
      ]
     },
     "metadata": {},
     "output_type": "display_data"
    },
    {
     "data": {
      "application/vnd.plotly.v1+json": {
       "config": {
        "linkText": "Export to plot.ly",
        "plotlyServerURL": "https://plot.ly",
        "responsive": true,
        "showLink": true
       },
       "data": [
        {
         "line": {
          "color": "rgba(255, 153, 51, 1.0)",
          "dash": "solid",
          "shape": "linear",
          "width": 1.3
         },
         "mode": "lines",
         "name": "ppm",
         "text": "",
         "type": "scatter",
         "uid": "e2cf107c-f6bc-4a3e-b4c8-94d67e2b8357",
         "x": [
          0,
          1,
          2,
          3,
          4,
          5,
          6,
          7,
          8,
          9,
          10,
          11,
          12,
          13,
          14,
          15,
          16,
          17,
          18,
          19,
          20,
          21,
          22,
          23,
          24,
          25,
          26,
          27,
          28,
          29
         ],
         "y": [
          0.5125,
          0.5,
          0.525,
          0.5125,
          0.525,
          10.000000000000002,
          9.9875,
          10.025,
          9.9875,
          9.975,
          60,
          60.04999999999999,
          60.04999999999999,
          60.0375,
          60.02499999999999,
          0.4875,
          0.5125,
          0.5125,
          0.5,
          0.5,
          9.9625,
          10.025,
          10.0375,
          10.000000000000002,
          10.025,
          60.04999999999999,
          59.87500000000001,
          60,
          59.9625,
          60.02499999999999
         ]
        },
        {
         "line": {
          "color": "rgba(55, 128, 191, 1.0)",
          "dash": "solid",
          "shape": "linear",
          "width": 1.3
         },
         "mode": "lines",
         "name": "pred_ppm",
         "text": "",
         "type": "scatter",
         "uid": "a396c717-8125-438f-932a-340bb1003269",
         "x": [
          0,
          1,
          2,
          3,
          4,
          5,
          6,
          7,
          8,
          9,
          10,
          11,
          12,
          13,
          14,
          15,
          16,
          17,
          18,
          19,
          20,
          21,
          22,
          23,
          24,
          25,
          26,
          27,
          28,
          29
         ],
         "y": [
          3.116581367089778,
          2.6029592662388996,
          2.891592009563492,
          3.0040995217346853,
          1.8161247338969824,
          14.413282582486804,
          16.591878844356057,
          14.059463865394076,
          15.978483386389875,
          15.380716706960659,
          63.93085658425884,
          65.72178832290668,
          65.41652820251271,
          65.97524955047261,
          67.31697965825467,
          6.0374837559561705,
          5.65872312249668,
          5.919860424922108,
          5.914654637887029,
          6.251753103431728,
          18.731946814043596,
          19.00705907846887,
          21.312402496996178,
          19.39288454691122,
          18.731946814043596,
          66.99449174644553,
          66.04428610347487,
          67.83533556077379,
          66.65472530407489,
          67.85803682298925
         ]
        },
        {
         "line": {
          "color": "rgba(50, 171, 96, 1.0)",
          "dash": "solid",
          "shape": "linear",
          "width": 1.3
         },
         "mode": "lines",
         "name": "Humidity",
         "text": "",
         "type": "scatter",
         "uid": "283bac77-3483-46f5-80dd-9f246ef643f5",
         "x": [
          0,
          1,
          2,
          3,
          4,
          5,
          6,
          7,
          8,
          9,
          10,
          11,
          12,
          13,
          14,
          15,
          16,
          17,
          18,
          19,
          20,
          21,
          22,
          23,
          24,
          25,
          26,
          27,
          28,
          29
         ],
         "y": [
          66.4794921875,
          66.44744873046875,
          66.4337158203125,
          66.44744873046875,
          66.4886474609375,
          66.53900146484375,
          66.5740966796875,
          66.58477783203125,
          66.5924072265625,
          66.63360595703125,
          66.998291015625,
          67.07916259765625,
          67.0440673828125,
          67.01202392578125,
          66.9525146484375,
          86.798095703125,
          86.84539794921875,
          86.8896484375,
          86.94610595703125,
          86.9659423828125,
          87.21466064453125,
          87.24365234375,
          87.28485107421875,
          87.3565673828125,
          87.36724853515625,
          88.250732421875,
          88.19732666015625,
          88.1744384765625,
          88.16986083984375,
          88.2049560546875
         ]
        },
        {
         "line": {
          "color": "rgba(128, 0, 128, 1.0)",
          "dash": "solid",
          "shape": "linear",
          "width": 1.3
         },
         "mode": "lines",
         "name": "Temperature",
         "text": "",
         "type": "scatter",
         "uid": "40eadb4f-7c79-4fbc-9bc1-18136bf558a3",
         "x": [
          0,
          1,
          2,
          3,
          4,
          5,
          6,
          7,
          8,
          9,
          10,
          11,
          12,
          13,
          14,
          15,
          16,
          17,
          18,
          19,
          20,
          21,
          22,
          23,
          24,
          25,
          26,
          27,
          28,
          29
         ],
         "y": [
          11.10931396484385,
          11.116867065429787,
          11.114349365234474,
          11.11183166503916,
          11.104278564453221,
          11.126937866211037,
          11.114349365234474,
          11.12190246582041,
          11.1193847656251,
          11.126937866211037,
          11.12945556640635,
          11.131973266601662,
          11.134490966796974,
          11.12190246582041,
          11.12945556640635,
          11.1596679687501,
          11.147079467773537,
          11.1596679687501,
          11.157150268554787,
          11.14959716796885,
          11.147079467773537,
          11.1395263671876,
          11.147079467773537,
          11.14959716796885,
          11.147079467773537,
          11.12945556640635,
          11.131973266601662,
          11.134490966796974,
          11.126937866211037,
          11.114349365234474
         ]
        }
       ],
       "layout": {
        "legend": {
         "bgcolor": "#F5F6F9",
         "font": {
          "color": "#4D5663"
         }
        },
        "paper_bgcolor": "#F5F6F9",
        "plot_bgcolor": "#F5F6F9",
        "title": {
         "font": {
          "color": "#4D5663"
         },
         "text": "(11C) (66%~88%) (583nm #2) (RMSE=6.29)"
        },
        "xaxis": {
         "gridcolor": "#E1E5ED",
         "showgrid": true,
         "tickfont": {
          "color": "#4D5663"
         },
         "title": {
          "font": {
           "color": "#4D5663"
          },
          "text": ""
         },
         "zerolinecolor": "#E1E5ED"
        },
        "yaxis": {
         "gridcolor": "#E1E5ED",
         "showgrid": true,
         "tickfont": {
          "color": "#4D5663"
         },
         "title": {
          "font": {
           "color": "#4D5663"
          },
          "text": ""
         },
         "zerolinecolor": "#E1E5ED"
        }
       }
      },
      "text/html": [
       "<div>\n",
       "        \n",
       "        \n",
       "            <div id=\"79929235-9e7b-40d7-96ce-1133e27b94ac\" class=\"plotly-graph-div\" style=\"height:525px; width:100%;\"></div>\n",
       "            <script type=\"text/javascript\">\n",
       "                require([\"plotly\"], function(Plotly) {\n",
       "                    window.PLOTLYENV=window.PLOTLYENV || {};\n",
       "                    window.PLOTLYENV.BASE_URL='https://plot.ly';\n",
       "                    \n",
       "                if (document.getElementById(\"79929235-9e7b-40d7-96ce-1133e27b94ac\")) {\n",
       "                    Plotly.newPlot(\n",
       "                        '79929235-9e7b-40d7-96ce-1133e27b94ac',\n",
       "                        [{\"line\": {\"color\": \"rgba(255, 153, 51, 1.0)\", \"dash\": \"solid\", \"shape\": \"linear\", \"width\": 1.3}, \"mode\": \"lines\", \"name\": \"ppm\", \"text\": \"\", \"type\": \"scatter\", \"uid\": \"a5db821b-aeca-4ecc-985e-868e7bb57302\", \"x\": [0, 1, 2, 3, 4, 5, 6, 7, 8, 9, 10, 11, 12, 13, 14, 15, 16, 17, 18, 19, 20, 21, 22, 23, 24, 25, 26, 27, 28, 29], \"y\": [0.5125, 0.5, 0.525, 0.5125, 0.525, 10.000000000000002, 9.9875, 10.025, 9.9875, 9.975, 60.0, 60.04999999999999, 60.04999999999999, 60.0375, 60.02499999999999, 0.4875, 0.5125, 0.5125, 0.5, 0.5, 9.9625, 10.025, 10.0375, 10.000000000000002, 10.025, 60.04999999999999, 59.87500000000001, 60.0, 59.9625, 60.02499999999999]}, {\"line\": {\"color\": \"rgba(55, 128, 191, 1.0)\", \"dash\": \"solid\", \"shape\": \"linear\", \"width\": 1.3}, \"mode\": \"lines\", \"name\": \"pred_ppm\", \"text\": \"\", \"type\": \"scatter\", \"uid\": \"a7eafbb7-a9e0-470b-bad0-67cfd92f95b2\", \"x\": [0, 1, 2, 3, 4, 5, 6, 7, 8, 9, 10, 11, 12, 13, 14, 15, 16, 17, 18, 19, 20, 21, 22, 23, 24, 25, 26, 27, 28, 29], \"y\": [3.116581367089778, 2.6029592662388996, 2.891592009563492, 3.0040995217346853, 1.8161247338969824, 14.413282582486804, 16.591878844356057, 14.059463865394076, 15.978483386389875, 15.380716706960659, 63.93085658425884, 65.72178832290668, 65.41652820251271, 65.97524955047261, 67.31697965825467, 6.0374837559561705, 5.65872312249668, 5.919860424922108, 5.914654637887029, 6.251753103431728, 18.731946814043596, 19.00705907846887, 21.312402496996178, 19.39288454691122, 18.731946814043596, 66.99449174644553, 66.04428610347487, 67.83533556077379, 66.65472530407489, 67.85803682298925]}, {\"line\": {\"color\": \"rgba(50, 171, 96, 1.0)\", \"dash\": \"solid\", \"shape\": \"linear\", \"width\": 1.3}, \"mode\": \"lines\", \"name\": \"Humidity\", \"text\": \"\", \"type\": \"scatter\", \"uid\": \"8792f8c9-5161-4755-89eb-43227f420749\", \"x\": [0, 1, 2, 3, 4, 5, 6, 7, 8, 9, 10, 11, 12, 13, 14, 15, 16, 17, 18, 19, 20, 21, 22, 23, 24, 25, 26, 27, 28, 29], \"y\": [66.4794921875, 66.44744873046875, 66.4337158203125, 66.44744873046875, 66.4886474609375, 66.53900146484375, 66.5740966796875, 66.58477783203125, 66.5924072265625, 66.63360595703125, 66.998291015625, 67.07916259765625, 67.0440673828125, 67.01202392578125, 66.9525146484375, 86.798095703125, 86.84539794921875, 86.8896484375, 86.94610595703125, 86.9659423828125, 87.21466064453125, 87.24365234375, 87.28485107421875, 87.3565673828125, 87.36724853515625, 88.250732421875, 88.19732666015625, 88.1744384765625, 88.16986083984375, 88.2049560546875]}, {\"line\": {\"color\": \"rgba(128, 0, 128, 1.0)\", \"dash\": \"solid\", \"shape\": \"linear\", \"width\": 1.3}, \"mode\": \"lines\", \"name\": \"Temperature\", \"text\": \"\", \"type\": \"scatter\", \"uid\": \"8a686ec4-f92b-4538-a017-5830518db2db\", \"x\": [0, 1, 2, 3, 4, 5, 6, 7, 8, 9, 10, 11, 12, 13, 14, 15, 16, 17, 18, 19, 20, 21, 22, 23, 24, 25, 26, 27, 28, 29], \"y\": [11.10931396484385, 11.116867065429787, 11.114349365234474, 11.11183166503916, 11.104278564453221, 11.126937866211037, 11.114349365234474, 11.12190246582041, 11.1193847656251, 11.126937866211037, 11.12945556640635, 11.131973266601662, 11.134490966796974, 11.12190246582041, 11.12945556640635, 11.1596679687501, 11.147079467773537, 11.1596679687501, 11.157150268554787, 11.14959716796885, 11.147079467773537, 11.1395263671876, 11.147079467773537, 11.14959716796885, 11.147079467773537, 11.12945556640635, 11.131973266601662, 11.134490966796974, 11.126937866211037, 11.114349365234474]}],\n",
       "                        {\"legend\": {\"bgcolor\": \"#F5F6F9\", \"font\": {\"color\": \"#4D5663\"}}, \"paper_bgcolor\": \"#F5F6F9\", \"plot_bgcolor\": \"#F5F6F9\", \"title\": {\"font\": {\"color\": \"#4D5663\"}, \"text\": \"(11C) (66%~88%) (583nm #2) (RMSE=6.29)\"}, \"xaxis\": {\"gridcolor\": \"#E1E5ED\", \"showgrid\": true, \"tickfont\": {\"color\": \"#4D5663\"}, \"title\": {\"font\": {\"color\": \"#4D5663\"}, \"text\": \"\"}, \"zerolinecolor\": \"#E1E5ED\"}, \"yaxis\": {\"gridcolor\": \"#E1E5ED\", \"showgrid\": true, \"tickfont\": {\"color\": \"#4D5663\"}, \"title\": {\"font\": {\"color\": \"#4D5663\"}, \"text\": \"\"}, \"zerolinecolor\": \"#E1E5ED\"}},\n",
       "                        {\"showLink\": true, \"linkText\": \"Export to plot.ly\", \"plotlyServerURL\": \"https://plot.ly\", \"responsive\": true}\n",
       "                    ).then(function(){\n",
       "                            \n",
       "var gd = document.getElementById('79929235-9e7b-40d7-96ce-1133e27b94ac');\n",
       "var x = new MutationObserver(function (mutations, observer) {{\n",
       "        var display = window.getComputedStyle(gd).display;\n",
       "        if (!display || display === 'none') {{\n",
       "            console.log([gd, 'removed!']);\n",
       "            Plotly.purge(gd);\n",
       "            observer.disconnect();\n",
       "        }}\n",
       "}});\n",
       "\n",
       "// Listen for the removal of the full notebook cells\n",
       "var notebookContainer = gd.closest('#notebook-container');\n",
       "if (notebookContainer) {{\n",
       "    x.observe(notebookContainer, {childList: true});\n",
       "}}\n",
       "\n",
       "// Listen for the clearing of the current output cell\n",
       "var outputEl = gd.closest('.output');\n",
       "if (outputEl) {{\n",
       "    x.observe(outputEl, {childList: true});\n",
       "}}\n",
       "\n",
       "                        })\n",
       "                };\n",
       "                });\n",
       "            </script>\n",
       "        </div>"
      ]
     },
     "metadata": {},
     "output_type": "display_data"
    }
   ],
   "source": [
    "# load training data\n",
    "dk_n20C = df_n20C.copy().reset_index(drop=True)\n",
    "dk_n10C = df_n10C.copy().reset_index(drop=True)\n",
    "dk_0C = df_0C.copy().reset_index(drop=True)  \n",
    "dk_10C = df_10C.copy().reset_index(drop=True)\n",
    "\n",
    "\n",
    "# copy testing data\n",
    "dk_test_n20C = df_test_n20C.copy().reset_index(drop=True)\n",
    "dk_test_n10C = df_test_n10C.copy().reset_index(drop=True)\n",
    "dk_test_10C = df_test_10C.copy().reset_index(drop=True)\n",
    "\n",
    "\n",
    "#setting temperature range\n",
    "'''dict = {temp. 1 : ([training data1, data2], [blind test data1, data2], white_card_std data)}'''\n",
    "\n",
    "temp_data_dict = { \n",
    "\n",
    "    # n20~10C\n",
    "    'temp. 1': ([dk_n20C, dk_n10C, dk_0C, dk_10C], [dk_test_n20C]),\n",
    "    'temp. 2': ([dk_n20C, dk_n10C, dk_0C, dk_10C], [dk_test_n10C]),\n",
    "    'temp. 3': ([dk_n20C, dk_n10C, dk_0C, dk_10C], [dk_test_10C]),\n",
    "                  } \n",
    "    \n",
    "# implement temp. range loop\n",
    "for temp_data, temp_blind_test in temp_data_dict.values():\n",
    "    \n",
    "\n",
    "                 \n",
    "    # plot each model 4D data\n",
    "#             module_4D.plot_4D_multi_model(temp_data, temp_blind_test, channel_list, sensor_number)\n",
    "\n",
    "    # concate training data        \n",
    "    df_all = pd.concat(temp_data).reset_index(drop=True)\n",
    "    df_test = pd.concat(temp_blind_test).reset_index(drop=True)\n",
    "\n",
    "\n",
    "    # 取0ppm資料\n",
    "    dk_all_0ppm = df_all[df_all['ppm']<1].copy()\n",
    "    dk_test_0ppm = df_test[df_test['ppm']<1].copy()\n",
    "\n",
    "    # 取10ppm資料\n",
    "    dk_all_10ppm = df_all[(df_all['ppm']>9)&(df_all['ppm']<11)].copy()\n",
    "    dk_test_10ppm = df_test[(df_all['ppm']>9)&(df_all['ppm']<11)].copy()\n",
    "\n",
    "    # 取60ppm資料\n",
    "    dk_all_60ppm = df_all[(df_all['ppm']>59)].copy()\n",
    "    dk_test_60ppm = df_test[(df_all['ppm']>59)].copy()\n",
    "\n",
    "    dk_data_dict = {'0ppm':(dk_all_0ppm, dk_test_0ppm),\n",
    "                    '10ppm':(dk_all_10ppm, dk_test_10ppm),\n",
    "                    '60ppm':(dk_all_60ppm, dk_test_60ppm)}\n",
    "\n",
    "    #training model for 0ppm, 10ppm, 60ppm surface\n",
    "    surf_coef_list = []                           # store ppm surface coefficient\n",
    "    for ppm, ppm_data in dk_data_dict.items():\n",
    "\n",
    "        dk_data, dk_test = ppm_data\n",
    "\n",
    "        y_train = dk_data[train_channel] + shift \n",
    "        x_train = dk_data[['Temperature', 'Humidity']] \n",
    "\n",
    "        y_test = dk_test[test_channel] \n",
    "        x_test = dk_test[['Temperature', 'Humidity']]\n",
    "\n",
    "#             channels = train_channel\n",
    "\n",
    "        ### Ridge regression\n",
    "#             step = humidity_step\n",
    "        os.chdir(path)                \n",
    "        loss_list = []\n",
    "        loss_each_step_list = []\n",
    "        ridge = modeling(name=name,\n",
    "                         sensor_number=sensor_number,\n",
    "                         channel=train_channel,\n",
    "                          x_train=x_train, \n",
    "                          y_train=y_train, \n",
    "                          x_test=x_test, \n",
    "                          y_test=y_test, \n",
    "                          model_name=model_name, \n",
    "                          degree=degree,\n",
    "                          step=humidity_step,\n",
    "                          output_modify=output_modify,\n",
    "#                                   white_card_std=k_white_card_std,\n",
    "                          white_card_side=white_card_side,\n",
    "                          white_card_std_multiple=white_card_std_multiple,\n",
    "                          shift=shift,            \n",
    "                          multiple=multiple,\n",
    "                          ppm=ppm)\n",
    "\n",
    "        intercept, coef, TL, TU, HL, HU = ridge.regression(humidity_feature=humidity_feature)\n",
    "#             ridge.loss()\n",
    "#             loss_each_step = ridge.loss_each_step()    \n",
    "#             ridge.plot()\n",
    "#             ridge.save_plot()\n",
    "#             ridge.coef()\n",
    "        coefficient = np.insert(coef, 0, intercept)\n",
    "        surf_coef_list.append(coefficient)\n",
    "#                   \n",
    "\n",
    "    test_data = df_test[[test_channel, 'Temperature', 'Humidity', 'ppm']]\n",
    "    ppm_list = []\n",
    "    for index, row in test_data.iterrows():\n",
    "        signal, temperature, humidity, _ = row\n",
    "        signal_0ppm = interpolation.calculate_ppm_surface_signal(surf_coef_list[0], x0=temperature, x1=humidity, degree=degree)\n",
    "        signal_10ppm = interpolation.calculate_ppm_surface_signal(surf_coef_list[1], x0=temperature, x1=humidity, degree=degree)\n",
    "\n",
    "#         print(signal_0ppm, signal_10ppm, signal_60ppm)\n",
    "\n",
    "        ppm = interpolation.interpolation(signal, signal_0ppm, signal_10ppm, signal_60ppm) \n",
    "        ppm_list.append(float(ppm))\n",
    "\n",
    "    # RMSE\n",
    "    rmse_test = np.sqrt(mean_squared_error(ppm_list, test_data['ppm'])).round(2)\n",
    "\n",
    "    # Interpolation prediction result    \n",
    "    predict_test_data = test_data.copy()\n",
    "    predict_test_data['pred_ppm'] = ppm_list\n",
    "    temp = int(predict_test_data['Temperature'].mean())\n",
    "    hum_min = int(predict_test_data['Humidity'].min())\n",
    "    hum_max = int(predict_test_data['Humidity'].max())\n",
    "    title = '({}C) ({}%~{}%) ({}) (RMSE={})'.format(temp, hum_min, hum_max, test_channel, rmse_test)\n",
    "    predict_test_data.iplot(kind='scatter', y=['ppm', 'pred_ppm', 'Humidity', 'Temperature'], title=title)\n",
    "\n",
    "\n",
    "    # save prediction result\n",
    "    folderName = '{}'.format(name)\n",
    "    savePath = os.path.join(os.getcwd(), folderName)\n",
    "    filename = '({}C) ({}%~{}%) ({}) (shift {}) (RMSE={})'.format(temp, hum_min, hum_max, test_channel, shift ,rmse_test)\n",
    "    plt.plot(predict_test_data['Temperature'], 'r')\n",
    "    plt.plot(predict_test_data['Humidity'], 'b')\n",
    "    plt.plot(predict_test_data['ppm'], 'g')\n",
    "    plt.plot(predict_test_data['pred_ppm'], 'orange')\n",
    "    plt.ylabel('Temperature/ Humidity/ ppm')\n",
    "    plt.grid(alpha=0.3)\n",
    "    plt.legend(bbox_to_anchor=(0., 1.02, 1., .102),  loc=3, ncol=4, mode=\"expand\")\n",
    "    plt.title(filename, y=1.15, fontsize=10)\n",
    "    plt.savefig(savePath + '/' + filename + '.png', dpi=200, bbox_inches='tight')\n",
    "    plt.close() \n",
    "    plt.show()"
   ]
  },
  {
   "cell_type": "markdown",
   "metadata": {},
   "source": [
    "## FFT"
   ]
  },
  {
   "cell_type": "code",
   "execution_count": null,
   "metadata": {},
   "outputs": [],
   "source": []
  },
  {
   "cell_type": "code",
   "execution_count": null,
   "metadata": {},
   "outputs": [],
   "source": []
  },
  {
   "cell_type": "code",
   "execution_count": null,
   "metadata": {},
   "outputs": [],
   "source": []
  }
 ],
 "metadata": {
  "kernelspec": {
   "display_name": "Python 3",
   "language": "python",
   "name": "python3"
  },
  "language_info": {
   "codemirror_mode": {
    "name": "ipython",
    "version": 3
   },
   "file_extension": ".py",
   "mimetype": "text/x-python",
   "name": "python",
   "nbconvert_exporter": "python",
   "pygments_lexer": "ipython3",
   "version": "3.7.3"
  }
 },
 "nbformat": 4,
 "nbformat_minor": 4
}
