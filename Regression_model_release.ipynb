{
 "cells": [
  {
   "cell_type": "markdown",
   "metadata": {
    "slideshow": {
     "slide_type": "-"
    }
   },
   "source": [
    "* fix interpolation module\n",
    "* add exponential interpolation\n",
    "* add hybrid interpolation"
   ]
  },
  {
   "cell_type": "code",
   "execution_count": 1,
   "metadata": {
    "slideshow": {
     "slide_type": "-"
    }
   },
   "outputs": [
    {
     "data": {
      "text/html": [
       "        <script type=\"text/javascript\">\n",
       "        window.PlotlyConfig = {MathJaxConfig: 'local'};\n",
       "        if (window.MathJax) {MathJax.Hub.Config({SVG: {font: \"STIX-Web\"}});}\n",
       "        if (typeof require !== 'undefined') {\n",
       "        require.undef(\"plotly\");\n",
       "        requirejs.config({\n",
       "            paths: {\n",
       "                'plotly': ['https://cdn.plot.ly/plotly-latest.min']\n",
       "            }\n",
       "        });\n",
       "        require(['plotly'], function(Plotly) {\n",
       "            window._Plotly = Plotly;\n",
       "        });\n",
       "        }\n",
       "        </script>\n",
       "        "
      ]
     },
     "metadata": {},
     "output_type": "display_data"
    },
    {
     "data": {
      "text/html": [
       "        <script type=\"text/javascript\">\n",
       "        window.PlotlyConfig = {MathJaxConfig: 'local'};\n",
       "        if (window.MathJax) {MathJax.Hub.Config({SVG: {font: \"STIX-Web\"}});}\n",
       "        if (typeof require !== 'undefined') {\n",
       "        require.undef(\"plotly\");\n",
       "        requirejs.config({\n",
       "            paths: {\n",
       "                'plotly': ['https://cdn.plot.ly/plotly-latest.min']\n",
       "            }\n",
       "        });\n",
       "        require(['plotly'], function(Plotly) {\n",
       "            window._Plotly = Plotly;\n",
       "        });\n",
       "        }\n",
       "        </script>\n",
       "        "
      ]
     },
     "metadata": {},
     "output_type": "display_data"
    },
    {
     "data": {
      "text/html": [
       "        <script type=\"text/javascript\">\n",
       "        window.PlotlyConfig = {MathJaxConfig: 'local'};\n",
       "        if (window.MathJax) {MathJax.Hub.Config({SVG: {font: \"STIX-Web\"}});}\n",
       "        if (typeof require !== 'undefined') {\n",
       "        require.undef(\"plotly\");\n",
       "        requirejs.config({\n",
       "            paths: {\n",
       "                'plotly': ['https://cdn.plot.ly/plotly-latest.min']\n",
       "            }\n",
       "        });\n",
       "        require(['plotly'], function(Plotly) {\n",
       "            window._Plotly = Plotly;\n",
       "        });\n",
       "        }\n",
       "        </script>\n",
       "        "
      ]
     },
     "metadata": {},
     "output_type": "display_data"
    }
   ],
   "source": [
    "import os\n",
    "import pandas as pd\n",
    "import numpy as np\n",
    "import matplotlib.pyplot as plt\n",
    "from sklearn.linear_model import Ridge, Lasso, LinearRegression\n",
    "from sklearn import linear_model\n",
    "from sklearn.metrics import mean_squared_error\n",
    "\n",
    "import warnings\n",
    "warnings.filterwarnings('ignore')\n",
    "\n",
    "import tkinter\n",
    "from tkinter import*\n",
    "# Create Tk root\n",
    "root = Tk()\n",
    "# Hide the main window\n",
    "root.withdraw()\n",
    "root.call('wm', 'attributes', '.', '-topmost', True)\n",
    "from tkinter import filedialog\n",
    "%gui tk\n",
    "\n",
    "import FFT\n",
    "import compensation\n",
    "import module_4D\n",
    "# import modeling_white_card\n",
    "import model\n",
    "import white_card_std\n",
    "\n",
    "# from modeling_white_card import modeling_white\n",
    "# from modeling import modeling\n",
    "import interpolation"
   ]
  },
  {
   "cell_type": "code",
   "execution_count": 2,
   "metadata": {
    "slideshow": {
     "slide_type": "skip"
    }
   },
   "outputs": [],
   "source": [
    "def data_loading():\n",
    "    path = filedialog.askdirectory()\n",
    "    print(path)\n",
    "    return path"
   ]
  },
  {
   "cell_type": "code",
   "execution_count": 3,
   "metadata": {
    "slideshow": {
     "slide_type": "skip"
    }
   },
   "outputs": [
    {
     "name": "stdout",
     "output_type": "stream",
     "text": [
      "D:/Data_store/AMS_7341/121420 ZnD calibration(0~45C, 35~85%)/(0~30C, 40~70%)/#20201204161829\n"
     ]
    }
   ],
   "source": [
    "path = data_loading()"
   ]
  },
  {
   "cell_type": "code",
   "execution_count": 4,
   "metadata": {
    "slideshow": {
     "slide_type": "skip"
    }
   },
   "outputs": [
    {
     "name": "stdout",
     "output_type": "stream",
     "text": [
      "sensor_number: #20201204161829\n"
     ]
    }
   ],
   "source": [
    "#sensor serial number\n",
    "sensor_number = path.split('/')[-1]\n",
    "print('sensor_number:', sensor_number)"
   ]
  },
  {
   "cell_type": "markdown",
   "metadata": {
    "slideshow": {
     "slide_type": "slide"
    }
   },
   "source": [
    "# Loading data and FFT transform"
   ]
  },
  {
   "cell_type": "code",
   "execution_count": 5,
   "metadata": {
    "slideshow": {
     "slide_type": "subslide"
    }
   },
   "outputs": [],
   "source": [
    "# load training data\n",
    "A = 0\n",
    "B = 30000\n",
    "df_0C = FFT.FFT_transform(pd.read_csv(path + '/select_data_calibration_0C.csv')[A:B].reset_index(drop=True))\n",
    "df_10C = FFT.FFT_transform(pd.read_csv(path + '/select_data_calibration_10C.csv')[A:B].reset_index(drop=True))\n",
    "df_20C = FFT.FFT_transform(pd.read_csv(path + '/select_data_calibration_20C.csv')[A:B].reset_index(drop=True))\n",
    "df_30C = FFT.FFT_transform(pd.read_csv(path + '/select_data_calibration_30C.csv')[A:B].reset_index(drop=True))\n",
    "train_data_list = [df_0C, df_10C, df_20C, df_30C]\n",
    "\n",
    "# Load testing data\n",
    "df_test_10C = FFT.FFT_transform(pd.read_csv(path + '/select_data_blind_test_10C.csv')[A:B].reset_index(drop=True))\n",
    "test_data_list = [df_test_10C]"
   ]
  },
  {
   "cell_type": "code",
   "execution_count": 6,
   "metadata": {
    "slideshow": {
     "slide_type": "subslide"
    }
   },
   "outputs": [
    {
     "name": "stdout",
     "output_type": "stream",
     "text": [
      "df_0C: (360, 75)\n",
      "df_10C: (180, 75)\n",
      "df_20C: (180, 75)\n",
      "df_30C: (180, 75)\n",
      "-------------------------------------\n",
      "df_test_10C: (40, 75)\n"
     ]
    }
   ],
   "source": [
    "print('df_0C:', df_0C.shape)\n",
    "print('df_10C:', df_10C.shape)\n",
    "print('df_20C:', df_20C.shape)\n",
    "print('df_30C:', df_30C.shape)\n",
    "print('-------------------------------------')\n",
    "print('df_test_10C:', df_test_10C.shape)"
   ]
  },
  {
   "cell_type": "markdown",
   "metadata": {},
   "source": [
    "## White card model setting"
   ]
  },
  {
   "cell_type": "code",
   "execution_count": 7,
   "metadata": {},
   "outputs": [],
   "source": [
    "# white card paremeter setting\n",
    "# name = '(0,10,30,60ppm model)(hybrid interpolation)(670nm)(w1s2)'\n",
    "name = 'test'\n",
    "model_name = Ridge(alpha=10)                    #regression model\n",
    "channel = '670nm #1'                       #regression channel\n",
    "degree_white_card = 1                                   #polynimial degree\n",
    "humidity_step = ['RH40%', 'RH50%', 'RH60%', 'RH70%', 'RH80']\n",
    "white_card_humidity_feature = False"
   ]
  },
  {
   "cell_type": "code",
   "execution_count": 8,
   "metadata": {},
   "outputs": [],
   "source": [
    "df_all = pd.concat(train_data_list).reset_index(drop=True)\n",
    "df_test = pd.concat([df_10C]).reset_index(drop=True)\n",
    "\n",
    "y_train = df_all[channel]\n",
    "x_train = df_all[['Temperature', 'Humidity']]\n",
    "y_test = df_test[channel]\n",
    "x_test = df_test[['Temperature', 'Humidity']]\n",
    "\n",
    "os.chdir(path) \n",
    "white_card = model.model(name=name,\n",
    "                         sensor_number=sensor_number,\n",
    "                         channel=channel,\n",
    "                         x_train=x_train, \n",
    "                         y_train=y_train, \n",
    "                         x_test=x_test, \n",
    "                         y_test=y_test, \n",
    "                         model_name=model_name, \n",
    "                         degree=degree_white_card,\n",
    "                         step=humidity_step,                         \n",
    "                         ppm=-23,\n",
    "                         humidity_feature=white_card_humidity_feature)\n",
    "\n",
    "white_intercept, white_coef = white_card.regression()\n",
    "white_card.save_white_card_side_coef()\n",
    "# white_intercept, white_coef = white_card.coef()"
   ]
  },
  {
   "cell_type": "code",
   "execution_count": 9,
   "metadata": {},
   "outputs": [],
   "source": [
    "# add white card std column\n",
    "for train_data_comp in train_data_list: \n",
    "    white_card_std.create_white_card_std_column(train_data_comp, white_intercept, white_coef, degree_white_card)\n",
    "for test_data_comp in test_data_list: \n",
    "    white_card_std.create_white_card_std_column(test_data_comp, white_intercept, white_coef, degree_white_card) "
   ]
  },
  {
   "cell_type": "code",
   "execution_count": 10,
   "metadata": {},
   "outputs": [],
   "source": [
    "# Compensation process\n",
    "# white_card_std_data = df_10C                       #for constant compensation function\n",
    "phage_side = 2                                #for compensation\n",
    "white_card_side = 1                           #for compensation\n",
    "# comp_channel = \"583nm\"\n",
    "\n",
    "for train_data_comp in train_data_list: \n",
    "    compensation.compensation_AS7341(train_data_comp, phage_side=phage_side, white_card_side=white_card_side, compChannel=channel)\n",
    "    \n",
    "for test_data_comp in test_data_list: \n",
    "    compensation.compensation_AS7341(test_data_comp, phage_side=phage_side, white_card_side=white_card_side, compChannel=channel)"
   ]
  },
  {
   "cell_type": "markdown",
   "metadata": {},
   "source": [
    "## Sensor model setting"
   ]
  },
  {
   "cell_type": "code",
   "execution_count": 11,
   "metadata": {},
   "outputs": [],
   "source": [
    "sensor_humidity_feature = True\n",
    "model_name = Ridge(alpha=10)                    #regression model\n",
    "shift = 0                                       #raw data signal shifting\n",
    "multiple = 1                                    #raw data ppm multiple\n",
    "train_channel = '670nm #2'                   #training channel\n",
    "test_channel = '670nm #2'                    #testing channel\n",
    "degree = 2                                      #polynimial degree\n",
    "output_modify = 1                               #output multiple"
   ]
  },
  {
   "cell_type": "code",
   "execution_count": 12,
   "metadata": {},
   "outputs": [
    {
     "data": {
      "application/vnd.plotly.v1+json": {
       "config": {
        "linkText": "Export to plot.ly",
        "plotlyServerURL": "https://plot.ly",
        "responsive": true,
        "showLink": true
       },
       "data": [
        {
         "line": {
          "color": "rgba(255, 153, 51, 1.0)",
          "dash": "solid",
          "shape": "linear",
          "width": 1.3
         },
         "mode": "lines",
         "name": "ppm",
         "text": "",
         "type": "scatter",
         "uid": "7f545bb2-2504-446e-84db-4a14d4f218c9",
         "x": [
          0,
          1,
          2,
          3,
          4,
          5,
          6,
          7,
          8,
          9,
          10,
          11,
          12,
          13,
          14,
          15,
          16,
          17,
          18,
          19,
          20,
          21,
          22,
          23,
          24,
          25,
          26,
          27,
          28,
          29,
          30,
          31,
          32,
          33,
          34,
          35,
          36,
          37,
          38,
          39
         ],
         "y": [
          0.725,
          0.7125,
          0.725,
          0.725,
          0.7125,
          10,
          9.975,
          10,
          10.025,
          10.0125,
          30.025,
          29.975,
          30.0125,
          29.95,
          30,
          60.0625,
          59.975,
          59.9875,
          60.1,
          59.9625,
          0.7375,
          0.75,
          0.725,
          0.7375,
          0.7375,
          10.025,
          10.0125,
          9.975,
          10.025,
          9.9875,
          29.9875,
          29.95,
          29.9625,
          30.0375,
          29.975,
          60.05,
          59.975,
          60.0375,
          59.975,
          60.075
         ]
        },
        {
         "line": {
          "color": "rgba(55, 128, 191, 1.0)",
          "dash": "solid",
          "shape": "linear",
          "width": 1.3
         },
         "mode": "lines",
         "name": "pred_ppm",
         "text": "",
         "type": "scatter",
         "uid": "02ed6292-c59d-4063-8a55-c01436915dca",
         "x": [
          0,
          1,
          2,
          3,
          4,
          5,
          6,
          7,
          8,
          9,
          10,
          11,
          12,
          13,
          14,
          15,
          16,
          17,
          18,
          19,
          20,
          21,
          22,
          23,
          24,
          25,
          26,
          27,
          28,
          29,
          30,
          31,
          32,
          33,
          34,
          35,
          36,
          37,
          38,
          39
         ],
         "y": [
          0,
          0,
          0,
          0,
          0,
          9.299955831331197,
          9.123784812693593,
          9.320969698943035,
          9.093529634539912,
          9.121062164533248,
          34.735582238046064,
          34.39866051300708,
          34.62605219704047,
          34.599425631703454,
          33.46082942611056,
          59.60231649172185,
          60.26426385442951,
          60.78694531448899,
          57.69747567808005,
          59.97330248409983,
          0,
          0,
          0,
          0,
          0,
          9.87978420966467,
          9.933448288432597,
          9.95664008729499,
          17.53431944927692,
          9.883264585964362,
          41.84425580233266,
          41.8463220389037,
          42.42466807824278,
          42.75484254722678,
          41.86581086630639,
          63.02435672685706,
          63.73327224754052,
          63.67774145516582,
          62.88918820309355,
          63.374522794997056
         ]
        },
        {
         "line": {
          "color": "rgba(50, 171, 96, 1.0)",
          "dash": "solid",
          "shape": "linear",
          "width": 1.3
         },
         "mode": "lines",
         "name": "Humidity",
         "text": "",
         "type": "scatter",
         "uid": "14ce7a44-549c-4764-83b3-36b1b1e6e3b6",
         "x": [
          0,
          1,
          2,
          3,
          4,
          5,
          6,
          7,
          8,
          9,
          10,
          11,
          12,
          13,
          14,
          15,
          16,
          17,
          18,
          19,
          20,
          21,
          22,
          23,
          24,
          25,
          26,
          27,
          28,
          29,
          30,
          31,
          32,
          33,
          34,
          35,
          36,
          37,
          38,
          39
         ],
         "y": [
          60.389709472700005,
          60.3454589844,
          60.3927612305,
          60.379028320299994,
          60.4202270508,
          60.789489746099996,
          60.8276367188,
          60.841369628900004,
          60.848999023400005,
          60.8352661133,
          61.3952636719,
          61.366271972700005,
          61.4135742188,
          61.415100097700005,
          61.404418945299994,
          61.767578125,
          61.790466308599996,
          61.8225097656,
          61.8118286133,
          61.813354492200006,
          69.6487426758,
          69.5892333984,
          69.5724487305,
          69.5587158203,
          69.5510864258,
          69.7357177734,
          69.7555541992,
          69.7814941406,
          69.7891235352,
          69.8028564453,
          70.1263427734,
          70.1248168945,
          70.1324462891,
          70.1705932617,
          70.1904296875,
          70.4742431641,
          70.491027832,
          70.49560546880001,
          70.5459594727,
          70.5810546875
         ]
        },
        {
         "line": {
          "color": "rgba(128, 0, 128, 1.0)",
          "dash": "solid",
          "shape": "linear",
          "width": 1.3
         },
         "mode": "lines",
         "name": "Temperature",
         "text": "",
         "type": "scatter",
         "uid": "89c836ed-048d-4be9-85da-23bcc46e0495",
         "x": [
          0,
          1,
          2,
          3,
          4,
          5,
          6,
          7,
          8,
          9,
          10,
          11,
          12,
          13,
          14,
          15,
          16,
          17,
          18,
          19,
          20,
          21,
          22,
          23,
          24,
          25,
          26,
          27,
          28,
          29,
          30,
          31,
          32,
          33,
          34,
          35,
          36,
          37,
          38,
          39
         ],
         "y": [
          11.2729644775,
          11.2704467773,
          11.2729644775,
          11.2704467773,
          11.2578582764,
          11.217575073199999,
          11.215057372999999,
          11.2226104736,
          11.1999511719,
          11.2226104736,
          11.164703369100001,
          11.1722564697,
          11.174774169900001,
          11.1722564697,
          11.174774169900001,
          11.149597168,
          11.1420440674,
          11.134490966800001,
          11.131973266600001,
          11.149597168,
          11.137008667,
          11.134490966800001,
          11.126937866199999,
          11.1294555664,
          11.126937866199999,
          11.1193847656,
          11.1420440674,
          11.124420165999998,
          11.126937866199999,
          11.134490966800001,
          11.114349365199999,
          11.111831665,
          11.104278564500001,
          11.111831665,
          11.1193847656,
          11.104278564500001,
          11.0967254639,
          11.0992431641,
          11.1067962646,
          11.1093139648
         ]
        }
       ],
       "layout": {
        "legend": {
         "bgcolor": "#F5F6F9",
         "font": {
          "color": "#4D5663"
         }
        },
        "paper_bgcolor": "#F5F6F9",
        "plot_bgcolor": "#F5F6F9",
        "title": {
         "font": {
          "color": "#4D5663"
         },
         "text": "(60%~70%) (670nm #2) (RMSE=4.91)"
        },
        "xaxis": {
         "gridcolor": "#E1E5ED",
         "showgrid": true,
         "tickfont": {
          "color": "#4D5663"
         },
         "title": {
          "font": {
           "color": "#4D5663"
          },
          "text": ""
         },
         "zerolinecolor": "#E1E5ED"
        },
        "yaxis": {
         "gridcolor": "#E1E5ED",
         "showgrid": true,
         "tickfont": {
          "color": "#4D5663"
         },
         "title": {
          "font": {
           "color": "#4D5663"
          },
          "text": ""
         },
         "zerolinecolor": "#E1E5ED"
        }
       }
      },
      "text/html": [
       "<div>\n",
       "        \n",
       "        \n",
       "            <div id=\"8f7905c3-8e93-4f08-8411-ead123c730dd\" class=\"plotly-graph-div\" style=\"height:525px; width:100%;\"></div>\n",
       "            <script type=\"text/javascript\">\n",
       "                require([\"plotly\"], function(Plotly) {\n",
       "                    window.PLOTLYENV=window.PLOTLYENV || {};\n",
       "                    window.PLOTLYENV.BASE_URL='https://plot.ly';\n",
       "                    \n",
       "                if (document.getElementById(\"8f7905c3-8e93-4f08-8411-ead123c730dd\")) {\n",
       "                    Plotly.newPlot(\n",
       "                        '8f7905c3-8e93-4f08-8411-ead123c730dd',\n",
       "                        [{\"line\": {\"color\": \"rgba(255, 153, 51, 1.0)\", \"dash\": \"solid\", \"shape\": \"linear\", \"width\": 1.3}, \"mode\": \"lines\", \"name\": \"ppm\", \"text\": \"\", \"type\": \"scatter\", \"uid\": \"fdad03aa-5ad5-4c1d-8dd7-3fbd753e603e\", \"x\": [0, 1, 2, 3, 4, 5, 6, 7, 8, 9, 10, 11, 12, 13, 14, 15, 16, 17, 18, 19, 20, 21, 22, 23, 24, 25, 26, 27, 28, 29, 30, 31, 32, 33, 34, 35, 36, 37, 38, 39], \"y\": [0.725, 0.7125, 0.725, 0.725, 0.7125, 10.0, 9.975, 10.0, 10.025, 10.0125, 30.025, 29.975, 30.0125, 29.95, 30.0, 60.0625, 59.975, 59.9875, 60.1, 59.9625, 0.7375, 0.75, 0.725, 0.7375, 0.7375, 10.025, 10.0125, 9.975, 10.025, 9.9875, 29.9875, 29.95, 29.9625, 30.0375, 29.975, 60.05, 59.975, 60.0375, 59.975, 60.075]}, {\"line\": {\"color\": \"rgba(55, 128, 191, 1.0)\", \"dash\": \"solid\", \"shape\": \"linear\", \"width\": 1.3}, \"mode\": \"lines\", \"name\": \"pred_ppm\", \"text\": \"\", \"type\": \"scatter\", \"uid\": \"877c80e3-4c2f-4963-b683-6115736e189e\", \"x\": [0, 1, 2, 3, 4, 5, 6, 7, 8, 9, 10, 11, 12, 13, 14, 15, 16, 17, 18, 19, 20, 21, 22, 23, 24, 25, 26, 27, 28, 29, 30, 31, 32, 33, 34, 35, 36, 37, 38, 39], \"y\": [0.0, 0.0, 0.0, 0.0, 0.0, 9.299955831331197, 9.123784812693593, 9.320969698943035, 9.093529634539912, 9.121062164533248, 34.735582238046064, 34.39866051300708, 34.62605219704047, 34.599425631703454, 33.46082942611056, 59.60231649172185, 60.26426385442951, 60.78694531448899, 57.69747567808005, 59.97330248409983, 0.0, 0.0, 0.0, 0.0, 0.0, 9.87978420966467, 9.933448288432597, 9.95664008729499, 17.53431944927692, 9.883264585964362, 41.84425580233266, 41.8463220389037, 42.42466807824278, 42.75484254722678, 41.86581086630639, 63.02435672685706, 63.73327224754052, 63.67774145516582, 62.88918820309355, 63.374522794997056]}, {\"line\": {\"color\": \"rgba(50, 171, 96, 1.0)\", \"dash\": \"solid\", \"shape\": \"linear\", \"width\": 1.3}, \"mode\": \"lines\", \"name\": \"Humidity\", \"text\": \"\", \"type\": \"scatter\", \"uid\": \"2dabd95e-3721-44ec-8498-759f4845aa60\", \"x\": [0, 1, 2, 3, 4, 5, 6, 7, 8, 9, 10, 11, 12, 13, 14, 15, 16, 17, 18, 19, 20, 21, 22, 23, 24, 25, 26, 27, 28, 29, 30, 31, 32, 33, 34, 35, 36, 37, 38, 39], \"y\": [60.389709472700005, 60.3454589844, 60.3927612305, 60.379028320299994, 60.4202270508, 60.789489746099996, 60.8276367188, 60.841369628900004, 60.848999023400005, 60.8352661133, 61.3952636719, 61.366271972700005, 61.4135742188, 61.415100097700005, 61.404418945299994, 61.767578125, 61.790466308599996, 61.8225097656, 61.8118286133, 61.813354492200006, 69.6487426758, 69.5892333984, 69.5724487305, 69.5587158203, 69.5510864258, 69.7357177734, 69.7555541992, 69.7814941406, 69.7891235352, 69.8028564453, 70.1263427734, 70.1248168945, 70.1324462891, 70.1705932617, 70.1904296875, 70.4742431641, 70.491027832, 70.49560546880001, 70.5459594727, 70.5810546875]}, {\"line\": {\"color\": \"rgba(128, 0, 128, 1.0)\", \"dash\": \"solid\", \"shape\": \"linear\", \"width\": 1.3}, \"mode\": \"lines\", \"name\": \"Temperature\", \"text\": \"\", \"type\": \"scatter\", \"uid\": \"43a445ea-ac71-40ce-bb76-f75077f69a94\", \"x\": [0, 1, 2, 3, 4, 5, 6, 7, 8, 9, 10, 11, 12, 13, 14, 15, 16, 17, 18, 19, 20, 21, 22, 23, 24, 25, 26, 27, 28, 29, 30, 31, 32, 33, 34, 35, 36, 37, 38, 39], \"y\": [11.2729644775, 11.2704467773, 11.2729644775, 11.2704467773, 11.2578582764, 11.217575073199999, 11.215057372999999, 11.2226104736, 11.1999511719, 11.2226104736, 11.164703369100001, 11.1722564697, 11.174774169900001, 11.1722564697, 11.174774169900001, 11.149597168, 11.1420440674, 11.134490966800001, 11.131973266600001, 11.149597168, 11.137008667, 11.134490966800001, 11.126937866199999, 11.1294555664, 11.126937866199999, 11.1193847656, 11.1420440674, 11.124420165999998, 11.126937866199999, 11.134490966800001, 11.114349365199999, 11.111831665, 11.104278564500001, 11.111831665, 11.1193847656, 11.104278564500001, 11.0967254639, 11.0992431641, 11.1067962646, 11.1093139648]}],\n",
       "                        {\"legend\": {\"bgcolor\": \"#F5F6F9\", \"font\": {\"color\": \"#4D5663\"}}, \"paper_bgcolor\": \"#F5F6F9\", \"plot_bgcolor\": \"#F5F6F9\", \"title\": {\"font\": {\"color\": \"#4D5663\"}, \"text\": \"(60%~70%) (670nm #2) (RMSE=4.91)\"}, \"xaxis\": {\"gridcolor\": \"#E1E5ED\", \"showgrid\": true, \"tickfont\": {\"color\": \"#4D5663\"}, \"title\": {\"font\": {\"color\": \"#4D5663\"}, \"text\": \"\"}, \"zerolinecolor\": \"#E1E5ED\"}, \"yaxis\": {\"gridcolor\": \"#E1E5ED\", \"showgrid\": true, \"tickfont\": {\"color\": \"#4D5663\"}, \"title\": {\"font\": {\"color\": \"#4D5663\"}, \"text\": \"\"}, \"zerolinecolor\": \"#E1E5ED\"}},\n",
       "                        {\"showLink\": true, \"linkText\": \"Export to plot.ly\", \"plotlyServerURL\": \"https://plot.ly\", \"responsive\": true}\n",
       "                    ).then(function(){\n",
       "                            \n",
       "var gd = document.getElementById('8f7905c3-8e93-4f08-8411-ead123c730dd');\n",
       "var x = new MutationObserver(function (mutations, observer) {{\n",
       "        var display = window.getComputedStyle(gd).display;\n",
       "        if (!display || display === 'none') {{\n",
       "            console.log([gd, 'removed!']);\n",
       "            Plotly.purge(gd);\n",
       "            observer.disconnect();\n",
       "        }}\n",
       "}});\n",
       "\n",
       "// Listen for the removal of the full notebook cells\n",
       "var notebookContainer = gd.closest('#notebook-container');\n",
       "if (notebookContainer) {{\n",
       "    x.observe(notebookContainer, {childList: true});\n",
       "}}\n",
       "\n",
       "// Listen for the clearing of the current output cell\n",
       "var outputEl = gd.closest('.output');\n",
       "if (outputEl) {{\n",
       "    x.observe(outputEl, {childList: true});\n",
       "}}\n",
       "\n",
       "                        })\n",
       "                };\n",
       "                });\n",
       "            </script>\n",
       "        </div>"
      ]
     },
     "metadata": {},
     "output_type": "display_data"
    }
   ],
   "source": [
    "# load training data\n",
    "dk_0C = df_0C.copy().reset_index(drop=True)\n",
    "dk_10C = df_10C.copy().reset_index(drop=True)\n",
    "dk_20C = df_20C.copy().reset_index(drop=True)\n",
    "dk_30C = df_30C.copy().reset_index(drop=True)\n",
    "\n",
    "# copy testing data\n",
    "dk_test_10C = df_test_10C.copy().reset_index(drop=True)\n",
    "\n",
    "#setting temperature range\n",
    "'''dict = {temp. 1 : ([training data1, data2], [blind test data1, data2], white_card_std data)}'''\n",
    "\n",
    "temp_data_dict = { \n",
    "\n",
    "    # n20~10C\n",
    "    'temp. 1': ([dk_0C, dk_10C, dk_20C, dk_30C], [dk_test_10C]),\n",
    "\n",
    "                  } \n",
    "    \n",
    "# implement temp. range loop\n",
    "for temp_data, temp_blind_test in temp_data_dict.values():\n",
    "    \n",
    "\n",
    "    # plot each model 4D data\n",
    "#             module_4D.plot_4D_multi_model(temp_data, temp_blind_test, channel_list, sensor_number)\n",
    "\n",
    "    # concate training data        \n",
    "    df_all = pd.concat(temp_data).reset_index(drop=True)\n",
    "    df_test = pd.concat(temp_blind_test).reset_index(drop=True)\n",
    "\n",
    "\n",
    "    # 取0ppm資料\n",
    "    dk_all_0ppm = df_all[df_all['ppm']<1].copy()\n",
    "    dk_test_0ppm = df_test[df_test['ppm']<1].copy()\n",
    "\n",
    "    # 取10ppm資料\n",
    "    dk_all_10ppm = df_all[(df_all['ppm']>9)&(df_all['ppm']<11)].copy()\n",
    "    dk_test_10ppm = df_test[(df_test['ppm']>9)&(df_test['ppm']<11)].copy()\n",
    "    \n",
    "    # 取30ppm資料\n",
    "    dk_all_30ppm = df_all[(df_all['ppm']>29)&(df_all['ppm']<31)].copy()\n",
    "    dk_test_30ppm = df_test[(df_test['ppm']>29)&(df_test['ppm']<31)].copy()\n",
    "\n",
    "    # 取60ppm資料\n",
    "    dk_all_60ppm = df_all[(df_all['ppm']>59)].copy()\n",
    "    dk_test_60ppm = df_test[(df_test['ppm']>59)].copy()\n",
    "\n",
    "    dk_data_dict = {'0ppm':(dk_all_0ppm, dk_test_0ppm),\n",
    "                    '10ppm':(dk_all_10ppm, dk_test_10ppm),\n",
    "                    '30ppm':(dk_all_30ppm, dk_test_30ppm),\n",
    "                    '60ppm':(dk_all_60ppm, dk_test_60ppm)\n",
    "                   }\n",
    "\n",
    "    #training model for 0ppm, 10ppm, 60ppm surface\n",
    "    surf_coef_list = []                           # store ppm surface coefficient\n",
    "    for ppm, ppm_data in dk_data_dict.items():\n",
    "\n",
    "        dk_data, dk_test = ppm_data\n",
    "\n",
    "        y_train = dk_data[train_channel] + shift \n",
    "        x_train = dk_data[['Temperature', 'Humidity']] \n",
    "\n",
    "        y_test = dk_test[test_channel] \n",
    "        x_test = dk_test[['Temperature', 'Humidity']]\n",
    "\n",
    "#             channels = train_channel\n",
    "\n",
    "        ### Ridge regression\n",
    "#             step = humidity_step\n",
    "        os.chdir(path)              \n",
    "        loss_list = []\n",
    "        loss_each_step_list = []\n",
    "        sensor = model.model(name=name,\n",
    "                             sensor_number=sensor_number,\n",
    "                             channel=train_channel,\n",
    "                             x_train=x_train, \n",
    "                             y_train=y_train, \n",
    "                             x_test=x_test, \n",
    "                             y_test=y_test, \n",
    "                             model_name=model_name, \n",
    "                             degree=degree,\n",
    "                             step=humidity_step,\n",
    "                             output_modify=output_modify,\n",
    "                             shift=shift,            \n",
    "                             multiple=multiple,\n",
    "                             ppm=ppm,\n",
    "                             humidity_feature=sensor_humidity_feature)\n",
    "        intercept, coef = sensor.regression()\n",
    "        sensor.save_sensor_side_coef()\n",
    "#         sensor.loss()\n",
    "#         loss_each_step = sensor.loss_each_step()    \n",
    "#         sensor.plot()\n",
    "#         sensor.save_plot()\n",
    "#         sensor.coef()\n",
    "        \n",
    "        #補0調整濕度項次數\n",
    "        if (sensor_humidity_feature == False)&(degree==1):\n",
    "            coef = np.append(coef, [0] * degree)\n",
    "\n",
    "        elif (sensor_humidity_feature == False)&(degree==2):\n",
    "            coef = np.insert(coef, 1, 0)\n",
    "            coef = np.append(coef, [0] * degree)\n",
    "\n",
    "        elif (sensor_humidity_feature == False)&(degree==3):\n",
    "            coef = np.insert(coef, 1, 0)\n",
    "            coef = np.insert(coef, 3, 0)\n",
    "            coef = np.insert(coef, 4, 0)\n",
    "            coef = np.append(coef, [0] * degree)\n",
    "            \n",
    "        coefficient = np.insert(coef, 0, intercept)\n",
    "        surf_coef_list.append(coefficient) \n",
    "   \n",
    "    test_data = df_test[[test_channel, 'Temperature', 'Humidity', 'ppm']]\n",
    "    ppm_list = []\n",
    "    for index, row in test_data.iterrows():\n",
    "        signal, temperature, humidity, _ = row\n",
    "        signal_0ppm = interpolation.calculate_ppm_surface_signal(surf_coef_list[0], x0=temperature, x1=humidity, degree=degree)\n",
    "        signal_10ppm = interpolation.calculate_ppm_surface_signal(surf_coef_list[1], x0=temperature, x1=humidity, degree=degree)\n",
    "        signal_30ppm = interpolation.calculate_ppm_surface_signal(surf_coef_list[2], x0=temperature, x1=humidity, degree=degree)\n",
    "        signal_60ppm = interpolation.calculate_ppm_surface_signal(surf_coef_list[3], x0=temperature, x1=humidity, degree=degree)\n",
    "\n",
    "#         print(signal_0ppm, signal_10ppm, signal_60ppm)\n",
    "        \n",
    "        signal_ppm_dict = {\n",
    "                             0:signal_0ppm,\n",
    "                            10:signal_10ppm,\n",
    "                            30:signal_30ppm,\n",
    "                            60:signal_60ppm\n",
    "                           }\n",
    "\n",
    "#         ppm = interpolation.linear_interpolation(signal_ppm_dict, signal, 0, 10, 60)\n",
    "#         ppm = interpolation.exponential_interpolation(signal_ppm_dict, signal, 0, 60)\n",
    "        ppm = interpolation.hybrid_interpolation(signal_ppm_dict, signal, 0, 10, 60)\n",
    "        ppm_list.append(ppm)\n",
    "\n",
    "    # RMSE\n",
    "    rmse_test = np.sqrt(mean_squared_error(ppm_list, test_data['ppm'])).round(2)\n",
    "\n",
    "    # Interpolation prediction result    \n",
    "    predict_test_data = test_data.copy()\n",
    "    predict_test_data['pred_ppm'] = ppm_list\n",
    "    temp = int(predict_test_data['Temperature'].mean())\n",
    "    hum_min = int(predict_test_data['Humidity'].min())\n",
    "    hum_max = int(predict_test_data['Humidity'].max())\n",
    "    title = '({}%~{}%) ({}) (RMSE={})'.format(hum_min, hum_max, test_channel, rmse_test)\n",
    "    predict_test_data.iplot(kind='scatter', y=['ppm', 'pred_ppm', 'Humidity', 'Temperature'], title=title)\n",
    "\n",
    "\n",
    "    # save prediction result\n",
    "    folderName = '{}'.format(name)\n",
    "    savePath = os.path.join(os.getcwd(), folderName)\n",
    "    filename = '({}%~{}%)({})(shift {})(RMSE={})'.format(hum_min, hum_max, test_channel, shift ,rmse_test)\n",
    "    plt.plot(predict_test_data['Temperature'], 'r')\n",
    "    plt.plot(predict_test_data['Humidity'], 'b')\n",
    "    plt.plot(predict_test_data['ppm'], 'g')\n",
    "    plt.plot(predict_test_data['pred_ppm'], 'orange')\n",
    "    plt.ylabel('Temperature/ Humidity/ ppm')\n",
    "    plt.grid(alpha=0.3)\n",
    "    plt.legend(bbox_to_anchor=(0., 1.02, 1., .102),  loc=3, ncol=4, mode=\"expand\")\n",
    "    plt.title(filename, y=1.15, fontsize=10)\n",
    "    plt.savefig(savePath + '/' + filename + '.png', dpi=200, bbox_inches='tight')\n",
    "    plt.close() \n",
    "    plt.show()"
   ]
  },
  {
   "cell_type": "markdown",
   "metadata": {
    "slideshow": {
     "slide_type": "slide"
    }
   },
   "source": [
    "# Overview 4D data"
   ]
  },
  {
   "cell_type": "code",
   "execution_count": 13,
   "metadata": {},
   "outputs": [],
   "source": [
    "signal_ppm_dict = {\n",
    "                            0:signal_0ppm,\n",
    "                            10:signal_10ppm,\n",
    "                            30:signal_30ppm,\n",
    "                            60:signal_60ppm\n",
    "                           }"
   ]
  },
  {
   "cell_type": "code",
   "execution_count": null,
   "metadata": {
    "scrolled": false,
    "slideshow": {
     "slide_type": "subslide"
    }
   },
   "outputs": [],
   "source": [
    "# 4D plot\n",
    "training_data = {\n",
    "             '00C':df_0C,\n",
    "             '10C':df_10C,\n",
    "             '20C':df_20C,\n",
    "             '30C':df_30C,\n",
    "             '45C':df_45C,\n",
    "#              '50C':df_50C,\n",
    "                 }\n",
    "\n",
    "testing_data = {\n",
    "             '20C_test':df_test_20C,\n",
    "             '30C_test':df_test_30C,             \n",
    "               }\n",
    "\n",
    "channel_list=['670nm #2']\n",
    "module_4D.plot_4D(training_data, testing_data, channel_list, sensor_number)\n",
    "\n",
    "# channel_list=['440nm #2', '440nm #2_comp']\n",
    "# module_4D.plot_4D(training_data, testing_data, channel_list, sensor_number)"
   ]
  },
  {
   "cell_type": "code",
   "execution_count": null,
   "metadata": {},
   "outputs": [],
   "source": []
  }
 ],
 "metadata": {
  "kernelspec": {
   "display_name": "Python 3",
   "language": "python",
   "name": "python3"
  },
  "language_info": {
   "codemirror_mode": {
    "name": "ipython",
    "version": 3
   },
   "file_extension": ".py",
   "mimetype": "text/x-python",
   "name": "python",
   "nbconvert_exporter": "python",
   "pygments_lexer": "ipython3",
   "version": "3.7.3"
  }
 },
 "nbformat": 4,
 "nbformat_minor": 4
}
