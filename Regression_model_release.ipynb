{
 "cells": [
  {
   "cell_type": "markdown",
   "metadata": {
    "slideshow": {
     "slide_type": "-"
    }
   },
   "source": [
    "## 更新內容\n",
    ">2021.3.25  Regression_model_release_v0.3.1\n",
    "* add raw data overlay plot\n",
    "* add response plot\n",
    "* add drifting ratio and parameter plot\n",
    "\n",
    ">2021.2.2  Regression_model_release_v0.3.0\n",
    "* new version compensation\n",
    "* upgrade plotly version v4.14.3 (原本 version v3.9.0)\n",
    "* upgrade cufflinks version v0.17.3 (原本 version v0.15.0)\n",
    "* white_card_coef 乘 parameter(for compensation)\n",
    "* revise .csv filename\n",
    "\n",
    ">2021.1.15 Regression_model_release_v0.2.6\n",
    "* 更新interpolation模組\n",
    "        * 增加線性外插高濃度值功能\"__extrapolation_upper\"\n",
    "        * 增加線性外插低濃度值功能\"__extrapolation_lower\"\n",
    "        * 增加指數外插高濃度值功能\"__log_extrapolation_upper\"\n",
    "        * 增加指數外插低濃度值功能\"__log_extrapolation_lower\"\n",
    "        * mark hybrid_interpolation function\n",
    "        * 修正對數數值domain\n",
    "  \n",
    "\n",
    "## 程式主要功能 \n",
    "* 建立各濃度平面\n",
    "* 內差法計算濃度值"
   ]
  },
  {
   "cell_type": "code",
   "execution_count": 184,
   "metadata": {
    "slideshow": {
     "slide_type": "-"
    }
   },
   "outputs": [],
   "source": [
    "import os\n",
    "import pandas as pd\n",
    "import numpy as np\n",
    "import matplotlib.pyplot as plt\n",
    "from sklearn.linear_model import Ridge, Lasso, LinearRegression\n",
    "from sklearn import linear_model\n",
    "from sklearn.metrics import mean_squared_error\n",
    "\n",
    "import warnings\n",
    "warnings.filterwarnings('ignore')\n",
    "\n",
    "import tkinter\n",
    "from tkinter import*\n",
    "# Create Tk root\n",
    "root = Tk()\n",
    "# Hide the main window\n",
    "root.withdraw()\n",
    "root.call('wm', 'attributes', '.', '-topmost', True)\n",
    "from tkinter import filedialog\n",
    "%gui tk\n",
    "\n",
    "import FFT\n",
    "import compensation\n",
    "import module_4D\n",
    "# import modeling_white_card\n",
    "import model\n",
    "import white_card_std\n",
    "\n",
    "# from modeling_white_card import modeling_white\n",
    "# from modeling import modeling\n",
    "import interpolation\n",
    "import plotly.graph_objects as go"
   ]
  },
  {
   "cell_type": "code",
   "execution_count": 185,
   "metadata": {
    "slideshow": {
     "slide_type": "skip"
    }
   },
   "outputs": [],
   "source": [
    "def data_loading():\n",
    "    path = filedialog.askdirectory()\n",
    "    print(path)\n",
    "    return path"
   ]
  },
  {
   "cell_type": "code",
   "execution_count": 186,
   "metadata": {},
   "outputs": [],
   "source": [
    "def data_pretreatment(data):\n",
    "    data['magic'] = data['583nm #1'] + data['620nm #1']-data['550nm #1']-data['510nm #1']\n",
    "    return data"
   ]
  },
  {
   "cell_type": "code",
   "execution_count": 187,
   "metadata": {
    "slideshow": {
     "slide_type": "skip"
    }
   },
   "outputs": [
    {
     "name": "stdout",
     "output_type": "stream",
     "text": [
      "D:/Data_store/AMS_7341/052421 T+U preliminary test/#20200930172233\n"
     ]
    }
   ],
   "source": [
    "path = data_loading()"
   ]
  },
  {
   "cell_type": "code",
   "execution_count": 188,
   "metadata": {
    "slideshow": {
     "slide_type": "skip"
    }
   },
   "outputs": [
    {
     "name": "stdout",
     "output_type": "stream",
     "text": [
      "sensor_number: #20200930172233\n"
     ]
    }
   ],
   "source": [
    "#sensor serial number\n",
    "sensor_number = path.split('/')[-1]\n",
    "print('sensor_number:', sensor_number)"
   ]
  },
  {
   "cell_type": "markdown",
   "metadata": {
    "slideshow": {
     "slide_type": "slide"
    }
   },
   "source": [
    "# Loading data and FFT transform"
   ]
  },
  {
   "cell_type": "code",
   "execution_count": 189,
   "metadata": {
    "slideshow": {
     "slide_type": "subslide"
    }
   },
   "outputs": [],
   "source": [
    "# load training data\n",
    "A = 0\n",
    "B = 300000"
   ]
  },
  {
   "cell_type": "code",
   "execution_count": 190,
   "metadata": {},
   "outputs": [],
   "source": [
    "df_0C = data_pretreatment(pd.read_csv(path + '/select_data_calibration_0C.csv').reset_index(drop=True))\n",
    "df_10C = data_pretreatment(pd.read_csv(path + '/select_data_calibration_10C.csv').reset_index(drop=True))\n",
    "df_20C = data_pretreatment(pd.read_csv(path + '/select_data_calibration_20C.csv').reset_index(drop=True))\n",
    "df_30C = data_pretreatment(pd.read_csv(path + '/select_data_calibration_30C.csv').reset_index(drop=True))\n",
    "df_40C = data_pretreatment(pd.read_csv(path + '/select_data_calibration_40C.csv').reset_index(drop=True))\n",
    "train_data_list = [df_0C, df_10C, df_20C, df_30C, df_40C]\n",
    "\n",
    "# Load testing data\n",
    "df_test_30C_1 = data_pretreatment(pd.read_csv(path + '/select_data_blind_test_30C_1.csv')[A:B].reset_index(drop=True))\n",
    "df_test_30C_2 = data_pretreatment(pd.read_csv(path + '/select_data_blind_test_30C_2.csv')[A:B].reset_index(drop=True))\n",
    "df_test_30C_3 = data_pretreatment(pd.read_csv(path + '/select_data_blind_test_30C_3.csv')[A:B].reset_index(drop=True))\n",
    "df_test_30C_4 = data_pretreatment(pd.read_csv(path + '/select_data_blind_test_30C_4.csv')[A:B].reset_index(drop=True))\n",
    "df_test_30C_5 = data_pretreatment(pd.read_csv(path + '/select_data_blind_test_30C_5.csv')[A:B].reset_index(drop=True))\n",
    "df_test_30C_6 = data_pretreatment(pd.read_csv(path + '/select_data_blind_test_30C_6.csv')[A:B].reset_index(drop=True))\n",
    "df_test_30C_7 = data_pretreatment(pd.read_csv(path + '/select_data_blind_test_30C_7.csv')[A:B].reset_index(drop=True))\n",
    "df_test_30C_8 = data_pretreatment(pd.read_csv(path + '/select_data_blind_test_30C_8.csv')[A:B].reset_index(drop=True))\n",
    "# df_test_30C_9 = data_pretreatment(pd.read_csv(path + '/select_data_blind_test_30C_9.csv')[A:B].reset_index(drop=True))\n",
    "# df_test_30C_10 = data_pretreatment(pd.read_csv(path + '/select_data_blind_test_30C_10.csv')[A:B].reset_index(drop=True))\n",
    "# df_test_30C_11 = data_pretreatment(pd.read_csv(path + '/select_data_blind_test_30C_11.csv')[A:B].reset_index(drop=True))\n",
    "\n",
    "test_data_list = [\n",
    "                  df_test_30C_1, \n",
    "                  df_test_30C_2, \n",
    "                  df_test_30C_3, \n",
    "                  df_test_30C_4,\n",
    "                  df_test_30C_5,\n",
    "                  df_test_30C_6,\n",
    "                  df_test_30C_7, \n",
    "                  df_test_30C_8,\n",
    "#                   df_test_30C_9,\n",
    "#                   df_test_30C_10,\n",
    "#                   df_test_30C_11,\n",
    "                 ]"
   ]
  },
  {
   "cell_type": "code",
   "execution_count": 191,
   "metadata": {
    "slideshow": {
     "slide_type": "subslide"
    }
   },
   "outputs": [
    {
     "name": "stdout",
     "output_type": "stream",
     "text": [
      "df_0C: (50, 47)\n",
      "df_10 (50, 47)\n",
      "df_20C: (50, 47)\n",
      "df_30C: (50, 47)\n",
      "df_40C: (50, 47)\n",
      "-------------------------------------\n",
      "df_test_30C_1: (50, 47)\n",
      "df_test_30C_2: (50, 47)\n",
      "df_test_30C_3: (50, 47)\n",
      "df_test_30C_4: (50, 47)\n",
      "df_test_30C_5: (50, 47)\n",
      "df_test_30C_6: (50, 47)\n"
     ]
    }
   ],
   "source": [
    "print('df_0C:', df_0C.shape)\n",
    "print('df_10', df_10C.shape)\n",
    "print('df_20C:', df_20C.shape)\n",
    "print('df_30C:', df_30C.shape)\n",
    "print('df_40C:', df_40C.shape)\n",
    "print('-------------------------------------')\n",
    "print('df_test_30C_1:', df_test_30C_1.shape)\n",
    "print('df_test_30C_2:', df_test_30C_2.shape)\n",
    "print('df_test_30C_3:', df_test_30C_3.shape)\n",
    "print('df_test_30C_4:', df_test_30C_4.shape)\n",
    "print('df_test_30C_5:', df_test_30C_5.shape)\n",
    "print('df_test_30C_6:', df_test_30C_6.shape)"
   ]
  },
  {
   "cell_type": "markdown",
   "metadata": {},
   "source": [
    "# Compensation"
   ]
  },
  {
   "attachments": {
    "image.png": {
     "image/png": "[encoded data removed]"
    }
   },
   "cell_type": "markdown",
   "metadata": {},
   "source": [
    "![image.png](attachment:image.png)\n",
    "1. calculate parameter\n",
    "2. build reference model\n",
    "3. calculate ref_std"
   ]
  },
  {
   "cell_type": "code",
   "execution_count": 192,
   "metadata": {},
   "outputs": [],
   "source": [
    "def ratio_calculator(df_qc, df_ref, channel):\n",
    "    ratio = (df_qc[channel]/df_ref[channel]).mean()\n",
    "    return ratio"
   ]
  },
  {
   "cell_type": "markdown",
   "metadata": {},
   "source": [
    "## calculate parameter"
   ]
  },
  {
   "cell_type": "code",
   "execution_count": 193,
   "metadata": {},
   "outputs": [
    {
     "name": "stdout",
     "output_type": "stream",
     "text": [
      "ratio_ref:0.9984\n",
      "ratio_target:1.0028\n",
      "compensation_parameter:0.9957\n"
     ]
    }
   ],
   "source": [
    "df_ref = df_30C\n",
    "df_qc = df_test_30C_1\n",
    "channel_list = ['670nm #1', 'magic']\n",
    "\n",
    "ratio_ref = ratio_calculator(df_qc, df_ref, channel_list[0])\n",
    "ratio_target = ratio_calculator(df_qc, df_ref, channel_list[1])\n",
    "parameter = ratio_ref/ratio_target\n",
    "print('ratio_ref:{:.4f}'.format(ratio_ref))\n",
    "print('ratio_target:{:.4f}'.format(ratio_target))\n",
    "print('compensation_parameter:{:.4f}'.format(parameter))"
   ]
  },
  {
   "cell_type": "markdown",
   "metadata": {},
   "source": [
    "## reference model setting"
   ]
  },
  {
   "cell_type": "code",
   "execution_count": 194,
   "metadata": {},
   "outputs": [],
   "source": [
    "# white card paremeter setting\n",
    "folder_name = 'QC1~8 (583+620-510-550)(degree=1)(QC1 parameter)'\n",
    "# folder_name = 'test'\n",
    "# folder_name = 'QC3_583nm_comp_log_model(K1+QC1)(degree 2)'\n",
    "\n",
    "model_name = Ridge(alpha=10)                    #regression model\n",
    "channel = '670nm #1'                       #regression channel\n",
    "degree_white_card = 2                                   #polynimial degree\n",
    "humidity_step = ['RH40%', 'RH50%', 'RH60%', 'RH70%', 'RH80']\n",
    "white_card_humidity_feature = False"
   ]
  },
  {
   "cell_type": "code",
   "execution_count": 195,
   "metadata": {},
   "outputs": [
    {
     "data": {
      "application/vnd.plotly.v1+json": {
       "config": {
        "linkText": "Export to plot.ly",
        "plotlyServerURL": "https://plot.ly",
        "showLink": true
       },
       "data": [
        {
         "line": {
          "color": "rgba(255, 153, 51, 1.0)",
          "dash": "solid",
          "shape": "linear",
          "width": 1.3
         },
         "mode": "lines",
         "name": "y_true",
         "text": "",
         "type": "scatter",
         "x": [
          0,
          1,
          2,
          3,
          4,
          5,
          6,
          7,
          8,
          9,
          10,
          11,
          12,
          13,
          14,
          15,
          16,
          17,
          18,
          19,
          20,
          21,
          22,
          23,
          24,
          25,
          26,
          27,
          28,
          29,
          30,
          31,
          32,
          33,
          34,
          35,
          36,
          37,
          38,
          39,
          40,
          41,
          42,
          43,
          44,
          45,
          46,
          47,
          48,
          49
         ],
         "y": [
          7412,
          7414,
          7414,
          7414,
          7414,
          7414,
          7416,
          7419,
          7412,
          7414,
          7446,
          7449,
          7447,
          7443,
          7448,
          7445,
          7451,
          7446,
          7442,
          7441,
          7445,
          7448,
          7447,
          7445,
          7447,
          7443,
          7445,
          7447,
          7447,
          7447,
          7438,
          7439,
          7440,
          7439,
          7440,
          7439,
          7440,
          7435,
          7440,
          7438,
          7435,
          7429,
          7434,
          7430,
          7435,
          7430,
          7437,
          7432,
          7433,
          7433
         ]
        },
        {
         "line": {
          "color": "rgba(55, 128, 191, 1.0)",
          "dash": "solid",
          "shape": "linear",
          "width": 1.3
         },
         "mode": "lines",
         "name": "y_pred",
         "text": "",
         "type": "scatter",
         "x": [
          0,
          1,
          2,
          3,
          4,
          5,
          6,
          7,
          8,
          9,
          10,
          11,
          12,
          13,
          14,
          15,
          16,
          17,
          18,
          19,
          20,
          21,
          22,
          23,
          24,
          25,
          26,
          27,
          28,
          29,
          30,
          31,
          32,
          33,
          34,
          35,
          36,
          37,
          38,
          39,
          40,
          41,
          42,
          43,
          44,
          45,
          46,
          47,
          48,
          49
         ],
         "y": [
          7436.766117360737,
          7436.697956929961,
          7436.820612079999,
          7436.834231089565,
          7436.793368456567,
          7436.806991202333,
          7436.793368456567,
          7436.7797438427015,
          7436.820612079999,
          7436.7797438427015,
          7437.269053038585,
          7437.228369743145,
          7437.241932709725,
          7437.255493808205,
          7437.269053038585,
          7437.282610400866,
          7437.187669634809,
          7437.228369743145,
          7437.269053038585,
          7437.201238205687,
          7437.17409919583,
          7437.214804908466,
          7437.17409919583,
          7437.269053038585,
          7437.146952713576,
          7437.214804908466,
          7437.228369743145,
          7437.160526888753,
          7437.201238205687,
          7437.241932709725,
          7437.065468432423,
          7437.051881180549,
          7437.065468432423,
          7437.079053816197,
          7437.065468432423,
          7437.079053816197,
          7437.065468432423,
          7437.051881180549,
          7437.038292060575,
          7437.079053816197,
          7437.051881180549,
          7437.01110821687,
          7437.024701073042,
          7437.038292060575,
          7437.024701073042,
          7437.01110821687,
          7437.024701073042,
          7437.01110821687,
          7437.024701073042,
          7437.038292060575
         ]
        }
       ],
       "layout": {
        "legend": {
         "bgcolor": "#F5F6F9",
         "font": {
          "color": "#4D5663"
         }
        },
        "paper_bgcolor": "#F5F6F9",
        "plot_bgcolor": "#F5F6F9",
        "template": {
         "data": {
          "bar": [
           {
            "error_x": {
             "color": "#2a3f5f"
            },
            "error_y": {
             "color": "#2a3f5f"
            },
            "marker": {
             "line": {
              "color": "#E5ECF6",
              "width": 0.5
             }
            },
            "type": "bar"
           }
          ],
          "barpolar": [
           {
            "marker": {
             "line": {
              "color": "#E5ECF6",
              "width": 0.5
             }
            },
            "type": "barpolar"
           }
          ],
          "carpet": [
           {
            "aaxis": {
             "endlinecolor": "#2a3f5f",
             "gridcolor": "white",
             "linecolor": "white",
             "minorgridcolor": "white",
             "startlinecolor": "#2a3f5f"
            },
            "baxis": {
             "endlinecolor": "#2a3f5f",
             "gridcolor": "white",
             "linecolor": "white",
             "minorgridcolor": "white",
             "startlinecolor": "#2a3f5f"
            },
            "type": "carpet"
           }
          ],
          "choropleth": [
           {
            "colorbar": {
             "outlinewidth": 0,
             "ticks": ""
            },
            "type": "choropleth"
           }
          ],
          "contour": [
           {
            "colorbar": {
             "outlinewidth": 0,
             "ticks": ""
            },
            "colorscale": [
             [
              0,
              "#0d0887"
             ],
             [
              0.1111111111111111,
              "#46039f"
             ],
             [
              0.2222222222222222,
              "#7201a8"
             ],
             [
              0.3333333333333333,
              "#9c179e"
             ],
             [
              0.4444444444444444,
              "#bd3786"
             ],
             [
              0.5555555555555556,
              "#d8576b"
             ],
             [
              0.6666666666666666,
              "#ed7953"
             ],
             [
              0.7777777777777778,
              "#fb9f3a"
             ],
             [
              0.8888888888888888,
              "#fdca26"
             ],
             [
              1,
              "#f0f921"
             ]
            ],
            "type": "contour"
           }
          ],
          "contourcarpet": [
           {
            "colorbar": {
             "outlinewidth": 0,
             "ticks": ""
            },
            "type": "contourcarpet"
           }
          ],
          "heatmap": [
           {
            "colorbar": {
             "outlinewidth": 0,
             "ticks": ""
            },
            "colorscale": [
             [
              0,
              "#0d0887"
             ],
             [
              0.1111111111111111,
              "#46039f"
             ],
             [
              0.2222222222222222,
              "#7201a8"
             ],
             [
              0.3333333333333333,
              "#9c179e"
             ],
             [
              0.4444444444444444,
              "#bd3786"
             ],
             [
              0.5555555555555556,
              "#d8576b"
             ],
             [
              0.6666666666666666,
              "#ed7953"
             ],
             [
              0.7777777777777778,
              "#fb9f3a"
             ],
             [
              0.8888888888888888,
              "#fdca26"
             ],
             [
              1,
              "#f0f921"
             ]
            ],
            "type": "heatmap"
           }
          ],
          "heatmapgl": [
           {
            "colorbar": {
             "outlinewidth": 0,
             "ticks": ""
            },
            "colorscale": [
             [
              0,
              "#0d0887"
             ],
             [
              0.1111111111111111,
              "#46039f"
             ],
             [
              0.2222222222222222,
              "#7201a8"
             ],
             [
              0.3333333333333333,
              "#9c179e"
             ],
             [
              0.4444444444444444,
              "#bd3786"
             ],
             [
              0.5555555555555556,
              "#d8576b"
             ],
             [
              0.6666666666666666,
              "#ed7953"
             ],
             [
              0.7777777777777778,
              "#fb9f3a"
             ],
             [
              0.8888888888888888,
              "#fdca26"
             ],
             [
              1,
              "#f0f921"
             ]
            ],
            "type": "heatmapgl"
           }
          ],
          "histogram": [
           {
            "marker": {
             "colorbar": {
              "outlinewidth": 0,
              "ticks": ""
             }
            },
            "type": "histogram"
           }
          ],
          "histogram2d": [
           {
            "colorbar": {
             "outlinewidth": 0,
             "ticks": ""
            },
            "colorscale": [
             [
              0,
              "#0d0887"
             ],
             [
              0.1111111111111111,
              "#46039f"
             ],
             [
              0.2222222222222222,
              "#7201a8"
             ],
             [
              0.3333333333333333,
              "#9c179e"
             ],
             [
              0.4444444444444444,
              "#bd3786"
             ],
             [
              0.5555555555555556,
              "#d8576b"
             ],
             [
              0.6666666666666666,
              "#ed7953"
             ],
             [
              0.7777777777777778,
              "#fb9f3a"
             ],
             [
              0.8888888888888888,
              "#fdca26"
             ],
             [
              1,
              "#f0f921"
             ]
            ],
            "type": "histogram2d"
           }
          ],
          "histogram2dcontour": [
           {
            "colorbar": {
             "outlinewidth": 0,
             "ticks": ""
            },
            "colorscale": [
             [
              0,
              "#0d0887"
             ],
             [
              0.1111111111111111,
              "#46039f"
             ],
             [
              0.2222222222222222,
              "#7201a8"
             ],
             [
              0.3333333333333333,
              "#9c179e"
             ],
             [
              0.4444444444444444,
              "#bd3786"
             ],
             [
              0.5555555555555556,
              "#d8576b"
             ],
             [
              0.6666666666666666,
              "#ed7953"
             ],
             [
              0.7777777777777778,
              "#fb9f3a"
             ],
             [
              0.8888888888888888,
              "#fdca26"
             ],
             [
              1,
              "#f0f921"
             ]
            ],
            "type": "histogram2dcontour"
           }
          ],
          "mesh3d": [
           {
            "colorbar": {
             "outlinewidth": 0,
             "ticks": ""
            },
            "type": "mesh3d"
           }
          ],
          "parcoords": [
           {
            "line": {
             "colorbar": {
              "outlinewidth": 0,
              "ticks": ""
             }
            },
            "type": "parcoords"
           }
          ],
          "pie": [
           {
            "automargin": true,
            "type": "pie"
           }
          ],
          "scatter": [
           {
            "marker": {
             "colorbar": {
              "outlinewidth": 0,
              "ticks": ""
             }
            },
            "type": "scatter"
           }
          ],
          "scatter3d": [
           {
            "line": {
             "colorbar": {
              "outlinewidth": 0,
              "ticks": ""
             }
            },
            "marker": {
             "colorbar": {
              "outlinewidth": 0,
              "ticks": ""
             }
            },
            "type": "scatter3d"
           }
          ],
          "scattercarpet": [
           {
            "marker": {
             "colorbar": {
              "outlinewidth": 0,
              "ticks": ""
             }
            },
            "type": "scattercarpet"
           }
          ],
          "scattergeo": [
           {
            "marker": {
             "colorbar": {
              "outlinewidth": 0,
              "ticks": ""
             }
            },
            "type": "scattergeo"
           }
          ],
          "scattergl": [
           {
            "marker": {
             "colorbar": {
              "outlinewidth": 0,
              "ticks": ""
             }
            },
            "type": "scattergl"
           }
          ],
          "scattermapbox": [
           {
            "marker": {
             "colorbar": {
              "outlinewidth": 0,
              "ticks": ""
             }
            },
            "type": "scattermapbox"
           }
          ],
          "scatterpolar": [
           {
            "marker": {
             "colorbar": {
              "outlinewidth": 0,
              "ticks": ""
             }
            },
            "type": "scatterpolar"
           }
          ],
          "scatterpolargl": [
           {
            "marker": {
             "colorbar": {
              "outlinewidth": 0,
              "ticks": ""
             }
            },
            "type": "scatterpolargl"
           }
          ],
          "scatterternary": [
           {
            "marker": {
             "colorbar": {
              "outlinewidth": 0,
              "ticks": ""
             }
            },
            "type": "scatterternary"
           }
          ],
          "surface": [
           {
            "colorbar": {
             "outlinewidth": 0,
             "ticks": ""
            },
            "colorscale": [
             [
              0,
              "#0d0887"
             ],
             [
              0.1111111111111111,
              "#46039f"
             ],
             [
              0.2222222222222222,
              "#7201a8"
             ],
             [
              0.3333333333333333,
              "#9c179e"
             ],
             [
              0.4444444444444444,
              "#bd3786"
             ],
             [
              0.5555555555555556,
              "#d8576b"
             ],
             [
              0.6666666666666666,
              "#ed7953"
             ],
             [
              0.7777777777777778,
              "#fb9f3a"
             ],
             [
              0.8888888888888888,
              "#fdca26"
             ],
             [
              1,
              "#f0f921"
             ]
            ],
            "type": "surface"
           }
          ],
          "table": [
           {
            "cells": {
             "fill": {
              "color": "#EBF0F8"
             },
             "line": {
              "color": "white"
             }
            },
            "header": {
             "fill": {
              "color": "#C8D4E3"
             },
             "line": {
              "color": "white"
             }
            },
            "type": "table"
           }
          ]
         },
         "layout": {
          "annotationdefaults": {
           "arrowcolor": "#2a3f5f",
           "arrowhead": 0,
           "arrowwidth": 1
          },
          "autotypenumbers": "strict",
          "coloraxis": {
           "colorbar": {
            "outlinewidth": 0,
            "ticks": ""
           }
          },
          "colorscale": {
           "diverging": [
            [
             0,
             "#8e0152"
            ],
            [
             0.1,
             "#c51b7d"
            ],
            [
             0.2,
             "#de77ae"
            ],
            [
             0.3,
             "#f1b6da"
            ],
            [
             0.4,
             "#fde0ef"
            ],
            [
             0.5,
             "#f7f7f7"
            ],
            [
             0.6,
             "#e6f5d0"
            ],
            [
             0.7,
             "#b8e186"
            ],
            [
             0.8,
             "#7fbc41"
            ],
            [
             0.9,
             "#4d9221"
            ],
            [
             1,
             "#276419"
            ]
           ],
           "sequential": [
            [
             0,
             "#0d0887"
            ],
            [
             0.1111111111111111,
             "#46039f"
            ],
            [
             0.2222222222222222,
             "#7201a8"
            ],
            [
             0.3333333333333333,
             "#9c179e"
            ],
            [
             0.4444444444444444,
             "#bd3786"
            ],
            [
             0.5555555555555556,
             "#d8576b"
            ],
            [
             0.6666666666666666,
             "#ed7953"
            ],
            [
             0.7777777777777778,
             "#fb9f3a"
            ],
            [
             0.8888888888888888,
             "#fdca26"
            ],
            [
             1,
             "#f0f921"
            ]
           ],
           "sequentialminus": [
            [
             0,
             "#0d0887"
            ],
            [
             0.1111111111111111,
             "#46039f"
            ],
            [
             0.2222222222222222,
             "#7201a8"
            ],
            [
             0.3333333333333333,
             "#9c179e"
            ],
            [
             0.4444444444444444,
             "#bd3786"
            ],
            [
             0.5555555555555556,
             "#d8576b"
            ],
            [
             0.6666666666666666,
             "#ed7953"
            ],
            [
             0.7777777777777778,
             "#fb9f3a"
            ],
            [
             0.8888888888888888,
             "#fdca26"
            ],
            [
             1,
             "#f0f921"
            ]
           ]
          },
          "colorway": [
           "#636efa",
           "#EF553B",
           "#00cc96",
           "#ab63fa",
           "#FFA15A",
           "#19d3f3",
           "#FF6692",
           "#B6E880",
           "#FF97FF",
           "#FECB52"
          ],
          "font": {
           "color": "#2a3f5f"
          },
          "geo": {
           "bgcolor": "white",
           "lakecolor": "white",
           "landcolor": "#E5ECF6",
           "showlakes": true,
           "showland": true,
           "subunitcolor": "white"
          },
          "hoverlabel": {
           "align": "left"
          },
          "hovermode": "closest",
          "mapbox": {
           "style": "light"
          },
          "paper_bgcolor": "white",
          "plot_bgcolor": "#E5ECF6",
          "polar": {
           "angularaxis": {
            "gridcolor": "white",
            "linecolor": "white",
            "ticks": ""
           },
           "bgcolor": "#E5ECF6",
           "radialaxis": {
            "gridcolor": "white",
            "linecolor": "white",
            "ticks": ""
           }
          },
          "scene": {
           "xaxis": {
            "backgroundcolor": "#E5ECF6",
            "gridcolor": "white",
            "gridwidth": 2,
            "linecolor": "white",
            "showbackground": true,
            "ticks": "",
            "zerolinecolor": "white"
           },
           "yaxis": {
            "backgroundcolor": "#E5ECF6",
            "gridcolor": "white",
            "gridwidth": 2,
            "linecolor": "white",
            "showbackground": true,
            "ticks": "",
            "zerolinecolor": "white"
           },
           "zaxis": {
            "backgroundcolor": "#E5ECF6",
            "gridcolor": "white",
            "gridwidth": 2,
            "linecolor": "white",
            "showbackground": true,
            "ticks": "",
            "zerolinecolor": "white"
           }
          },
          "shapedefaults": {
           "line": {
            "color": "#2a3f5f"
           }
          },
          "ternary": {
           "aaxis": {
            "gridcolor": "white",
            "linecolor": "white",
            "ticks": ""
           },
           "baxis": {
            "gridcolor": "white",
            "linecolor": "white",
            "ticks": ""
           },
           "bgcolor": "#E5ECF6",
           "caxis": {
            "gridcolor": "white",
            "linecolor": "white",
            "ticks": ""
           }
          },
          "title": {
           "x": 0.05
          },
          "xaxis": {
           "automargin": true,
           "gridcolor": "white",
           "linecolor": "white",
           "ticks": "",
           "title": {
            "standoff": 15
           },
           "zerolinecolor": "white",
           "zerolinewidth": 2
          },
          "yaxis": {
           "automargin": true,
           "gridcolor": "white",
           "linecolor": "white",
           "ticks": "",
           "title": {
            "standoff": 15
           },
           "zerolinecolor": "white",
           "zerolinewidth": 2
          }
         }
        },
        "title": {
         "font": {
          "color": "#4D5663"
         },
         "text": "-23 (T=-23~50) (H=0~100) (degree=2) (670nm #1) (shift0_ppmx1) (RMSE y_pred_scale= 11.85)"
        },
        "xaxis": {
         "gridcolor": "#E1E5ED",
         "showgrid": true,
         "tickfont": {
          "color": "#4D5663"
         },
         "title": {
          "font": {
           "color": "#4D5663"
          },
          "text": ""
         },
         "zerolinecolor": "#E1E5ED"
        },
        "yaxis": {
         "gridcolor": "#E1E5ED",
         "showgrid": true,
         "tickfont": {
          "color": "#4D5663"
         },
         "title": {
          "font": {
           "color": "#4D5663"
          },
          "text": "ppm"
         },
         "zerolinecolor": "#E1E5ED"
        }
       }
      },
      "text/html": [
       "<div>                            <div id=\"f5a2e2d1-5601-42d9-a90d-56b2b5f0ad9a\" class=\"plotly-graph-div\" style=\"height:525px; width:100%;\"></div>            <script type=\"text/javascript\">                require([\"plotly\"], function(Plotly) {                    window.PLOTLYENV=window.PLOTLYENV || {};\n",
       "                    window.PLOTLYENV.BASE_URL='https://plot.ly';                                    if (document.getElementById(\"f5a2e2d1-5601-42d9-a90d-56b2b5f0ad9a\")) {                    Plotly.newPlot(                        \"f5a2e2d1-5601-42d9-a90d-56b2b5f0ad9a\",                        [{\"line\": {\"color\": \"rgba(255, 153, 51, 1.0)\", \"dash\": \"solid\", \"shape\": \"linear\", \"width\": 1.3}, \"mode\": \"lines\", \"name\": \"y_true\", \"text\": \"\", \"type\": \"scatter\", \"x\": [0, 1, 2, 3, 4, 5, 6, 7, 8, 9, 10, 11, 12, 13, 14, 15, 16, 17, 18, 19, 20, 21, 22, 23, 24, 25, 26, 27, 28, 29, 30, 31, 32, 33, 34, 35, 36, 37, 38, 39, 40, 41, 42, 43, 44, 45, 46, 47, 48, 49], \"y\": [7412, 7414, 7414, 7414, 7414, 7414, 7416, 7419, 7412, 7414, 7446, 7449, 7447, 7443, 7448, 7445, 7451, 7446, 7442, 7441, 7445, 7448, 7447, 7445, 7447, 7443, 7445, 7447, 7447, 7447, 7438, 7439, 7440, 7439, 7440, 7439, 7440, 7435, 7440, 7438, 7435, 7429, 7434, 7430, 7435, 7430, 7437, 7432, 7433, 7433]}, {\"line\": {\"color\": \"rgba(55, 128, 191, 1.0)\", \"dash\": \"solid\", \"shape\": \"linear\", \"width\": 1.3}, \"mode\": \"lines\", \"name\": \"y_pred\", \"text\": \"\", \"type\": \"scatter\", \"x\": [0, 1, 2, 3, 4, 5, 6, 7, 8, 9, 10, 11, 12, 13, 14, 15, 16, 17, 18, 19, 20, 21, 22, 23, 24, 25, 26, 27, 28, 29, 30, 31, 32, 33, 34, 35, 36, 37, 38, 39, 40, 41, 42, 43, 44, 45, 46, 47, 48, 49], \"y\": [7436.766117360737, 7436.697956929961, 7436.820612079999, 7436.834231089565, 7436.793368456567, 7436.806991202333, 7436.793368456567, 7436.7797438427015, 7436.820612079999, 7436.7797438427015, 7437.269053038585, 7437.228369743145, 7437.241932709725, 7437.255493808205, 7437.269053038585, 7437.282610400866, 7437.187669634809, 7437.228369743145, 7437.269053038585, 7437.201238205687, 7437.17409919583, 7437.214804908466, 7437.17409919583, 7437.269053038585, 7437.146952713576, 7437.214804908466, 7437.228369743145, 7437.160526888753, 7437.201238205687, 7437.241932709725, 7437.065468432423, 7437.051881180549, 7437.065468432423, 7437.079053816197, 7437.065468432423, 7437.079053816197, 7437.065468432423, 7437.051881180549, 7437.038292060575, 7437.079053816197, 7437.051881180549, 7437.01110821687, 7437.024701073042, 7437.038292060575, 7437.024701073042, 7437.01110821687, 7437.024701073042, 7437.01110821687, 7437.024701073042, 7437.038292060575]}],                        {\"legend\": {\"bgcolor\": \"#F5F6F9\", \"font\": {\"color\": \"#4D5663\"}}, \"paper_bgcolor\": \"#F5F6F9\", \"plot_bgcolor\": \"#F5F6F9\", \"template\": {\"data\": {\"bar\": [{\"error_x\": {\"color\": \"#2a3f5f\"}, \"error_y\": {\"color\": \"#2a3f5f\"}, \"marker\": {\"line\": {\"color\": \"#E5ECF6\", \"width\": 0.5}}, \"type\": \"bar\"}], \"barpolar\": [{\"marker\": {\"line\": {\"color\": \"#E5ECF6\", \"width\": 0.5}}, \"type\": \"barpolar\"}], \"carpet\": [{\"aaxis\": {\"endlinecolor\": \"#2a3f5f\", \"gridcolor\": \"white\", \"linecolor\": \"white\", \"minorgridcolor\": \"white\", \"startlinecolor\": \"#2a3f5f\"}, \"baxis\": {\"endlinecolor\": \"#2a3f5f\", \"gridcolor\": \"white\", \"linecolor\": \"white\", \"minorgridcolor\": \"white\", \"startlinecolor\": \"#2a3f5f\"}, \"type\": \"carpet\"}], \"choropleth\": [{\"colorbar\": {\"outlinewidth\": 0, \"ticks\": \"\"}, \"type\": \"choropleth\"}], \"contour\": [{\"colorbar\": {\"outlinewidth\": 0, \"ticks\": \"\"}, \"colorscale\": [[0.0, \"#0d0887\"], [0.1111111111111111, \"#46039f\"], [0.2222222222222222, \"#7201a8\"], [0.3333333333333333, \"#9c179e\"], [0.4444444444444444, \"#bd3786\"], [0.5555555555555556, \"#d8576b\"], [0.6666666666666666, \"#ed7953\"], [0.7777777777777778, \"#fb9f3a\"], [0.8888888888888888, \"#fdca26\"], [1.0, \"#f0f921\"]], \"type\": \"contour\"}], \"contourcarpet\": [{\"colorbar\": {\"outlinewidth\": 0, \"ticks\": \"\"}, \"type\": \"contourcarpet\"}], \"heatmap\": [{\"colorbar\": {\"outlinewidth\": 0, \"ticks\": \"\"}, \"colorscale\": [[0.0, \"#0d0887\"], [0.1111111111111111, \"#46039f\"], [0.2222222222222222, \"#7201a8\"], [0.3333333333333333, \"#9c179e\"], [0.4444444444444444, \"#bd3786\"], [0.5555555555555556, \"#d8576b\"], [0.6666666666666666, \"#ed7953\"], [0.7777777777777778, \"#fb9f3a\"], [0.8888888888888888, \"#fdca26\"], [1.0, \"#f0f921\"]], \"type\": \"heatmap\"}], \"heatmapgl\": [{\"colorbar\": {\"outlinewidth\": 0, \"ticks\": \"\"}, \"colorscale\": [[0.0, \"#0d0887\"], [0.1111111111111111, \"#46039f\"], [0.2222222222222222, \"#7201a8\"], [0.3333333333333333, \"#9c179e\"], [0.4444444444444444, \"#bd3786\"], [0.5555555555555556, \"#d8576b\"], [0.6666666666666666, \"#ed7953\"], [0.7777777777777778, \"#fb9f3a\"], [0.8888888888888888, \"#fdca26\"], [1.0, \"#f0f921\"]], \"type\": \"heatmapgl\"}], \"histogram\": [{\"marker\": {\"colorbar\": {\"outlinewidth\": 0, \"ticks\": \"\"}}, \"type\": \"histogram\"}], \"histogram2d\": [{\"colorbar\": {\"outlinewidth\": 0, \"ticks\": \"\"}, \"colorscale\": [[0.0, \"#0d0887\"], [0.1111111111111111, \"#46039f\"], [0.2222222222222222, \"#7201a8\"], [0.3333333333333333, \"#9c179e\"], [0.4444444444444444, \"#bd3786\"], [0.5555555555555556, \"#d8576b\"], [0.6666666666666666, \"#ed7953\"], [0.7777777777777778, \"#fb9f3a\"], [0.8888888888888888, \"#fdca26\"], [1.0, \"#f0f921\"]], \"type\": \"histogram2d\"}], \"histogram2dcontour\": [{\"colorbar\": {\"outlinewidth\": 0, \"ticks\": \"\"}, \"colorscale\": [[0.0, \"#0d0887\"], [0.1111111111111111, \"#46039f\"], [0.2222222222222222, \"#7201a8\"], [0.3333333333333333, \"#9c179e\"], [0.4444444444444444, \"#bd3786\"], [0.5555555555555556, \"#d8576b\"], [0.6666666666666666, \"#ed7953\"], [0.7777777777777778, \"#fb9f3a\"], [0.8888888888888888, \"#fdca26\"], [1.0, \"#f0f921\"]], \"type\": \"histogram2dcontour\"}], \"mesh3d\": [{\"colorbar\": {\"outlinewidth\": 0, \"ticks\": \"\"}, \"type\": \"mesh3d\"}], \"parcoords\": [{\"line\": {\"colorbar\": {\"outlinewidth\": 0, \"ticks\": \"\"}}, \"type\": \"parcoords\"}], \"pie\": [{\"automargin\": true, \"type\": \"pie\"}], \"scatter\": [{\"marker\": {\"colorbar\": {\"outlinewidth\": 0, \"ticks\": \"\"}}, \"type\": \"scatter\"}], \"scatter3d\": [{\"line\": {\"colorbar\": {\"outlinewidth\": 0, \"ticks\": \"\"}}, \"marker\": {\"colorbar\": {\"outlinewidth\": 0, \"ticks\": \"\"}}, \"type\": \"scatter3d\"}], \"scattercarpet\": [{\"marker\": {\"colorbar\": {\"outlinewidth\": 0, \"ticks\": \"\"}}, \"type\": \"scattercarpet\"}], \"scattergeo\": [{\"marker\": {\"colorbar\": {\"outlinewidth\": 0, \"ticks\": \"\"}}, \"type\": \"scattergeo\"}], \"scattergl\": [{\"marker\": {\"colorbar\": {\"outlinewidth\": 0, \"ticks\": \"\"}}, \"type\": \"scattergl\"}], \"scattermapbox\": [{\"marker\": {\"colorbar\": {\"outlinewidth\": 0, \"ticks\": \"\"}}, \"type\": \"scattermapbox\"}], \"scatterpolar\": [{\"marker\": {\"colorbar\": {\"outlinewidth\": 0, \"ticks\": \"\"}}, \"type\": \"scatterpolar\"}], \"scatterpolargl\": [{\"marker\": {\"colorbar\": {\"outlinewidth\": 0, \"ticks\": \"\"}}, \"type\": \"scatterpolargl\"}], \"scatterternary\": [{\"marker\": {\"colorbar\": {\"outlinewidth\": 0, \"ticks\": \"\"}}, \"type\": \"scatterternary\"}], \"surface\": [{\"colorbar\": {\"outlinewidth\": 0, \"ticks\": \"\"}, \"colorscale\": [[0.0, \"#0d0887\"], [0.1111111111111111, \"#46039f\"], [0.2222222222222222, \"#7201a8\"], [0.3333333333333333, \"#9c179e\"], [0.4444444444444444, \"#bd3786\"], [0.5555555555555556, \"#d8576b\"], [0.6666666666666666, \"#ed7953\"], [0.7777777777777778, \"#fb9f3a\"], [0.8888888888888888, \"#fdca26\"], [1.0, \"#f0f921\"]], \"type\": \"surface\"}], \"table\": [{\"cells\": {\"fill\": {\"color\": \"#EBF0F8\"}, \"line\": {\"color\": \"white\"}}, \"header\": {\"fill\": {\"color\": \"#C8D4E3\"}, \"line\": {\"color\": \"white\"}}, \"type\": \"table\"}]}, \"layout\": {\"annotationdefaults\": {\"arrowcolor\": \"#2a3f5f\", \"arrowhead\": 0, \"arrowwidth\": 1}, \"autotypenumbers\": \"strict\", \"coloraxis\": {\"colorbar\": {\"outlinewidth\": 0, \"ticks\": \"\"}}, \"colorscale\": {\"diverging\": [[0, \"#8e0152\"], [0.1, \"#c51b7d\"], [0.2, \"#de77ae\"], [0.3, \"#f1b6da\"], [0.4, \"#fde0ef\"], [0.5, \"#f7f7f7\"], [0.6, \"#e6f5d0\"], [0.7, \"#b8e186\"], [0.8, \"#7fbc41\"], [0.9, \"#4d9221\"], [1, \"#276419\"]], \"sequential\": [[0.0, \"#0d0887\"], [0.1111111111111111, \"#46039f\"], [0.2222222222222222, \"#7201a8\"], [0.3333333333333333, \"#9c179e\"], [0.4444444444444444, \"#bd3786\"], [0.5555555555555556, \"#d8576b\"], [0.6666666666666666, \"#ed7953\"], [0.7777777777777778, \"#fb9f3a\"], [0.8888888888888888, \"#fdca26\"], [1.0, \"#f0f921\"]], \"sequentialminus\": [[0.0, \"#0d0887\"], [0.1111111111111111, \"#46039f\"], [0.2222222222222222, \"#7201a8\"], [0.3333333333333333, \"#9c179e\"], [0.4444444444444444, \"#bd3786\"], [0.5555555555555556, \"#d8576b\"], [0.6666666666666666, \"#ed7953\"], [0.7777777777777778, \"#fb9f3a\"], [0.8888888888888888, \"#fdca26\"], [1.0, \"#f0f921\"]]}, \"colorway\": [\"#636efa\", \"#EF553B\", \"#00cc96\", \"#ab63fa\", \"#FFA15A\", \"#19d3f3\", \"#FF6692\", \"#B6E880\", \"#FF97FF\", \"#FECB52\"], \"font\": {\"color\": \"#2a3f5f\"}, \"geo\": {\"bgcolor\": \"white\", \"lakecolor\": \"white\", \"landcolor\": \"#E5ECF6\", \"showlakes\": true, \"showland\": true, \"subunitcolor\": \"white\"}, \"hoverlabel\": {\"align\": \"left\"}, \"hovermode\": \"closest\", \"mapbox\": {\"style\": \"light\"}, \"paper_bgcolor\": \"white\", \"plot_bgcolor\": \"#E5ECF6\", \"polar\": {\"angularaxis\": {\"gridcolor\": \"white\", \"linecolor\": \"white\", \"ticks\": \"\"}, \"bgcolor\": \"#E5ECF6\", \"radialaxis\": {\"gridcolor\": \"white\", \"linecolor\": \"white\", \"ticks\": \"\"}}, \"scene\": {\"xaxis\": {\"backgroundcolor\": \"#E5ECF6\", \"gridcolor\": \"white\", \"gridwidth\": 2, \"linecolor\": \"white\", \"showbackground\": true, \"ticks\": \"\", \"zerolinecolor\": \"white\"}, \"yaxis\": {\"backgroundcolor\": \"#E5ECF6\", \"gridcolor\": \"white\", \"gridwidth\": 2, \"linecolor\": \"white\", \"showbackground\": true, \"ticks\": \"\", \"zerolinecolor\": \"white\"}, \"zaxis\": {\"backgroundcolor\": \"#E5ECF6\", \"gridcolor\": \"white\", \"gridwidth\": 2, \"linecolor\": \"white\", \"showbackground\": true, \"ticks\": \"\", \"zerolinecolor\": \"white\"}}, \"shapedefaults\": {\"line\": {\"color\": \"#2a3f5f\"}}, \"ternary\": {\"aaxis\": {\"gridcolor\": \"white\", \"linecolor\": \"white\", \"ticks\": \"\"}, \"baxis\": {\"gridcolor\": \"white\", \"linecolor\": \"white\", \"ticks\": \"\"}, \"bgcolor\": \"#E5ECF6\", \"caxis\": {\"gridcolor\": \"white\", \"linecolor\": \"white\", \"ticks\": \"\"}}, \"title\": {\"x\": 0.05}, \"xaxis\": {\"automargin\": true, \"gridcolor\": \"white\", \"linecolor\": \"white\", \"ticks\": \"\", \"title\": {\"standoff\": 15}, \"zerolinecolor\": \"white\", \"zerolinewidth\": 2}, \"yaxis\": {\"automargin\": true, \"gridcolor\": \"white\", \"linecolor\": \"white\", \"ticks\": \"\", \"title\": {\"standoff\": 15}, \"zerolinecolor\": \"white\", \"zerolinewidth\": 2}}}, \"title\": {\"font\": {\"color\": \"#4D5663\"}, \"text\": \"-23 (T=-23~50) (H=0~100) (degree=2) (670nm #1) (shift0_ppmx1) (RMSE y_pred_scale= 11.85)\"}, \"xaxis\": {\"gridcolor\": \"#E1E5ED\", \"showgrid\": true, \"tickfont\": {\"color\": \"#4D5663\"}, \"title\": {\"font\": {\"color\": \"#4D5663\"}, \"text\": \"\"}, \"zerolinecolor\": \"#E1E5ED\"}, \"yaxis\": {\"gridcolor\": \"#E1E5ED\", \"showgrid\": true, \"tickfont\": {\"color\": \"#4D5663\"}, \"title\": {\"font\": {\"color\": \"#4D5663\"}, \"text\": \"ppm\"}, \"zerolinecolor\": \"#E1E5ED\"}},                        {\"showLink\": true, \"linkText\": \"Export to plot.ly\", \"plotlyServerURL\": \"https://plot.ly\", \"responsive\": true}                    ).then(function(){\n",
       "                            \n",
       "var gd = document.getElementById('f5a2e2d1-5601-42d9-a90d-56b2b5f0ad9a');\n",
       "var x = new MutationObserver(function (mutations, observer) {{\n",
       "        var display = window.getComputedStyle(gd).display;\n",
       "        if (!display || display === 'none') {{\n",
       "            console.log([gd, 'removed!']);\n",
       "            Plotly.purge(gd);\n",
       "            observer.disconnect();\n",
       "        }}\n",
       "}});\n",
       "\n",
       "// Listen for the removal of the full notebook cells\n",
       "var notebookContainer = gd.closest('#notebook-container');\n",
       "if (notebookContainer) {{\n",
       "    x.observe(notebookContainer, {childList: true});\n",
       "}}\n",
       "\n",
       "// Listen for the clearing of the current output cell\n",
       "var outputEl = gd.closest('.output');\n",
       "if (outputEl) {{\n",
       "    x.observe(outputEl, {childList: true});\n",
       "}}\n",
       "\n",
       "                        })                };                });            </script>        </div>"
      ]
     },
     "metadata": {},
     "output_type": "display_data"
    }
   ],
   "source": [
    "df_all = pd.concat(train_data_list).reset_index(drop=True)\n",
    "df_test = pd.concat([df_30C]).reset_index(drop=True)\n",
    "\n",
    "y_train = df_all[channel]\n",
    "x_train = df_all[['Temperature', 'Humidity']]\n",
    "y_test = df_test[channel]\n",
    "x_test = df_test[['Temperature', 'Humidity']]\n",
    "\n",
    "os.chdir(path) \n",
    "white_card = model.model(folder_name=folder_name,\n",
    "                         sensor_number=sensor_number,\n",
    "                         channel=channel,\n",
    "                         x_train=x_train, \n",
    "                         y_train=y_train, \n",
    "                         x_test=x_test, \n",
    "                         y_test=y_test, \n",
    "                         model_name=model_name, \n",
    "                         degree=degree_white_card,\n",
    "                         step=humidity_step,                         \n",
    "                         ppm=-23,\n",
    "                         humidity_feature=white_card_humidity_feature)\n",
    "\n",
    "white_intercept, white_coef = white_card.regression()\n",
    "white_card.save_white_card_side_coef(parameter=parameter)\n",
    "white_card.plot()\n",
    "# white_intercept, white_coef = white_card.coef()"
   ]
  },
  {
   "cell_type": "code",
   "execution_count": 196,
   "metadata": {},
   "outputs": [],
   "source": [
    "# target channel compensation by parameter\n",
    "for test_data in test_data_list: \n",
    "    white_card_std.create_white_card_std_column(test_data, white_intercept, white_coef, degree_white_card)\n",
    "    test_data['670nm_real time ratio']  = test_data['670nm #1']/test_data['white card std']\n",
    "    \n",
    "    channal_list = ['410nm #1', '670nm #1', '470nm #1', '510nm #1', '550nm #1', '583nm #1', 'magic']\n",
    "    for comp_channel in channal_list:\n",
    "        test_data['{}_comp'.format(comp_channel)] = (test_data[comp_channel]/test_data['670nm_real time ratio'])*parameter"
   ]
  },
  {
   "cell_type": "markdown",
   "metadata": {},
   "source": [
    "## Sensor model setting"
   ]
  },
  {
   "cell_type": "code",
   "execution_count": 197,
   "metadata": {},
   "outputs": [],
   "source": [
    "sensor_humidity_feature = False\n",
    "interpolation_model = 'log'\n",
    "model_name = Ridge(alpha=10)                    #regression model\n",
    "shift = 0                                      #raw data signal shifting\n",
    "multiple = 1                                    #raw data ppm multiple\n",
    "train_channel = 'magic'                   #training channel\n",
    "test_channel = 'magic_comp'                    #testing channel\n",
    "degree = 1                                      #polynimial degree\n",
    "output_modify = 1                               #output multiple"
   ]
  },
  {
   "cell_type": "code",
   "execution_count": 198,
   "metadata": {
    "scrolled": false
   },
   "outputs": [
    {
     "data": {
      "application/vnd.plotly.v1+json": {
       "config": {
        "linkText": "Export to plot.ly",
        "plotlyServerURL": "https://plot.ly",
        "showLink": true
       },
       "data": [
        {
         "line": {
          "color": "rgba(255, 153, 51, 1.0)",
          "dash": "solid",
          "shape": "linear",
          "width": 1.3
         },
         "mode": "lines",
         "name": "y_true",
         "text": "",
         "type": "scatter",
         "x": [
          0,
          1,
          2,
          3,
          4,
          5,
          6,
          7,
          8,
          9,
          10,
          11,
          12,
          13,
          14,
          15,
          16,
          17,
          18,
          19,
          20,
          21,
          22,
          23,
          24,
          25,
          26,
          27,
          28,
          29,
          30,
          31,
          32,
          33,
          34,
          35,
          36,
          37,
          38,
          39,
          40,
          41,
          42,
          43,
          44,
          45,
          46,
          47,
          48,
          49,
          50,
          51,
          52,
          53,
          54,
          55,
          56,
          57,
          58,
          59,
          60,
          61,
          62,
          63,
          64,
          65,
          66,
          67,
          68,
          69,
          70,
          71,
          72,
          73,
          74,
          75,
          76,
          77,
          78,
          79,
          80,
          81,
          82,
          83,
          84,
          85,
          86,
          87,
          88,
          89,
          90,
          91,
          92,
          93,
          94,
          95,
          96,
          97,
          98,
          99,
          100,
          101,
          102,
          103,
          104,
          105,
          106,
          107,
          108,
          109,
          110,
          111,
          112,
          113,
          114,
          115,
          116,
          117,
          118,
          119,
          120,
          121,
          122,
          123,
          124,
          125,
          126,
          127,
          128,
          129,
          130,
          131,
          132,
          133,
          134,
          135,
          136,
          137,
          138,
          139,
          140,
          141,
          142,
          143,
          144,
          145,
          146,
          147,
          148,
          149,
          150,
          151,
          152,
          153,
          154,
          155,
          156,
          157,
          158,
          159,
          160,
          161,
          162,
          163,
          164,
          165,
          166,
          167,
          168,
          169,
          170,
          171,
          172,
          173,
          174,
          175,
          176,
          177,
          178,
          179,
          180,
          181,
          182,
          183,
          184,
          185,
          186,
          187,
          188,
          189,
          190,
          191,
          192,
          193,
          194,
          195,
          196,
          197,
          198,
          199,
          200,
          201,
          202,
          203,
          204,
          205,
          206,
          207,
          208,
          209,
          210,
          211,
          212,
          213,
          214,
          215,
          216,
          217,
          218,
          219,
          220,
          221,
          222,
          223,
          224,
          225,
          226,
          227,
          228,
          229,
          230,
          231,
          232,
          233,
          234,
          235,
          236,
          237,
          238,
          239,
          240,
          241,
          242,
          243,
          244,
          245,
          246,
          247,
          248,
          249,
          250,
          251,
          252,
          253,
          254,
          255,
          256,
          257,
          258,
          259,
          260,
          261,
          262,
          263,
          264,
          265,
          266,
          267,
          268,
          269,
          270,
          271,
          272,
          273,
          274,
          275,
          276,
          277,
          278,
          279,
          280,
          281,
          282,
          283,
          284,
          285,
          286,
          287,
          288,
          289,
          290,
          291,
          292,
          293,
          294,
          295,
          296,
          297,
          298,
          299,
          300,
          301,
          302,
          303,
          304,
          305,
          306,
          307,
          308,
          309,
          310,
          311,
          312,
          313,
          314,
          315,
          316,
          317,
          318,
          319,
          320,
          321,
          322,
          323,
          324,
          325,
          326,
          327,
          328,
          329,
          330,
          331,
          332,
          333,
          334,
          335,
          336,
          337,
          338,
          339,
          340,
          341,
          342,
          343,
          344,
          345,
          346,
          347,
          348,
          349,
          350,
          351,
          352,
          353,
          354,
          355,
          356,
          357,
          358,
          359,
          360,
          361,
          362,
          363,
          364,
          365,
          366,
          367,
          368,
          369,
          370,
          371,
          372,
          373,
          374,
          375,
          376,
          377,
          378,
          379,
          380,
          381,
          382,
          383,
          384,
          385,
          386,
          387,
          388,
          389,
          390,
          391,
          392,
          393,
          394,
          395,
          396,
          397,
          398,
          399
         ],
         "y": [
          17274.27646095849,
          17260.566187064527,
          17253.67404784151,
          17264.96506028766,
          17253.057950167855,
          17236.922415566733,
          17244.73705398549,
          17260.642606543097,
          17248.940070485794,
          17248.301158154194,
          16060.297867374806,
          16075.494848100381,
          16070.168137625453,
          16066.55783111622,
          16077.398220417015,
          16072.846969313641,
          16059.192820585438,
          16066.621593876265,
          16058.256093667758,
          16053.85881315943,
          16160.428142933111,
          16159.125873531217,
          16171.968777652377,
          16172.052590075331,
          16160.906084756656,
          16152.276119548593,
          16167.241265524992,
          16152.72972746846,
          16160.515044406628,
          16159.793433291583,
          16305.209539987309,
          16328.267586911188,
          16330.676959038434,
          16317.745723103211,
          16304.81717441935,
          16309.404791228426,
          16315.699059748149,
          16307.090564008135,
          16312.244314737733,
          16334.345350939937,
          16482.140160120307,
          16478.832804253772,
          16481.533016374302,
          16486.17065509973,
          16483.527997069865,
          16480.05495584248,
          16486.62542775361,
          16487.94012799789,
          16471.334134393033,
          16492.324347338985,
          17075.498841705736,
          17038.88235568126,
          17055.178281249726,
          17062.651970484414,
          17053.238055861115,
          17037.11809133226,
          17050.53667712339,
          17054.94209029939,
          17044.223657734557,
          17055.94396670721,
          16060.77422058619,
          16072.630705195565,
          16072.830954269908,
          16050.600227697225,
          16057.33853480478,
          16055.538383151674,
          16048.753197879614,
          16062.875605528334,
          16062.955972446065,
          16030.484444034191,
          16186.60670734119,
          16177.768507244324,
          16168.895701334379,
          16170.107332051539,
          16181.984391864331,
          16175.852379002736,
          16162.362680250864,
          16167.906011484905,
          16160.974089809692,
          16167.867753900493,
          16335.342124700093,
          16323.357123516605,
          16335.757792508952,
          16316.427107856605,
          16326.443448693215,
          16324.067266105249,
          16338.986237228191,
          16338.964606988862,
          16319.596769149784,
          16332.52564768101,
          16520.537203521686,
          16507.668223808334,
          16511.32451887368,
          16521.445658796663,
          16518.24482884501,
          16503.35971642943,
          16501.01685211485,
          16501.87936038809,
          16498.078395340228,
          16505.648813086835,
          17370.767552314686,
          17373.019649945956,
          17362.707892196344,
          17358.65122204168,
          17353.299308379796,
          17362.332812567733,
          17351.935347871044,
          17365.917440195935,
          17372.636550856645,
          17342.655052703893,
          16107.46511890621,
          16088.717360763661,
          16084.473779481918,
          16081.529217004803,
          16081.329553489339,
          16061.216923767135,
          16067.398453333466,
          16072.384598769826,
          16076.22184542559,
          16056.954732194456,
          16188.403102317703,
          16170.893262023783,
          16166.57354961331,
          16183.758396657306,
          16189.541896297807,
          16173.411316606038,
          16181.827090495433,
          16187.670312656837,
          16174.882973871856,
          16163.700567886626,
          16342.921267889356,
          16343.430045275582,
          16337.451179019536,
          16350.126342753843,
          16325.474694115692,
          16338.700174464324,
          16341.70149680901,
          16355.198058716473,
          16334.836716186217,
          16335.580311433736,
          16512.131480026124,
          16517.4386904901,
          16521.082074652437,
          16515.510276101493,
          16509.9275894201,
          16520.68985206373,
          16535.18776783573,
          16526.638644434548,
          16510.331520241645,
          16513.627521016366,
          17425.276210560867,
          17419.968006031795,
          17422.704874385872,
          17409.390354778483,
          17428.1096957946,
          17412.45556817506,
          17425.83158960296,
          17417.38996617093,
          17418.443896191166,
          17427.18323508303,
          16151.058714051691,
          16134.568797098089,
          16130.347849646525,
          16129.849555989615,
          16134.662201685655,
          16120.927862512086,
          16119.63938875344,
          16126.371704487385,
          16113.71764766412,
          16111.053972309026,
          16222.83141099282,
          16224.955150921302,
          16219.839213491046,
          16211.923790954723,
          16224.4915754664,
          16224.461818266134,
          16208.397881198272,
          16214.975925964003,
          16211.256526449522,
          16216.638747296896,
          16395.846670739636,
          16374.677500572765,
          16362.669330738741,
          16377.601209592414,
          16377.727190037,
          16377.601494031967,
          16388.124634613567,
          16369.612225009187,
          16377.726774725832,
          16362.699345590056,
          16549.26818463408,
          16556.13429128158,
          16547.230097419222,
          16545.104869965395,
          16551.187981456933,
          16543.843026563216,
          16546.873171551142,
          16547.2604718816,
          16553.34435906379,
          16544.3276986927,
          16940.86034768302,
          16967.84950623699,
          16953.81617053179,
          16955.891254068767,
          16942.832424804146,
          16956.116146665976,
          16953.825126591386,
          16966.062568917034,
          16953.700704316474,
          16942.446128263535,
          16057.247144105635,
          16056.598078176403,
          16047.943511945612,
          16036.247497427983,
          16045.68570648184,
          16058.291456660982,
          16027.148094960543,
          16034.82983257073,
          16029.285101065401,
          16036.525011274209,
          16172.568340398882,
          16181.10076216472,
          16182.985811816003,
          16168.666645129284,
          16173.83833918892,
          16165.258609689714,
          16168.51833045229,
          16173.680949910477,
          16161.037313904584,
          16176.103634207793,
          16338.365508183748,
          16362.002897107122,
          16343.440480386076,
          16340.57548639652,
          16346.042668769827,
          16341.415998760443,
          16338.784977982672,
          16349.027712473808,
          16356.469049813362,
          16345.17725669637,
          16530.49931777474,
          16548.764041373794,
          16532.058975586442,
          16540.041326543284,
          16550.049158344515,
          16545.716573930164,
          16542.518690728975,
          16557.610452608373,
          16531.586121347882,
          16533.105430947897,
          17287.024768965268,
          17277.593639643164,
          17275.302047493828,
          17266.19200680871,
          17276.72834513198,
          17279.551738610477,
          17272.17059687043,
          17278.528553405682,
          17275.705872311,
          17293.126740072035,
          16045.805548380085,
          16041.418809873863,
          16037.034481282612,
          16041.75794748756,
          16036.463549239306,
          16017.1519158513,
          16047.274152045276,
          16031.853140621863,
          16034.879823390087,
          16038.1973467036,
          16141.518777348587,
          16164.960246582876,
          16141.232778310832,
          16131.598170543939,
          16133.483922366606,
          16138.555869468988,
          16161.930357060208,
          16125.183702825681,
          16138.41577284526,
          16142.46548917627,
          16321.913217264551,
          16306.398999145706,
          16321.436943790668,
          16295.112194446614,
          16302.141681867623,
          16307.054909122282,
          16290.655446213963,
          16286.488576005808,
          16284.861358401435,
          16294.61788666113,
          16494.812074496807,
          16471.63734022876,
          16489.49318540049,
          16476.17810862028,
          16461.463865210753,
          16467.724177175667,
          16462.760895567553,
          16484.805063660653,
          16478.35900207872,
          16476.287305771024,
          17036.30632164706,
          17030.78846951282,
          17029.26685329133,
          17044.206883445284,
          17051.34814216952,
          17040.060579298934,
          17048.802401342637,
          17044.400274169147,
          17050.199948733163,
          17063.10735283167,
          15955.24838270682,
          15964.286642594148,
          15973.162385898988,
          15958.058633176232,
          15942.907687397466,
          15938.765270922826,
          15954.501233370796,
          15939.628299444064,
          15938.522346264914,
          15937.533169782953,
          16042.454943104041,
          16017.415876763696,
          16025.092728327803,
          16028.453419325258,
          16024.22571593083,
          16047.644232293525,
          16034.931064431059,
          16016.514466285247,
          16020.16802767209,
          16033.545411393621,
          16140.328501727989,
          16153.57299020857,
          16140.8132366579,
          16146.841598433306,
          16169.48748010347,
          16144.796023457468,
          16141.465916728823,
          16149.124195664308,
          16166.920773029953,
          16133.459697980588,
          16305.864563495095,
          16308.55453985055,
          16291.76067836798,
          16303.245493425089,
          16307.015707784865,
          16296.042426828144,
          16292.457267697087,
          16300.860405087247,
          16300.29999390723,
          16290.71065845503,
          17289.85381509755,
          17296.225651658377,
          17306.854722974316,
          17308.31560212435,
          17310.123820678717,
          17298.969144631646,
          17310.47204062884,
          17295.47788465822,
          17308.823262883303,
          17293.48139522525,
          16063.504311334149,
          16042.86156758437,
          16064.659094157772,
          16037.962896322806,
          16051.499778691988,
          16036.596714269694,
          16041.182217898946,
          16032.546202895235,
          16033.321002366329,
          16018.601357991589,
          16125.207523041254,
          16147.869300180048,
          16125.691169097601,
          16146.598628926764,
          16150.611940265091,
          16141.75713521848,
          16118.872377778247,
          16130.129030956641,
          16124.004929445777,
          16108.89560367462,
          16283.59148940632,
          16273.92069264608,
          16279.985367603866,
          16294.848152027671,
          16270.813396960177,
          16296.08041870231,
          16280.165281120377,
          16281.365188527327,
          16302.327688716974,
          16273.92069264608,
          16454.001749361003,
          16456.883724969717,
          16461.53966902727,
          16465.158335585253,
          16473.972433910385,
          16454.95164438093,
          16455.25694459746,
          16453.0589476509,
          16450.41997120996,
          16453.240723570558
         ]
        },
        {
         "line": {
          "color": "rgba(55, 128, 191, 1.0)",
          "dash": "solid",
          "shape": "linear",
          "width": 1.3
         },
         "mode": "lines",
         "name": "y_pred",
         "text": "",
         "type": "scatter",
         "x": [
          0,
          1,
          2,
          3,
          4,
          5,
          6,
          7,
          8,
          9,
          10,
          11,
          12,
          13,
          14,
          15,
          16,
          17,
          18,
          19,
          20,
          21,
          22,
          23,
          24,
          25,
          26,
          27,
          28,
          29,
          30,
          31,
          32,
          33,
          34,
          35,
          36,
          37,
          38,
          39,
          40,
          41,
          42,
          43,
          44,
          45,
          46,
          47,
          48,
          49,
          50,
          51,
          52,
          53,
          54,
          55,
          56,
          57,
          58,
          59,
          60,
          61,
          62,
          63,
          64,
          65,
          66,
          67,
          68,
          69,
          70,
          71,
          72,
          73,
          74,
          75,
          76,
          77,
          78,
          79,
          80,
          81,
          82,
          83,
          84,
          85,
          86,
          87,
          88,
          89,
          90,
          91,
          92,
          93,
          94,
          95,
          96,
          97,
          98,
          99,
          100,
          101,
          102,
          103,
          104,
          105,
          106,
          107,
          108,
          109,
          110,
          111,
          112,
          113,
          114,
          115,
          116,
          117,
          118,
          119,
          120,
          121,
          122,
          123,
          124,
          125,
          126,
          127,
          128,
          129,
          130,
          131,
          132,
          133,
          134,
          135,
          136,
          137,
          138,
          139,
          140,
          141,
          142,
          143,
          144,
          145,
          146,
          147,
          148,
          149,
          150,
          151,
          152,
          153,
          154,
          155,
          156,
          157,
          158,
          159,
          160,
          161,
          162,
          163,
          164,
          165,
          166,
          167,
          168,
          169,
          170,
          171,
          172,
          173,
          174,
          175,
          176,
          177,
          178,
          179,
          180,
          181,
          182,
          183,
          184,
          185,
          186,
          187,
          188,
          189,
          190,
          191,
          192,
          193,
          194,
          195,
          196,
          197,
          198,
          199,
          200,
          201,
          202,
          203,
          204,
          205,
          206,
          207,
          208,
          209,
          210,
          211,
          212,
          213,
          214,
          215,
          216,
          217,
          218,
          219,
          220,
          221,
          222,
          223,
          224,
          225,
          226,
          227,
          228,
          229,
          230,
          231,
          232,
          233,
          234,
          235,
          236,
          237,
          238,
          239,
          240,
          241,
          242,
          243,
          244,
          245,
          246,
          247,
          248,
          249,
          250,
          251,
          252,
          253,
          254,
          255,
          256,
          257,
          258,
          259,
          260,
          261,
          262,
          263,
          264,
          265,
          266,
          267,
          268,
          269,
          270,
          271,
          272,
          273,
          274,
          275,
          276,
          277,
          278,
          279,
          280,
          281,
          282,
          283,
          284,
          285,
          286,
          287,
          288,
          289,
          290,
          291,
          292,
          293,
          294,
          295,
          296,
          297,
          298,
          299,
          300,
          301,
          302,
          303,
          304,
          305,
          306,
          307,
          308,
          309,
          310,
          311,
          312,
          313,
          314,
          315,
          316,
          317,
          318,
          319,
          320,
          321,
          322,
          323,
          324,
          325,
          326,
          327,
          328,
          329,
          330,
          331,
          332,
          333,
          334,
          335,
          336,
          337,
          338,
          339,
          340,
          341,
          342,
          343,
          344,
          345,
          346,
          347,
          348,
          349,
          350,
          351,
          352,
          353,
          354,
          355,
          356,
          357,
          358,
          359,
          360,
          361,
          362,
          363,
          364,
          365,
          366,
          367,
          368,
          369,
          370,
          371,
          372,
          373,
          374,
          375,
          376,
          377,
          378,
          379,
          380,
          381,
          382,
          383,
          384,
          385,
          386,
          387,
          388,
          389,
          390,
          391,
          392,
          393,
          394,
          395,
          396,
          397,
          398,
          399
         ],
         "y": [
          16512.723617616433,
          16512.685108723297,
          16512.80063540271,
          16512.76212650957,
          16512.87765318898,
          16512.685108723297,
          16512.87765318898,
          16512.76212650957,
          16512.723617616433,
          16512.76212650957,
          16512.685108723297,
          16512.80063540271,
          16512.76212650957,
          16513.03168876153,
          16512.685108723297,
          16512.80063540271,
          16512.76212650957,
          16512.723617616433,
          16512.839144295845,
          16512.723617616433,
          16513.03168876153,
          16512.993179868394,
          16512.723617616433,
          16513.07019765467,
          16512.954670975258,
          16512.916162082118,
          16513.18572433408,
          16512.916162082118,
          16513.03168876153,
          16512.916162082118,
          16512.839144295845,
          16512.723617616433,
          16512.993179868394,
          16512.80063540271,
          16512.839144295845,
          16513.108706547806,
          16512.993179868394,
          16512.954670975258,
          16512.916162082118,
          16513.108706547806,
          16513.108706547806,
          16512.993179868394,
          16513.03168876153,
          16512.993179868394,
          16513.03168876153,
          16512.993179868394,
          16512.87765318898,
          16512.993179868394,
          16513.03168876153,
          16512.916162082118,
          16511.491333039103,
          16511.452824145967,
          16511.41431525283,
          16511.606859718515,
          16511.491333039103,
          16511.37580635969,
          16511.491333039103,
          16511.606859718515,
          16511.491333039103,
          16511.606859718515,
          16511.52984193224,
          16511.56835082538,
          16511.606859718515,
          16511.491333039103,
          16511.37580635969,
          16511.64536861165,
          16511.683877504787,
          16511.64536861165,
          16511.52984193224,
          16511.491333039103,
          16511.29878857342,
          16511.491333039103,
          16511.29878857342,
          16511.337297466554,
          16511.29878857342,
          16511.26027968028,
          16511.067735214594,
          16511.41431525283,
          16511.14475300087,
          16511.26027968028,
          16511.183261894006,
          16511.221770787142,
          16511.491333039103,
          16511.29878857342,
          16511.337297466554,
          16511.37580635969,
          16511.26027968028,
          16511.452824145967,
          16511.26027968028,
          16511.452824145967,
          16511.10624410773,
          16511.067735214594,
          16511.029226321458,
          16510.99071742985,
          16511.029226321458,
          16511.067735214594,
          16511.029226321458,
          16511.14475300087,
          16511.10624410773,
          16511.14475300087,
          16513.30125101349,
          16513.570813263923,
          16513.45528658604,
          16513.493795477647,
          16513.532304370787,
          16513.33975990663,
          16513.45528658604,
          16513.570813263923,
          16513.532304370787,
          16513.72484883647,
          16513.532304370787,
          16513.416777692903,
          16513.378268799766,
          16513.262742120354,
          16513.45528658604,
          16513.33975990663,
          16513.30125101349,
          16513.416777692903,
          16513.378268799766,
          16513.493795477647,
          16513.262742120354,
          16513.30125101349,
          16513.416777692903,
          16513.30125101349,
          16513.18572433408,
          16513.224233227218,
          16513.416777692903,
          16513.378268799766,
          16513.33975990663,
          16513.378268799766,
          16513.224233227218,
          16513.33975990663,
          16513.224233227218,
          16513.33975990663,
          16513.147215440942,
          16513.262742120354,
          16513.224233227218,
          16513.416777692903,
          16513.224233227218,
          16513.108706547806,
          16513.108706547806,
          16513.224233227218,
          16513.108706547806,
          16513.147215440942,
          16513.262742120354,
          16513.30125101349,
          16513.33975990663,
          16513.147215440942,
          16513.18572433408,
          16513.224233227218,
          16513.224233227218,
          16513.493795477647,
          16513.532304370787,
          16513.493795477647,
          16513.378268799766,
          16513.493795477647,
          16513.532304370787,
          16513.647831050195,
          16513.686339943335,
          16513.493795477647,
          16513.570813263923,
          16513.532304370787,
          16513.570813263923,
          16513.30125101349,
          16513.416777692903,
          16513.224233227218,
          16513.33975990663,
          16513.45528658604,
          16513.33975990663,
          16513.378268799766,
          16513.224233227218,
          16513.33975990663,
          16513.30125101349,
          16513.33975990663,
          16513.30125101349,
          16513.262742120354,
          16513.224233227218,
          16513.33975990663,
          16513.224233227218,
          16513.108706547806,
          16513.147215440942,
          16512.954670975258,
          16513.224233227218,
          16513.33975990663,
          16513.147215440942,
          16513.262742120354,
          16513.224233227218,
          16513.262742120354,
          16513.224233227218,
          16513.262742120354,
          16513.03168876153,
          16513.07019765467,
          16513.03168876153,
          16513.224233227218,
          16513.18572433408,
          16512.916162082118,
          16513.18572433408,
          16513.07019765467,
          16513.03168876153,
          16513.147215440942,
          16513.416777692903,
          16513.147215440942,
          16513.416777692903,
          16513.30125101349,
          16513.33975990663,
          16513.378268799766,
          16513.262742120354,
          16513.45528658604,
          16513.108706547806,
          16513.224233227218,
          16513.33975990663,
          16513.147215440942,
          16513.33975990663,
          16513.30125101349,
          16513.262742120354,
          16513.378268799766,
          16513.33975990663,
          16512.993179868394,
          16513.262742120354,
          16513.224233227218,
          16513.33975990663,
          16513.147215440942,
          16513.108706547806,
          16513.30125101349,
          16513.18572433408,
          16513.07019765467,
          16513.108706547806,
          16513.224233227218,
          16513.33975990663,
          16513.147215440942,
          16513.07019765467,
          16513.108706547806,
          16513.07019765467,
          16513.03168876153,
          16512.993179868394,
          16513.03168876153,
          16513.07019765467,
          16513.18572433408,
          16513.07019765467,
          16513.18572433408,
          16513.03168876153,
          16512.916162082118,
          16513.03168876153,
          16513.147215440942,
          16512.954670975258,
          16512.916162082118,
          16513.108706547806,
          16512.916162082118,
          16513.03168876153,
          16513.07019765467,
          16514.186955554116,
          16513.917393302156,
          16514.032919981568,
          16514.14844666098,
          16514.109937767844,
          16514.225464447256,
          16513.955902195295,
          16514.225464447256,
          16514.109937767844,
          16514.14844666098,
          16514.071428874704,
          16514.109937767844,
          16514.14844666098,
          16514.109937767844,
          16514.071428874704,
          16514.109937767844,
          16513.99441108843,
          16514.032919981568,
          16513.99441108843,
          16514.109937767844,
          16514.186955554116,
          16514.302482232,
          16514.186955554116,
          16514.302482232,
          16514.340991125136,
          16514.071428874704,
          16514.340991125136,
          16514.14844666098,
          16514.263973340392,
          16514.225464447256,
          16514.41800891141,
          16514.14844666098,
          16514.340991125136,
          16514.071428874704,
          16514.186955554116,
          16514.225464447256,
          16514.109937767844,
          16513.99441108843,
          16514.263973340392,
          16514.225464447256,
          16514.109937767844,
          16514.071428874704,
          16513.955902195295,
          16514.071428874704,
          16514.109937767844,
          16513.99441108843,
          16514.032919981568,
          16514.071428874704,
          16513.955902195295,
          16513.917393302156,
          16513.801866622744,
          16513.686339943335,
          16513.955902195295,
          16513.686339943335,
          16513.801866622744,
          16513.763357729607,
          16513.801866622744,
          16513.686339943335,
          16513.647831050195,
          16513.763357729607,
          16513.763357729607,
          16513.801866622744,
          16513.840375515883,
          16513.647831050195,
          16513.60932215706,
          16513.72484883647,
          16513.60932215706,
          16513.72484883647,
          16513.60932215706,
          16513.647831050195,
          16513.686339943335,
          16513.801866622744,
          16513.840375515883,
          16513.801866622744,
          16513.840375515883,
          16514.032919981568,
          16513.840375515883,
          16513.955902195295,
          16513.840375515883,
          16514.032919981568,
          16513.72484883647,
          16513.840375515883,
          16513.87888440902,
          16513.763357729607,
          16513.801866622744,
          16513.99441108843,
          16513.87888440902,
          16513.840375515883,
          16513.955902195295,
          16514.071428874704,
          16513.72484883647,
          16513.763357729607,
          16513.955902195295,
          16513.763357729607,
          16513.87888440902,
          16513.686339943335,
          16513.801866622744,
          16513.840375515883,
          16513.647831050195,
          16513.917393302156,
          16511.722386397927,
          16511.52984193224,
          16511.491333039103,
          16511.606859718515,
          16511.722386397927,
          16511.52984193224,
          16511.722386397927,
          16511.452824145967,
          16511.7994041842,
          16511.52984193224,
          16512.184493114044,
          16511.991948648356,
          16511.876421968944,
          16512.068966434632,
          16512.107475327768,
          16512.068966434632,
          16512.030457541496,
          16511.914930862084,
          16512.030457541496,
          16511.991948648356,
          16511.991948648356,
          16512.261510900316,
          16512.145984220904,
          16512.184493114044,
          16512.068966434632,
          16512.184493114044,
          16512.22300200718,
          16512.107475327768,
          16512.145984220904,
          16512.107475327768,
          16512.145984220904,
          16512.107475327768,
          16511.991948648356,
          16512.107475327768,
          16512.068966434632,
          16512.107475327768,
          16512.22300200718,
          16512.184493114044,
          16512.22300200718,
          16512.107475327768,
          16512.107475327768,
          16512.145984220904,
          16512.261510900316,
          16512.068966434632,
          16512.107475327768,
          16512.300019793453,
          16512.107475327768,
          16512.068966434632,
          16512.338528686592,
          16512.300019793453
         ]
        }
       ],
       "layout": {
        "legend": {
         "bgcolor": "#F5F6F9",
         "font": {
          "color": "#4D5663"
         }
        },
        "paper_bgcolor": "#F5F6F9",
        "plot_bgcolor": "#F5F6F9",
        "template": {
         "data": {
          "bar": [
           {
            "error_x": {
             "color": "#2a3f5f"
            },
            "error_y": {
             "color": "#2a3f5f"
            },
            "marker": {
             "line": {
              "color": "#E5ECF6",
              "width": 0.5
             }
            },
            "type": "bar"
           }
          ],
          "barpolar": [
           {
            "marker": {
             "line": {
              "color": "#E5ECF6",
              "width": 0.5
             }
            },
            "type": "barpolar"
           }
          ],
          "carpet": [
           {
            "aaxis": {
             "endlinecolor": "#2a3f5f",
             "gridcolor": "white",
             "linecolor": "white",
             "minorgridcolor": "white",
             "startlinecolor": "#2a3f5f"
            },
            "baxis": {
             "endlinecolor": "#2a3f5f",
             "gridcolor": "white",
             "linecolor": "white",
             "minorgridcolor": "white",
             "startlinecolor": "#2a3f5f"
            },
            "type": "carpet"
           }
          ],
          "choropleth": [
           {
            "colorbar": {
             "outlinewidth": 0,
             "ticks": ""
            },
            "type": "choropleth"
           }
          ],
          "contour": [
           {
            "colorbar": {
             "outlinewidth": 0,
             "ticks": ""
            },
            "colorscale": [
             [
              0,
              "#0d0887"
             ],
             [
              0.1111111111111111,
              "#46039f"
             ],
             [
              0.2222222222222222,
              "#7201a8"
             ],
             [
              0.3333333333333333,
              "#9c179e"
             ],
             [
              0.4444444444444444,
              "#bd3786"
             ],
             [
              0.5555555555555556,
              "#d8576b"
             ],
             [
              0.6666666666666666,
              "#ed7953"
             ],
             [
              0.7777777777777778,
              "#fb9f3a"
             ],
             [
              0.8888888888888888,
              "#fdca26"
             ],
             [
              1,
              "#f0f921"
             ]
            ],
            "type": "contour"
           }
          ],
          "contourcarpet": [
           {
            "colorbar": {
             "outlinewidth": 0,
             "ticks": ""
            },
            "type": "contourcarpet"
           }
          ],
          "heatmap": [
           {
            "colorbar": {
             "outlinewidth": 0,
             "ticks": ""
            },
            "colorscale": [
             [
              0,
              "#0d0887"
             ],
             [
              0.1111111111111111,
              "#46039f"
             ],
             [
              0.2222222222222222,
              "#7201a8"
             ],
             [
              0.3333333333333333,
              "#9c179e"
             ],
             [
              0.4444444444444444,
              "#bd3786"
             ],
             [
              0.5555555555555556,
              "#d8576b"
             ],
             [
              0.6666666666666666,
              "#ed7953"
             ],
             [
              0.7777777777777778,
              "#fb9f3a"
             ],
             [
              0.8888888888888888,
              "#fdca26"
             ],
             [
              1,
              "#f0f921"
             ]
            ],
            "type": "heatmap"
           }
          ],
          "heatmapgl": [
           {
            "colorbar": {
             "outlinewidth": 0,
             "ticks": ""
            },
            "colorscale": [
             [
              0,
              "#0d0887"
             ],
             [
              0.1111111111111111,
              "#46039f"
             ],
             [
              0.2222222222222222,
              "#7201a8"
             ],
             [
              0.3333333333333333,
              "#9c179e"
             ],
             [
              0.4444444444444444,
              "#bd3786"
             ],
             [
              0.5555555555555556,
              "#d8576b"
             ],
             [
              0.6666666666666666,
              "#ed7953"
             ],
             [
              0.7777777777777778,
              "#fb9f3a"
             ],
             [
              0.8888888888888888,
              "#fdca26"
             ],
             [
              1,
              "#f0f921"
             ]
            ],
            "type": "heatmapgl"
           }
          ],
          "histogram": [
           {
            "marker": {
             "colorbar": {
              "outlinewidth": 0,
              "ticks": ""
             }
            },
            "type": "histogram"
           }
          ],
          "histogram2d": [
           {
            "colorbar": {
             "outlinewidth": 0,
             "ticks": ""
            },
            "colorscale": [
             [
              0,
              "#0d0887"
             ],
             [
              0.1111111111111111,
              "#46039f"
             ],
             [
              0.2222222222222222,
              "#7201a8"
             ],
             [
              0.3333333333333333,
              "#9c179e"
             ],
             [
              0.4444444444444444,
              "#bd3786"
             ],
             [
              0.5555555555555556,
              "#d8576b"
             ],
             [
              0.6666666666666666,
              "#ed7953"
             ],
             [
              0.7777777777777778,
              "#fb9f3a"
             ],
             [
              0.8888888888888888,
              "#fdca26"
             ],
             [
              1,
              "#f0f921"
             ]
            ],
            "type": "histogram2d"
           }
          ],
          "histogram2dcontour": [
           {
            "colorbar": {
             "outlinewidth": 0,
             "ticks": ""
            },
            "colorscale": [
             [
              0,
              "#0d0887"
             ],
             [
              0.1111111111111111,
              "#46039f"
             ],
             [
              0.2222222222222222,
              "#7201a8"
             ],
             [
              0.3333333333333333,
              "#9c179e"
             ],
             [
              0.4444444444444444,
              "#bd3786"
             ],
             [
              0.5555555555555556,
              "#d8576b"
             ],
             [
              0.6666666666666666,
              "#ed7953"
             ],
             [
              0.7777777777777778,
              "#fb9f3a"
             ],
             [
              0.8888888888888888,
              "#fdca26"
             ],
             [
              1,
              "#f0f921"
             ]
            ],
            "type": "histogram2dcontour"
           }
          ],
          "mesh3d": [
           {
            "colorbar": {
             "outlinewidth": 0,
             "ticks": ""
            },
            "type": "mesh3d"
           }
          ],
          "parcoords": [
           {
            "line": {
             "colorbar": {
              "outlinewidth": 0,
              "ticks": ""
             }
            },
            "type": "parcoords"
           }
          ],
          "pie": [
           {
            "automargin": true,
            "type": "pie"
           }
          ],
          "scatter": [
           {
            "marker": {
             "colorbar": {
              "outlinewidth": 0,
              "ticks": ""
             }
            },
            "type": "scatter"
           }
          ],
          "scatter3d": [
           {
            "line": {
             "colorbar": {
              "outlinewidth": 0,
              "ticks": ""
             }
            },
            "marker": {
             "colorbar": {
              "outlinewidth": 0,
              "ticks": ""
             }
            },
            "type": "scatter3d"
           }
          ],
          "scattercarpet": [
           {
            "marker": {
             "colorbar": {
              "outlinewidth": 0,
              "ticks": ""
             }
            },
            "type": "scattercarpet"
           }
          ],
          "scattergeo": [
           {
            "marker": {
             "colorbar": {
              "outlinewidth": 0,
              "ticks": ""
             }
            },
            "type": "scattergeo"
           }
          ],
          "scattergl": [
           {
            "marker": {
             "colorbar": {
              "outlinewidth": 0,
              "ticks": ""
             }
            },
            "type": "scattergl"
           }
          ],
          "scattermapbox": [
           {
            "marker": {
             "colorbar": {
              "outlinewidth": 0,
              "ticks": ""
             }
            },
            "type": "scattermapbox"
           }
          ],
          "scatterpolar": [
           {
            "marker": {
             "colorbar": {
              "outlinewidth": 0,
              "ticks": ""
             }
            },
            "type": "scatterpolar"
           }
          ],
          "scatterpolargl": [
           {
            "marker": {
             "colorbar": {
              "outlinewidth": 0,
              "ticks": ""
             }
            },
            "type": "scatterpolargl"
           }
          ],
          "scatterternary": [
           {
            "marker": {
             "colorbar": {
              "outlinewidth": 0,
              "ticks": ""
             }
            },
            "type": "scatterternary"
           }
          ],
          "surface": [
           {
            "colorbar": {
             "outlinewidth": 0,
             "ticks": ""
            },
            "colorscale": [
             [
              0,
              "#0d0887"
             ],
             [
              0.1111111111111111,
              "#46039f"
             ],
             [
              0.2222222222222222,
              "#7201a8"
             ],
             [
              0.3333333333333333,
              "#9c179e"
             ],
             [
              0.4444444444444444,
              "#bd3786"
             ],
             [
              0.5555555555555556,
              "#d8576b"
             ],
             [
              0.6666666666666666,
              "#ed7953"
             ],
             [
              0.7777777777777778,
              "#fb9f3a"
             ],
             [
              0.8888888888888888,
              "#fdca26"
             ],
             [
              1,
              "#f0f921"
             ]
            ],
            "type": "surface"
           }
          ],
          "table": [
           {
            "cells": {
             "fill": {
              "color": "#EBF0F8"
             },
             "line": {
              "color": "white"
             }
            },
            "header": {
             "fill": {
              "color": "#C8D4E3"
             },
             "line": {
              "color": "white"
             }
            },
            "type": "table"
           }
          ]
         },
         "layout": {
          "annotationdefaults": {
           "arrowcolor": "#2a3f5f",
           "arrowhead": 0,
           "arrowwidth": 1
          },
          "autotypenumbers": "strict",
          "coloraxis": {
           "colorbar": {
            "outlinewidth": 0,
            "ticks": ""
           }
          },
          "colorscale": {
           "diverging": [
            [
             0,
             "#8e0152"
            ],
            [
             0.1,
             "#c51b7d"
            ],
            [
             0.2,
             "#de77ae"
            ],
            [
             0.3,
             "#f1b6da"
            ],
            [
             0.4,
             "#fde0ef"
            ],
            [
             0.5,
             "#f7f7f7"
            ],
            [
             0.6,
             "#e6f5d0"
            ],
            [
             0.7,
             "#b8e186"
            ],
            [
             0.8,
             "#7fbc41"
            ],
            [
             0.9,
             "#4d9221"
            ],
            [
             1,
             "#276419"
            ]
           ],
           "sequential": [
            [
             0,
             "#0d0887"
            ],
            [
             0.1111111111111111,
             "#46039f"
            ],
            [
             0.2222222222222222,
             "#7201a8"
            ],
            [
             0.3333333333333333,
             "#9c179e"
            ],
            [
             0.4444444444444444,
             "#bd3786"
            ],
            [
             0.5555555555555556,
             "#d8576b"
            ],
            [
             0.6666666666666666,
             "#ed7953"
            ],
            [
             0.7777777777777778,
             "#fb9f3a"
            ],
            [
             0.8888888888888888,
             "#fdca26"
            ],
            [
             1,
             "#f0f921"
            ]
           ],
           "sequentialminus": [
            [
             0,
             "#0d0887"
            ],
            [
             0.1111111111111111,
             "#46039f"
            ],
            [
             0.2222222222222222,
             "#7201a8"
            ],
            [
             0.3333333333333333,
             "#9c179e"
            ],
            [
             0.4444444444444444,
             "#bd3786"
            ],
            [
             0.5555555555555556,
             "#d8576b"
            ],
            [
             0.6666666666666666,
             "#ed7953"
            ],
            [
             0.7777777777777778,
             "#fb9f3a"
            ],
            [
             0.8888888888888888,
             "#fdca26"
            ],
            [
             1,
             "#f0f921"
            ]
           ]
          },
          "colorway": [
           "#636efa",
           "#EF553B",
           "#00cc96",
           "#ab63fa",
           "#FFA15A",
           "#19d3f3",
           "#FF6692",
           "#B6E880",
           "#FF97FF",
           "#FECB52"
          ],
          "font": {
           "color": "#2a3f5f"
          },
          "geo": {
           "bgcolor": "white",
           "lakecolor": "white",
           "landcolor": "#E5ECF6",
           "showlakes": true,
           "showland": true,
           "subunitcolor": "white"
          },
          "hoverlabel": {
           "align": "left"
          },
          "hovermode": "closest",
          "mapbox": {
           "style": "light"
          },
          "paper_bgcolor": "white",
          "plot_bgcolor": "#E5ECF6",
          "polar": {
           "angularaxis": {
            "gridcolor": "white",
            "linecolor": "white",
            "ticks": ""
           },
           "bgcolor": "#E5ECF6",
           "radialaxis": {
            "gridcolor": "white",
            "linecolor": "white",
            "ticks": ""
           }
          },
          "scene": {
           "xaxis": {
            "backgroundcolor": "#E5ECF6",
            "gridcolor": "white",
            "gridwidth": 2,
            "linecolor": "white",
            "showbackground": true,
            "ticks": "",
            "zerolinecolor": "white"
           },
           "yaxis": {
            "backgroundcolor": "#E5ECF6",
            "gridcolor": "white",
            "gridwidth": 2,
            "linecolor": "white",
            "showbackground": true,
            "ticks": "",
            "zerolinecolor": "white"
           },
           "zaxis": {
            "backgroundcolor": "#E5ECF6",
            "gridcolor": "white",
            "gridwidth": 2,
            "linecolor": "white",
            "showbackground": true,
            "ticks": "",
            "zerolinecolor": "white"
           }
          },
          "shapedefaults": {
           "line": {
            "color": "#2a3f5f"
           }
          },
          "ternary": {
           "aaxis": {
            "gridcolor": "white",
            "linecolor": "white",
            "ticks": ""
           },
           "baxis": {
            "gridcolor": "white",
            "linecolor": "white",
            "ticks": ""
           },
           "bgcolor": "#E5ECF6",
           "caxis": {
            "gridcolor": "white",
            "linecolor": "white",
            "ticks": ""
           }
          },
          "title": {
           "x": 0.05
          },
          "xaxis": {
           "automargin": true,
           "gridcolor": "white",
           "linecolor": "white",
           "ticks": "",
           "title": {
            "standoff": 15
           },
           "zerolinecolor": "white",
           "zerolinewidth": 2
          },
          "yaxis": {
           "automargin": true,
           "gridcolor": "white",
           "linecolor": "white",
           "ticks": "",
           "title": {
            "standoff": 15
           },
           "zerolinecolor": "white",
           "zerolinewidth": 2
          }
         }
        },
        "title": {
         "font": {
          "color": "#4D5663"
         },
         "text": "4 (T=-23~50) (H=0~100) (degree=1) (magic) (shift0_ppmx1) (RMSE y_pred_scale= 427.43)"
        },
        "xaxis": {
         "gridcolor": "#E1E5ED",
         "showgrid": true,
         "tickfont": {
          "color": "#4D5663"
         },
         "title": {
          "font": {
           "color": "#4D5663"
          },
          "text": ""
         },
         "zerolinecolor": "#E1E5ED"
        },
        "yaxis": {
         "gridcolor": "#E1E5ED",
         "showgrid": true,
         "tickfont": {
          "color": "#4D5663"
         },
         "title": {
          "font": {
           "color": "#4D5663"
          },
          "text": "ppm"
         },
         "zerolinecolor": "#E1E5ED"
        }
       }
      },
      "text/html": [
       "<div>                            <div id=\"d0fbc830-6381-422f-af16-a856a798db60\" class=\"plotly-graph-div\" style=\"height:525px; width:100%;\"></div>            <script type=\"text/javascript\">                require([\"plotly\"], function(Plotly) {                    window.PLOTLYENV=window.PLOTLYENV || {};\n",
       "                    window.PLOTLYENV.BASE_URL='https://plot.ly';                                    if (document.getElementById(\"d0fbc830-6381-422f-af16-a856a798db60\")) {                    Plotly.newPlot(                        \"d0fbc830-6381-422f-af16-a856a798db60\",                        [{\"line\": {\"color\": \"rgba(255, 153, 51, 1.0)\", \"dash\": \"solid\", \"shape\": \"linear\", \"width\": 1.3}, \"mode\": \"lines\", \"name\": \"y_true\", \"text\": \"\", \"type\": \"scatter\", \"x\": [0, 1, 2, 3, 4, 5, 6, 7, 8, 9, 10, 11, 12, 13, 14, 15, 16, 17, 18, 19, 20, 21, 22, 23, 24, 25, 26, 27, 28, 29, 30, 31, 32, 33, 34, 35, 36, 37, 38, 39, 40, 41, 42, 43, 44, 45, 46, 47, 48, 49, 50, 51, 52, 53, 54, 55, 56, 57, 58, 59, 60, 61, 62, 63, 64, 65, 66, 67, 68, 69, 70, 71, 72, 73, 74, 75, 76, 77, 78, 79, 80, 81, 82, 83, 84, 85, 86, 87, 88, 89, 90, 91, 92, 93, 94, 95, 96, 97, 98, 99, 100, 101, 102, 103, 104, 105, 106, 107, 108, 109, 110, 111, 112, 113, 114, 115, 116, 117, 118, 119, 120, 121, 122, 123, 124, 125, 126, 127, 128, 129, 130, 131, 132, 133, 134, 135, 136, 137, 138, 139, 140, 141, 142, 143, 144, 145, 146, 147, 148, 149, 150, 151, 152, 153, 154, 155, 156, 157, 158, 159, 160, 161, 162, 163, 164, 165, 166, 167, 168, 169, 170, 171, 172, 173, 174, 175, 176, 177, 178, 179, 180, 181, 182, 183, 184, 185, 186, 187, 188, 189, 190, 191, 192, 193, 194, 195, 196, 197, 198, 199, 200, 201, 202, 203, 204, 205, 206, 207, 208, 209, 210, 211, 212, 213, 214, 215, 216, 217, 218, 219, 220, 221, 222, 223, 224, 225, 226, 227, 228, 229, 230, 231, 232, 233, 234, 235, 236, 237, 238, 239, 240, 241, 242, 243, 244, 245, 246, 247, 248, 249, 250, 251, 252, 253, 254, 255, 256, 257, 258, 259, 260, 261, 262, 263, 264, 265, 266, 267, 268, 269, 270, 271, 272, 273, 274, 275, 276, 277, 278, 279, 280, 281, 282, 283, 284, 285, 286, 287, 288, 289, 290, 291, 292, 293, 294, 295, 296, 297, 298, 299, 300, 301, 302, 303, 304, 305, 306, 307, 308, 309, 310, 311, 312, 313, 314, 315, 316, 317, 318, 319, 320, 321, 322, 323, 324, 325, 326, 327, 328, 329, 330, 331, 332, 333, 334, 335, 336, 337, 338, 339, 340, 341, 342, 343, 344, 345, 346, 347, 348, 349, 350, 351, 352, 353, 354, 355, 356, 357, 358, 359, 360, 361, 362, 363, 364, 365, 366, 367, 368, 369, 370, 371, 372, 373, 374, 375, 376, 377, 378, 379, 380, 381, 382, 383, 384, 385, 386, 387, 388, 389, 390, 391, 392, 393, 394, 395, 396, 397, 398, 399], \"y\": [17274.27646095849, 17260.566187064527, 17253.67404784151, 17264.96506028766, 17253.057950167855, 17236.922415566733, 17244.73705398549, 17260.642606543097, 17248.940070485794, 17248.301158154194, 16060.297867374806, 16075.494848100381, 16070.168137625453, 16066.55783111622, 16077.398220417015, 16072.846969313641, 16059.192820585438, 16066.621593876265, 16058.256093667758, 16053.85881315943, 16160.428142933111, 16159.125873531217, 16171.968777652377, 16172.052590075331, 16160.906084756656, 16152.276119548593, 16167.241265524992, 16152.72972746846, 16160.515044406628, 16159.793433291583, 16305.209539987309, 16328.267586911188, 16330.676959038434, 16317.745723103211, 16304.81717441935, 16309.404791228426, 16315.699059748149, 16307.090564008135, 16312.244314737733, 16334.345350939937, 16482.140160120307, 16478.832804253772, 16481.533016374302, 16486.17065509973, 16483.527997069865, 16480.05495584248, 16486.62542775361, 16487.94012799789, 16471.334134393033, 16492.324347338985, 17075.498841705736, 17038.88235568126, 17055.178281249726, 17062.651970484414, 17053.238055861115, 17037.11809133226, 17050.53667712339, 17054.94209029939, 17044.223657734557, 17055.94396670721, 16060.77422058619, 16072.630705195565, 16072.830954269908, 16050.600227697225, 16057.33853480478, 16055.538383151674, 16048.753197879614, 16062.875605528334, 16062.955972446065, 16030.484444034191, 16186.60670734119, 16177.768507244324, 16168.895701334379, 16170.107332051539, 16181.984391864331, 16175.852379002736, 16162.362680250864, 16167.906011484905, 16160.974089809692, 16167.867753900493, 16335.342124700093, 16323.357123516605, 16335.757792508952, 16316.427107856605, 16326.443448693215, 16324.067266105249, 16338.986237228191, 16338.964606988862, 16319.596769149784, 16332.52564768101, 16520.537203521686, 16507.668223808334, 16511.32451887368, 16521.445658796663, 16518.24482884501, 16503.35971642943, 16501.01685211485, 16501.87936038809, 16498.078395340228, 16505.648813086835, 17370.767552314686, 17373.019649945956, 17362.707892196344, 17358.65122204168, 17353.299308379796, 17362.332812567733, 17351.935347871044, 17365.917440195935, 17372.636550856645, 17342.655052703893, 16107.46511890621, 16088.717360763661, 16084.473779481918, 16081.529217004803, 16081.329553489339, 16061.216923767135, 16067.398453333466, 16072.384598769826, 16076.22184542559, 16056.954732194456, 16188.403102317703, 16170.893262023783, 16166.57354961331, 16183.758396657306, 16189.541896297807, 16173.411316606038, 16181.827090495433, 16187.670312656837, 16174.882973871856, 16163.700567886626, 16342.921267889356, 16343.430045275582, 16337.451179019536, 16350.126342753843, 16325.474694115692, 16338.700174464324, 16341.70149680901, 16355.198058716473, 16334.836716186217, 16335.580311433736, 16512.131480026124, 16517.4386904901, 16521.082074652437, 16515.510276101493, 16509.9275894201, 16520.68985206373, 16535.18776783573, 16526.638644434548, 16510.331520241645, 16513.627521016366, 17425.276210560867, 17419.968006031795, 17422.704874385872, 17409.390354778483, 17428.1096957946, 17412.45556817506, 17425.83158960296, 17417.38996617093, 17418.443896191166, 17427.18323508303, 16151.058714051691, 16134.568797098089, 16130.347849646525, 16129.849555989615, 16134.662201685655, 16120.927862512086, 16119.63938875344, 16126.371704487385, 16113.71764766412, 16111.053972309026, 16222.83141099282, 16224.955150921302, 16219.839213491046, 16211.923790954723, 16224.4915754664, 16224.461818266134, 16208.397881198272, 16214.975925964003, 16211.256526449522, 16216.638747296896, 16395.846670739636, 16374.677500572765, 16362.669330738741, 16377.601209592414, 16377.727190037, 16377.601494031967, 16388.124634613567, 16369.612225009187, 16377.726774725832, 16362.699345590056, 16549.26818463408, 16556.13429128158, 16547.230097419222, 16545.104869965395, 16551.187981456933, 16543.843026563216, 16546.873171551142, 16547.2604718816, 16553.34435906379, 16544.3276986927, 16940.86034768302, 16967.84950623699, 16953.81617053179, 16955.891254068767, 16942.832424804146, 16956.116146665976, 16953.825126591386, 16966.062568917034, 16953.700704316474, 16942.446128263535, 16057.247144105635, 16056.598078176403, 16047.943511945612, 16036.247497427983, 16045.68570648184, 16058.291456660982, 16027.148094960543, 16034.82983257073, 16029.285101065401, 16036.525011274209, 16172.568340398882, 16181.10076216472, 16182.985811816003, 16168.666645129284, 16173.83833918892, 16165.258609689714, 16168.51833045229, 16173.680949910477, 16161.037313904584, 16176.103634207793, 16338.365508183748, 16362.002897107122, 16343.440480386076, 16340.57548639652, 16346.042668769827, 16341.415998760443, 16338.784977982672, 16349.027712473808, 16356.469049813362, 16345.17725669637, 16530.49931777474, 16548.764041373794, 16532.058975586442, 16540.041326543284, 16550.049158344515, 16545.716573930164, 16542.518690728975, 16557.610452608373, 16531.586121347882, 16533.105430947897, 17287.024768965268, 17277.593639643164, 17275.302047493828, 17266.19200680871, 17276.72834513198, 17279.551738610477, 17272.17059687043, 17278.528553405682, 17275.705872311, 17293.126740072035, 16045.805548380085, 16041.418809873863, 16037.034481282612, 16041.75794748756, 16036.463549239306, 16017.1519158513, 16047.274152045276, 16031.853140621863, 16034.879823390087, 16038.1973467036, 16141.518777348587, 16164.960246582876, 16141.232778310832, 16131.598170543939, 16133.483922366606, 16138.555869468988, 16161.930357060208, 16125.183702825681, 16138.41577284526, 16142.46548917627, 16321.913217264551, 16306.398999145706, 16321.436943790668, 16295.112194446614, 16302.141681867623, 16307.054909122282, 16290.655446213963, 16286.488576005808, 16284.861358401435, 16294.61788666113, 16494.812074496807, 16471.63734022876, 16489.49318540049, 16476.17810862028, 16461.463865210753, 16467.724177175667, 16462.760895567553, 16484.805063660653, 16478.35900207872, 16476.287305771024, 17036.30632164706, 17030.78846951282, 17029.26685329133, 17044.206883445284, 17051.34814216952, 17040.060579298934, 17048.802401342637, 17044.400274169147, 17050.199948733163, 17063.10735283167, 15955.24838270682, 15964.286642594148, 15973.162385898988, 15958.058633176232, 15942.907687397466, 15938.765270922826, 15954.501233370796, 15939.628299444064, 15938.522346264914, 15937.533169782953, 16042.454943104041, 16017.415876763696, 16025.092728327803, 16028.453419325258, 16024.22571593083, 16047.644232293525, 16034.931064431059, 16016.514466285247, 16020.16802767209, 16033.545411393621, 16140.328501727989, 16153.57299020857, 16140.8132366579, 16146.841598433306, 16169.48748010347, 16144.796023457468, 16141.465916728823, 16149.124195664308, 16166.920773029953, 16133.459697980588, 16305.864563495095, 16308.55453985055, 16291.76067836798, 16303.245493425089, 16307.015707784865, 16296.042426828144, 16292.457267697087, 16300.860405087247, 16300.29999390723, 16290.71065845503, 17289.85381509755, 17296.225651658377, 17306.854722974316, 17308.31560212435, 17310.123820678717, 17298.969144631646, 17310.47204062884, 17295.47788465822, 17308.823262883303, 17293.48139522525, 16063.504311334149, 16042.86156758437, 16064.659094157772, 16037.962896322806, 16051.499778691988, 16036.596714269694, 16041.182217898946, 16032.546202895235, 16033.321002366329, 16018.601357991589, 16125.207523041254, 16147.869300180048, 16125.691169097601, 16146.598628926764, 16150.611940265091, 16141.75713521848, 16118.872377778247, 16130.129030956641, 16124.004929445777, 16108.89560367462, 16283.59148940632, 16273.92069264608, 16279.985367603866, 16294.848152027671, 16270.813396960177, 16296.08041870231, 16280.165281120377, 16281.365188527327, 16302.327688716974, 16273.92069264608, 16454.001749361003, 16456.883724969717, 16461.53966902727, 16465.158335585253, 16473.972433910385, 16454.95164438093, 16455.25694459746, 16453.0589476509, 16450.41997120996, 16453.240723570558]}, {\"line\": {\"color\": \"rgba(55, 128, 191, 1.0)\", \"dash\": \"solid\", \"shape\": \"linear\", \"width\": 1.3}, \"mode\": \"lines\", \"name\": \"y_pred\", \"text\": \"\", \"type\": \"scatter\", \"x\": [0, 1, 2, 3, 4, 5, 6, 7, 8, 9, 10, 11, 12, 13, 14, 15, 16, 17, 18, 19, 20, 21, 22, 23, 24, 25, 26, 27, 28, 29, 30, 31, 32, 33, 34, 35, 36, 37, 38, 39, 40, 41, 42, 43, 44, 45, 46, 47, 48, 49, 50, 51, 52, 53, 54, 55, 56, 57, 58, 59, 60, 61, 62, 63, 64, 65, 66, 67, 68, 69, 70, 71, 72, 73, 74, 75, 76, 77, 78, 79, 80, 81, 82, 83, 84, 85, 86, 87, 88, 89, 90, 91, 92, 93, 94, 95, 96, 97, 98, 99, 100, 101, 102, 103, 104, 105, 106, 107, 108, 109, 110, 111, 112, 113, 114, 115, 116, 117, 118, 119, 120, 121, 122, 123, 124, 125, 126, 127, 128, 129, 130, 131, 132, 133, 134, 135, 136, 137, 138, 139, 140, 141, 142, 143, 144, 145, 146, 147, 148, 149, 150, 151, 152, 153, 154, 155, 156, 157, 158, 159, 160, 161, 162, 163, 164, 165, 166, 167, 168, 169, 170, 171, 172, 173, 174, 175, 176, 177, 178, 179, 180, 181, 182, 183, 184, 185, 186, 187, 188, 189, 190, 191, 192, 193, 194, 195, 196, 197, 198, 199, 200, 201, 202, 203, 204, 205, 206, 207, 208, 209, 210, 211, 212, 213, 214, 215, 216, 217, 218, 219, 220, 221, 222, 223, 224, 225, 226, 227, 228, 229, 230, 231, 232, 233, 234, 235, 236, 237, 238, 239, 240, 241, 242, 243, 244, 245, 246, 247, 248, 249, 250, 251, 252, 253, 254, 255, 256, 257, 258, 259, 260, 261, 262, 263, 264, 265, 266, 267, 268, 269, 270, 271, 272, 273, 274, 275, 276, 277, 278, 279, 280, 281, 282, 283, 284, 285, 286, 287, 288, 289, 290, 291, 292, 293, 294, 295, 296, 297, 298, 299, 300, 301, 302, 303, 304, 305, 306, 307, 308, 309, 310, 311, 312, 313, 314, 315, 316, 317, 318, 319, 320, 321, 322, 323, 324, 325, 326, 327, 328, 329, 330, 331, 332, 333, 334, 335, 336, 337, 338, 339, 340, 341, 342, 343, 344, 345, 346, 347, 348, 349, 350, 351, 352, 353, 354, 355, 356, 357, 358, 359, 360, 361, 362, 363, 364, 365, 366, 367, 368, 369, 370, 371, 372, 373, 374, 375, 376, 377, 378, 379, 380, 381, 382, 383, 384, 385, 386, 387, 388, 389, 390, 391, 392, 393, 394, 395, 396, 397, 398, 399], \"y\": [16512.723617616433, 16512.685108723297, 16512.80063540271, 16512.76212650957, 16512.87765318898, 16512.685108723297, 16512.87765318898, 16512.76212650957, 16512.723617616433, 16512.76212650957, 16512.685108723297, 16512.80063540271, 16512.76212650957, 16513.03168876153, 16512.685108723297, 16512.80063540271, 16512.76212650957, 16512.723617616433, 16512.839144295845, 16512.723617616433, 16513.03168876153, 16512.993179868394, 16512.723617616433, 16513.07019765467, 16512.954670975258, 16512.916162082118, 16513.18572433408, 16512.916162082118, 16513.03168876153, 16512.916162082118, 16512.839144295845, 16512.723617616433, 16512.993179868394, 16512.80063540271, 16512.839144295845, 16513.108706547806, 16512.993179868394, 16512.954670975258, 16512.916162082118, 16513.108706547806, 16513.108706547806, 16512.993179868394, 16513.03168876153, 16512.993179868394, 16513.03168876153, 16512.993179868394, 16512.87765318898, 16512.993179868394, 16513.03168876153, 16512.916162082118, 16511.491333039103, 16511.452824145967, 16511.41431525283, 16511.606859718515, 16511.491333039103, 16511.37580635969, 16511.491333039103, 16511.606859718515, 16511.491333039103, 16511.606859718515, 16511.52984193224, 16511.56835082538, 16511.606859718515, 16511.491333039103, 16511.37580635969, 16511.64536861165, 16511.683877504787, 16511.64536861165, 16511.52984193224, 16511.491333039103, 16511.29878857342, 16511.491333039103, 16511.29878857342, 16511.337297466554, 16511.29878857342, 16511.26027968028, 16511.067735214594, 16511.41431525283, 16511.14475300087, 16511.26027968028, 16511.183261894006, 16511.221770787142, 16511.491333039103, 16511.29878857342, 16511.337297466554, 16511.37580635969, 16511.26027968028, 16511.452824145967, 16511.26027968028, 16511.452824145967, 16511.10624410773, 16511.067735214594, 16511.029226321458, 16510.99071742985, 16511.029226321458, 16511.067735214594, 16511.029226321458, 16511.14475300087, 16511.10624410773, 16511.14475300087, 16513.30125101349, 16513.570813263923, 16513.45528658604, 16513.493795477647, 16513.532304370787, 16513.33975990663, 16513.45528658604, 16513.570813263923, 16513.532304370787, 16513.72484883647, 16513.532304370787, 16513.416777692903, 16513.378268799766, 16513.262742120354, 16513.45528658604, 16513.33975990663, 16513.30125101349, 16513.416777692903, 16513.378268799766, 16513.493795477647, 16513.262742120354, 16513.30125101349, 16513.416777692903, 16513.30125101349, 16513.18572433408, 16513.224233227218, 16513.416777692903, 16513.378268799766, 16513.33975990663, 16513.378268799766, 16513.224233227218, 16513.33975990663, 16513.224233227218, 16513.33975990663, 16513.147215440942, 16513.262742120354, 16513.224233227218, 16513.416777692903, 16513.224233227218, 16513.108706547806, 16513.108706547806, 16513.224233227218, 16513.108706547806, 16513.147215440942, 16513.262742120354, 16513.30125101349, 16513.33975990663, 16513.147215440942, 16513.18572433408, 16513.224233227218, 16513.224233227218, 16513.493795477647, 16513.532304370787, 16513.493795477647, 16513.378268799766, 16513.493795477647, 16513.532304370787, 16513.647831050195, 16513.686339943335, 16513.493795477647, 16513.570813263923, 16513.532304370787, 16513.570813263923, 16513.30125101349, 16513.416777692903, 16513.224233227218, 16513.33975990663, 16513.45528658604, 16513.33975990663, 16513.378268799766, 16513.224233227218, 16513.33975990663, 16513.30125101349, 16513.33975990663, 16513.30125101349, 16513.262742120354, 16513.224233227218, 16513.33975990663, 16513.224233227218, 16513.108706547806, 16513.147215440942, 16512.954670975258, 16513.224233227218, 16513.33975990663, 16513.147215440942, 16513.262742120354, 16513.224233227218, 16513.262742120354, 16513.224233227218, 16513.262742120354, 16513.03168876153, 16513.07019765467, 16513.03168876153, 16513.224233227218, 16513.18572433408, 16512.916162082118, 16513.18572433408, 16513.07019765467, 16513.03168876153, 16513.147215440942, 16513.416777692903, 16513.147215440942, 16513.416777692903, 16513.30125101349, 16513.33975990663, 16513.378268799766, 16513.262742120354, 16513.45528658604, 16513.108706547806, 16513.224233227218, 16513.33975990663, 16513.147215440942, 16513.33975990663, 16513.30125101349, 16513.262742120354, 16513.378268799766, 16513.33975990663, 16512.993179868394, 16513.262742120354, 16513.224233227218, 16513.33975990663, 16513.147215440942, 16513.108706547806, 16513.30125101349, 16513.18572433408, 16513.07019765467, 16513.108706547806, 16513.224233227218, 16513.33975990663, 16513.147215440942, 16513.07019765467, 16513.108706547806, 16513.07019765467, 16513.03168876153, 16512.993179868394, 16513.03168876153, 16513.07019765467, 16513.18572433408, 16513.07019765467, 16513.18572433408, 16513.03168876153, 16512.916162082118, 16513.03168876153, 16513.147215440942, 16512.954670975258, 16512.916162082118, 16513.108706547806, 16512.916162082118, 16513.03168876153, 16513.07019765467, 16514.186955554116, 16513.917393302156, 16514.032919981568, 16514.14844666098, 16514.109937767844, 16514.225464447256, 16513.955902195295, 16514.225464447256, 16514.109937767844, 16514.14844666098, 16514.071428874704, 16514.109937767844, 16514.14844666098, 16514.109937767844, 16514.071428874704, 16514.109937767844, 16513.99441108843, 16514.032919981568, 16513.99441108843, 16514.109937767844, 16514.186955554116, 16514.302482232, 16514.186955554116, 16514.302482232, 16514.340991125136, 16514.071428874704, 16514.340991125136, 16514.14844666098, 16514.263973340392, 16514.225464447256, 16514.41800891141, 16514.14844666098, 16514.340991125136, 16514.071428874704, 16514.186955554116, 16514.225464447256, 16514.109937767844, 16513.99441108843, 16514.263973340392, 16514.225464447256, 16514.109937767844, 16514.071428874704, 16513.955902195295, 16514.071428874704, 16514.109937767844, 16513.99441108843, 16514.032919981568, 16514.071428874704, 16513.955902195295, 16513.917393302156, 16513.801866622744, 16513.686339943335, 16513.955902195295, 16513.686339943335, 16513.801866622744, 16513.763357729607, 16513.801866622744, 16513.686339943335, 16513.647831050195, 16513.763357729607, 16513.763357729607, 16513.801866622744, 16513.840375515883, 16513.647831050195, 16513.60932215706, 16513.72484883647, 16513.60932215706, 16513.72484883647, 16513.60932215706, 16513.647831050195, 16513.686339943335, 16513.801866622744, 16513.840375515883, 16513.801866622744, 16513.840375515883, 16514.032919981568, 16513.840375515883, 16513.955902195295, 16513.840375515883, 16514.032919981568, 16513.72484883647, 16513.840375515883, 16513.87888440902, 16513.763357729607, 16513.801866622744, 16513.99441108843, 16513.87888440902, 16513.840375515883, 16513.955902195295, 16514.071428874704, 16513.72484883647, 16513.763357729607, 16513.955902195295, 16513.763357729607, 16513.87888440902, 16513.686339943335, 16513.801866622744, 16513.840375515883, 16513.647831050195, 16513.917393302156, 16511.722386397927, 16511.52984193224, 16511.491333039103, 16511.606859718515, 16511.722386397927, 16511.52984193224, 16511.722386397927, 16511.452824145967, 16511.7994041842, 16511.52984193224, 16512.184493114044, 16511.991948648356, 16511.876421968944, 16512.068966434632, 16512.107475327768, 16512.068966434632, 16512.030457541496, 16511.914930862084, 16512.030457541496, 16511.991948648356, 16511.991948648356, 16512.261510900316, 16512.145984220904, 16512.184493114044, 16512.068966434632, 16512.184493114044, 16512.22300200718, 16512.107475327768, 16512.145984220904, 16512.107475327768, 16512.145984220904, 16512.107475327768, 16511.991948648356, 16512.107475327768, 16512.068966434632, 16512.107475327768, 16512.22300200718, 16512.184493114044, 16512.22300200718, 16512.107475327768, 16512.107475327768, 16512.145984220904, 16512.261510900316, 16512.068966434632, 16512.107475327768, 16512.300019793453, 16512.107475327768, 16512.068966434632, 16512.338528686592, 16512.300019793453]}],                        {\"legend\": {\"bgcolor\": \"#F5F6F9\", \"font\": {\"color\": \"#4D5663\"}}, \"paper_bgcolor\": \"#F5F6F9\", \"plot_bgcolor\": \"#F5F6F9\", \"template\": {\"data\": {\"bar\": [{\"error_x\": {\"color\": \"#2a3f5f\"}, \"error_y\": {\"color\": \"#2a3f5f\"}, \"marker\": {\"line\": {\"color\": \"#E5ECF6\", \"width\": 0.5}}, \"type\": \"bar\"}], \"barpolar\": [{\"marker\": {\"line\": {\"color\": \"#E5ECF6\", \"width\": 0.5}}, \"type\": \"barpolar\"}], \"carpet\": [{\"aaxis\": {\"endlinecolor\": \"#2a3f5f\", \"gridcolor\": \"white\", \"linecolor\": \"white\", \"minorgridcolor\": \"white\", \"startlinecolor\": \"#2a3f5f\"}, \"baxis\": {\"endlinecolor\": \"#2a3f5f\", \"gridcolor\": \"white\", \"linecolor\": \"white\", \"minorgridcolor\": \"white\", \"startlinecolor\": \"#2a3f5f\"}, \"type\": \"carpet\"}], \"choropleth\": [{\"colorbar\": {\"outlinewidth\": 0, \"ticks\": \"\"}, \"type\": \"choropleth\"}], \"contour\": [{\"colorbar\": {\"outlinewidth\": 0, \"ticks\": \"\"}, \"colorscale\": [[0.0, \"#0d0887\"], [0.1111111111111111, \"#46039f\"], [0.2222222222222222, \"#7201a8\"], [0.3333333333333333, \"#9c179e\"], [0.4444444444444444, \"#bd3786\"], [0.5555555555555556, \"#d8576b\"], [0.6666666666666666, \"#ed7953\"], [0.7777777777777778, \"#fb9f3a\"], [0.8888888888888888, \"#fdca26\"], [1.0, \"#f0f921\"]], \"type\": \"contour\"}], \"contourcarpet\": [{\"colorbar\": {\"outlinewidth\": 0, \"ticks\": \"\"}, \"type\": \"contourcarpet\"}], \"heatmap\": [{\"colorbar\": {\"outlinewidth\": 0, \"ticks\": \"\"}, \"colorscale\": [[0.0, \"#0d0887\"], [0.1111111111111111, \"#46039f\"], [0.2222222222222222, \"#7201a8\"], [0.3333333333333333, \"#9c179e\"], [0.4444444444444444, \"#bd3786\"], [0.5555555555555556, \"#d8576b\"], [0.6666666666666666, \"#ed7953\"], [0.7777777777777778, \"#fb9f3a\"], [0.8888888888888888, \"#fdca26\"], [1.0, \"#f0f921\"]], \"type\": \"heatmap\"}], \"heatmapgl\": [{\"colorbar\": {\"outlinewidth\": 0, \"ticks\": \"\"}, \"colorscale\": [[0.0, \"#0d0887\"], [0.1111111111111111, \"#46039f\"], [0.2222222222222222, \"#7201a8\"], [0.3333333333333333, \"#9c179e\"], [0.4444444444444444, \"#bd3786\"], [0.5555555555555556, \"#d8576b\"], [0.6666666666666666, \"#ed7953\"], [0.7777777777777778, \"#fb9f3a\"], [0.8888888888888888, \"#fdca26\"], [1.0, \"#f0f921\"]], \"type\": \"heatmapgl\"}], \"histogram\": [{\"marker\": {\"colorbar\": {\"outlinewidth\": 0, \"ticks\": \"\"}}, \"type\": \"histogram\"}], \"histogram2d\": [{\"colorbar\": {\"outlinewidth\": 0, \"ticks\": \"\"}, \"colorscale\": [[0.0, \"#0d0887\"], [0.1111111111111111, \"#46039f\"], [0.2222222222222222, \"#7201a8\"], [0.3333333333333333, \"#9c179e\"], [0.4444444444444444, \"#bd3786\"], [0.5555555555555556, \"#d8576b\"], [0.6666666666666666, \"#ed7953\"], [0.7777777777777778, \"#fb9f3a\"], [0.8888888888888888, \"#fdca26\"], [1.0, \"#f0f921\"]], \"type\": \"histogram2d\"}], \"histogram2dcontour\": [{\"colorbar\": {\"outlinewidth\": 0, \"ticks\": \"\"}, \"colorscale\": [[0.0, \"#0d0887\"], [0.1111111111111111, \"#46039f\"], [0.2222222222222222, \"#7201a8\"], [0.3333333333333333, \"#9c179e\"], [0.4444444444444444, \"#bd3786\"], [0.5555555555555556, \"#d8576b\"], [0.6666666666666666, \"#ed7953\"], [0.7777777777777778, \"#fb9f3a\"], [0.8888888888888888, \"#fdca26\"], [1.0, \"#f0f921\"]], \"type\": \"histogram2dcontour\"}], \"mesh3d\": [{\"colorbar\": {\"outlinewidth\": 0, \"ticks\": \"\"}, \"type\": \"mesh3d\"}], \"parcoords\": [{\"line\": {\"colorbar\": {\"outlinewidth\": 0, \"ticks\": \"\"}}, \"type\": \"parcoords\"}], \"pie\": [{\"automargin\": true, \"type\": \"pie\"}], \"scatter\": [{\"marker\": {\"colorbar\": {\"outlinewidth\": 0, \"ticks\": \"\"}}, \"type\": \"scatter\"}], \"scatter3d\": [{\"line\": {\"colorbar\": {\"outlinewidth\": 0, \"ticks\": \"\"}}, \"marker\": {\"colorbar\": {\"outlinewidth\": 0, \"ticks\": \"\"}}, \"type\": \"scatter3d\"}], \"scattercarpet\": [{\"marker\": {\"colorbar\": {\"outlinewidth\": 0, \"ticks\": \"\"}}, \"type\": \"scattercarpet\"}], \"scattergeo\": [{\"marker\": {\"colorbar\": {\"outlinewidth\": 0, \"ticks\": \"\"}}, \"type\": \"scattergeo\"}], \"scattergl\": [{\"marker\": {\"colorbar\": {\"outlinewidth\": 0, \"ticks\": \"\"}}, \"type\": \"scattergl\"}], \"scattermapbox\": [{\"marker\": {\"colorbar\": {\"outlinewidth\": 0, \"ticks\": \"\"}}, \"type\": \"scattermapbox\"}], \"scatterpolar\": [{\"marker\": {\"colorbar\": {\"outlinewidth\": 0, \"ticks\": \"\"}}, \"type\": \"scatterpolar\"}], \"scatterpolargl\": [{\"marker\": {\"colorbar\": {\"outlinewidth\": 0, \"ticks\": \"\"}}, \"type\": \"scatterpolargl\"}], \"scatterternary\": [{\"marker\": {\"colorbar\": {\"outlinewidth\": 0, \"ticks\": \"\"}}, \"type\": \"scatterternary\"}], \"surface\": [{\"colorbar\": {\"outlinewidth\": 0, \"ticks\": \"\"}, \"colorscale\": [[0.0, \"#0d0887\"], [0.1111111111111111, \"#46039f\"], [0.2222222222222222, \"#7201a8\"], [0.3333333333333333, \"#9c179e\"], [0.4444444444444444, \"#bd3786\"], [0.5555555555555556, \"#d8576b\"], [0.6666666666666666, \"#ed7953\"], [0.7777777777777778, \"#fb9f3a\"], [0.8888888888888888, \"#fdca26\"], [1.0, \"#f0f921\"]], \"type\": \"surface\"}], \"table\": [{\"cells\": {\"fill\": {\"color\": \"#EBF0F8\"}, \"line\": {\"color\": \"white\"}}, \"header\": {\"fill\": {\"color\": \"#C8D4E3\"}, \"line\": {\"color\": \"white\"}}, \"type\": \"table\"}]}, \"layout\": {\"annotationdefaults\": {\"arrowcolor\": \"#2a3f5f\", \"arrowhead\": 0, \"arrowwidth\": 1}, \"autotypenumbers\": \"strict\", \"coloraxis\": {\"colorbar\": {\"outlinewidth\": 0, \"ticks\": \"\"}}, \"colorscale\": {\"diverging\": [[0, \"#8e0152\"], [0.1, \"#c51b7d\"], [0.2, \"#de77ae\"], [0.3, \"#f1b6da\"], [0.4, \"#fde0ef\"], [0.5, \"#f7f7f7\"], [0.6, \"#e6f5d0\"], [0.7, \"#b8e186\"], [0.8, \"#7fbc41\"], [0.9, \"#4d9221\"], [1, \"#276419\"]], \"sequential\": [[0.0, \"#0d0887\"], [0.1111111111111111, \"#46039f\"], [0.2222222222222222, \"#7201a8\"], [0.3333333333333333, \"#9c179e\"], [0.4444444444444444, \"#bd3786\"], [0.5555555555555556, \"#d8576b\"], [0.6666666666666666, \"#ed7953\"], [0.7777777777777778, \"#fb9f3a\"], [0.8888888888888888, \"#fdca26\"], [1.0, \"#f0f921\"]], \"sequentialminus\": [[0.0, \"#0d0887\"], [0.1111111111111111, \"#46039f\"], [0.2222222222222222, \"#7201a8\"], [0.3333333333333333, \"#9c179e\"], [0.4444444444444444, \"#bd3786\"], [0.5555555555555556, \"#d8576b\"], [0.6666666666666666, \"#ed7953\"], [0.7777777777777778, \"#fb9f3a\"], [0.8888888888888888, \"#fdca26\"], [1.0, \"#f0f921\"]]}, \"colorway\": [\"#636efa\", \"#EF553B\", \"#00cc96\", \"#ab63fa\", \"#FFA15A\", \"#19d3f3\", \"#FF6692\", \"#B6E880\", \"#FF97FF\", \"#FECB52\"], \"font\": {\"color\": \"#2a3f5f\"}, \"geo\": {\"bgcolor\": \"white\", \"lakecolor\": \"white\", \"landcolor\": \"#E5ECF6\", \"showlakes\": true, \"showland\": true, \"subunitcolor\": \"white\"}, \"hoverlabel\": {\"align\": \"left\"}, \"hovermode\": \"closest\", \"mapbox\": {\"style\": \"light\"}, \"paper_bgcolor\": \"white\", \"plot_bgcolor\": \"#E5ECF6\", \"polar\": {\"angularaxis\": {\"gridcolor\": \"white\", \"linecolor\": \"white\", \"ticks\": \"\"}, \"bgcolor\": \"#E5ECF6\", \"radialaxis\": {\"gridcolor\": \"white\", \"linecolor\": \"white\", \"ticks\": \"\"}}, \"scene\": {\"xaxis\": {\"backgroundcolor\": \"#E5ECF6\", \"gridcolor\": \"white\", \"gridwidth\": 2, \"linecolor\": \"white\", \"showbackground\": true, \"ticks\": \"\", \"zerolinecolor\": \"white\"}, \"yaxis\": {\"backgroundcolor\": \"#E5ECF6\", \"gridcolor\": \"white\", \"gridwidth\": 2, \"linecolor\": \"white\", \"showbackground\": true, \"ticks\": \"\", \"zerolinecolor\": \"white\"}, \"zaxis\": {\"backgroundcolor\": \"#E5ECF6\", \"gridcolor\": \"white\", \"gridwidth\": 2, \"linecolor\": \"white\", \"showbackground\": true, \"ticks\": \"\", \"zerolinecolor\": \"white\"}}, \"shapedefaults\": {\"line\": {\"color\": \"#2a3f5f\"}}, \"ternary\": {\"aaxis\": {\"gridcolor\": \"white\", \"linecolor\": \"white\", \"ticks\": \"\"}, \"baxis\": {\"gridcolor\": \"white\", \"linecolor\": \"white\", \"ticks\": \"\"}, \"bgcolor\": \"#E5ECF6\", \"caxis\": {\"gridcolor\": \"white\", \"linecolor\": \"white\", \"ticks\": \"\"}}, \"title\": {\"x\": 0.05}, \"xaxis\": {\"automargin\": true, \"gridcolor\": \"white\", \"linecolor\": \"white\", \"ticks\": \"\", \"title\": {\"standoff\": 15}, \"zerolinecolor\": \"white\", \"zerolinewidth\": 2}, \"yaxis\": {\"automargin\": true, \"gridcolor\": \"white\", \"linecolor\": \"white\", \"ticks\": \"\", \"title\": {\"standoff\": 15}, \"zerolinecolor\": \"white\", \"zerolinewidth\": 2}}}, \"title\": {\"font\": {\"color\": \"#4D5663\"}, \"text\": \"4 (T=-23~50) (H=0~100) (degree=1) (magic) (shift0_ppmx1) (RMSE y_pred_scale= 427.43)\"}, \"xaxis\": {\"gridcolor\": \"#E1E5ED\", \"showgrid\": true, \"tickfont\": {\"color\": \"#4D5663\"}, \"title\": {\"font\": {\"color\": \"#4D5663\"}, \"text\": \"\"}, \"zerolinecolor\": \"#E1E5ED\"}, \"yaxis\": {\"gridcolor\": \"#E1E5ED\", \"showgrid\": true, \"tickfont\": {\"color\": \"#4D5663\"}, \"title\": {\"font\": {\"color\": \"#4D5663\"}, \"text\": \"ppm\"}, \"zerolinecolor\": \"#E1E5ED\"}},                        {\"showLink\": true, \"linkText\": \"Export to plot.ly\", \"plotlyServerURL\": \"https://plot.ly\", \"responsive\": true}                    ).then(function(){\n",
       "                            \n",
       "var gd = document.getElementById('d0fbc830-6381-422f-af16-a856a798db60');\n",
       "var x = new MutationObserver(function (mutations, observer) {{\n",
       "        var display = window.getComputedStyle(gd).display;\n",
       "        if (!display || display === 'none') {{\n",
       "            console.log([gd, 'removed!']);\n",
       "            Plotly.purge(gd);\n",
       "            observer.disconnect();\n",
       "        }}\n",
       "}});\n",
       "\n",
       "// Listen for the removal of the full notebook cells\n",
       "var notebookContainer = gd.closest('#notebook-container');\n",
       "if (notebookContainer) {{\n",
       "    x.observe(notebookContainer, {childList: true});\n",
       "}}\n",
       "\n",
       "// Listen for the clearing of the current output cell\n",
       "var outputEl = gd.closest('.output');\n",
       "if (outputEl) {{\n",
       "    x.observe(outputEl, {childList: true});\n",
       "}}\n",
       "\n",
       "                        })                };                });            </script>        </div>"
      ]
     },
     "metadata": {},
     "output_type": "display_data"
    },
    {
     "data": {
      "application/vnd.plotly.v1+json": {
       "config": {
        "linkText": "Export to plot.ly",
        "plotlyServerURL": "https://plot.ly",
        "showLink": true
       },
       "data": [
        {
         "line": {
          "color": "rgba(255, 153, 51, 1.0)",
          "dash": "solid",
          "shape": "linear",
          "width": 1.3
         },
         "mode": "lines",
         "name": "y_true",
         "text": "",
         "type": "scatter",
         "x": [
          0,
          1,
          2,
          3,
          4,
          5,
          6,
          7,
          8,
          9,
          10,
          11,
          12,
          13,
          14,
          15,
          16,
          17,
          18,
          19,
          20,
          21,
          22,
          23,
          24,
          25,
          26,
          27,
          28,
          29,
          30,
          31,
          32,
          33,
          34,
          35,
          36,
          37,
          38,
          39,
          40,
          41,
          42,
          43,
          44,
          45,
          46,
          47,
          48,
          49,
          50,
          51,
          52,
          53,
          54,
          55,
          56,
          57,
          58,
          59,
          60,
          61,
          62,
          63,
          64,
          65,
          66,
          67,
          68,
          69,
          70,
          71,
          72,
          73,
          74,
          75,
          76,
          77,
          78,
          79,
          80,
          81,
          82,
          83,
          84,
          85,
          86,
          87,
          88,
          89,
          90,
          91,
          92,
          93,
          94,
          95,
          96,
          97,
          98,
          99,
          100,
          101,
          102,
          103,
          104,
          105,
          106,
          107,
          108,
          109,
          110,
          111,
          112,
          113,
          114,
          115,
          116,
          117,
          118,
          119,
          120,
          121,
          122,
          123,
          124,
          125,
          126,
          127,
          128,
          129,
          130,
          131,
          132,
          133,
          134,
          135,
          136,
          137,
          138,
          139,
          140,
          141,
          142,
          143,
          144,
          145,
          146,
          147,
          148,
          149,
          150,
          151,
          152,
          153,
          154,
          155,
          156,
          157,
          158,
          159,
          160,
          161,
          162,
          163,
          164,
          165,
          166,
          167,
          168,
          169,
          170,
          171,
          172,
          173,
          174,
          175,
          176,
          177,
          178,
          179,
          180,
          181,
          182,
          183,
          184,
          185,
          186,
          187,
          188,
          189,
          190,
          191,
          192,
          193,
          194,
          195,
          196,
          197,
          198,
          199,
          200,
          201,
          202,
          203,
          204,
          205,
          206,
          207,
          208,
          209,
          210,
          211,
          212,
          213,
          214,
          215,
          216,
          217,
          218,
          219,
          220,
          221,
          222,
          223,
          224,
          225,
          226,
          227,
          228,
          229,
          230,
          231,
          232,
          233,
          234,
          235,
          236,
          237,
          238,
          239,
          240,
          241,
          242,
          243,
          244,
          245,
          246,
          247,
          248,
          249,
          250,
          251,
          252,
          253,
          254,
          255,
          256,
          257,
          258,
          259,
          260,
          261,
          262,
          263,
          264,
          265,
          266,
          267,
          268,
          269,
          270,
          271,
          272,
          273,
          274,
          275,
          276,
          277,
          278,
          279,
          280,
          281,
          282,
          283,
          284,
          285,
          286,
          287,
          288,
          289,
          290,
          291,
          292,
          293,
          294,
          295,
          296,
          297,
          298,
          299,
          300,
          301,
          302,
          303,
          304,
          305,
          306,
          307,
          308,
          309,
          310,
          311,
          312,
          313,
          314,
          315,
          316,
          317,
          318,
          319,
          320,
          321,
          322,
          323,
          324,
          325,
          326,
          327,
          328,
          329,
          330,
          331,
          332,
          333,
          334,
          335,
          336,
          337,
          338,
          339,
          340,
          341,
          342,
          343,
          344,
          345,
          346,
          347,
          348,
          349,
          350,
          351,
          352,
          353,
          354,
          355,
          356,
          357,
          358,
          359,
          360,
          361,
          362,
          363,
          364,
          365,
          366,
          367,
          368,
          369,
          370,
          371,
          372,
          373,
          374,
          375,
          376,
          377,
          378,
          379,
          380,
          381,
          382,
          383,
          384,
          385,
          386,
          387,
          388,
          389,
          390,
          391,
          392,
          393,
          394,
          395,
          396,
          397,
          398,
          399
         ],
         "y": [
          17274.27646095849,
          17260.566187064527,
          17253.67404784151,
          17264.96506028766,
          17253.057950167855,
          17236.922415566733,
          17244.73705398549,
          17260.642606543097,
          17248.940070485794,
          17248.301158154194,
          16060.297867374806,
          16075.494848100381,
          16070.168137625453,
          16066.55783111622,
          16077.398220417015,
          16072.846969313641,
          16059.192820585438,
          16066.621593876265,
          16058.256093667758,
          16053.85881315943,
          16160.428142933111,
          16159.125873531217,
          16171.968777652377,
          16172.052590075331,
          16160.906084756656,
          16152.276119548593,
          16167.241265524992,
          16152.72972746846,
          16160.515044406628,
          16159.793433291583,
          16305.209539987309,
          16328.267586911188,
          16330.676959038434,
          16317.745723103211,
          16304.81717441935,
          16309.404791228426,
          16315.699059748149,
          16307.090564008135,
          16312.244314737733,
          16334.345350939937,
          16482.140160120307,
          16478.832804253772,
          16481.533016374302,
          16486.17065509973,
          16483.527997069865,
          16480.05495584248,
          16486.62542775361,
          16487.94012799789,
          16471.334134393033,
          16492.324347338985,
          17075.498841705736,
          17038.88235568126,
          17055.178281249726,
          17062.651970484414,
          17053.238055861115,
          17037.11809133226,
          17050.53667712339,
          17054.94209029939,
          17044.223657734557,
          17055.94396670721,
          16060.77422058619,
          16072.630705195565,
          16072.830954269908,
          16050.600227697225,
          16057.33853480478,
          16055.538383151674,
          16048.753197879614,
          16062.875605528334,
          16062.955972446065,
          16030.484444034191,
          16186.60670734119,
          16177.768507244324,
          16168.895701334379,
          16170.107332051539,
          16181.984391864331,
          16175.852379002736,
          16162.362680250864,
          16167.906011484905,
          16160.974089809692,
          16167.867753900493,
          16335.342124700093,
          16323.357123516605,
          16335.757792508952,
          16316.427107856605,
          16326.443448693215,
          16324.067266105249,
          16338.986237228191,
          16338.964606988862,
          16319.596769149784,
          16332.52564768101,
          16520.537203521686,
          16507.668223808334,
          16511.32451887368,
          16521.445658796663,
          16518.24482884501,
          16503.35971642943,
          16501.01685211485,
          16501.87936038809,
          16498.078395340228,
          16505.648813086835,
          17370.767552314686,
          17373.019649945956,
          17362.707892196344,
          17358.65122204168,
          17353.299308379796,
          17362.332812567733,
          17351.935347871044,
          17365.917440195935,
          17372.636550856645,
          17342.655052703893,
          16107.46511890621,
          16088.717360763661,
          16084.473779481918,
          16081.529217004803,
          16081.329553489339,
          16061.216923767135,
          16067.398453333466,
          16072.384598769826,
          16076.22184542559,
          16056.954732194456,
          16188.403102317703,
          16170.893262023783,
          16166.57354961331,
          16183.758396657306,
          16189.541896297807,
          16173.411316606038,
          16181.827090495433,
          16187.670312656837,
          16174.882973871856,
          16163.700567886626,
          16342.921267889356,
          16343.430045275582,
          16337.451179019536,
          16350.126342753843,
          16325.474694115692,
          16338.700174464324,
          16341.70149680901,
          16355.198058716473,
          16334.836716186217,
          16335.580311433736,
          16512.131480026124,
          16517.4386904901,
          16521.082074652437,
          16515.510276101493,
          16509.9275894201,
          16520.68985206373,
          16535.18776783573,
          16526.638644434548,
          16510.331520241645,
          16513.627521016366,
          17425.276210560867,
          17419.968006031795,
          17422.704874385872,
          17409.390354778483,
          17428.1096957946,
          17412.45556817506,
          17425.83158960296,
          17417.38996617093,
          17418.443896191166,
          17427.18323508303,
          16151.058714051691,
          16134.568797098089,
          16130.347849646525,
          16129.849555989615,
          16134.662201685655,
          16120.927862512086,
          16119.63938875344,
          16126.371704487385,
          16113.71764766412,
          16111.053972309026,
          16222.83141099282,
          16224.955150921302,
          16219.839213491046,
          16211.923790954723,
          16224.4915754664,
          16224.461818266134,
          16208.397881198272,
          16214.975925964003,
          16211.256526449522,
          16216.638747296896,
          16395.846670739636,
          16374.677500572765,
          16362.669330738741,
          16377.601209592414,
          16377.727190037,
          16377.601494031967,
          16388.124634613567,
          16369.612225009187,
          16377.726774725832,
          16362.699345590056,
          16549.26818463408,
          16556.13429128158,
          16547.230097419222,
          16545.104869965395,
          16551.187981456933,
          16543.843026563216,
          16546.873171551142,
          16547.2604718816,
          16553.34435906379,
          16544.3276986927,
          16940.86034768302,
          16967.84950623699,
          16953.81617053179,
          16955.891254068767,
          16942.832424804146,
          16956.116146665976,
          16953.825126591386,
          16966.062568917034,
          16953.700704316474,
          16942.446128263535,
          16057.247144105635,
          16056.598078176403,
          16047.943511945612,
          16036.247497427983,
          16045.68570648184,
          16058.291456660982,
          16027.148094960543,
          16034.82983257073,
          16029.285101065401,
          16036.525011274209,
          16172.568340398882,
          16181.10076216472,
          16182.985811816003,
          16168.666645129284,
          16173.83833918892,
          16165.258609689714,
          16168.51833045229,
          16173.680949910477,
          16161.037313904584,
          16176.103634207793,
          16338.365508183748,
          16362.002897107122,
          16343.440480386076,
          16340.57548639652,
          16346.042668769827,
          16341.415998760443,
          16338.784977982672,
          16349.027712473808,
          16356.469049813362,
          16345.17725669637,
          16530.49931777474,
          16548.764041373794,
          16532.058975586442,
          16540.041326543284,
          16550.049158344515,
          16545.716573930164,
          16542.518690728975,
          16557.610452608373,
          16531.586121347882,
          16533.105430947897,
          17287.024768965268,
          17277.593639643164,
          17275.302047493828,
          17266.19200680871,
          17276.72834513198,
          17279.551738610477,
          17272.17059687043,
          17278.528553405682,
          17275.705872311,
          17293.126740072035,
          16045.805548380085,
          16041.418809873863,
          16037.034481282612,
          16041.75794748756,
          16036.463549239306,
          16017.1519158513,
          16047.274152045276,
          16031.853140621863,
          16034.879823390087,
          16038.1973467036,
          16141.518777348587,
          16164.960246582876,
          16141.232778310832,
          16131.598170543939,
          16133.483922366606,
          16138.555869468988,
          16161.930357060208,
          16125.183702825681,
          16138.41577284526,
          16142.46548917627,
          16321.913217264551,
          16306.398999145706,
          16321.436943790668,
          16295.112194446614,
          16302.141681867623,
          16307.054909122282,
          16290.655446213963,
          16286.488576005808,
          16284.861358401435,
          16294.61788666113,
          16494.812074496807,
          16471.63734022876,
          16489.49318540049,
          16476.17810862028,
          16461.463865210753,
          16467.724177175667,
          16462.760895567553,
          16484.805063660653,
          16478.35900207872,
          16476.287305771024,
          17036.30632164706,
          17030.78846951282,
          17029.26685329133,
          17044.206883445284,
          17051.34814216952,
          17040.060579298934,
          17048.802401342637,
          17044.400274169147,
          17050.199948733163,
          17063.10735283167,
          15955.24838270682,
          15964.286642594148,
          15973.162385898988,
          15958.058633176232,
          15942.907687397466,
          15938.765270922826,
          15954.501233370796,
          15939.628299444064,
          15938.522346264914,
          15937.533169782953,
          16042.454943104041,
          16017.415876763696,
          16025.092728327803,
          16028.453419325258,
          16024.22571593083,
          16047.644232293525,
          16034.931064431059,
          16016.514466285247,
          16020.16802767209,
          16033.545411393621,
          16140.328501727989,
          16153.57299020857,
          16140.8132366579,
          16146.841598433306,
          16169.48748010347,
          16144.796023457468,
          16141.465916728823,
          16149.124195664308,
          16166.920773029953,
          16133.459697980588,
          16305.864563495095,
          16308.55453985055,
          16291.76067836798,
          16303.245493425089,
          16307.015707784865,
          16296.042426828144,
          16292.457267697087,
          16300.860405087247,
          16300.29999390723,
          16290.71065845503,
          17289.85381509755,
          17296.225651658377,
          17306.854722974316,
          17308.31560212435,
          17310.123820678717,
          17298.969144631646,
          17310.47204062884,
          17295.47788465822,
          17308.823262883303,
          17293.48139522525,
          16063.504311334149,
          16042.86156758437,
          16064.659094157772,
          16037.962896322806,
          16051.499778691988,
          16036.596714269694,
          16041.182217898946,
          16032.546202895235,
          16033.321002366329,
          16018.601357991589,
          16125.207523041254,
          16147.869300180048,
          16125.691169097601,
          16146.598628926764,
          16150.611940265091,
          16141.75713521848,
          16118.872377778247,
          16130.129030956641,
          16124.004929445777,
          16108.89560367462,
          16283.59148940632,
          16273.92069264608,
          16279.985367603866,
          16294.848152027671,
          16270.813396960177,
          16296.08041870231,
          16280.165281120377,
          16281.365188527327,
          16302.327688716974,
          16273.92069264608,
          16454.001749361003,
          16456.883724969717,
          16461.53966902727,
          16465.158335585253,
          16473.972433910385,
          16454.95164438093,
          16455.25694459746,
          16453.0589476509,
          16450.41997120996,
          16453.240723570558
         ]
        },
        {
         "line": {
          "color": "rgba(55, 128, 191, 1.0)",
          "dash": "solid",
          "shape": "linear",
          "width": 1.3
         },
         "mode": "lines",
         "name": "y_pred",
         "text": "",
         "type": "scatter",
         "x": [
          0,
          1,
          2,
          3,
          4,
          5,
          6,
          7,
          8,
          9,
          10,
          11,
          12,
          13,
          14,
          15,
          16,
          17,
          18,
          19,
          20,
          21,
          22,
          23,
          24,
          25,
          26,
          27,
          28,
          29,
          30,
          31,
          32,
          33,
          34,
          35,
          36,
          37,
          38,
          39,
          40,
          41,
          42,
          43,
          44,
          45,
          46,
          47,
          48,
          49,
          50,
          51,
          52,
          53,
          54,
          55,
          56,
          57,
          58,
          59,
          60,
          61,
          62,
          63,
          64,
          65,
          66,
          67,
          68,
          69,
          70,
          71,
          72,
          73,
          74,
          75,
          76,
          77,
          78,
          79,
          80,
          81,
          82,
          83,
          84,
          85,
          86,
          87,
          88,
          89,
          90,
          91,
          92,
          93,
          94,
          95,
          96,
          97,
          98,
          99,
          100,
          101,
          102,
          103,
          104,
          105,
          106,
          107,
          108,
          109,
          110,
          111,
          112,
          113,
          114,
          115,
          116,
          117,
          118,
          119,
          120,
          121,
          122,
          123,
          124,
          125,
          126,
          127,
          128,
          129,
          130,
          131,
          132,
          133,
          134,
          135,
          136,
          137,
          138,
          139,
          140,
          141,
          142,
          143,
          144,
          145,
          146,
          147,
          148,
          149,
          150,
          151,
          152,
          153,
          154,
          155,
          156,
          157,
          158,
          159,
          160,
          161,
          162,
          163,
          164,
          165,
          166,
          167,
          168,
          169,
          170,
          171,
          172,
          173,
          174,
          175,
          176,
          177,
          178,
          179,
          180,
          181,
          182,
          183,
          184,
          185,
          186,
          187,
          188,
          189,
          190,
          191,
          192,
          193,
          194,
          195,
          196,
          197,
          198,
          199,
          200,
          201,
          202,
          203,
          204,
          205,
          206,
          207,
          208,
          209,
          210,
          211,
          212,
          213,
          214,
          215,
          216,
          217,
          218,
          219,
          220,
          221,
          222,
          223,
          224,
          225,
          226,
          227,
          228,
          229,
          230,
          231,
          232,
          233,
          234,
          235,
          236,
          237,
          238,
          239,
          240,
          241,
          242,
          243,
          244,
          245,
          246,
          247,
          248,
          249,
          250,
          251,
          252,
          253,
          254,
          255,
          256,
          257,
          258,
          259,
          260,
          261,
          262,
          263,
          264,
          265,
          266,
          267,
          268,
          269,
          270,
          271,
          272,
          273,
          274,
          275,
          276,
          277,
          278,
          279,
          280,
          281,
          282,
          283,
          284,
          285,
          286,
          287,
          288,
          289,
          290,
          291,
          292,
          293,
          294,
          295,
          296,
          297,
          298,
          299,
          300,
          301,
          302,
          303,
          304,
          305,
          306,
          307,
          308,
          309,
          310,
          311,
          312,
          313,
          314,
          315,
          316,
          317,
          318,
          319,
          320,
          321,
          322,
          323,
          324,
          325,
          326,
          327,
          328,
          329,
          330,
          331,
          332,
          333,
          334,
          335,
          336,
          337,
          338,
          339,
          340,
          341,
          342,
          343,
          344,
          345,
          346,
          347,
          348,
          349,
          350,
          351,
          352,
          353,
          354,
          355,
          356,
          357,
          358,
          359,
          360,
          361,
          362,
          363,
          364,
          365,
          366,
          367,
          368,
          369,
          370,
          371,
          372,
          373,
          374,
          375,
          376,
          377,
          378,
          379,
          380,
          381,
          382,
          383,
          384,
          385,
          386,
          387,
          388,
          389,
          390,
          391,
          392,
          393,
          394,
          395,
          396,
          397,
          398,
          399
         ],
         "y": [
          16336.50040000633,
          16336.471156120038,
          16336.558887778916,
          16336.529643892623,
          16336.617375551501,
          16336.471156120038,
          16336.617375551501,
          16336.529643892623,
          16336.50040000633,
          16336.529643892623,
          16336.471156120038,
          16336.558887778916,
          16336.529643892623,
          16336.73435109667,
          16336.471156120038,
          16336.558887778916,
          16336.529643892623,
          16336.50040000633,
          16336.588131665208,
          16336.50040000633,
          16336.73435109667,
          16336.705107210377,
          16336.50040000633,
          16336.763594982962,
          16336.675863324084,
          16336.646619437794,
          16336.85132664184,
          16336.646619437794,
          16336.73435109667,
          16336.646619437794,
          16336.588131665208,
          16336.50040000633,
          16336.705107210377,
          16336.558887778916,
          16336.588131665208,
          16336.792838869254,
          16336.705107210377,
          16336.675863324084,
          16336.646619437794,
          16336.792838869254,
          16336.792838869254,
          16336.705107210377,
          16336.73435109667,
          16336.705107210377,
          16336.73435109667,
          16336.705107210377,
          16336.617375551501,
          16336.705107210377,
          16336.73435109667,
          16336.646619437794,
          16335.564595647293,
          16335.535351761,
          16335.50610787471,
          16335.65232730617,
          16335.564595647293,
          16335.476863988417,
          16335.564595647293,
          16335.65232730617,
          16335.564595647293,
          16335.65232730617,
          16335.593839533585,
          16335.623083419878,
          16335.65232730617,
          16335.564595647293,
          16335.476863988417,
          16335.681571192463,
          16335.710815078755,
          16335.681571192463,
          16335.593839533585,
          16335.564595647293,
          16335.418376215832,
          16335.564595647293,
          16335.418376215832,
          16335.447620102124,
          16335.418376215832,
          16335.38913232954,
          16335.242912898077,
          16335.50610787471,
          16335.301400670662,
          16335.38913232954,
          16335.330644556954,
          16335.359888443247,
          16335.564595647293,
          16335.418376215832,
          16335.447620102124,
          16335.476863988417,
          16335.38913232954,
          16335.535351761,
          16335.38913232954,
          16335.535351761,
          16335.27215678437,
          16335.242912898077,
          16335.213669011784,
          16335.184425126652,
          16335.213669011784,
          16335.242912898077,
          16335.213669011784,
          16335.301400670662,
          16335.27215678437,
          16335.301400670662,
          16336.939058300717,
          16337.143765503604,
          16337.056033845887,
          16337.08527773102,
          16337.114521617312,
          16336.96830218701,
          16337.056033845887,
          16337.143765503604,
          16337.114521617312,
          16337.260741048773,
          16337.114521617312,
          16337.026789959595,
          16336.997546073302,
          16336.909814414425,
          16337.056033845887,
          16336.96830218701,
          16336.939058300717,
          16337.026789959595,
          16336.997546073302,
          16337.08527773102,
          16336.909814414425,
          16336.939058300717,
          16337.026789959595,
          16336.939058300717,
          16336.85132664184,
          16336.880570528132,
          16337.026789959595,
          16336.997546073302,
          16336.96830218701,
          16336.997546073302,
          16336.880570528132,
          16336.96830218701,
          16336.880570528132,
          16336.96830218701,
          16336.822082755547,
          16336.909814414425,
          16336.880570528132,
          16337.026789959595,
          16336.880570528132,
          16336.792838869254,
          16336.792838869254,
          16336.880570528132,
          16336.792838869254,
          16336.822082755547,
          16336.909814414425,
          16336.939058300717,
          16336.96830218701,
          16336.822082755547,
          16336.85132664184,
          16336.880570528132,
          16336.880570528132,
          16337.08527773102,
          16337.114521617312,
          16337.08527773102,
          16336.997546073302,
          16337.08527773102,
          16337.114521617312,
          16337.202253276188,
          16337.23149716248,
          16337.08527773102,
          16337.143765503604,
          16337.114521617312,
          16337.143765503604,
          16336.939058300717,
          16337.026789959595,
          16336.880570528132,
          16336.96830218701,
          16337.056033845887,
          16336.96830218701,
          16336.997546073302,
          16336.880570528132,
          16336.96830218701,
          16336.939058300717,
          16336.96830218701,
          16336.939058300717,
          16336.909814414425,
          16336.880570528132,
          16336.96830218701,
          16336.880570528132,
          16336.792838869254,
          16336.822082755547,
          16336.675863324084,
          16336.880570528132,
          16336.96830218701,
          16336.822082755547,
          16336.909814414425,
          16336.880570528132,
          16336.909814414425,
          16336.880570528132,
          16336.909814414425,
          16336.73435109667,
          16336.763594982962,
          16336.73435109667,
          16336.880570528132,
          16336.85132664184,
          16336.646619437794,
          16336.85132664184,
          16336.763594982962,
          16336.73435109667,
          16336.822082755547,
          16337.026789959595,
          16336.822082755547,
          16337.026789959595,
          16336.939058300717,
          16336.96830218701,
          16336.997546073302,
          16336.909814414425,
          16337.056033845887,
          16336.792838869254,
          16336.880570528132,
          16336.96830218701,
          16336.822082755547,
          16336.96830218701,
          16336.939058300717,
          16336.909814414425,
          16336.997546073302,
          16336.96830218701,
          16336.705107210377,
          16336.909814414425,
          16336.880570528132,
          16336.96830218701,
          16336.822082755547,
          16336.792838869254,
          16336.939058300717,
          16336.85132664184,
          16336.763594982962,
          16336.792838869254,
          16336.880570528132,
          16336.96830218701,
          16336.822082755547,
          16336.763594982962,
          16336.792838869254,
          16336.763594982962,
          16336.73435109667,
          16336.705107210377,
          16336.73435109667,
          16336.763594982962,
          16336.85132664184,
          16336.763594982962,
          16336.85132664184,
          16336.73435109667,
          16336.646619437794,
          16336.73435109667,
          16336.822082755547,
          16336.675863324084,
          16336.646619437794,
          16336.792838869254,
          16336.646619437794,
          16336.73435109667,
          16336.763594982962,
          16337.611667684283,
          16337.406960480235,
          16337.494692139113,
          16337.58242379799,
          16337.553179911698,
          16337.640911570576,
          16337.436204366528,
          16337.640911570576,
          16337.553179911698,
          16337.58242379799,
          16337.523936025405,
          16337.553179911698,
          16337.58242379799,
          16337.553179911698,
          16337.523936025405,
          16337.553179911698,
          16337.46544825282,
          16337.494692139113,
          16337.46544825282,
          16337.553179911698,
          16337.611667684283,
          16337.699399342,
          16337.611667684283,
          16337.699399342,
          16337.728643228293,
          16337.523936025405,
          16337.728643228293,
          16337.58242379799,
          16337.670155456868,
          16337.640911570576,
          16337.787131000878,
          16337.58242379799,
          16337.728643228293,
          16337.523936025405,
          16337.611667684283,
          16337.640911570576,
          16337.553179911698,
          16337.46544825282,
          16337.670155456868,
          16337.640911570576,
          16337.553179911698,
          16337.523936025405,
          16337.436204366528,
          16337.523936025405,
          16337.553179911698,
          16337.46544825282,
          16337.494692139113,
          16337.523936025405,
          16337.436204366528,
          16337.406960480235,
          16337.319228821358,
          16337.23149716248,
          16337.436204366528,
          16337.23149716248,
          16337.319228821358,
          16337.289984935065,
          16337.319228821358,
          16337.23149716248,
          16337.202253276188,
          16337.289984935065,
          16337.289984935065,
          16337.319228821358,
          16337.34847270765,
          16337.202253276188,
          16337.173009389897,
          16337.260741048773,
          16337.173009389897,
          16337.260741048773,
          16337.173009389897,
          16337.202253276188,
          16337.23149716248,
          16337.319228821358,
          16337.34847270765,
          16337.319228821358,
          16337.34847270765,
          16337.494692139113,
          16337.34847270765,
          16337.436204366528,
          16337.34847270765,
          16337.494692139113,
          16337.260741048773,
          16337.34847270765,
          16337.377716593943,
          16337.289984935065,
          16337.319228821358,
          16337.46544825282,
          16337.377716593943,
          16337.34847270765,
          16337.436204366528,
          16337.523936025405,
          16337.260741048773,
          16337.289984935065,
          16337.436204366528,
          16337.289984935065,
          16337.377716593943,
          16337.23149716248,
          16337.319228821358,
          16337.34847270765,
          16337.202253276188,
          16337.406960480235,
          16335.740058965048,
          16335.593839533585,
          16335.564595647293,
          16335.65232730617,
          16335.740058965048,
          16335.593839533585,
          16335.740058965048,
          16335.535351761,
          16335.798546737633,
          16335.593839533585,
          16336.090985599396,
          16335.944766167935,
          16335.857034509057,
          16336.00325394052,
          16336.032497826813,
          16336.00325394052,
          16335.974010054228,
          16335.88627839535,
          16335.974010054228,
          16335.944766167935,
          16335.944766167935,
          16336.149473371981,
          16336.061741713103,
          16336.090985599396,
          16336.00325394052,
          16336.090985599396,
          16336.120229485688,
          16336.032497826813,
          16336.061741713103,
          16336.032497826813,
          16336.061741713103,
          16336.032497826813,
          16335.944766167935,
          16336.032497826813,
          16336.00325394052,
          16336.032497826813,
          16336.120229485688,
          16336.090985599396,
          16336.120229485688,
          16336.032497826813,
          16336.032497826813,
          16336.061741713103,
          16336.149473371981,
          16336.00325394052,
          16336.032497826813,
          16336.178717258274,
          16336.032497826813,
          16336.00325394052,
          16336.207961144566,
          16336.178717258274
         ]
        }
       ],
       "layout": {
        "legend": {
         "bgcolor": "#F5F6F9",
         "font": {
          "color": "#4D5663"
         }
        },
        "paper_bgcolor": "#F5F6F9",
        "plot_bgcolor": "#F5F6F9",
        "template": {
         "data": {
          "bar": [
           {
            "error_x": {
             "color": "#2a3f5f"
            },
            "error_y": {
             "color": "#2a3f5f"
            },
            "marker": {
             "line": {
              "color": "#E5ECF6",
              "width": 0.5
             }
            },
            "type": "bar"
           }
          ],
          "barpolar": [
           {
            "marker": {
             "line": {
              "color": "#E5ECF6",
              "width": 0.5
             }
            },
            "type": "barpolar"
           }
          ],
          "carpet": [
           {
            "aaxis": {
             "endlinecolor": "#2a3f5f",
             "gridcolor": "white",
             "linecolor": "white",
             "minorgridcolor": "white",
             "startlinecolor": "#2a3f5f"
            },
            "baxis": {
             "endlinecolor": "#2a3f5f",
             "gridcolor": "white",
             "linecolor": "white",
             "minorgridcolor": "white",
             "startlinecolor": "#2a3f5f"
            },
            "type": "carpet"
           }
          ],
          "choropleth": [
           {
            "colorbar": {
             "outlinewidth": 0,
             "ticks": ""
            },
            "type": "choropleth"
           }
          ],
          "contour": [
           {
            "colorbar": {
             "outlinewidth": 0,
             "ticks": ""
            },
            "colorscale": [
             [
              0,
              "#0d0887"
             ],
             [
              0.1111111111111111,
              "#46039f"
             ],
             [
              0.2222222222222222,
              "#7201a8"
             ],
             [
              0.3333333333333333,
              "#9c179e"
             ],
             [
              0.4444444444444444,
              "#bd3786"
             ],
             [
              0.5555555555555556,
              "#d8576b"
             ],
             [
              0.6666666666666666,
              "#ed7953"
             ],
             [
              0.7777777777777778,
              "#fb9f3a"
             ],
             [
              0.8888888888888888,
              "#fdca26"
             ],
             [
              1,
              "#f0f921"
             ]
            ],
            "type": "contour"
           }
          ],
          "contourcarpet": [
           {
            "colorbar": {
             "outlinewidth": 0,
             "ticks": ""
            },
            "type": "contourcarpet"
           }
          ],
          "heatmap": [
           {
            "colorbar": {
             "outlinewidth": 0,
             "ticks": ""
            },
            "colorscale": [
             [
              0,
              "#0d0887"
             ],
             [
              0.1111111111111111,
              "#46039f"
             ],
             [
              0.2222222222222222,
              "#7201a8"
             ],
             [
              0.3333333333333333,
              "#9c179e"
             ],
             [
              0.4444444444444444,
              "#bd3786"
             ],
             [
              0.5555555555555556,
              "#d8576b"
             ],
             [
              0.6666666666666666,
              "#ed7953"
             ],
             [
              0.7777777777777778,
              "#fb9f3a"
             ],
             [
              0.8888888888888888,
              "#fdca26"
             ],
             [
              1,
              "#f0f921"
             ]
            ],
            "type": "heatmap"
           }
          ],
          "heatmapgl": [
           {
            "colorbar": {
             "outlinewidth": 0,
             "ticks": ""
            },
            "colorscale": [
             [
              0,
              "#0d0887"
             ],
             [
              0.1111111111111111,
              "#46039f"
             ],
             [
              0.2222222222222222,
              "#7201a8"
             ],
             [
              0.3333333333333333,
              "#9c179e"
             ],
             [
              0.4444444444444444,
              "#bd3786"
             ],
             [
              0.5555555555555556,
              "#d8576b"
             ],
             [
              0.6666666666666666,
              "#ed7953"
             ],
             [
              0.7777777777777778,
              "#fb9f3a"
             ],
             [
              0.8888888888888888,
              "#fdca26"
             ],
             [
              1,
              "#f0f921"
             ]
            ],
            "type": "heatmapgl"
           }
          ],
          "histogram": [
           {
            "marker": {
             "colorbar": {
              "outlinewidth": 0,
              "ticks": ""
             }
            },
            "type": "histogram"
           }
          ],
          "histogram2d": [
           {
            "colorbar": {
             "outlinewidth": 0,
             "ticks": ""
            },
            "colorscale": [
             [
              0,
              "#0d0887"
             ],
             [
              0.1111111111111111,
              "#46039f"
             ],
             [
              0.2222222222222222,
              "#7201a8"
             ],
             [
              0.3333333333333333,
              "#9c179e"
             ],
             [
              0.4444444444444444,
              "#bd3786"
             ],
             [
              0.5555555555555556,
              "#d8576b"
             ],
             [
              0.6666666666666666,
              "#ed7953"
             ],
             [
              0.7777777777777778,
              "#fb9f3a"
             ],
             [
              0.8888888888888888,
              "#fdca26"
             ],
             [
              1,
              "#f0f921"
             ]
            ],
            "type": "histogram2d"
           }
          ],
          "histogram2dcontour": [
           {
            "colorbar": {
             "outlinewidth": 0,
             "ticks": ""
            },
            "colorscale": [
             [
              0,
              "#0d0887"
             ],
             [
              0.1111111111111111,
              "#46039f"
             ],
             [
              0.2222222222222222,
              "#7201a8"
             ],
             [
              0.3333333333333333,
              "#9c179e"
             ],
             [
              0.4444444444444444,
              "#bd3786"
             ],
             [
              0.5555555555555556,
              "#d8576b"
             ],
             [
              0.6666666666666666,
              "#ed7953"
             ],
             [
              0.7777777777777778,
              "#fb9f3a"
             ],
             [
              0.8888888888888888,
              "#fdca26"
             ],
             [
              1,
              "#f0f921"
             ]
            ],
            "type": "histogram2dcontour"
           }
          ],
          "mesh3d": [
           {
            "colorbar": {
             "outlinewidth": 0,
             "ticks": ""
            },
            "type": "mesh3d"
           }
          ],
          "parcoords": [
           {
            "line": {
             "colorbar": {
              "outlinewidth": 0,
              "ticks": ""
             }
            },
            "type": "parcoords"
           }
          ],
          "pie": [
           {
            "automargin": true,
            "type": "pie"
           }
          ],
          "scatter": [
           {
            "marker": {
             "colorbar": {
              "outlinewidth": 0,
              "ticks": ""
             }
            },
            "type": "scatter"
           }
          ],
          "scatter3d": [
           {
            "line": {
             "colorbar": {
              "outlinewidth": 0,
              "ticks": ""
             }
            },
            "marker": {
             "colorbar": {
              "outlinewidth": 0,
              "ticks": ""
             }
            },
            "type": "scatter3d"
           }
          ],
          "scattercarpet": [
           {
            "marker": {
             "colorbar": {
              "outlinewidth": 0,
              "ticks": ""
             }
            },
            "type": "scattercarpet"
           }
          ],
          "scattergeo": [
           {
            "marker": {
             "colorbar": {
              "outlinewidth": 0,
              "ticks": ""
             }
            },
            "type": "scattergeo"
           }
          ],
          "scattergl": [
           {
            "marker": {
             "colorbar": {
              "outlinewidth": 0,
              "ticks": ""
             }
            },
            "type": "scattergl"
           }
          ],
          "scattermapbox": [
           {
            "marker": {
             "colorbar": {
              "outlinewidth": 0,
              "ticks": ""
             }
            },
            "type": "scattermapbox"
           }
          ],
          "scatterpolar": [
           {
            "marker": {
             "colorbar": {
              "outlinewidth": 0,
              "ticks": ""
             }
            },
            "type": "scatterpolar"
           }
          ],
          "scatterpolargl": [
           {
            "marker": {
             "colorbar": {
              "outlinewidth": 0,
              "ticks": ""
             }
            },
            "type": "scatterpolargl"
           }
          ],
          "scatterternary": [
           {
            "marker": {
             "colorbar": {
              "outlinewidth": 0,
              "ticks": ""
             }
            },
            "type": "scatterternary"
           }
          ],
          "surface": [
           {
            "colorbar": {
             "outlinewidth": 0,
             "ticks": ""
            },
            "colorscale": [
             [
              0,
              "#0d0887"
             ],
             [
              0.1111111111111111,
              "#46039f"
             ],
             [
              0.2222222222222222,
              "#7201a8"
             ],
             [
              0.3333333333333333,
              "#9c179e"
             ],
             [
              0.4444444444444444,
              "#bd3786"
             ],
             [
              0.5555555555555556,
              "#d8576b"
             ],
             [
              0.6666666666666666,
              "#ed7953"
             ],
             [
              0.7777777777777778,
              "#fb9f3a"
             ],
             [
              0.8888888888888888,
              "#fdca26"
             ],
             [
              1,
              "#f0f921"
             ]
            ],
            "type": "surface"
           }
          ],
          "table": [
           {
            "cells": {
             "fill": {
              "color": "#EBF0F8"
             },
             "line": {
              "color": "white"
             }
            },
            "header": {
             "fill": {
              "color": "#C8D4E3"
             },
             "line": {
              "color": "white"
             }
            },
            "type": "table"
           }
          ]
         },
         "layout": {
          "annotationdefaults": {
           "arrowcolor": "#2a3f5f",
           "arrowhead": 0,
           "arrowwidth": 1
          },
          "autotypenumbers": "strict",
          "coloraxis": {
           "colorbar": {
            "outlinewidth": 0,
            "ticks": ""
           }
          },
          "colorscale": {
           "diverging": [
            [
             0,
             "#8e0152"
            ],
            [
             0.1,
             "#c51b7d"
            ],
            [
             0.2,
             "#de77ae"
            ],
            [
             0.3,
             "#f1b6da"
            ],
            [
             0.4,
             "#fde0ef"
            ],
            [
             0.5,
             "#f7f7f7"
            ],
            [
             0.6,
             "#e6f5d0"
            ],
            [
             0.7,
             "#b8e186"
            ],
            [
             0.8,
             "#7fbc41"
            ],
            [
             0.9,
             "#4d9221"
            ],
            [
             1,
             "#276419"
            ]
           ],
           "sequential": [
            [
             0,
             "#0d0887"
            ],
            [
             0.1111111111111111,
             "#46039f"
            ],
            [
             0.2222222222222222,
             "#7201a8"
            ],
            [
             0.3333333333333333,
             "#9c179e"
            ],
            [
             0.4444444444444444,
             "#bd3786"
            ],
            [
             0.5555555555555556,
             "#d8576b"
            ],
            [
             0.6666666666666666,
             "#ed7953"
            ],
            [
             0.7777777777777778,
             "#fb9f3a"
            ],
            [
             0.8888888888888888,
             "#fdca26"
            ],
            [
             1,
             "#f0f921"
            ]
           ],
           "sequentialminus": [
            [
             0,
             "#0d0887"
            ],
            [
             0.1111111111111111,
             "#46039f"
            ],
            [
             0.2222222222222222,
             "#7201a8"
            ],
            [
             0.3333333333333333,
             "#9c179e"
            ],
            [
             0.4444444444444444,
             "#bd3786"
            ],
            [
             0.5555555555555556,
             "#d8576b"
            ],
            [
             0.6666666666666666,
             "#ed7953"
            ],
            [
             0.7777777777777778,
             "#fb9f3a"
            ],
            [
             0.8888888888888888,
             "#fdca26"
            ],
            [
             1,
             "#f0f921"
            ]
           ]
          },
          "colorway": [
           "#636efa",
           "#EF553B",
           "#00cc96",
           "#ab63fa",
           "#FFA15A",
           "#19d3f3",
           "#FF6692",
           "#B6E880",
           "#FF97FF",
           "#FECB52"
          ],
          "font": {
           "color": "#2a3f5f"
          },
          "geo": {
           "bgcolor": "white",
           "lakecolor": "white",
           "landcolor": "#E5ECF6",
           "showlakes": true,
           "showland": true,
           "subunitcolor": "white"
          },
          "hoverlabel": {
           "align": "left"
          },
          "hovermode": "closest",
          "mapbox": {
           "style": "light"
          },
          "paper_bgcolor": "white",
          "plot_bgcolor": "#E5ECF6",
          "polar": {
           "angularaxis": {
            "gridcolor": "white",
            "linecolor": "white",
            "ticks": ""
           },
           "bgcolor": "#E5ECF6",
           "radialaxis": {
            "gridcolor": "white",
            "linecolor": "white",
            "ticks": ""
           }
          },
          "scene": {
           "xaxis": {
            "backgroundcolor": "#E5ECF6",
            "gridcolor": "white",
            "gridwidth": 2,
            "linecolor": "white",
            "showbackground": true,
            "ticks": "",
            "zerolinecolor": "white"
           },
           "yaxis": {
            "backgroundcolor": "#E5ECF6",
            "gridcolor": "white",
            "gridwidth": 2,
            "linecolor": "white",
            "showbackground": true,
            "ticks": "",
            "zerolinecolor": "white"
           },
           "zaxis": {
            "backgroundcolor": "#E5ECF6",
            "gridcolor": "white",
            "gridwidth": 2,
            "linecolor": "white",
            "showbackground": true,
            "ticks": "",
            "zerolinecolor": "white"
           }
          },
          "shapedefaults": {
           "line": {
            "color": "#2a3f5f"
           }
          },
          "ternary": {
           "aaxis": {
            "gridcolor": "white",
            "linecolor": "white",
            "ticks": ""
           },
           "baxis": {
            "gridcolor": "white",
            "linecolor": "white",
            "ticks": ""
           },
           "bgcolor": "#E5ECF6",
           "caxis": {
            "gridcolor": "white",
            "linecolor": "white",
            "ticks": ""
           }
          },
          "title": {
           "x": 0.05
          },
          "xaxis": {
           "automargin": true,
           "gridcolor": "white",
           "linecolor": "white",
           "ticks": "",
           "title": {
            "standoff": 15
           },
           "zerolinecolor": "white",
           "zerolinewidth": 2
          },
          "yaxis": {
           "automargin": true,
           "gridcolor": "white",
           "linecolor": "white",
           "ticks": "",
           "title": {
            "standoff": 15
           },
           "zerolinecolor": "white",
           "zerolinewidth": 2
          }
         }
        },
        "title": {
         "font": {
          "color": "#4D5663"
         },
         "text": "10 (T=-23~50) (H=0~100) (degree=1) (magic) (shift0_ppmx1) (RMSE y_pred_scale= 433.11)"
        },
        "xaxis": {
         "gridcolor": "#E1E5ED",
         "showgrid": true,
         "tickfont": {
          "color": "#4D5663"
         },
         "title": {
          "font": {
           "color": "#4D5663"
          },
          "text": ""
         },
         "zerolinecolor": "#E1E5ED"
        },
        "yaxis": {
         "gridcolor": "#E1E5ED",
         "showgrid": true,
         "tickfont": {
          "color": "#4D5663"
         },
         "title": {
          "font": {
           "color": "#4D5663"
          },
          "text": "ppm"
         },
         "zerolinecolor": "#E1E5ED"
        }
       }
      },
      "text/html": [
       "<div>                            <div id=\"df87ce54-2b53-4fe0-a695-efa49f714348\" class=\"plotly-graph-div\" style=\"height:525px; width:100%;\"></div>            <script type=\"text/javascript\">                require([\"plotly\"], function(Plotly) {                    window.PLOTLYENV=window.PLOTLYENV || {};\n",
       "                    window.PLOTLYENV.BASE_URL='https://plot.ly';                                    if (document.getElementById(\"df87ce54-2b53-4fe0-a695-efa49f714348\")) {                    Plotly.newPlot(                        \"df87ce54-2b53-4fe0-a695-efa49f714348\",                        [{\"line\": {\"color\": \"rgba(255, 153, 51, 1.0)\", \"dash\": \"solid\", \"shape\": \"linear\", \"width\": 1.3}, \"mode\": \"lines\", \"name\": \"y_true\", \"text\": \"\", \"type\": \"scatter\", \"x\": [0, 1, 2, 3, 4, 5, 6, 7, 8, 9, 10, 11, 12, 13, 14, 15, 16, 17, 18, 19, 20, 21, 22, 23, 24, 25, 26, 27, 28, 29, 30, 31, 32, 33, 34, 35, 36, 37, 38, 39, 40, 41, 42, 43, 44, 45, 46, 47, 48, 49, 50, 51, 52, 53, 54, 55, 56, 57, 58, 59, 60, 61, 62, 63, 64, 65, 66, 67, 68, 69, 70, 71, 72, 73, 74, 75, 76, 77, 78, 79, 80, 81, 82, 83, 84, 85, 86, 87, 88, 89, 90, 91, 92, 93, 94, 95, 96, 97, 98, 99, 100, 101, 102, 103, 104, 105, 106, 107, 108, 109, 110, 111, 112, 113, 114, 115, 116, 117, 118, 119, 120, 121, 122, 123, 124, 125, 126, 127, 128, 129, 130, 131, 132, 133, 134, 135, 136, 137, 138, 139, 140, 141, 142, 143, 144, 145, 146, 147, 148, 149, 150, 151, 152, 153, 154, 155, 156, 157, 158, 159, 160, 161, 162, 163, 164, 165, 166, 167, 168, 169, 170, 171, 172, 173, 174, 175, 176, 177, 178, 179, 180, 181, 182, 183, 184, 185, 186, 187, 188, 189, 190, 191, 192, 193, 194, 195, 196, 197, 198, 199, 200, 201, 202, 203, 204, 205, 206, 207, 208, 209, 210, 211, 212, 213, 214, 215, 216, 217, 218, 219, 220, 221, 222, 223, 224, 225, 226, 227, 228, 229, 230, 231, 232, 233, 234, 235, 236, 237, 238, 239, 240, 241, 242, 243, 244, 245, 246, 247, 248, 249, 250, 251, 252, 253, 254, 255, 256, 257, 258, 259, 260, 261, 262, 263, 264, 265, 266, 267, 268, 269, 270, 271, 272, 273, 274, 275, 276, 277, 278, 279, 280, 281, 282, 283, 284, 285, 286, 287, 288, 289, 290, 291, 292, 293, 294, 295, 296, 297, 298, 299, 300, 301, 302, 303, 304, 305, 306, 307, 308, 309, 310, 311, 312, 313, 314, 315, 316, 317, 318, 319, 320, 321, 322, 323, 324, 325, 326, 327, 328, 329, 330, 331, 332, 333, 334, 335, 336, 337, 338, 339, 340, 341, 342, 343, 344, 345, 346, 347, 348, 349, 350, 351, 352, 353, 354, 355, 356, 357, 358, 359, 360, 361, 362, 363, 364, 365, 366, 367, 368, 369, 370, 371, 372, 373, 374, 375, 376, 377, 378, 379, 380, 381, 382, 383, 384, 385, 386, 387, 388, 389, 390, 391, 392, 393, 394, 395, 396, 397, 398, 399], \"y\": [17274.27646095849, 17260.566187064527, 17253.67404784151, 17264.96506028766, 17253.057950167855, 17236.922415566733, 17244.73705398549, 17260.642606543097, 17248.940070485794, 17248.301158154194, 16060.297867374806, 16075.494848100381, 16070.168137625453, 16066.55783111622, 16077.398220417015, 16072.846969313641, 16059.192820585438, 16066.621593876265, 16058.256093667758, 16053.85881315943, 16160.428142933111, 16159.125873531217, 16171.968777652377, 16172.052590075331, 16160.906084756656, 16152.276119548593, 16167.241265524992, 16152.72972746846, 16160.515044406628, 16159.793433291583, 16305.209539987309, 16328.267586911188, 16330.676959038434, 16317.745723103211, 16304.81717441935, 16309.404791228426, 16315.699059748149, 16307.090564008135, 16312.244314737733, 16334.345350939937, 16482.140160120307, 16478.832804253772, 16481.533016374302, 16486.17065509973, 16483.527997069865, 16480.05495584248, 16486.62542775361, 16487.94012799789, 16471.334134393033, 16492.324347338985, 17075.498841705736, 17038.88235568126, 17055.178281249726, 17062.651970484414, 17053.238055861115, 17037.11809133226, 17050.53667712339, 17054.94209029939, 17044.223657734557, 17055.94396670721, 16060.77422058619, 16072.630705195565, 16072.830954269908, 16050.600227697225, 16057.33853480478, 16055.538383151674, 16048.753197879614, 16062.875605528334, 16062.955972446065, 16030.484444034191, 16186.60670734119, 16177.768507244324, 16168.895701334379, 16170.107332051539, 16181.984391864331, 16175.852379002736, 16162.362680250864, 16167.906011484905, 16160.974089809692, 16167.867753900493, 16335.342124700093, 16323.357123516605, 16335.757792508952, 16316.427107856605, 16326.443448693215, 16324.067266105249, 16338.986237228191, 16338.964606988862, 16319.596769149784, 16332.52564768101, 16520.537203521686, 16507.668223808334, 16511.32451887368, 16521.445658796663, 16518.24482884501, 16503.35971642943, 16501.01685211485, 16501.87936038809, 16498.078395340228, 16505.648813086835, 17370.767552314686, 17373.019649945956, 17362.707892196344, 17358.65122204168, 17353.299308379796, 17362.332812567733, 17351.935347871044, 17365.917440195935, 17372.636550856645, 17342.655052703893, 16107.46511890621, 16088.717360763661, 16084.473779481918, 16081.529217004803, 16081.329553489339, 16061.216923767135, 16067.398453333466, 16072.384598769826, 16076.22184542559, 16056.954732194456, 16188.403102317703, 16170.893262023783, 16166.57354961331, 16183.758396657306, 16189.541896297807, 16173.411316606038, 16181.827090495433, 16187.670312656837, 16174.882973871856, 16163.700567886626, 16342.921267889356, 16343.430045275582, 16337.451179019536, 16350.126342753843, 16325.474694115692, 16338.700174464324, 16341.70149680901, 16355.198058716473, 16334.836716186217, 16335.580311433736, 16512.131480026124, 16517.4386904901, 16521.082074652437, 16515.510276101493, 16509.9275894201, 16520.68985206373, 16535.18776783573, 16526.638644434548, 16510.331520241645, 16513.627521016366, 17425.276210560867, 17419.968006031795, 17422.704874385872, 17409.390354778483, 17428.1096957946, 17412.45556817506, 17425.83158960296, 17417.38996617093, 17418.443896191166, 17427.18323508303, 16151.058714051691, 16134.568797098089, 16130.347849646525, 16129.849555989615, 16134.662201685655, 16120.927862512086, 16119.63938875344, 16126.371704487385, 16113.71764766412, 16111.053972309026, 16222.83141099282, 16224.955150921302, 16219.839213491046, 16211.923790954723, 16224.4915754664, 16224.461818266134, 16208.397881198272, 16214.975925964003, 16211.256526449522, 16216.638747296896, 16395.846670739636, 16374.677500572765, 16362.669330738741, 16377.601209592414, 16377.727190037, 16377.601494031967, 16388.124634613567, 16369.612225009187, 16377.726774725832, 16362.699345590056, 16549.26818463408, 16556.13429128158, 16547.230097419222, 16545.104869965395, 16551.187981456933, 16543.843026563216, 16546.873171551142, 16547.2604718816, 16553.34435906379, 16544.3276986927, 16940.86034768302, 16967.84950623699, 16953.81617053179, 16955.891254068767, 16942.832424804146, 16956.116146665976, 16953.825126591386, 16966.062568917034, 16953.700704316474, 16942.446128263535, 16057.247144105635, 16056.598078176403, 16047.943511945612, 16036.247497427983, 16045.68570648184, 16058.291456660982, 16027.148094960543, 16034.82983257073, 16029.285101065401, 16036.525011274209, 16172.568340398882, 16181.10076216472, 16182.985811816003, 16168.666645129284, 16173.83833918892, 16165.258609689714, 16168.51833045229, 16173.680949910477, 16161.037313904584, 16176.103634207793, 16338.365508183748, 16362.002897107122, 16343.440480386076, 16340.57548639652, 16346.042668769827, 16341.415998760443, 16338.784977982672, 16349.027712473808, 16356.469049813362, 16345.17725669637, 16530.49931777474, 16548.764041373794, 16532.058975586442, 16540.041326543284, 16550.049158344515, 16545.716573930164, 16542.518690728975, 16557.610452608373, 16531.586121347882, 16533.105430947897, 17287.024768965268, 17277.593639643164, 17275.302047493828, 17266.19200680871, 17276.72834513198, 17279.551738610477, 17272.17059687043, 17278.528553405682, 17275.705872311, 17293.126740072035, 16045.805548380085, 16041.418809873863, 16037.034481282612, 16041.75794748756, 16036.463549239306, 16017.1519158513, 16047.274152045276, 16031.853140621863, 16034.879823390087, 16038.1973467036, 16141.518777348587, 16164.960246582876, 16141.232778310832, 16131.598170543939, 16133.483922366606, 16138.555869468988, 16161.930357060208, 16125.183702825681, 16138.41577284526, 16142.46548917627, 16321.913217264551, 16306.398999145706, 16321.436943790668, 16295.112194446614, 16302.141681867623, 16307.054909122282, 16290.655446213963, 16286.488576005808, 16284.861358401435, 16294.61788666113, 16494.812074496807, 16471.63734022876, 16489.49318540049, 16476.17810862028, 16461.463865210753, 16467.724177175667, 16462.760895567553, 16484.805063660653, 16478.35900207872, 16476.287305771024, 17036.30632164706, 17030.78846951282, 17029.26685329133, 17044.206883445284, 17051.34814216952, 17040.060579298934, 17048.802401342637, 17044.400274169147, 17050.199948733163, 17063.10735283167, 15955.24838270682, 15964.286642594148, 15973.162385898988, 15958.058633176232, 15942.907687397466, 15938.765270922826, 15954.501233370796, 15939.628299444064, 15938.522346264914, 15937.533169782953, 16042.454943104041, 16017.415876763696, 16025.092728327803, 16028.453419325258, 16024.22571593083, 16047.644232293525, 16034.931064431059, 16016.514466285247, 16020.16802767209, 16033.545411393621, 16140.328501727989, 16153.57299020857, 16140.8132366579, 16146.841598433306, 16169.48748010347, 16144.796023457468, 16141.465916728823, 16149.124195664308, 16166.920773029953, 16133.459697980588, 16305.864563495095, 16308.55453985055, 16291.76067836798, 16303.245493425089, 16307.015707784865, 16296.042426828144, 16292.457267697087, 16300.860405087247, 16300.29999390723, 16290.71065845503, 17289.85381509755, 17296.225651658377, 17306.854722974316, 17308.31560212435, 17310.123820678717, 17298.969144631646, 17310.47204062884, 17295.47788465822, 17308.823262883303, 17293.48139522525, 16063.504311334149, 16042.86156758437, 16064.659094157772, 16037.962896322806, 16051.499778691988, 16036.596714269694, 16041.182217898946, 16032.546202895235, 16033.321002366329, 16018.601357991589, 16125.207523041254, 16147.869300180048, 16125.691169097601, 16146.598628926764, 16150.611940265091, 16141.75713521848, 16118.872377778247, 16130.129030956641, 16124.004929445777, 16108.89560367462, 16283.59148940632, 16273.92069264608, 16279.985367603866, 16294.848152027671, 16270.813396960177, 16296.08041870231, 16280.165281120377, 16281.365188527327, 16302.327688716974, 16273.92069264608, 16454.001749361003, 16456.883724969717, 16461.53966902727, 16465.158335585253, 16473.972433910385, 16454.95164438093, 16455.25694459746, 16453.0589476509, 16450.41997120996, 16453.240723570558]}, {\"line\": {\"color\": \"rgba(55, 128, 191, 1.0)\", \"dash\": \"solid\", \"shape\": \"linear\", \"width\": 1.3}, \"mode\": \"lines\", \"name\": \"y_pred\", \"text\": \"\", \"type\": \"scatter\", \"x\": [0, 1, 2, 3, 4, 5, 6, 7, 8, 9, 10, 11, 12, 13, 14, 15, 16, 17, 18, 19, 20, 21, 22, 23, 24, 25, 26, 27, 28, 29, 30, 31, 32, 33, 34, 35, 36, 37, 38, 39, 40, 41, 42, 43, 44, 45, 46, 47, 48, 49, 50, 51, 52, 53, 54, 55, 56, 57, 58, 59, 60, 61, 62, 63, 64, 65, 66, 67, 68, 69, 70, 71, 72, 73, 74, 75, 76, 77, 78, 79, 80, 81, 82, 83, 84, 85, 86, 87, 88, 89, 90, 91, 92, 93, 94, 95, 96, 97, 98, 99, 100, 101, 102, 103, 104, 105, 106, 107, 108, 109, 110, 111, 112, 113, 114, 115, 116, 117, 118, 119, 120, 121, 122, 123, 124, 125, 126, 127, 128, 129, 130, 131, 132, 133, 134, 135, 136, 137, 138, 139, 140, 141, 142, 143, 144, 145, 146, 147, 148, 149, 150, 151, 152, 153, 154, 155, 156, 157, 158, 159, 160, 161, 162, 163, 164, 165, 166, 167, 168, 169, 170, 171, 172, 173, 174, 175, 176, 177, 178, 179, 180, 181, 182, 183, 184, 185, 186, 187, 188, 189, 190, 191, 192, 193, 194, 195, 196, 197, 198, 199, 200, 201, 202, 203, 204, 205, 206, 207, 208, 209, 210, 211, 212, 213, 214, 215, 216, 217, 218, 219, 220, 221, 222, 223, 224, 225, 226, 227, 228, 229, 230, 231, 232, 233, 234, 235, 236, 237, 238, 239, 240, 241, 242, 243, 244, 245, 246, 247, 248, 249, 250, 251, 252, 253, 254, 255, 256, 257, 258, 259, 260, 261, 262, 263, 264, 265, 266, 267, 268, 269, 270, 271, 272, 273, 274, 275, 276, 277, 278, 279, 280, 281, 282, 283, 284, 285, 286, 287, 288, 289, 290, 291, 292, 293, 294, 295, 296, 297, 298, 299, 300, 301, 302, 303, 304, 305, 306, 307, 308, 309, 310, 311, 312, 313, 314, 315, 316, 317, 318, 319, 320, 321, 322, 323, 324, 325, 326, 327, 328, 329, 330, 331, 332, 333, 334, 335, 336, 337, 338, 339, 340, 341, 342, 343, 344, 345, 346, 347, 348, 349, 350, 351, 352, 353, 354, 355, 356, 357, 358, 359, 360, 361, 362, 363, 364, 365, 366, 367, 368, 369, 370, 371, 372, 373, 374, 375, 376, 377, 378, 379, 380, 381, 382, 383, 384, 385, 386, 387, 388, 389, 390, 391, 392, 393, 394, 395, 396, 397, 398, 399], \"y\": [16336.50040000633, 16336.471156120038, 16336.558887778916, 16336.529643892623, 16336.617375551501, 16336.471156120038, 16336.617375551501, 16336.529643892623, 16336.50040000633, 16336.529643892623, 16336.471156120038, 16336.558887778916, 16336.529643892623, 16336.73435109667, 16336.471156120038, 16336.558887778916, 16336.529643892623, 16336.50040000633, 16336.588131665208, 16336.50040000633, 16336.73435109667, 16336.705107210377, 16336.50040000633, 16336.763594982962, 16336.675863324084, 16336.646619437794, 16336.85132664184, 16336.646619437794, 16336.73435109667, 16336.646619437794, 16336.588131665208, 16336.50040000633, 16336.705107210377, 16336.558887778916, 16336.588131665208, 16336.792838869254, 16336.705107210377, 16336.675863324084, 16336.646619437794, 16336.792838869254, 16336.792838869254, 16336.705107210377, 16336.73435109667, 16336.705107210377, 16336.73435109667, 16336.705107210377, 16336.617375551501, 16336.705107210377, 16336.73435109667, 16336.646619437794, 16335.564595647293, 16335.535351761, 16335.50610787471, 16335.65232730617, 16335.564595647293, 16335.476863988417, 16335.564595647293, 16335.65232730617, 16335.564595647293, 16335.65232730617, 16335.593839533585, 16335.623083419878, 16335.65232730617, 16335.564595647293, 16335.476863988417, 16335.681571192463, 16335.710815078755, 16335.681571192463, 16335.593839533585, 16335.564595647293, 16335.418376215832, 16335.564595647293, 16335.418376215832, 16335.447620102124, 16335.418376215832, 16335.38913232954, 16335.242912898077, 16335.50610787471, 16335.301400670662, 16335.38913232954, 16335.330644556954, 16335.359888443247, 16335.564595647293, 16335.418376215832, 16335.447620102124, 16335.476863988417, 16335.38913232954, 16335.535351761, 16335.38913232954, 16335.535351761, 16335.27215678437, 16335.242912898077, 16335.213669011784, 16335.184425126652, 16335.213669011784, 16335.242912898077, 16335.213669011784, 16335.301400670662, 16335.27215678437, 16335.301400670662, 16336.939058300717, 16337.143765503604, 16337.056033845887, 16337.08527773102, 16337.114521617312, 16336.96830218701, 16337.056033845887, 16337.143765503604, 16337.114521617312, 16337.260741048773, 16337.114521617312, 16337.026789959595, 16336.997546073302, 16336.909814414425, 16337.056033845887, 16336.96830218701, 16336.939058300717, 16337.026789959595, 16336.997546073302, 16337.08527773102, 16336.909814414425, 16336.939058300717, 16337.026789959595, 16336.939058300717, 16336.85132664184, 16336.880570528132, 16337.026789959595, 16336.997546073302, 16336.96830218701, 16336.997546073302, 16336.880570528132, 16336.96830218701, 16336.880570528132, 16336.96830218701, 16336.822082755547, 16336.909814414425, 16336.880570528132, 16337.026789959595, 16336.880570528132, 16336.792838869254, 16336.792838869254, 16336.880570528132, 16336.792838869254, 16336.822082755547, 16336.909814414425, 16336.939058300717, 16336.96830218701, 16336.822082755547, 16336.85132664184, 16336.880570528132, 16336.880570528132, 16337.08527773102, 16337.114521617312, 16337.08527773102, 16336.997546073302, 16337.08527773102, 16337.114521617312, 16337.202253276188, 16337.23149716248, 16337.08527773102, 16337.143765503604, 16337.114521617312, 16337.143765503604, 16336.939058300717, 16337.026789959595, 16336.880570528132, 16336.96830218701, 16337.056033845887, 16336.96830218701, 16336.997546073302, 16336.880570528132, 16336.96830218701, 16336.939058300717, 16336.96830218701, 16336.939058300717, 16336.909814414425, 16336.880570528132, 16336.96830218701, 16336.880570528132, 16336.792838869254, 16336.822082755547, 16336.675863324084, 16336.880570528132, 16336.96830218701, 16336.822082755547, 16336.909814414425, 16336.880570528132, 16336.909814414425, 16336.880570528132, 16336.909814414425, 16336.73435109667, 16336.763594982962, 16336.73435109667, 16336.880570528132, 16336.85132664184, 16336.646619437794, 16336.85132664184, 16336.763594982962, 16336.73435109667, 16336.822082755547, 16337.026789959595, 16336.822082755547, 16337.026789959595, 16336.939058300717, 16336.96830218701, 16336.997546073302, 16336.909814414425, 16337.056033845887, 16336.792838869254, 16336.880570528132, 16336.96830218701, 16336.822082755547, 16336.96830218701, 16336.939058300717, 16336.909814414425, 16336.997546073302, 16336.96830218701, 16336.705107210377, 16336.909814414425, 16336.880570528132, 16336.96830218701, 16336.822082755547, 16336.792838869254, 16336.939058300717, 16336.85132664184, 16336.763594982962, 16336.792838869254, 16336.880570528132, 16336.96830218701, 16336.822082755547, 16336.763594982962, 16336.792838869254, 16336.763594982962, 16336.73435109667, 16336.705107210377, 16336.73435109667, 16336.763594982962, 16336.85132664184, 16336.763594982962, 16336.85132664184, 16336.73435109667, 16336.646619437794, 16336.73435109667, 16336.822082755547, 16336.675863324084, 16336.646619437794, 16336.792838869254, 16336.646619437794, 16336.73435109667, 16336.763594982962, 16337.611667684283, 16337.406960480235, 16337.494692139113, 16337.58242379799, 16337.553179911698, 16337.640911570576, 16337.436204366528, 16337.640911570576, 16337.553179911698, 16337.58242379799, 16337.523936025405, 16337.553179911698, 16337.58242379799, 16337.553179911698, 16337.523936025405, 16337.553179911698, 16337.46544825282, 16337.494692139113, 16337.46544825282, 16337.553179911698, 16337.611667684283, 16337.699399342, 16337.611667684283, 16337.699399342, 16337.728643228293, 16337.523936025405, 16337.728643228293, 16337.58242379799, 16337.670155456868, 16337.640911570576, 16337.787131000878, 16337.58242379799, 16337.728643228293, 16337.523936025405, 16337.611667684283, 16337.640911570576, 16337.553179911698, 16337.46544825282, 16337.670155456868, 16337.640911570576, 16337.553179911698, 16337.523936025405, 16337.436204366528, 16337.523936025405, 16337.553179911698, 16337.46544825282, 16337.494692139113, 16337.523936025405, 16337.436204366528, 16337.406960480235, 16337.319228821358, 16337.23149716248, 16337.436204366528, 16337.23149716248, 16337.319228821358, 16337.289984935065, 16337.319228821358, 16337.23149716248, 16337.202253276188, 16337.289984935065, 16337.289984935065, 16337.319228821358, 16337.34847270765, 16337.202253276188, 16337.173009389897, 16337.260741048773, 16337.173009389897, 16337.260741048773, 16337.173009389897, 16337.202253276188, 16337.23149716248, 16337.319228821358, 16337.34847270765, 16337.319228821358, 16337.34847270765, 16337.494692139113, 16337.34847270765, 16337.436204366528, 16337.34847270765, 16337.494692139113, 16337.260741048773, 16337.34847270765, 16337.377716593943, 16337.289984935065, 16337.319228821358, 16337.46544825282, 16337.377716593943, 16337.34847270765, 16337.436204366528, 16337.523936025405, 16337.260741048773, 16337.289984935065, 16337.436204366528, 16337.289984935065, 16337.377716593943, 16337.23149716248, 16337.319228821358, 16337.34847270765, 16337.202253276188, 16337.406960480235, 16335.740058965048, 16335.593839533585, 16335.564595647293, 16335.65232730617, 16335.740058965048, 16335.593839533585, 16335.740058965048, 16335.535351761, 16335.798546737633, 16335.593839533585, 16336.090985599396, 16335.944766167935, 16335.857034509057, 16336.00325394052, 16336.032497826813, 16336.00325394052, 16335.974010054228, 16335.88627839535, 16335.974010054228, 16335.944766167935, 16335.944766167935, 16336.149473371981, 16336.061741713103, 16336.090985599396, 16336.00325394052, 16336.090985599396, 16336.120229485688, 16336.032497826813, 16336.061741713103, 16336.032497826813, 16336.061741713103, 16336.032497826813, 16335.944766167935, 16336.032497826813, 16336.00325394052, 16336.032497826813, 16336.120229485688, 16336.090985599396, 16336.120229485688, 16336.032497826813, 16336.032497826813, 16336.061741713103, 16336.149473371981, 16336.00325394052, 16336.032497826813, 16336.178717258274, 16336.032497826813, 16336.00325394052, 16336.207961144566, 16336.178717258274]}],                        {\"legend\": {\"bgcolor\": \"#F5F6F9\", \"font\": {\"color\": \"#4D5663\"}}, \"paper_bgcolor\": \"#F5F6F9\", \"plot_bgcolor\": \"#F5F6F9\", \"template\": {\"data\": {\"bar\": [{\"error_x\": {\"color\": \"#2a3f5f\"}, \"error_y\": {\"color\": \"#2a3f5f\"}, \"marker\": {\"line\": {\"color\": \"#E5ECF6\", \"width\": 0.5}}, \"type\": \"bar\"}], \"barpolar\": [{\"marker\": {\"line\": {\"color\": \"#E5ECF6\", \"width\": 0.5}}, \"type\": \"barpolar\"}], \"carpet\": [{\"aaxis\": {\"endlinecolor\": \"#2a3f5f\", \"gridcolor\": \"white\", \"linecolor\": \"white\", \"minorgridcolor\": \"white\", \"startlinecolor\": \"#2a3f5f\"}, \"baxis\": {\"endlinecolor\": \"#2a3f5f\", \"gridcolor\": \"white\", \"linecolor\": \"white\", \"minorgridcolor\": \"white\", \"startlinecolor\": \"#2a3f5f\"}, \"type\": \"carpet\"}], \"choropleth\": [{\"colorbar\": {\"outlinewidth\": 0, \"ticks\": \"\"}, \"type\": \"choropleth\"}], \"contour\": [{\"colorbar\": {\"outlinewidth\": 0, \"ticks\": \"\"}, \"colorscale\": [[0.0, \"#0d0887\"], [0.1111111111111111, \"#46039f\"], [0.2222222222222222, \"#7201a8\"], [0.3333333333333333, \"#9c179e\"], [0.4444444444444444, \"#bd3786\"], [0.5555555555555556, \"#d8576b\"], [0.6666666666666666, \"#ed7953\"], [0.7777777777777778, \"#fb9f3a\"], [0.8888888888888888, \"#fdca26\"], [1.0, \"#f0f921\"]], \"type\": \"contour\"}], \"contourcarpet\": [{\"colorbar\": {\"outlinewidth\": 0, \"ticks\": \"\"}, \"type\": \"contourcarpet\"}], \"heatmap\": [{\"colorbar\": {\"outlinewidth\": 0, \"ticks\": \"\"}, \"colorscale\": [[0.0, \"#0d0887\"], [0.1111111111111111, \"#46039f\"], [0.2222222222222222, \"#7201a8\"], [0.3333333333333333, \"#9c179e\"], [0.4444444444444444, \"#bd3786\"], [0.5555555555555556, \"#d8576b\"], [0.6666666666666666, \"#ed7953\"], [0.7777777777777778, \"#fb9f3a\"], [0.8888888888888888, \"#fdca26\"], [1.0, \"#f0f921\"]], \"type\": \"heatmap\"}], \"heatmapgl\": [{\"colorbar\": {\"outlinewidth\": 0, \"ticks\": \"\"}, \"colorscale\": [[0.0, \"#0d0887\"], [0.1111111111111111, \"#46039f\"], [0.2222222222222222, \"#7201a8\"], [0.3333333333333333, \"#9c179e\"], [0.4444444444444444, \"#bd3786\"], [0.5555555555555556, \"#d8576b\"], [0.6666666666666666, \"#ed7953\"], [0.7777777777777778, \"#fb9f3a\"], [0.8888888888888888, \"#fdca26\"], [1.0, \"#f0f921\"]], \"type\": \"heatmapgl\"}], \"histogram\": [{\"marker\": {\"colorbar\": {\"outlinewidth\": 0, \"ticks\": \"\"}}, \"type\": \"histogram\"}], \"histogram2d\": [{\"colorbar\": {\"outlinewidth\": 0, \"ticks\": \"\"}, \"colorscale\": [[0.0, \"#0d0887\"], [0.1111111111111111, \"#46039f\"], [0.2222222222222222, \"#7201a8\"], [0.3333333333333333, \"#9c179e\"], [0.4444444444444444, \"#bd3786\"], [0.5555555555555556, \"#d8576b\"], [0.6666666666666666, \"#ed7953\"], [0.7777777777777778, \"#fb9f3a\"], [0.8888888888888888, \"#fdca26\"], [1.0, \"#f0f921\"]], \"type\": \"histogram2d\"}], \"histogram2dcontour\": [{\"colorbar\": {\"outlinewidth\": 0, \"ticks\": \"\"}, \"colorscale\": [[0.0, \"#0d0887\"], [0.1111111111111111, \"#46039f\"], [0.2222222222222222, \"#7201a8\"], [0.3333333333333333, \"#9c179e\"], [0.4444444444444444, \"#bd3786\"], [0.5555555555555556, \"#d8576b\"], [0.6666666666666666, \"#ed7953\"], [0.7777777777777778, \"#fb9f3a\"], [0.8888888888888888, \"#fdca26\"], [1.0, \"#f0f921\"]], \"type\": \"histogram2dcontour\"}], \"mesh3d\": [{\"colorbar\": {\"outlinewidth\": 0, \"ticks\": \"\"}, \"type\": \"mesh3d\"}], \"parcoords\": [{\"line\": {\"colorbar\": {\"outlinewidth\": 0, \"ticks\": \"\"}}, \"type\": \"parcoords\"}], \"pie\": [{\"automargin\": true, \"type\": \"pie\"}], \"scatter\": [{\"marker\": {\"colorbar\": {\"outlinewidth\": 0, \"ticks\": \"\"}}, \"type\": \"scatter\"}], \"scatter3d\": [{\"line\": {\"colorbar\": {\"outlinewidth\": 0, \"ticks\": \"\"}}, \"marker\": {\"colorbar\": {\"outlinewidth\": 0, \"ticks\": \"\"}}, \"type\": \"scatter3d\"}], \"scattercarpet\": [{\"marker\": {\"colorbar\": {\"outlinewidth\": 0, \"ticks\": \"\"}}, \"type\": \"scattercarpet\"}], \"scattergeo\": [{\"marker\": {\"colorbar\": {\"outlinewidth\": 0, \"ticks\": \"\"}}, \"type\": \"scattergeo\"}], \"scattergl\": [{\"marker\": {\"colorbar\": {\"outlinewidth\": 0, \"ticks\": \"\"}}, \"type\": \"scattergl\"}], \"scattermapbox\": [{\"marker\": {\"colorbar\": {\"outlinewidth\": 0, \"ticks\": \"\"}}, \"type\": \"scattermapbox\"}], \"scatterpolar\": [{\"marker\": {\"colorbar\": {\"outlinewidth\": 0, \"ticks\": \"\"}}, \"type\": \"scatterpolar\"}], \"scatterpolargl\": [{\"marker\": {\"colorbar\": {\"outlinewidth\": 0, \"ticks\": \"\"}}, \"type\": \"scatterpolargl\"}], \"scatterternary\": [{\"marker\": {\"colorbar\": {\"outlinewidth\": 0, \"ticks\": \"\"}}, \"type\": \"scatterternary\"}], \"surface\": [{\"colorbar\": {\"outlinewidth\": 0, \"ticks\": \"\"}, \"colorscale\": [[0.0, \"#0d0887\"], [0.1111111111111111, \"#46039f\"], [0.2222222222222222, \"#7201a8\"], [0.3333333333333333, \"#9c179e\"], [0.4444444444444444, \"#bd3786\"], [0.5555555555555556, \"#d8576b\"], [0.6666666666666666, \"#ed7953\"], [0.7777777777777778, \"#fb9f3a\"], [0.8888888888888888, \"#fdca26\"], [1.0, \"#f0f921\"]], \"type\": \"surface\"}], \"table\": [{\"cells\": {\"fill\": {\"color\": \"#EBF0F8\"}, \"line\": {\"color\": \"white\"}}, \"header\": {\"fill\": {\"color\": \"#C8D4E3\"}, \"line\": {\"color\": \"white\"}}, \"type\": \"table\"}]}, \"layout\": {\"annotationdefaults\": {\"arrowcolor\": \"#2a3f5f\", \"arrowhead\": 0, \"arrowwidth\": 1}, \"autotypenumbers\": \"strict\", \"coloraxis\": {\"colorbar\": {\"outlinewidth\": 0, \"ticks\": \"\"}}, \"colorscale\": {\"diverging\": [[0, \"#8e0152\"], [0.1, \"#c51b7d\"], [0.2, \"#de77ae\"], [0.3, \"#f1b6da\"], [0.4, \"#fde0ef\"], [0.5, \"#f7f7f7\"], [0.6, \"#e6f5d0\"], [0.7, \"#b8e186\"], [0.8, \"#7fbc41\"], [0.9, \"#4d9221\"], [1, \"#276419\"]], \"sequential\": [[0.0, \"#0d0887\"], [0.1111111111111111, \"#46039f\"], [0.2222222222222222, \"#7201a8\"], [0.3333333333333333, \"#9c179e\"], [0.4444444444444444, \"#bd3786\"], [0.5555555555555556, \"#d8576b\"], [0.6666666666666666, \"#ed7953\"], [0.7777777777777778, \"#fb9f3a\"], [0.8888888888888888, \"#fdca26\"], [1.0, \"#f0f921\"]], \"sequentialminus\": [[0.0, \"#0d0887\"], [0.1111111111111111, \"#46039f\"], [0.2222222222222222, \"#7201a8\"], [0.3333333333333333, \"#9c179e\"], [0.4444444444444444, \"#bd3786\"], [0.5555555555555556, \"#d8576b\"], [0.6666666666666666, \"#ed7953\"], [0.7777777777777778, \"#fb9f3a\"], [0.8888888888888888, \"#fdca26\"], [1.0, \"#f0f921\"]]}, \"colorway\": [\"#636efa\", \"#EF553B\", \"#00cc96\", \"#ab63fa\", \"#FFA15A\", \"#19d3f3\", \"#FF6692\", \"#B6E880\", \"#FF97FF\", \"#FECB52\"], \"font\": {\"color\": \"#2a3f5f\"}, \"geo\": {\"bgcolor\": \"white\", \"lakecolor\": \"white\", \"landcolor\": \"#E5ECF6\", \"showlakes\": true, \"showland\": true, \"subunitcolor\": \"white\"}, \"hoverlabel\": {\"align\": \"left\"}, \"hovermode\": \"closest\", \"mapbox\": {\"style\": \"light\"}, \"paper_bgcolor\": \"white\", \"plot_bgcolor\": \"#E5ECF6\", \"polar\": {\"angularaxis\": {\"gridcolor\": \"white\", \"linecolor\": \"white\", \"ticks\": \"\"}, \"bgcolor\": \"#E5ECF6\", \"radialaxis\": {\"gridcolor\": \"white\", \"linecolor\": \"white\", \"ticks\": \"\"}}, \"scene\": {\"xaxis\": {\"backgroundcolor\": \"#E5ECF6\", \"gridcolor\": \"white\", \"gridwidth\": 2, \"linecolor\": \"white\", \"showbackground\": true, \"ticks\": \"\", \"zerolinecolor\": \"white\"}, \"yaxis\": {\"backgroundcolor\": \"#E5ECF6\", \"gridcolor\": \"white\", \"gridwidth\": 2, \"linecolor\": \"white\", \"showbackground\": true, \"ticks\": \"\", \"zerolinecolor\": \"white\"}, \"zaxis\": {\"backgroundcolor\": \"#E5ECF6\", \"gridcolor\": \"white\", \"gridwidth\": 2, \"linecolor\": \"white\", \"showbackground\": true, \"ticks\": \"\", \"zerolinecolor\": \"white\"}}, \"shapedefaults\": {\"line\": {\"color\": \"#2a3f5f\"}}, \"ternary\": {\"aaxis\": {\"gridcolor\": \"white\", \"linecolor\": \"white\", \"ticks\": \"\"}, \"baxis\": {\"gridcolor\": \"white\", \"linecolor\": \"white\", \"ticks\": \"\"}, \"bgcolor\": \"#E5ECF6\", \"caxis\": {\"gridcolor\": \"white\", \"linecolor\": \"white\", \"ticks\": \"\"}}, \"title\": {\"x\": 0.05}, \"xaxis\": {\"automargin\": true, \"gridcolor\": \"white\", \"linecolor\": \"white\", \"ticks\": \"\", \"title\": {\"standoff\": 15}, \"zerolinecolor\": \"white\", \"zerolinewidth\": 2}, \"yaxis\": {\"automargin\": true, \"gridcolor\": \"white\", \"linecolor\": \"white\", \"ticks\": \"\", \"title\": {\"standoff\": 15}, \"zerolinecolor\": \"white\", \"zerolinewidth\": 2}}}, \"title\": {\"font\": {\"color\": \"#4D5663\"}, \"text\": \"10 (T=-23~50) (H=0~100) (degree=1) (magic) (shift0_ppmx1) (RMSE y_pred_scale= 433.11)\"}, \"xaxis\": {\"gridcolor\": \"#E1E5ED\", \"showgrid\": true, \"tickfont\": {\"color\": \"#4D5663\"}, \"title\": {\"font\": {\"color\": \"#4D5663\"}, \"text\": \"\"}, \"zerolinecolor\": \"#E1E5ED\"}, \"yaxis\": {\"gridcolor\": \"#E1E5ED\", \"showgrid\": true, \"tickfont\": {\"color\": \"#4D5663\"}, \"title\": {\"font\": {\"color\": \"#4D5663\"}, \"text\": \"ppm\"}, \"zerolinecolor\": \"#E1E5ED\"}},                        {\"showLink\": true, \"linkText\": \"Export to plot.ly\", \"plotlyServerURL\": \"https://plot.ly\", \"responsive\": true}                    ).then(function(){\n",
       "                            \n",
       "var gd = document.getElementById('df87ce54-2b53-4fe0-a695-efa49f714348');\n",
       "var x = new MutationObserver(function (mutations, observer) {{\n",
       "        var display = window.getComputedStyle(gd).display;\n",
       "        if (!display || display === 'none') {{\n",
       "            console.log([gd, 'removed!']);\n",
       "            Plotly.purge(gd);\n",
       "            observer.disconnect();\n",
       "        }}\n",
       "}});\n",
       "\n",
       "// Listen for the removal of the full notebook cells\n",
       "var notebookContainer = gd.closest('#notebook-container');\n",
       "if (notebookContainer) {{\n",
       "    x.observe(notebookContainer, {childList: true});\n",
       "}}\n",
       "\n",
       "// Listen for the clearing of the current output cell\n",
       "var outputEl = gd.closest('.output');\n",
       "if (outputEl) {{\n",
       "    x.observe(outputEl, {childList: true});\n",
       "}}\n",
       "\n",
       "                        })                };                });            </script>        </div>"
      ]
     },
     "metadata": {},
     "output_type": "display_data"
    },
    {
     "data": {
      "application/vnd.plotly.v1+json": {
       "config": {
        "linkText": "Export to plot.ly",
        "plotlyServerURL": "https://plot.ly",
        "showLink": true
       },
       "data": [
        {
         "line": {
          "color": "rgba(255, 153, 51, 1.0)",
          "dash": "solid",
          "shape": "linear",
          "width": 1.3
         },
         "mode": "lines",
         "name": "y_true",
         "text": "",
         "type": "scatter",
         "x": [
          0,
          1,
          2,
          3,
          4,
          5,
          6,
          7,
          8,
          9,
          10,
          11,
          12,
          13,
          14,
          15,
          16,
          17,
          18,
          19,
          20,
          21,
          22,
          23,
          24,
          25,
          26,
          27,
          28,
          29,
          30,
          31,
          32,
          33,
          34,
          35,
          36,
          37,
          38,
          39,
          40,
          41,
          42,
          43,
          44,
          45,
          46,
          47,
          48,
          49,
          50,
          51,
          52,
          53,
          54,
          55,
          56,
          57,
          58,
          59,
          60,
          61,
          62,
          63,
          64,
          65,
          66,
          67,
          68,
          69,
          70,
          71,
          72,
          73,
          74,
          75,
          76,
          77,
          78,
          79,
          80,
          81,
          82,
          83,
          84,
          85,
          86,
          87,
          88,
          89,
          90,
          91,
          92,
          93,
          94,
          95,
          96,
          97,
          98,
          99,
          100,
          101,
          102,
          103,
          104,
          105,
          106,
          107,
          108,
          109,
          110,
          111,
          112,
          113,
          114,
          115,
          116,
          117,
          118,
          119,
          120,
          121,
          122,
          123,
          124,
          125,
          126,
          127,
          128,
          129,
          130,
          131,
          132,
          133,
          134,
          135,
          136,
          137,
          138,
          139,
          140,
          141,
          142,
          143,
          144,
          145,
          146,
          147,
          148,
          149,
          150,
          151,
          152,
          153,
          154,
          155,
          156,
          157,
          158,
          159,
          160,
          161,
          162,
          163,
          164,
          165,
          166,
          167,
          168,
          169,
          170,
          171,
          172,
          173,
          174,
          175,
          176,
          177,
          178,
          179,
          180,
          181,
          182,
          183,
          184,
          185,
          186,
          187,
          188,
          189,
          190,
          191,
          192,
          193,
          194,
          195,
          196,
          197,
          198,
          199,
          200,
          201,
          202,
          203,
          204,
          205,
          206,
          207,
          208,
          209,
          210,
          211,
          212,
          213,
          214,
          215,
          216,
          217,
          218,
          219,
          220,
          221,
          222,
          223,
          224,
          225,
          226,
          227,
          228,
          229,
          230,
          231,
          232,
          233,
          234,
          235,
          236,
          237,
          238,
          239,
          240,
          241,
          242,
          243,
          244,
          245,
          246,
          247,
          248,
          249,
          250,
          251,
          252,
          253,
          254,
          255,
          256,
          257,
          258,
          259,
          260,
          261,
          262,
          263,
          264,
          265,
          266,
          267,
          268,
          269,
          270,
          271,
          272,
          273,
          274,
          275,
          276,
          277,
          278,
          279,
          280,
          281,
          282,
          283,
          284,
          285,
          286,
          287,
          288,
          289,
          290,
          291,
          292,
          293,
          294,
          295,
          296,
          297,
          298,
          299,
          300,
          301,
          302,
          303,
          304,
          305,
          306,
          307,
          308,
          309,
          310,
          311,
          312,
          313,
          314,
          315,
          316,
          317,
          318,
          319,
          320,
          321,
          322,
          323,
          324,
          325,
          326,
          327,
          328,
          329,
          330,
          331,
          332,
          333,
          334,
          335,
          336,
          337,
          338,
          339,
          340,
          341,
          342,
          343,
          344,
          345,
          346,
          347,
          348,
          349,
          350,
          351,
          352,
          353,
          354,
          355,
          356,
          357,
          358,
          359,
          360,
          361,
          362,
          363,
          364,
          365,
          366,
          367,
          368,
          369,
          370,
          371,
          372,
          373,
          374,
          375,
          376,
          377,
          378,
          379,
          380,
          381,
          382,
          383,
          384,
          385,
          386,
          387,
          388,
          389,
          390,
          391,
          392,
          393,
          394,
          395,
          396,
          397,
          398,
          399
         ],
         "y": [
          17274.27646095849,
          17260.566187064527,
          17253.67404784151,
          17264.96506028766,
          17253.057950167855,
          17236.922415566733,
          17244.73705398549,
          17260.642606543097,
          17248.940070485794,
          17248.301158154194,
          16060.297867374806,
          16075.494848100381,
          16070.168137625453,
          16066.55783111622,
          16077.398220417015,
          16072.846969313641,
          16059.192820585438,
          16066.621593876265,
          16058.256093667758,
          16053.85881315943,
          16160.428142933111,
          16159.125873531217,
          16171.968777652377,
          16172.052590075331,
          16160.906084756656,
          16152.276119548593,
          16167.241265524992,
          16152.72972746846,
          16160.515044406628,
          16159.793433291583,
          16305.209539987309,
          16328.267586911188,
          16330.676959038434,
          16317.745723103211,
          16304.81717441935,
          16309.404791228426,
          16315.699059748149,
          16307.090564008135,
          16312.244314737733,
          16334.345350939937,
          16482.140160120307,
          16478.832804253772,
          16481.533016374302,
          16486.17065509973,
          16483.527997069865,
          16480.05495584248,
          16486.62542775361,
          16487.94012799789,
          16471.334134393033,
          16492.324347338985,
          17075.498841705736,
          17038.88235568126,
          17055.178281249726,
          17062.651970484414,
          17053.238055861115,
          17037.11809133226,
          17050.53667712339,
          17054.94209029939,
          17044.223657734557,
          17055.94396670721,
          16060.77422058619,
          16072.630705195565,
          16072.830954269908,
          16050.600227697225,
          16057.33853480478,
          16055.538383151674,
          16048.753197879614,
          16062.875605528334,
          16062.955972446065,
          16030.484444034191,
          16186.60670734119,
          16177.768507244324,
          16168.895701334379,
          16170.107332051539,
          16181.984391864331,
          16175.852379002736,
          16162.362680250864,
          16167.906011484905,
          16160.974089809692,
          16167.867753900493,
          16335.342124700093,
          16323.357123516605,
          16335.757792508952,
          16316.427107856605,
          16326.443448693215,
          16324.067266105249,
          16338.986237228191,
          16338.964606988862,
          16319.596769149784,
          16332.52564768101,
          16520.537203521686,
          16507.668223808334,
          16511.32451887368,
          16521.445658796663,
          16518.24482884501,
          16503.35971642943,
          16501.01685211485,
          16501.87936038809,
          16498.078395340228,
          16505.648813086835,
          17370.767552314686,
          17373.019649945956,
          17362.707892196344,
          17358.65122204168,
          17353.299308379796,
          17362.332812567733,
          17351.935347871044,
          17365.917440195935,
          17372.636550856645,
          17342.655052703893,
          16107.46511890621,
          16088.717360763661,
          16084.473779481918,
          16081.529217004803,
          16081.329553489339,
          16061.216923767135,
          16067.398453333466,
          16072.384598769826,
          16076.22184542559,
          16056.954732194456,
          16188.403102317703,
          16170.893262023783,
          16166.57354961331,
          16183.758396657306,
          16189.541896297807,
          16173.411316606038,
          16181.827090495433,
          16187.670312656837,
          16174.882973871856,
          16163.700567886626,
          16342.921267889356,
          16343.430045275582,
          16337.451179019536,
          16350.126342753843,
          16325.474694115692,
          16338.700174464324,
          16341.70149680901,
          16355.198058716473,
          16334.836716186217,
          16335.580311433736,
          16512.131480026124,
          16517.4386904901,
          16521.082074652437,
          16515.510276101493,
          16509.9275894201,
          16520.68985206373,
          16535.18776783573,
          16526.638644434548,
          16510.331520241645,
          16513.627521016366,
          17425.276210560867,
          17419.968006031795,
          17422.704874385872,
          17409.390354778483,
          17428.1096957946,
          17412.45556817506,
          17425.83158960296,
          17417.38996617093,
          17418.443896191166,
          17427.18323508303,
          16151.058714051691,
          16134.568797098089,
          16130.347849646525,
          16129.849555989615,
          16134.662201685655,
          16120.927862512086,
          16119.63938875344,
          16126.371704487385,
          16113.71764766412,
          16111.053972309026,
          16222.83141099282,
          16224.955150921302,
          16219.839213491046,
          16211.923790954723,
          16224.4915754664,
          16224.461818266134,
          16208.397881198272,
          16214.975925964003,
          16211.256526449522,
          16216.638747296896,
          16395.846670739636,
          16374.677500572765,
          16362.669330738741,
          16377.601209592414,
          16377.727190037,
          16377.601494031967,
          16388.124634613567,
          16369.612225009187,
          16377.726774725832,
          16362.699345590056,
          16549.26818463408,
          16556.13429128158,
          16547.230097419222,
          16545.104869965395,
          16551.187981456933,
          16543.843026563216,
          16546.873171551142,
          16547.2604718816,
          16553.34435906379,
          16544.3276986927,
          16940.86034768302,
          16967.84950623699,
          16953.81617053179,
          16955.891254068767,
          16942.832424804146,
          16956.116146665976,
          16953.825126591386,
          16966.062568917034,
          16953.700704316474,
          16942.446128263535,
          16057.247144105635,
          16056.598078176403,
          16047.943511945612,
          16036.247497427983,
          16045.68570648184,
          16058.291456660982,
          16027.148094960543,
          16034.82983257073,
          16029.285101065401,
          16036.525011274209,
          16172.568340398882,
          16181.10076216472,
          16182.985811816003,
          16168.666645129284,
          16173.83833918892,
          16165.258609689714,
          16168.51833045229,
          16173.680949910477,
          16161.037313904584,
          16176.103634207793,
          16338.365508183748,
          16362.002897107122,
          16343.440480386076,
          16340.57548639652,
          16346.042668769827,
          16341.415998760443,
          16338.784977982672,
          16349.027712473808,
          16356.469049813362,
          16345.17725669637,
          16530.49931777474,
          16548.764041373794,
          16532.058975586442,
          16540.041326543284,
          16550.049158344515,
          16545.716573930164,
          16542.518690728975,
          16557.610452608373,
          16531.586121347882,
          16533.105430947897,
          17287.024768965268,
          17277.593639643164,
          17275.302047493828,
          17266.19200680871,
          17276.72834513198,
          17279.551738610477,
          17272.17059687043,
          17278.528553405682,
          17275.705872311,
          17293.126740072035,
          16045.805548380085,
          16041.418809873863,
          16037.034481282612,
          16041.75794748756,
          16036.463549239306,
          16017.1519158513,
          16047.274152045276,
          16031.853140621863,
          16034.879823390087,
          16038.1973467036,
          16141.518777348587,
          16164.960246582876,
          16141.232778310832,
          16131.598170543939,
          16133.483922366606,
          16138.555869468988,
          16161.930357060208,
          16125.183702825681,
          16138.41577284526,
          16142.46548917627,
          16321.913217264551,
          16306.398999145706,
          16321.436943790668,
          16295.112194446614,
          16302.141681867623,
          16307.054909122282,
          16290.655446213963,
          16286.488576005808,
          16284.861358401435,
          16294.61788666113,
          16494.812074496807,
          16471.63734022876,
          16489.49318540049,
          16476.17810862028,
          16461.463865210753,
          16467.724177175667,
          16462.760895567553,
          16484.805063660653,
          16478.35900207872,
          16476.287305771024,
          17036.30632164706,
          17030.78846951282,
          17029.26685329133,
          17044.206883445284,
          17051.34814216952,
          17040.060579298934,
          17048.802401342637,
          17044.400274169147,
          17050.199948733163,
          17063.10735283167,
          15955.24838270682,
          15964.286642594148,
          15973.162385898988,
          15958.058633176232,
          15942.907687397466,
          15938.765270922826,
          15954.501233370796,
          15939.628299444064,
          15938.522346264914,
          15937.533169782953,
          16042.454943104041,
          16017.415876763696,
          16025.092728327803,
          16028.453419325258,
          16024.22571593083,
          16047.644232293525,
          16034.931064431059,
          16016.514466285247,
          16020.16802767209,
          16033.545411393621,
          16140.328501727989,
          16153.57299020857,
          16140.8132366579,
          16146.841598433306,
          16169.48748010347,
          16144.796023457468,
          16141.465916728823,
          16149.124195664308,
          16166.920773029953,
          16133.459697980588,
          16305.864563495095,
          16308.55453985055,
          16291.76067836798,
          16303.245493425089,
          16307.015707784865,
          16296.042426828144,
          16292.457267697087,
          16300.860405087247,
          16300.29999390723,
          16290.71065845503,
          17289.85381509755,
          17296.225651658377,
          17306.854722974316,
          17308.31560212435,
          17310.123820678717,
          17298.969144631646,
          17310.47204062884,
          17295.47788465822,
          17308.823262883303,
          17293.48139522525,
          16063.504311334149,
          16042.86156758437,
          16064.659094157772,
          16037.962896322806,
          16051.499778691988,
          16036.596714269694,
          16041.182217898946,
          16032.546202895235,
          16033.321002366329,
          16018.601357991589,
          16125.207523041254,
          16147.869300180048,
          16125.691169097601,
          16146.598628926764,
          16150.611940265091,
          16141.75713521848,
          16118.872377778247,
          16130.129030956641,
          16124.004929445777,
          16108.89560367462,
          16283.59148940632,
          16273.92069264608,
          16279.985367603866,
          16294.848152027671,
          16270.813396960177,
          16296.08041870231,
          16280.165281120377,
          16281.365188527327,
          16302.327688716974,
          16273.92069264608,
          16454.001749361003,
          16456.883724969717,
          16461.53966902727,
          16465.158335585253,
          16473.972433910385,
          16454.95164438093,
          16455.25694459746,
          16453.0589476509,
          16450.41997120996,
          16453.240723570558
         ]
        },
        {
         "line": {
          "color": "rgba(55, 128, 191, 1.0)",
          "dash": "solid",
          "shape": "linear",
          "width": 1.3
         },
         "mode": "lines",
         "name": "y_pred",
         "text": "",
         "type": "scatter",
         "x": [
          0,
          1,
          2,
          3,
          4,
          5,
          6,
          7,
          8,
          9,
          10,
          11,
          12,
          13,
          14,
          15,
          16,
          17,
          18,
          19,
          20,
          21,
          22,
          23,
          24,
          25,
          26,
          27,
          28,
          29,
          30,
          31,
          32,
          33,
          34,
          35,
          36,
          37,
          38,
          39,
          40,
          41,
          42,
          43,
          44,
          45,
          46,
          47,
          48,
          49,
          50,
          51,
          52,
          53,
          54,
          55,
          56,
          57,
          58,
          59,
          60,
          61,
          62,
          63,
          64,
          65,
          66,
          67,
          68,
          69,
          70,
          71,
          72,
          73,
          74,
          75,
          76,
          77,
          78,
          79,
          80,
          81,
          82,
          83,
          84,
          85,
          86,
          87,
          88,
          89,
          90,
          91,
          92,
          93,
          94,
          95,
          96,
          97,
          98,
          99,
          100,
          101,
          102,
          103,
          104,
          105,
          106,
          107,
          108,
          109,
          110,
          111,
          112,
          113,
          114,
          115,
          116,
          117,
          118,
          119,
          120,
          121,
          122,
          123,
          124,
          125,
          126,
          127,
          128,
          129,
          130,
          131,
          132,
          133,
          134,
          135,
          136,
          137,
          138,
          139,
          140,
          141,
          142,
          143,
          144,
          145,
          146,
          147,
          148,
          149,
          150,
          151,
          152,
          153,
          154,
          155,
          156,
          157,
          158,
          159,
          160,
          161,
          162,
          163,
          164,
          165,
          166,
          167,
          168,
          169,
          170,
          171,
          172,
          173,
          174,
          175,
          176,
          177,
          178,
          179,
          180,
          181,
          182,
          183,
          184,
          185,
          186,
          187,
          188,
          189,
          190,
          191,
          192,
          193,
          194,
          195,
          196,
          197,
          198,
          199,
          200,
          201,
          202,
          203,
          204,
          205,
          206,
          207,
          208,
          209,
          210,
          211,
          212,
          213,
          214,
          215,
          216,
          217,
          218,
          219,
          220,
          221,
          222,
          223,
          224,
          225,
          226,
          227,
          228,
          229,
          230,
          231,
          232,
          233,
          234,
          235,
          236,
          237,
          238,
          239,
          240,
          241,
          242,
          243,
          244,
          245,
          246,
          247,
          248,
          249,
          250,
          251,
          252,
          253,
          254,
          255,
          256,
          257,
          258,
          259,
          260,
          261,
          262,
          263,
          264,
          265,
          266,
          267,
          268,
          269,
          270,
          271,
          272,
          273,
          274,
          275,
          276,
          277,
          278,
          279,
          280,
          281,
          282,
          283,
          284,
          285,
          286,
          287,
          288,
          289,
          290,
          291,
          292,
          293,
          294,
          295,
          296,
          297,
          298,
          299,
          300,
          301,
          302,
          303,
          304,
          305,
          306,
          307,
          308,
          309,
          310,
          311,
          312,
          313,
          314,
          315,
          316,
          317,
          318,
          319,
          320,
          321,
          322,
          323,
          324,
          325,
          326,
          327,
          328,
          329,
          330,
          331,
          332,
          333,
          334,
          335,
          336,
          337,
          338,
          339,
          340,
          341,
          342,
          343,
          344,
          345,
          346,
          347,
          348,
          349,
          350,
          351,
          352,
          353,
          354,
          355,
          356,
          357,
          358,
          359,
          360,
          361,
          362,
          363,
          364,
          365,
          366,
          367,
          368,
          369,
          370,
          371,
          372,
          373,
          374,
          375,
          376,
          377,
          378,
          379,
          380,
          381,
          382,
          383,
          384,
          385,
          386,
          387,
          388,
          389,
          390,
          391,
          392,
          393,
          394,
          395,
          396,
          397,
          398,
          399
         ],
         "y": [
          16174.110599472711,
          16174.089907381796,
          16174.151983654543,
          16174.131291563628,
          16174.193367836375,
          16174.089907381796,
          16174.193367836375,
          16174.131291563628,
          16174.110599472711,
          16174.131291563628,
          16174.089907381796,
          16174.151983654543,
          16174.131291563628,
          16174.276136200038,
          16174.089907381796,
          16174.151983654543,
          16174.131291563628,
          16174.110599472711,
          16174.17267574546,
          16174.110599472711,
          16174.276136200038,
          16174.255444109123,
          16174.110599472711,
          16174.296828290955,
          16174.234752018207,
          16174.214059927292,
          16174.358904563704,
          16174.214059927292,
          16174.276136200038,
          16174.214059927292,
          16174.17267574546,
          16174.110599472711,
          16174.255444109123,
          16174.151983654543,
          16174.17267574546,
          16174.317520381872,
          16174.255444109123,
          16174.234752018207,
          16174.214059927292,
          16174.317520381872,
          16174.317520381872,
          16174.255444109123,
          16174.276136200038,
          16174.255444109123,
          16174.276136200038,
          16174.255444109123,
          16174.193367836375,
          16174.255444109123,
          16174.276136200038,
          16174.214059927292,
          16173.448452565046,
          16173.42776047413,
          16173.407068383212,
          16173.510528837793,
          16173.448452565046,
          16173.386376292297,
          16173.448452565046,
          16173.510528837793,
          16173.448452565046,
          16173.510528837793,
          16173.469144655961,
          16173.489836746878,
          16173.510528837793,
          16173.448452565046,
          16173.386376292297,
          16173.53122092871,
          16173.551913019624,
          16173.53122092871,
          16173.469144655961,
          16173.448452565046,
          16173.344992110466,
          16173.448452565046,
          16173.344992110466,
          16173.36568420138,
          16173.344992110466,
          16173.324300019549,
          16173.22083956497,
          16173.407068383212,
          16173.262223746802,
          16173.324300019549,
          16173.282915837717,
          16173.303607928634,
          16173.448452565046,
          16173.344992110466,
          16173.36568420138,
          16173.386376292297,
          16173.324300019549,
          16173.42776047413,
          16173.324300019549,
          16173.42776047413,
          16173.241531655885,
          16173.22083956497,
          16173.200147474054,
          16173.179455383959,
          16173.200147474054,
          16173.22083956497,
          16173.200147474054,
          16173.262223746802,
          16173.241531655885,
          16173.262223746802,
          16174.42098083645,
          16174.56582547204,
          16174.503749200114,
          16174.524441290208,
          16174.545133381125,
          16174.441672927367,
          16174.503749200114,
          16174.56582547204,
          16174.545133381125,
          16174.648593835704,
          16174.545133381125,
          16174.483057109199,
          16174.462365018282,
          16174.400288745535,
          16174.503749200114,
          16174.441672927367,
          16174.42098083645,
          16174.483057109199,
          16174.462365018282,
          16174.524441290208,
          16174.400288745535,
          16174.42098083645,
          16174.483057109199,
          16174.42098083645,
          16174.358904563704,
          16174.379596654619,
          16174.483057109199,
          16174.462365018282,
          16174.441672927367,
          16174.462365018282,
          16174.379596654619,
          16174.441672927367,
          16174.379596654619,
          16174.441672927367,
          16174.338212472787,
          16174.400288745535,
          16174.379596654619,
          16174.483057109199,
          16174.379596654619,
          16174.317520381872,
          16174.317520381872,
          16174.379596654619,
          16174.317520381872,
          16174.338212472787,
          16174.400288745535,
          16174.42098083645,
          16174.441672927367,
          16174.338212472787,
          16174.358904563704,
          16174.379596654619,
          16174.379596654619,
          16174.524441290208,
          16174.545133381125,
          16174.524441290208,
          16174.462365018282,
          16174.524441290208,
          16174.545133381125,
          16174.607209653872,
          16174.627901744789,
          16174.524441290208,
          16174.56582547204,
          16174.545133381125,
          16174.56582547204,
          16174.42098083645,
          16174.483057109199,
          16174.379596654619,
          16174.441672927367,
          16174.503749200114,
          16174.441672927367,
          16174.462365018282,
          16174.379596654619,
          16174.441672927367,
          16174.42098083645,
          16174.441672927367,
          16174.42098083645,
          16174.400288745535,
          16174.379596654619,
          16174.441672927367,
          16174.379596654619,
          16174.317520381872,
          16174.338212472787,
          16174.234752018207,
          16174.379596654619,
          16174.441672927367,
          16174.338212472787,
          16174.400288745535,
          16174.379596654619,
          16174.400288745535,
          16174.379596654619,
          16174.400288745535,
          16174.276136200038,
          16174.296828290955,
          16174.276136200038,
          16174.379596654619,
          16174.358904563704,
          16174.214059927292,
          16174.358904563704,
          16174.296828290955,
          16174.276136200038,
          16174.338212472787,
          16174.483057109199,
          16174.338212472787,
          16174.483057109199,
          16174.42098083645,
          16174.441672927367,
          16174.462365018282,
          16174.400288745535,
          16174.503749200114,
          16174.317520381872,
          16174.379596654619,
          16174.441672927367,
          16174.338212472787,
          16174.441672927367,
          16174.42098083645,
          16174.400288745535,
          16174.462365018282,
          16174.441672927367,
          16174.255444109123,
          16174.400288745535,
          16174.379596654619,
          16174.441672927367,
          16174.338212472787,
          16174.317520381872,
          16174.42098083645,
          16174.358904563704,
          16174.296828290955,
          16174.317520381872,
          16174.379596654619,
          16174.441672927367,
          16174.338212472787,
          16174.296828290955,
          16174.317520381872,
          16174.296828290955,
          16174.276136200038,
          16174.255444109123,
          16174.276136200038,
          16174.296828290955,
          16174.358904563704,
          16174.296828290955,
          16174.358904563704,
          16174.276136200038,
          16174.214059927292,
          16174.276136200038,
          16174.338212472787,
          16174.234752018207,
          16174.214059927292,
          16174.317520381872,
          16174.214059927292,
          16174.276136200038,
          16174.296828290955,
          16174.896898926696,
          16174.752054290284,
          16174.814130563032,
          16174.87620683578,
          16174.855514744864,
          16174.91759101761,
          16174.7727463812,
          16174.91759101761,
          16174.855514744864,
          16174.87620683578,
          16174.834822653947,
          16174.855514744864,
          16174.87620683578,
          16174.855514744864,
          16174.834822653947,
          16174.855514744864,
          16174.793438472116,
          16174.814130563032,
          16174.793438472116,
          16174.855514744864,
          16174.896898926696,
          16174.958975198622,
          16174.896898926696,
          16174.958975198622,
          16174.979667289537,
          16174.834822653947,
          16174.979667289537,
          16174.87620683578,
          16174.938283108528,
          16174.91759101761,
          16175.021051471369,
          16174.87620683578,
          16174.979667289537,
          16174.834822653947,
          16174.896898926696,
          16174.91759101761,
          16174.855514744864,
          16174.793438472116,
          16174.938283108528,
          16174.91759101761,
          16174.855514744864,
          16174.834822653947,
          16174.7727463812,
          16174.834822653947,
          16174.855514744864,
          16174.793438472116,
          16174.814130563032,
          16174.834822653947,
          16174.7727463812,
          16174.752054290284,
          16174.689978017535,
          16174.627901744789,
          16174.7727463812,
          16174.627901744789,
          16174.689978017535,
          16174.66928592662,
          16174.689978017535,
          16174.627901744789,
          16174.607209653872,
          16174.66928592662,
          16174.66928592662,
          16174.689978017535,
          16174.710670108452,
          16174.607209653872,
          16174.586517562957,
          16174.648593835704,
          16174.586517562957,
          16174.648593835704,
          16174.586517562957,
          16174.607209653872,
          16174.627901744789,
          16174.689978017535,
          16174.710670108452,
          16174.689978017535,
          16174.710670108452,
          16174.814130563032,
          16174.710670108452,
          16174.7727463812,
          16174.710670108452,
          16174.814130563032,
          16174.648593835704,
          16174.710670108452,
          16174.731362199367,
          16174.66928592662,
          16174.689978017535,
          16174.793438472116,
          16174.731362199367,
          16174.710670108452,
          16174.7727463812,
          16174.834822653947,
          16174.648593835704,
          16174.66928592662,
          16174.7727463812,
          16174.66928592662,
          16174.731362199367,
          16174.627901744789,
          16174.689978017535,
          16174.710670108452,
          16174.607209653872,
          16174.752054290284,
          16173.572605110541,
          16173.469144655961,
          16173.448452565046,
          16173.510528837793,
          16173.572605110541,
          16173.469144655961,
          16173.572605110541,
          16173.42776047413,
          16173.613989292373,
          16173.469144655961,
          16173.82091020071,
          16173.717449746131,
          16173.655373473382,
          16173.758833927963,
          16173.779526018878,
          16173.758833927963,
          16173.738141837046,
          16173.6760655643,
          16173.738141837046,
          16173.717449746131,
          16173.717449746131,
          16173.862294382543,
          16173.800218109795,
          16173.82091020071,
          16173.758833927963,
          16173.82091020071,
          16173.841602291626,
          16173.779526018878,
          16173.800218109795,
          16173.779526018878,
          16173.800218109795,
          16173.779526018878,
          16173.717449746131,
          16173.779526018878,
          16173.758833927963,
          16173.779526018878,
          16173.841602291626,
          16173.82091020071,
          16173.841602291626,
          16173.779526018878,
          16173.779526018878,
          16173.800218109795,
          16173.862294382543,
          16173.758833927963,
          16173.779526018878,
          16173.882986473458,
          16173.779526018878,
          16173.758833927963,
          16173.903678564375,
          16173.882986473458
         ]
        }
       ],
       "layout": {
        "legend": {
         "bgcolor": "#F5F6F9",
         "font": {
          "color": "#4D5663"
         }
        },
        "paper_bgcolor": "#F5F6F9",
        "plot_bgcolor": "#F5F6F9",
        "template": {
         "data": {
          "bar": [
           {
            "error_x": {
             "color": "#2a3f5f"
            },
            "error_y": {
             "color": "#2a3f5f"
            },
            "marker": {
             "line": {
              "color": "#E5ECF6",
              "width": 0.5
             }
            },
            "type": "bar"
           }
          ],
          "barpolar": [
           {
            "marker": {
             "line": {
              "color": "#E5ECF6",
              "width": 0.5
             }
            },
            "type": "barpolar"
           }
          ],
          "carpet": [
           {
            "aaxis": {
             "endlinecolor": "#2a3f5f",
             "gridcolor": "white",
             "linecolor": "white",
             "minorgridcolor": "white",
             "startlinecolor": "#2a3f5f"
            },
            "baxis": {
             "endlinecolor": "#2a3f5f",
             "gridcolor": "white",
             "linecolor": "white",
             "minorgridcolor": "white",
             "startlinecolor": "#2a3f5f"
            },
            "type": "carpet"
           }
          ],
          "choropleth": [
           {
            "colorbar": {
             "outlinewidth": 0,
             "ticks": ""
            },
            "type": "choropleth"
           }
          ],
          "contour": [
           {
            "colorbar": {
             "outlinewidth": 0,
             "ticks": ""
            },
            "colorscale": [
             [
              0,
              "#0d0887"
             ],
             [
              0.1111111111111111,
              "#46039f"
             ],
             [
              0.2222222222222222,
              "#7201a8"
             ],
             [
              0.3333333333333333,
              "#9c179e"
             ],
             [
              0.4444444444444444,
              "#bd3786"
             ],
             [
              0.5555555555555556,
              "#d8576b"
             ],
             [
              0.6666666666666666,
              "#ed7953"
             ],
             [
              0.7777777777777778,
              "#fb9f3a"
             ],
             [
              0.8888888888888888,
              "#fdca26"
             ],
             [
              1,
              "#f0f921"
             ]
            ],
            "type": "contour"
           }
          ],
          "contourcarpet": [
           {
            "colorbar": {
             "outlinewidth": 0,
             "ticks": ""
            },
            "type": "contourcarpet"
           }
          ],
          "heatmap": [
           {
            "colorbar": {
             "outlinewidth": 0,
             "ticks": ""
            },
            "colorscale": [
             [
              0,
              "#0d0887"
             ],
             [
              0.1111111111111111,
              "#46039f"
             ],
             [
              0.2222222222222222,
              "#7201a8"
             ],
             [
              0.3333333333333333,
              "#9c179e"
             ],
             [
              0.4444444444444444,
              "#bd3786"
             ],
             [
              0.5555555555555556,
              "#d8576b"
             ],
             [
              0.6666666666666666,
              "#ed7953"
             ],
             [
              0.7777777777777778,
              "#fb9f3a"
             ],
             [
              0.8888888888888888,
              "#fdca26"
             ],
             [
              1,
              "#f0f921"
             ]
            ],
            "type": "heatmap"
           }
          ],
          "heatmapgl": [
           {
            "colorbar": {
             "outlinewidth": 0,
             "ticks": ""
            },
            "colorscale": [
             [
              0,
              "#0d0887"
             ],
             [
              0.1111111111111111,
              "#46039f"
             ],
             [
              0.2222222222222222,
              "#7201a8"
             ],
             [
              0.3333333333333333,
              "#9c179e"
             ],
             [
              0.4444444444444444,
              "#bd3786"
             ],
             [
              0.5555555555555556,
              "#d8576b"
             ],
             [
              0.6666666666666666,
              "#ed7953"
             ],
             [
              0.7777777777777778,
              "#fb9f3a"
             ],
             [
              0.8888888888888888,
              "#fdca26"
             ],
             [
              1,
              "#f0f921"
             ]
            ],
            "type": "heatmapgl"
           }
          ],
          "histogram": [
           {
            "marker": {
             "colorbar": {
              "outlinewidth": 0,
              "ticks": ""
             }
            },
            "type": "histogram"
           }
          ],
          "histogram2d": [
           {
            "colorbar": {
             "outlinewidth": 0,
             "ticks": ""
            },
            "colorscale": [
             [
              0,
              "#0d0887"
             ],
             [
              0.1111111111111111,
              "#46039f"
             ],
             [
              0.2222222222222222,
              "#7201a8"
             ],
             [
              0.3333333333333333,
              "#9c179e"
             ],
             [
              0.4444444444444444,
              "#bd3786"
             ],
             [
              0.5555555555555556,
              "#d8576b"
             ],
             [
              0.6666666666666666,
              "#ed7953"
             ],
             [
              0.7777777777777778,
              "#fb9f3a"
             ],
             [
              0.8888888888888888,
              "#fdca26"
             ],
             [
              1,
              "#f0f921"
             ]
            ],
            "type": "histogram2d"
           }
          ],
          "histogram2dcontour": [
           {
            "colorbar": {
             "outlinewidth": 0,
             "ticks": ""
            },
            "colorscale": [
             [
              0,
              "#0d0887"
             ],
             [
              0.1111111111111111,
              "#46039f"
             ],
             [
              0.2222222222222222,
              "#7201a8"
             ],
             [
              0.3333333333333333,
              "#9c179e"
             ],
             [
              0.4444444444444444,
              "#bd3786"
             ],
             [
              0.5555555555555556,
              "#d8576b"
             ],
             [
              0.6666666666666666,
              "#ed7953"
             ],
             [
              0.7777777777777778,
              "#fb9f3a"
             ],
             [
              0.8888888888888888,
              "#fdca26"
             ],
             [
              1,
              "#f0f921"
             ]
            ],
            "type": "histogram2dcontour"
           }
          ],
          "mesh3d": [
           {
            "colorbar": {
             "outlinewidth": 0,
             "ticks": ""
            },
            "type": "mesh3d"
           }
          ],
          "parcoords": [
           {
            "line": {
             "colorbar": {
              "outlinewidth": 0,
              "ticks": ""
             }
            },
            "type": "parcoords"
           }
          ],
          "pie": [
           {
            "automargin": true,
            "type": "pie"
           }
          ],
          "scatter": [
           {
            "marker": {
             "colorbar": {
              "outlinewidth": 0,
              "ticks": ""
             }
            },
            "type": "scatter"
           }
          ],
          "scatter3d": [
           {
            "line": {
             "colorbar": {
              "outlinewidth": 0,
              "ticks": ""
             }
            },
            "marker": {
             "colorbar": {
              "outlinewidth": 0,
              "ticks": ""
             }
            },
            "type": "scatter3d"
           }
          ],
          "scattercarpet": [
           {
            "marker": {
             "colorbar": {
              "outlinewidth": 0,
              "ticks": ""
             }
            },
            "type": "scattercarpet"
           }
          ],
          "scattergeo": [
           {
            "marker": {
             "colorbar": {
              "outlinewidth": 0,
              "ticks": ""
             }
            },
            "type": "scattergeo"
           }
          ],
          "scattergl": [
           {
            "marker": {
             "colorbar": {
              "outlinewidth": 0,
              "ticks": ""
             }
            },
            "type": "scattergl"
           }
          ],
          "scattermapbox": [
           {
            "marker": {
             "colorbar": {
              "outlinewidth": 0,
              "ticks": ""
             }
            },
            "type": "scattermapbox"
           }
          ],
          "scatterpolar": [
           {
            "marker": {
             "colorbar": {
              "outlinewidth": 0,
              "ticks": ""
             }
            },
            "type": "scatterpolar"
           }
          ],
          "scatterpolargl": [
           {
            "marker": {
             "colorbar": {
              "outlinewidth": 0,
              "ticks": ""
             }
            },
            "type": "scatterpolargl"
           }
          ],
          "scatterternary": [
           {
            "marker": {
             "colorbar": {
              "outlinewidth": 0,
              "ticks": ""
             }
            },
            "type": "scatterternary"
           }
          ],
          "surface": [
           {
            "colorbar": {
             "outlinewidth": 0,
             "ticks": ""
            },
            "colorscale": [
             [
              0,
              "#0d0887"
             ],
             [
              0.1111111111111111,
              "#46039f"
             ],
             [
              0.2222222222222222,
              "#7201a8"
             ],
             [
              0.3333333333333333,
              "#9c179e"
             ],
             [
              0.4444444444444444,
              "#bd3786"
             ],
             [
              0.5555555555555556,
              "#d8576b"
             ],
             [
              0.6666666666666666,
              "#ed7953"
             ],
             [
              0.7777777777777778,
              "#fb9f3a"
             ],
             [
              0.8888888888888888,
              "#fdca26"
             ],
             [
              1,
              "#f0f921"
             ]
            ],
            "type": "surface"
           }
          ],
          "table": [
           {
            "cells": {
             "fill": {
              "color": "#EBF0F8"
             },
             "line": {
              "color": "white"
             }
            },
            "header": {
             "fill": {
              "color": "#C8D4E3"
             },
             "line": {
              "color": "white"
             }
            },
            "type": "table"
           }
          ]
         },
         "layout": {
          "annotationdefaults": {
           "arrowcolor": "#2a3f5f",
           "arrowhead": 0,
           "arrowwidth": 1
          },
          "autotypenumbers": "strict",
          "coloraxis": {
           "colorbar": {
            "outlinewidth": 0,
            "ticks": ""
           }
          },
          "colorscale": {
           "diverging": [
            [
             0,
             "#8e0152"
            ],
            [
             0.1,
             "#c51b7d"
            ],
            [
             0.2,
             "#de77ae"
            ],
            [
             0.3,
             "#f1b6da"
            ],
            [
             0.4,
             "#fde0ef"
            ],
            [
             0.5,
             "#f7f7f7"
            ],
            [
             0.6,
             "#e6f5d0"
            ],
            [
             0.7,
             "#b8e186"
            ],
            [
             0.8,
             "#7fbc41"
            ],
            [
             0.9,
             "#4d9221"
            ],
            [
             1,
             "#276419"
            ]
           ],
           "sequential": [
            [
             0,
             "#0d0887"
            ],
            [
             0.1111111111111111,
             "#46039f"
            ],
            [
             0.2222222222222222,
             "#7201a8"
            ],
            [
             0.3333333333333333,
             "#9c179e"
            ],
            [
             0.4444444444444444,
             "#bd3786"
            ],
            [
             0.5555555555555556,
             "#d8576b"
            ],
            [
             0.6666666666666666,
             "#ed7953"
            ],
            [
             0.7777777777777778,
             "#fb9f3a"
            ],
            [
             0.8888888888888888,
             "#fdca26"
            ],
            [
             1,
             "#f0f921"
            ]
           ],
           "sequentialminus": [
            [
             0,
             "#0d0887"
            ],
            [
             0.1111111111111111,
             "#46039f"
            ],
            [
             0.2222222222222222,
             "#7201a8"
            ],
            [
             0.3333333333333333,
             "#9c179e"
            ],
            [
             0.4444444444444444,
             "#bd3786"
            ],
            [
             0.5555555555555556,
             "#d8576b"
            ],
            [
             0.6666666666666666,
             "#ed7953"
            ],
            [
             0.7777777777777778,
             "#fb9f3a"
            ],
            [
             0.8888888888888888,
             "#fdca26"
            ],
            [
             1,
             "#f0f921"
            ]
           ]
          },
          "colorway": [
           "#636efa",
           "#EF553B",
           "#00cc96",
           "#ab63fa",
           "#FFA15A",
           "#19d3f3",
           "#FF6692",
           "#B6E880",
           "#FF97FF",
           "#FECB52"
          ],
          "font": {
           "color": "#2a3f5f"
          },
          "geo": {
           "bgcolor": "white",
           "lakecolor": "white",
           "landcolor": "#E5ECF6",
           "showlakes": true,
           "showland": true,
           "subunitcolor": "white"
          },
          "hoverlabel": {
           "align": "left"
          },
          "hovermode": "closest",
          "mapbox": {
           "style": "light"
          },
          "paper_bgcolor": "white",
          "plot_bgcolor": "#E5ECF6",
          "polar": {
           "angularaxis": {
            "gridcolor": "white",
            "linecolor": "white",
            "ticks": ""
           },
           "bgcolor": "#E5ECF6",
           "radialaxis": {
            "gridcolor": "white",
            "linecolor": "white",
            "ticks": ""
           }
          },
          "scene": {
           "xaxis": {
            "backgroundcolor": "#E5ECF6",
            "gridcolor": "white",
            "gridwidth": 2,
            "linecolor": "white",
            "showbackground": true,
            "ticks": "",
            "zerolinecolor": "white"
           },
           "yaxis": {
            "backgroundcolor": "#E5ECF6",
            "gridcolor": "white",
            "gridwidth": 2,
            "linecolor": "white",
            "showbackground": true,
            "ticks": "",
            "zerolinecolor": "white"
           },
           "zaxis": {
            "backgroundcolor": "#E5ECF6",
            "gridcolor": "white",
            "gridwidth": 2,
            "linecolor": "white",
            "showbackground": true,
            "ticks": "",
            "zerolinecolor": "white"
           }
          },
          "shapedefaults": {
           "line": {
            "color": "#2a3f5f"
           }
          },
          "ternary": {
           "aaxis": {
            "gridcolor": "white",
            "linecolor": "white",
            "ticks": ""
           },
           "baxis": {
            "gridcolor": "white",
            "linecolor": "white",
            "ticks": ""
           },
           "bgcolor": "#E5ECF6",
           "caxis": {
            "gridcolor": "white",
            "linecolor": "white",
            "ticks": ""
           }
          },
          "title": {
           "x": 0.05
          },
          "xaxis": {
           "automargin": true,
           "gridcolor": "white",
           "linecolor": "white",
           "ticks": "",
           "title": {
            "standoff": 15
           },
           "zerolinecolor": "white",
           "zerolinewidth": 2
          },
          "yaxis": {
           "automargin": true,
           "gridcolor": "white",
           "linecolor": "white",
           "ticks": "",
           "title": {
            "standoff": 15
           },
           "zerolinecolor": "white",
           "zerolinewidth": 2
          }
         }
        },
        "title": {
         "font": {
          "color": "#4D5663"
         },
         "text": "25 (T=-23~50) (H=0~100) (degree=1) (magic) (shift0_ppmx1) (RMSE y_pred_scale= 497.10)"
        },
        "xaxis": {
         "gridcolor": "#E1E5ED",
         "showgrid": true,
         "tickfont": {
          "color": "#4D5663"
         },
         "title": {
          "font": {
           "color": "#4D5663"
          },
          "text": ""
         },
         "zerolinecolor": "#E1E5ED"
        },
        "yaxis": {
         "gridcolor": "#E1E5ED",
         "showgrid": true,
         "tickfont": {
          "color": "#4D5663"
         },
         "title": {
          "font": {
           "color": "#4D5663"
          },
          "text": "ppm"
         },
         "zerolinecolor": "#E1E5ED"
        }
       }
      },
      "text/html": [
       "<div>                            <div id=\"d969be03-4dfe-488b-927e-478d64decb49\" class=\"plotly-graph-div\" style=\"height:525px; width:100%;\"></div>            <script type=\"text/javascript\">                require([\"plotly\"], function(Plotly) {                    window.PLOTLYENV=window.PLOTLYENV || {};\n",
       "                    window.PLOTLYENV.BASE_URL='https://plot.ly';                                    if (document.getElementById(\"d969be03-4dfe-488b-927e-478d64decb49\")) {                    Plotly.newPlot(                        \"d969be03-4dfe-488b-927e-478d64decb49\",                        [{\"line\": {\"color\": \"rgba(255, 153, 51, 1.0)\", \"dash\": \"solid\", \"shape\": \"linear\", \"width\": 1.3}, \"mode\": \"lines\", \"name\": \"y_true\", \"text\": \"\", \"type\": \"scatter\", \"x\": [0, 1, 2, 3, 4, 5, 6, 7, 8, 9, 10, 11, 12, 13, 14, 15, 16, 17, 18, 19, 20, 21, 22, 23, 24, 25, 26, 27, 28, 29, 30, 31, 32, 33, 34, 35, 36, 37, 38, 39, 40, 41, 42, 43, 44, 45, 46, 47, 48, 49, 50, 51, 52, 53, 54, 55, 56, 57, 58, 59, 60, 61, 62, 63, 64, 65, 66, 67, 68, 69, 70, 71, 72, 73, 74, 75, 76, 77, 78, 79, 80, 81, 82, 83, 84, 85, 86, 87, 88, 89, 90, 91, 92, 93, 94, 95, 96, 97, 98, 99, 100, 101, 102, 103, 104, 105, 106, 107, 108, 109, 110, 111, 112, 113, 114, 115, 116, 117, 118, 119, 120, 121, 122, 123, 124, 125, 126, 127, 128, 129, 130, 131, 132, 133, 134, 135, 136, 137, 138, 139, 140, 141, 142, 143, 144, 145, 146, 147, 148, 149, 150, 151, 152, 153, 154, 155, 156, 157, 158, 159, 160, 161, 162, 163, 164, 165, 166, 167, 168, 169, 170, 171, 172, 173, 174, 175, 176, 177, 178, 179, 180, 181, 182, 183, 184, 185, 186, 187, 188, 189, 190, 191, 192, 193, 194, 195, 196, 197, 198, 199, 200, 201, 202, 203, 204, 205, 206, 207, 208, 209, 210, 211, 212, 213, 214, 215, 216, 217, 218, 219, 220, 221, 222, 223, 224, 225, 226, 227, 228, 229, 230, 231, 232, 233, 234, 235, 236, 237, 238, 239, 240, 241, 242, 243, 244, 245, 246, 247, 248, 249, 250, 251, 252, 253, 254, 255, 256, 257, 258, 259, 260, 261, 262, 263, 264, 265, 266, 267, 268, 269, 270, 271, 272, 273, 274, 275, 276, 277, 278, 279, 280, 281, 282, 283, 284, 285, 286, 287, 288, 289, 290, 291, 292, 293, 294, 295, 296, 297, 298, 299, 300, 301, 302, 303, 304, 305, 306, 307, 308, 309, 310, 311, 312, 313, 314, 315, 316, 317, 318, 319, 320, 321, 322, 323, 324, 325, 326, 327, 328, 329, 330, 331, 332, 333, 334, 335, 336, 337, 338, 339, 340, 341, 342, 343, 344, 345, 346, 347, 348, 349, 350, 351, 352, 353, 354, 355, 356, 357, 358, 359, 360, 361, 362, 363, 364, 365, 366, 367, 368, 369, 370, 371, 372, 373, 374, 375, 376, 377, 378, 379, 380, 381, 382, 383, 384, 385, 386, 387, 388, 389, 390, 391, 392, 393, 394, 395, 396, 397, 398, 399], \"y\": [17274.27646095849, 17260.566187064527, 17253.67404784151, 17264.96506028766, 17253.057950167855, 17236.922415566733, 17244.73705398549, 17260.642606543097, 17248.940070485794, 17248.301158154194, 16060.297867374806, 16075.494848100381, 16070.168137625453, 16066.55783111622, 16077.398220417015, 16072.846969313641, 16059.192820585438, 16066.621593876265, 16058.256093667758, 16053.85881315943, 16160.428142933111, 16159.125873531217, 16171.968777652377, 16172.052590075331, 16160.906084756656, 16152.276119548593, 16167.241265524992, 16152.72972746846, 16160.515044406628, 16159.793433291583, 16305.209539987309, 16328.267586911188, 16330.676959038434, 16317.745723103211, 16304.81717441935, 16309.404791228426, 16315.699059748149, 16307.090564008135, 16312.244314737733, 16334.345350939937, 16482.140160120307, 16478.832804253772, 16481.533016374302, 16486.17065509973, 16483.527997069865, 16480.05495584248, 16486.62542775361, 16487.94012799789, 16471.334134393033, 16492.324347338985, 17075.498841705736, 17038.88235568126, 17055.178281249726, 17062.651970484414, 17053.238055861115, 17037.11809133226, 17050.53667712339, 17054.94209029939, 17044.223657734557, 17055.94396670721, 16060.77422058619, 16072.630705195565, 16072.830954269908, 16050.600227697225, 16057.33853480478, 16055.538383151674, 16048.753197879614, 16062.875605528334, 16062.955972446065, 16030.484444034191, 16186.60670734119, 16177.768507244324, 16168.895701334379, 16170.107332051539, 16181.984391864331, 16175.852379002736, 16162.362680250864, 16167.906011484905, 16160.974089809692, 16167.867753900493, 16335.342124700093, 16323.357123516605, 16335.757792508952, 16316.427107856605, 16326.443448693215, 16324.067266105249, 16338.986237228191, 16338.964606988862, 16319.596769149784, 16332.52564768101, 16520.537203521686, 16507.668223808334, 16511.32451887368, 16521.445658796663, 16518.24482884501, 16503.35971642943, 16501.01685211485, 16501.87936038809, 16498.078395340228, 16505.648813086835, 17370.767552314686, 17373.019649945956, 17362.707892196344, 17358.65122204168, 17353.299308379796, 17362.332812567733, 17351.935347871044, 17365.917440195935, 17372.636550856645, 17342.655052703893, 16107.46511890621, 16088.717360763661, 16084.473779481918, 16081.529217004803, 16081.329553489339, 16061.216923767135, 16067.398453333466, 16072.384598769826, 16076.22184542559, 16056.954732194456, 16188.403102317703, 16170.893262023783, 16166.57354961331, 16183.758396657306, 16189.541896297807, 16173.411316606038, 16181.827090495433, 16187.670312656837, 16174.882973871856, 16163.700567886626, 16342.921267889356, 16343.430045275582, 16337.451179019536, 16350.126342753843, 16325.474694115692, 16338.700174464324, 16341.70149680901, 16355.198058716473, 16334.836716186217, 16335.580311433736, 16512.131480026124, 16517.4386904901, 16521.082074652437, 16515.510276101493, 16509.9275894201, 16520.68985206373, 16535.18776783573, 16526.638644434548, 16510.331520241645, 16513.627521016366, 17425.276210560867, 17419.968006031795, 17422.704874385872, 17409.390354778483, 17428.1096957946, 17412.45556817506, 17425.83158960296, 17417.38996617093, 17418.443896191166, 17427.18323508303, 16151.058714051691, 16134.568797098089, 16130.347849646525, 16129.849555989615, 16134.662201685655, 16120.927862512086, 16119.63938875344, 16126.371704487385, 16113.71764766412, 16111.053972309026, 16222.83141099282, 16224.955150921302, 16219.839213491046, 16211.923790954723, 16224.4915754664, 16224.461818266134, 16208.397881198272, 16214.975925964003, 16211.256526449522, 16216.638747296896, 16395.846670739636, 16374.677500572765, 16362.669330738741, 16377.601209592414, 16377.727190037, 16377.601494031967, 16388.124634613567, 16369.612225009187, 16377.726774725832, 16362.699345590056, 16549.26818463408, 16556.13429128158, 16547.230097419222, 16545.104869965395, 16551.187981456933, 16543.843026563216, 16546.873171551142, 16547.2604718816, 16553.34435906379, 16544.3276986927, 16940.86034768302, 16967.84950623699, 16953.81617053179, 16955.891254068767, 16942.832424804146, 16956.116146665976, 16953.825126591386, 16966.062568917034, 16953.700704316474, 16942.446128263535, 16057.247144105635, 16056.598078176403, 16047.943511945612, 16036.247497427983, 16045.68570648184, 16058.291456660982, 16027.148094960543, 16034.82983257073, 16029.285101065401, 16036.525011274209, 16172.568340398882, 16181.10076216472, 16182.985811816003, 16168.666645129284, 16173.83833918892, 16165.258609689714, 16168.51833045229, 16173.680949910477, 16161.037313904584, 16176.103634207793, 16338.365508183748, 16362.002897107122, 16343.440480386076, 16340.57548639652, 16346.042668769827, 16341.415998760443, 16338.784977982672, 16349.027712473808, 16356.469049813362, 16345.17725669637, 16530.49931777474, 16548.764041373794, 16532.058975586442, 16540.041326543284, 16550.049158344515, 16545.716573930164, 16542.518690728975, 16557.610452608373, 16531.586121347882, 16533.105430947897, 17287.024768965268, 17277.593639643164, 17275.302047493828, 17266.19200680871, 17276.72834513198, 17279.551738610477, 17272.17059687043, 17278.528553405682, 17275.705872311, 17293.126740072035, 16045.805548380085, 16041.418809873863, 16037.034481282612, 16041.75794748756, 16036.463549239306, 16017.1519158513, 16047.274152045276, 16031.853140621863, 16034.879823390087, 16038.1973467036, 16141.518777348587, 16164.960246582876, 16141.232778310832, 16131.598170543939, 16133.483922366606, 16138.555869468988, 16161.930357060208, 16125.183702825681, 16138.41577284526, 16142.46548917627, 16321.913217264551, 16306.398999145706, 16321.436943790668, 16295.112194446614, 16302.141681867623, 16307.054909122282, 16290.655446213963, 16286.488576005808, 16284.861358401435, 16294.61788666113, 16494.812074496807, 16471.63734022876, 16489.49318540049, 16476.17810862028, 16461.463865210753, 16467.724177175667, 16462.760895567553, 16484.805063660653, 16478.35900207872, 16476.287305771024, 17036.30632164706, 17030.78846951282, 17029.26685329133, 17044.206883445284, 17051.34814216952, 17040.060579298934, 17048.802401342637, 17044.400274169147, 17050.199948733163, 17063.10735283167, 15955.24838270682, 15964.286642594148, 15973.162385898988, 15958.058633176232, 15942.907687397466, 15938.765270922826, 15954.501233370796, 15939.628299444064, 15938.522346264914, 15937.533169782953, 16042.454943104041, 16017.415876763696, 16025.092728327803, 16028.453419325258, 16024.22571593083, 16047.644232293525, 16034.931064431059, 16016.514466285247, 16020.16802767209, 16033.545411393621, 16140.328501727989, 16153.57299020857, 16140.8132366579, 16146.841598433306, 16169.48748010347, 16144.796023457468, 16141.465916728823, 16149.124195664308, 16166.920773029953, 16133.459697980588, 16305.864563495095, 16308.55453985055, 16291.76067836798, 16303.245493425089, 16307.015707784865, 16296.042426828144, 16292.457267697087, 16300.860405087247, 16300.29999390723, 16290.71065845503, 17289.85381509755, 17296.225651658377, 17306.854722974316, 17308.31560212435, 17310.123820678717, 17298.969144631646, 17310.47204062884, 17295.47788465822, 17308.823262883303, 17293.48139522525, 16063.504311334149, 16042.86156758437, 16064.659094157772, 16037.962896322806, 16051.499778691988, 16036.596714269694, 16041.182217898946, 16032.546202895235, 16033.321002366329, 16018.601357991589, 16125.207523041254, 16147.869300180048, 16125.691169097601, 16146.598628926764, 16150.611940265091, 16141.75713521848, 16118.872377778247, 16130.129030956641, 16124.004929445777, 16108.89560367462, 16283.59148940632, 16273.92069264608, 16279.985367603866, 16294.848152027671, 16270.813396960177, 16296.08041870231, 16280.165281120377, 16281.365188527327, 16302.327688716974, 16273.92069264608, 16454.001749361003, 16456.883724969717, 16461.53966902727, 16465.158335585253, 16473.972433910385, 16454.95164438093, 16455.25694459746, 16453.0589476509, 16450.41997120996, 16453.240723570558]}, {\"line\": {\"color\": \"rgba(55, 128, 191, 1.0)\", \"dash\": \"solid\", \"shape\": \"linear\", \"width\": 1.3}, \"mode\": \"lines\", \"name\": \"y_pred\", \"text\": \"\", \"type\": \"scatter\", \"x\": [0, 1, 2, 3, 4, 5, 6, 7, 8, 9, 10, 11, 12, 13, 14, 15, 16, 17, 18, 19, 20, 21, 22, 23, 24, 25, 26, 27, 28, 29, 30, 31, 32, 33, 34, 35, 36, 37, 38, 39, 40, 41, 42, 43, 44, 45, 46, 47, 48, 49, 50, 51, 52, 53, 54, 55, 56, 57, 58, 59, 60, 61, 62, 63, 64, 65, 66, 67, 68, 69, 70, 71, 72, 73, 74, 75, 76, 77, 78, 79, 80, 81, 82, 83, 84, 85, 86, 87, 88, 89, 90, 91, 92, 93, 94, 95, 96, 97, 98, 99, 100, 101, 102, 103, 104, 105, 106, 107, 108, 109, 110, 111, 112, 113, 114, 115, 116, 117, 118, 119, 120, 121, 122, 123, 124, 125, 126, 127, 128, 129, 130, 131, 132, 133, 134, 135, 136, 137, 138, 139, 140, 141, 142, 143, 144, 145, 146, 147, 148, 149, 150, 151, 152, 153, 154, 155, 156, 157, 158, 159, 160, 161, 162, 163, 164, 165, 166, 167, 168, 169, 170, 171, 172, 173, 174, 175, 176, 177, 178, 179, 180, 181, 182, 183, 184, 185, 186, 187, 188, 189, 190, 191, 192, 193, 194, 195, 196, 197, 198, 199, 200, 201, 202, 203, 204, 205, 206, 207, 208, 209, 210, 211, 212, 213, 214, 215, 216, 217, 218, 219, 220, 221, 222, 223, 224, 225, 226, 227, 228, 229, 230, 231, 232, 233, 234, 235, 236, 237, 238, 239, 240, 241, 242, 243, 244, 245, 246, 247, 248, 249, 250, 251, 252, 253, 254, 255, 256, 257, 258, 259, 260, 261, 262, 263, 264, 265, 266, 267, 268, 269, 270, 271, 272, 273, 274, 275, 276, 277, 278, 279, 280, 281, 282, 283, 284, 285, 286, 287, 288, 289, 290, 291, 292, 293, 294, 295, 296, 297, 298, 299, 300, 301, 302, 303, 304, 305, 306, 307, 308, 309, 310, 311, 312, 313, 314, 315, 316, 317, 318, 319, 320, 321, 322, 323, 324, 325, 326, 327, 328, 329, 330, 331, 332, 333, 334, 335, 336, 337, 338, 339, 340, 341, 342, 343, 344, 345, 346, 347, 348, 349, 350, 351, 352, 353, 354, 355, 356, 357, 358, 359, 360, 361, 362, 363, 364, 365, 366, 367, 368, 369, 370, 371, 372, 373, 374, 375, 376, 377, 378, 379, 380, 381, 382, 383, 384, 385, 386, 387, 388, 389, 390, 391, 392, 393, 394, 395, 396, 397, 398, 399], \"y\": [16174.110599472711, 16174.089907381796, 16174.151983654543, 16174.131291563628, 16174.193367836375, 16174.089907381796, 16174.193367836375, 16174.131291563628, 16174.110599472711, 16174.131291563628, 16174.089907381796, 16174.151983654543, 16174.131291563628, 16174.276136200038, 16174.089907381796, 16174.151983654543, 16174.131291563628, 16174.110599472711, 16174.17267574546, 16174.110599472711, 16174.276136200038, 16174.255444109123, 16174.110599472711, 16174.296828290955, 16174.234752018207, 16174.214059927292, 16174.358904563704, 16174.214059927292, 16174.276136200038, 16174.214059927292, 16174.17267574546, 16174.110599472711, 16174.255444109123, 16174.151983654543, 16174.17267574546, 16174.317520381872, 16174.255444109123, 16174.234752018207, 16174.214059927292, 16174.317520381872, 16174.317520381872, 16174.255444109123, 16174.276136200038, 16174.255444109123, 16174.276136200038, 16174.255444109123, 16174.193367836375, 16174.255444109123, 16174.276136200038, 16174.214059927292, 16173.448452565046, 16173.42776047413, 16173.407068383212, 16173.510528837793, 16173.448452565046, 16173.386376292297, 16173.448452565046, 16173.510528837793, 16173.448452565046, 16173.510528837793, 16173.469144655961, 16173.489836746878, 16173.510528837793, 16173.448452565046, 16173.386376292297, 16173.53122092871, 16173.551913019624, 16173.53122092871, 16173.469144655961, 16173.448452565046, 16173.344992110466, 16173.448452565046, 16173.344992110466, 16173.36568420138, 16173.344992110466, 16173.324300019549, 16173.22083956497, 16173.407068383212, 16173.262223746802, 16173.324300019549, 16173.282915837717, 16173.303607928634, 16173.448452565046, 16173.344992110466, 16173.36568420138, 16173.386376292297, 16173.324300019549, 16173.42776047413, 16173.324300019549, 16173.42776047413, 16173.241531655885, 16173.22083956497, 16173.200147474054, 16173.179455383959, 16173.200147474054, 16173.22083956497, 16173.200147474054, 16173.262223746802, 16173.241531655885, 16173.262223746802, 16174.42098083645, 16174.56582547204, 16174.503749200114, 16174.524441290208, 16174.545133381125, 16174.441672927367, 16174.503749200114, 16174.56582547204, 16174.545133381125, 16174.648593835704, 16174.545133381125, 16174.483057109199, 16174.462365018282, 16174.400288745535, 16174.503749200114, 16174.441672927367, 16174.42098083645, 16174.483057109199, 16174.462365018282, 16174.524441290208, 16174.400288745535, 16174.42098083645, 16174.483057109199, 16174.42098083645, 16174.358904563704, 16174.379596654619, 16174.483057109199, 16174.462365018282, 16174.441672927367, 16174.462365018282, 16174.379596654619, 16174.441672927367, 16174.379596654619, 16174.441672927367, 16174.338212472787, 16174.400288745535, 16174.379596654619, 16174.483057109199, 16174.379596654619, 16174.317520381872, 16174.317520381872, 16174.379596654619, 16174.317520381872, 16174.338212472787, 16174.400288745535, 16174.42098083645, 16174.441672927367, 16174.338212472787, 16174.358904563704, 16174.379596654619, 16174.379596654619, 16174.524441290208, 16174.545133381125, 16174.524441290208, 16174.462365018282, 16174.524441290208, 16174.545133381125, 16174.607209653872, 16174.627901744789, 16174.524441290208, 16174.56582547204, 16174.545133381125, 16174.56582547204, 16174.42098083645, 16174.483057109199, 16174.379596654619, 16174.441672927367, 16174.503749200114, 16174.441672927367, 16174.462365018282, 16174.379596654619, 16174.441672927367, 16174.42098083645, 16174.441672927367, 16174.42098083645, 16174.400288745535, 16174.379596654619, 16174.441672927367, 16174.379596654619, 16174.317520381872, 16174.338212472787, 16174.234752018207, 16174.379596654619, 16174.441672927367, 16174.338212472787, 16174.400288745535, 16174.379596654619, 16174.400288745535, 16174.379596654619, 16174.400288745535, 16174.276136200038, 16174.296828290955, 16174.276136200038, 16174.379596654619, 16174.358904563704, 16174.214059927292, 16174.358904563704, 16174.296828290955, 16174.276136200038, 16174.338212472787, 16174.483057109199, 16174.338212472787, 16174.483057109199, 16174.42098083645, 16174.441672927367, 16174.462365018282, 16174.400288745535, 16174.503749200114, 16174.317520381872, 16174.379596654619, 16174.441672927367, 16174.338212472787, 16174.441672927367, 16174.42098083645, 16174.400288745535, 16174.462365018282, 16174.441672927367, 16174.255444109123, 16174.400288745535, 16174.379596654619, 16174.441672927367, 16174.338212472787, 16174.317520381872, 16174.42098083645, 16174.358904563704, 16174.296828290955, 16174.317520381872, 16174.379596654619, 16174.441672927367, 16174.338212472787, 16174.296828290955, 16174.317520381872, 16174.296828290955, 16174.276136200038, 16174.255444109123, 16174.276136200038, 16174.296828290955, 16174.358904563704, 16174.296828290955, 16174.358904563704, 16174.276136200038, 16174.214059927292, 16174.276136200038, 16174.338212472787, 16174.234752018207, 16174.214059927292, 16174.317520381872, 16174.214059927292, 16174.276136200038, 16174.296828290955, 16174.896898926696, 16174.752054290284, 16174.814130563032, 16174.87620683578, 16174.855514744864, 16174.91759101761, 16174.7727463812, 16174.91759101761, 16174.855514744864, 16174.87620683578, 16174.834822653947, 16174.855514744864, 16174.87620683578, 16174.855514744864, 16174.834822653947, 16174.855514744864, 16174.793438472116, 16174.814130563032, 16174.793438472116, 16174.855514744864, 16174.896898926696, 16174.958975198622, 16174.896898926696, 16174.958975198622, 16174.979667289537, 16174.834822653947, 16174.979667289537, 16174.87620683578, 16174.938283108528, 16174.91759101761, 16175.021051471369, 16174.87620683578, 16174.979667289537, 16174.834822653947, 16174.896898926696, 16174.91759101761, 16174.855514744864, 16174.793438472116, 16174.938283108528, 16174.91759101761, 16174.855514744864, 16174.834822653947, 16174.7727463812, 16174.834822653947, 16174.855514744864, 16174.793438472116, 16174.814130563032, 16174.834822653947, 16174.7727463812, 16174.752054290284, 16174.689978017535, 16174.627901744789, 16174.7727463812, 16174.627901744789, 16174.689978017535, 16174.66928592662, 16174.689978017535, 16174.627901744789, 16174.607209653872, 16174.66928592662, 16174.66928592662, 16174.689978017535, 16174.710670108452, 16174.607209653872, 16174.586517562957, 16174.648593835704, 16174.586517562957, 16174.648593835704, 16174.586517562957, 16174.607209653872, 16174.627901744789, 16174.689978017535, 16174.710670108452, 16174.689978017535, 16174.710670108452, 16174.814130563032, 16174.710670108452, 16174.7727463812, 16174.710670108452, 16174.814130563032, 16174.648593835704, 16174.710670108452, 16174.731362199367, 16174.66928592662, 16174.689978017535, 16174.793438472116, 16174.731362199367, 16174.710670108452, 16174.7727463812, 16174.834822653947, 16174.648593835704, 16174.66928592662, 16174.7727463812, 16174.66928592662, 16174.731362199367, 16174.627901744789, 16174.689978017535, 16174.710670108452, 16174.607209653872, 16174.752054290284, 16173.572605110541, 16173.469144655961, 16173.448452565046, 16173.510528837793, 16173.572605110541, 16173.469144655961, 16173.572605110541, 16173.42776047413, 16173.613989292373, 16173.469144655961, 16173.82091020071, 16173.717449746131, 16173.655373473382, 16173.758833927963, 16173.779526018878, 16173.758833927963, 16173.738141837046, 16173.6760655643, 16173.738141837046, 16173.717449746131, 16173.717449746131, 16173.862294382543, 16173.800218109795, 16173.82091020071, 16173.758833927963, 16173.82091020071, 16173.841602291626, 16173.779526018878, 16173.800218109795, 16173.779526018878, 16173.800218109795, 16173.779526018878, 16173.717449746131, 16173.779526018878, 16173.758833927963, 16173.779526018878, 16173.841602291626, 16173.82091020071, 16173.841602291626, 16173.779526018878, 16173.779526018878, 16173.800218109795, 16173.862294382543, 16173.758833927963, 16173.779526018878, 16173.882986473458, 16173.779526018878, 16173.758833927963, 16173.903678564375, 16173.882986473458]}],                        {\"legend\": {\"bgcolor\": \"#F5F6F9\", \"font\": {\"color\": \"#4D5663\"}}, \"paper_bgcolor\": \"#F5F6F9\", \"plot_bgcolor\": \"#F5F6F9\", \"template\": {\"data\": {\"bar\": [{\"error_x\": {\"color\": \"#2a3f5f\"}, \"error_y\": {\"color\": \"#2a3f5f\"}, \"marker\": {\"line\": {\"color\": \"#E5ECF6\", \"width\": 0.5}}, \"type\": \"bar\"}], \"barpolar\": [{\"marker\": {\"line\": {\"color\": \"#E5ECF6\", \"width\": 0.5}}, \"type\": \"barpolar\"}], \"carpet\": [{\"aaxis\": {\"endlinecolor\": \"#2a3f5f\", \"gridcolor\": \"white\", \"linecolor\": \"white\", \"minorgridcolor\": \"white\", \"startlinecolor\": \"#2a3f5f\"}, \"baxis\": {\"endlinecolor\": \"#2a3f5f\", \"gridcolor\": \"white\", \"linecolor\": \"white\", \"minorgridcolor\": \"white\", \"startlinecolor\": \"#2a3f5f\"}, \"type\": \"carpet\"}], \"choropleth\": [{\"colorbar\": {\"outlinewidth\": 0, \"ticks\": \"\"}, \"type\": \"choropleth\"}], \"contour\": [{\"colorbar\": {\"outlinewidth\": 0, \"ticks\": \"\"}, \"colorscale\": [[0.0, \"#0d0887\"], [0.1111111111111111, \"#46039f\"], [0.2222222222222222, \"#7201a8\"], [0.3333333333333333, \"#9c179e\"], [0.4444444444444444, \"#bd3786\"], [0.5555555555555556, \"#d8576b\"], [0.6666666666666666, \"#ed7953\"], [0.7777777777777778, \"#fb9f3a\"], [0.8888888888888888, \"#fdca26\"], [1.0, \"#f0f921\"]], \"type\": \"contour\"}], \"contourcarpet\": [{\"colorbar\": {\"outlinewidth\": 0, \"ticks\": \"\"}, \"type\": \"contourcarpet\"}], \"heatmap\": [{\"colorbar\": {\"outlinewidth\": 0, \"ticks\": \"\"}, \"colorscale\": [[0.0, \"#0d0887\"], [0.1111111111111111, \"#46039f\"], [0.2222222222222222, \"#7201a8\"], [0.3333333333333333, \"#9c179e\"], [0.4444444444444444, \"#bd3786\"], [0.5555555555555556, \"#d8576b\"], [0.6666666666666666, \"#ed7953\"], [0.7777777777777778, \"#fb9f3a\"], [0.8888888888888888, \"#fdca26\"], [1.0, \"#f0f921\"]], \"type\": \"heatmap\"}], \"heatmapgl\": [{\"colorbar\": {\"outlinewidth\": 0, \"ticks\": \"\"}, \"colorscale\": [[0.0, \"#0d0887\"], [0.1111111111111111, \"#46039f\"], [0.2222222222222222, \"#7201a8\"], [0.3333333333333333, \"#9c179e\"], [0.4444444444444444, \"#bd3786\"], [0.5555555555555556, \"#d8576b\"], [0.6666666666666666, \"#ed7953\"], [0.7777777777777778, \"#fb9f3a\"], [0.8888888888888888, \"#fdca26\"], [1.0, \"#f0f921\"]], \"type\": \"heatmapgl\"}], \"histogram\": [{\"marker\": {\"colorbar\": {\"outlinewidth\": 0, \"ticks\": \"\"}}, \"type\": \"histogram\"}], \"histogram2d\": [{\"colorbar\": {\"outlinewidth\": 0, \"ticks\": \"\"}, \"colorscale\": [[0.0, \"#0d0887\"], [0.1111111111111111, \"#46039f\"], [0.2222222222222222, \"#7201a8\"], [0.3333333333333333, \"#9c179e\"], [0.4444444444444444, \"#bd3786\"], [0.5555555555555556, \"#d8576b\"], [0.6666666666666666, \"#ed7953\"], [0.7777777777777778, \"#fb9f3a\"], [0.8888888888888888, \"#fdca26\"], [1.0, \"#f0f921\"]], \"type\": \"histogram2d\"}], \"histogram2dcontour\": [{\"colorbar\": {\"outlinewidth\": 0, \"ticks\": \"\"}, \"colorscale\": [[0.0, \"#0d0887\"], [0.1111111111111111, \"#46039f\"], [0.2222222222222222, \"#7201a8\"], [0.3333333333333333, \"#9c179e\"], [0.4444444444444444, \"#bd3786\"], [0.5555555555555556, \"#d8576b\"], [0.6666666666666666, \"#ed7953\"], [0.7777777777777778, \"#fb9f3a\"], [0.8888888888888888, \"#fdca26\"], [1.0, \"#f0f921\"]], \"type\": \"histogram2dcontour\"}], \"mesh3d\": [{\"colorbar\": {\"outlinewidth\": 0, \"ticks\": \"\"}, \"type\": \"mesh3d\"}], \"parcoords\": [{\"line\": {\"colorbar\": {\"outlinewidth\": 0, \"ticks\": \"\"}}, \"type\": \"parcoords\"}], \"pie\": [{\"automargin\": true, \"type\": \"pie\"}], \"scatter\": [{\"marker\": {\"colorbar\": {\"outlinewidth\": 0, \"ticks\": \"\"}}, \"type\": \"scatter\"}], \"scatter3d\": [{\"line\": {\"colorbar\": {\"outlinewidth\": 0, \"ticks\": \"\"}}, \"marker\": {\"colorbar\": {\"outlinewidth\": 0, \"ticks\": \"\"}}, \"type\": \"scatter3d\"}], \"scattercarpet\": [{\"marker\": {\"colorbar\": {\"outlinewidth\": 0, \"ticks\": \"\"}}, \"type\": \"scattercarpet\"}], \"scattergeo\": [{\"marker\": {\"colorbar\": {\"outlinewidth\": 0, \"ticks\": \"\"}}, \"type\": \"scattergeo\"}], \"scattergl\": [{\"marker\": {\"colorbar\": {\"outlinewidth\": 0, \"ticks\": \"\"}}, \"type\": \"scattergl\"}], \"scattermapbox\": [{\"marker\": {\"colorbar\": {\"outlinewidth\": 0, \"ticks\": \"\"}}, \"type\": \"scattermapbox\"}], \"scatterpolar\": [{\"marker\": {\"colorbar\": {\"outlinewidth\": 0, \"ticks\": \"\"}}, \"type\": \"scatterpolar\"}], \"scatterpolargl\": [{\"marker\": {\"colorbar\": {\"outlinewidth\": 0, \"ticks\": \"\"}}, \"type\": \"scatterpolargl\"}], \"scatterternary\": [{\"marker\": {\"colorbar\": {\"outlinewidth\": 0, \"ticks\": \"\"}}, \"type\": \"scatterternary\"}], \"surface\": [{\"colorbar\": {\"outlinewidth\": 0, \"ticks\": \"\"}, \"colorscale\": [[0.0, \"#0d0887\"], [0.1111111111111111, \"#46039f\"], [0.2222222222222222, \"#7201a8\"], [0.3333333333333333, \"#9c179e\"], [0.4444444444444444, \"#bd3786\"], [0.5555555555555556, \"#d8576b\"], [0.6666666666666666, \"#ed7953\"], [0.7777777777777778, \"#fb9f3a\"], [0.8888888888888888, \"#fdca26\"], [1.0, \"#f0f921\"]], \"type\": \"surface\"}], \"table\": [{\"cells\": {\"fill\": {\"color\": \"#EBF0F8\"}, \"line\": {\"color\": \"white\"}}, \"header\": {\"fill\": {\"color\": \"#C8D4E3\"}, \"line\": {\"color\": \"white\"}}, \"type\": \"table\"}]}, \"layout\": {\"annotationdefaults\": {\"arrowcolor\": \"#2a3f5f\", \"arrowhead\": 0, \"arrowwidth\": 1}, \"autotypenumbers\": \"strict\", \"coloraxis\": {\"colorbar\": {\"outlinewidth\": 0, \"ticks\": \"\"}}, \"colorscale\": {\"diverging\": [[0, \"#8e0152\"], [0.1, \"#c51b7d\"], [0.2, \"#de77ae\"], [0.3, \"#f1b6da\"], [0.4, \"#fde0ef\"], [0.5, \"#f7f7f7\"], [0.6, \"#e6f5d0\"], [0.7, \"#b8e186\"], [0.8, \"#7fbc41\"], [0.9, \"#4d9221\"], [1, \"#276419\"]], \"sequential\": [[0.0, \"#0d0887\"], [0.1111111111111111, \"#46039f\"], [0.2222222222222222, \"#7201a8\"], [0.3333333333333333, \"#9c179e\"], [0.4444444444444444, \"#bd3786\"], [0.5555555555555556, \"#d8576b\"], [0.6666666666666666, \"#ed7953\"], [0.7777777777777778, \"#fb9f3a\"], [0.8888888888888888, \"#fdca26\"], [1.0, \"#f0f921\"]], \"sequentialminus\": [[0.0, \"#0d0887\"], [0.1111111111111111, \"#46039f\"], [0.2222222222222222, \"#7201a8\"], [0.3333333333333333, \"#9c179e\"], [0.4444444444444444, \"#bd3786\"], [0.5555555555555556, \"#d8576b\"], [0.6666666666666666, \"#ed7953\"], [0.7777777777777778, \"#fb9f3a\"], [0.8888888888888888, \"#fdca26\"], [1.0, \"#f0f921\"]]}, \"colorway\": [\"#636efa\", \"#EF553B\", \"#00cc96\", \"#ab63fa\", \"#FFA15A\", \"#19d3f3\", \"#FF6692\", \"#B6E880\", \"#FF97FF\", \"#FECB52\"], \"font\": {\"color\": \"#2a3f5f\"}, \"geo\": {\"bgcolor\": \"white\", \"lakecolor\": \"white\", \"landcolor\": \"#E5ECF6\", \"showlakes\": true, \"showland\": true, \"subunitcolor\": \"white\"}, \"hoverlabel\": {\"align\": \"left\"}, \"hovermode\": \"closest\", \"mapbox\": {\"style\": \"light\"}, \"paper_bgcolor\": \"white\", \"plot_bgcolor\": \"#E5ECF6\", \"polar\": {\"angularaxis\": {\"gridcolor\": \"white\", \"linecolor\": \"white\", \"ticks\": \"\"}, \"bgcolor\": \"#E5ECF6\", \"radialaxis\": {\"gridcolor\": \"white\", \"linecolor\": \"white\", \"ticks\": \"\"}}, \"scene\": {\"xaxis\": {\"backgroundcolor\": \"#E5ECF6\", \"gridcolor\": \"white\", \"gridwidth\": 2, \"linecolor\": \"white\", \"showbackground\": true, \"ticks\": \"\", \"zerolinecolor\": \"white\"}, \"yaxis\": {\"backgroundcolor\": \"#E5ECF6\", \"gridcolor\": \"white\", \"gridwidth\": 2, \"linecolor\": \"white\", \"showbackground\": true, \"ticks\": \"\", \"zerolinecolor\": \"white\"}, \"zaxis\": {\"backgroundcolor\": \"#E5ECF6\", \"gridcolor\": \"white\", \"gridwidth\": 2, \"linecolor\": \"white\", \"showbackground\": true, \"ticks\": \"\", \"zerolinecolor\": \"white\"}}, \"shapedefaults\": {\"line\": {\"color\": \"#2a3f5f\"}}, \"ternary\": {\"aaxis\": {\"gridcolor\": \"white\", \"linecolor\": \"white\", \"ticks\": \"\"}, \"baxis\": {\"gridcolor\": \"white\", \"linecolor\": \"white\", \"ticks\": \"\"}, \"bgcolor\": \"#E5ECF6\", \"caxis\": {\"gridcolor\": \"white\", \"linecolor\": \"white\", \"ticks\": \"\"}}, \"title\": {\"x\": 0.05}, \"xaxis\": {\"automargin\": true, \"gridcolor\": \"white\", \"linecolor\": \"white\", \"ticks\": \"\", \"title\": {\"standoff\": 15}, \"zerolinecolor\": \"white\", \"zerolinewidth\": 2}, \"yaxis\": {\"automargin\": true, \"gridcolor\": \"white\", \"linecolor\": \"white\", \"ticks\": \"\", \"title\": {\"standoff\": 15}, \"zerolinecolor\": \"white\", \"zerolinewidth\": 2}}}, \"title\": {\"font\": {\"color\": \"#4D5663\"}, \"text\": \"25 (T=-23~50) (H=0~100) (degree=1) (magic) (shift0_ppmx1) (RMSE y_pred_scale= 497.10)\"}, \"xaxis\": {\"gridcolor\": \"#E1E5ED\", \"showgrid\": true, \"tickfont\": {\"color\": \"#4D5663\"}, \"title\": {\"font\": {\"color\": \"#4D5663\"}, \"text\": \"\"}, \"zerolinecolor\": \"#E1E5ED\"}, \"yaxis\": {\"gridcolor\": \"#E1E5ED\", \"showgrid\": true, \"tickfont\": {\"color\": \"#4D5663\"}, \"title\": {\"font\": {\"color\": \"#4D5663\"}, \"text\": \"ppm\"}, \"zerolinecolor\": \"#E1E5ED\"}},                        {\"showLink\": true, \"linkText\": \"Export to plot.ly\", \"plotlyServerURL\": \"https://plot.ly\", \"responsive\": true}                    ).then(function(){\n",
       "                            \n",
       "var gd = document.getElementById('d969be03-4dfe-488b-927e-478d64decb49');\n",
       "var x = new MutationObserver(function (mutations, observer) {{\n",
       "        var display = window.getComputedStyle(gd).display;\n",
       "        if (!display || display === 'none') {{\n",
       "            console.log([gd, 'removed!']);\n",
       "            Plotly.purge(gd);\n",
       "            observer.disconnect();\n",
       "        }}\n",
       "}});\n",
       "\n",
       "// Listen for the removal of the full notebook cells\n",
       "var notebookContainer = gd.closest('#notebook-container');\n",
       "if (notebookContainer) {{\n",
       "    x.observe(notebookContainer, {childList: true});\n",
       "}}\n",
       "\n",
       "// Listen for the clearing of the current output cell\n",
       "var outputEl = gd.closest('.output');\n",
       "if (outputEl) {{\n",
       "    x.observe(outputEl, {childList: true});\n",
       "}}\n",
       "\n",
       "                        })                };                });            </script>        </div>"
      ]
     },
     "metadata": {},
     "output_type": "display_data"
    },
    {
     "data": {
      "application/vnd.plotly.v1+json": {
       "config": {
        "plotlyServerURL": "https://plot.ly"
       },
       "data": [
        {
         "name": "ppm",
         "type": "scatter",
         "y": [
          0,
          0,
          0,
          0,
          0,
          0,
          0,
          0,
          0,
          0,
          60.025,
          60.0125,
          60,
          59.9375,
          60.0125,
          60,
          59.9875,
          59.9375,
          60.0125,
          60.025,
          25,
          24.975,
          25.0125,
          25.0125,
          24.9875,
          25,
          25.0125,
          25,
          25.0125,
          25,
          10,
          9.9875,
          10.0125,
          10.0125,
          10.025,
          9.9875,
          10.0125,
          10.0125,
          10.0125,
          10.0125,
          4.0125,
          4,
          4.025,
          3.975,
          4.0125,
          3.9875,
          4,
          4.0125,
          4.0125,
          4.0125,
          0,
          0,
          0,
          0,
          0,
          0,
          0,
          0,
          0,
          0,
          60.0375,
          59.9375,
          59.8875,
          60.0375,
          60,
          59.9375,
          60,
          59.9625,
          60,
          59.975,
          24.975,
          25.025,
          25.025,
          24.9625,
          24.9875,
          24.975,
          24.9875,
          25.0375,
          25,
          25.025,
          9.9875,
          9.975,
          10,
          9.9875,
          10.0125,
          10.025,
          10,
          9.9875,
          10,
          10.0125,
          4,
          4.0125,
          3.9875,
          3.9875,
          4.025,
          4,
          4.025,
          4,
          4.0125,
          4.0125,
          0,
          0,
          0,
          0,
          0,
          0,
          0,
          0,
          0,
          0,
          59.975,
          60,
          60.0125,
          59.9625,
          60.025,
          59.9875,
          60,
          60.0375,
          60.0625,
          59.9375,
          24.975,
          24.9875,
          24.9875,
          24.9375,
          25.05,
          24.9625,
          25,
          24.9625,
          25,
          25.025,
          10,
          10,
          9.9875,
          10.0125,
          10.0125,
          9.9875,
          10.0125,
          10.0125,
          10,
          10.0375,
          4.0125,
          4,
          4.0125,
          4.0125,
          4.0125,
          4,
          4.0125,
          4,
          4,
          4,
          0,
          0,
          0,
          0,
          0,
          0,
          0,
          0,
          0,
          0,
          59.975,
          60.05,
          60.0125,
          60,
          60.05,
          60.0125,
          60.125,
          60.025,
          59.9625,
          60.0125,
          25.0125,
          24.9625,
          25.0125,
          25.025,
          25.025,
          24.9625,
          25.0375,
          25.0375,
          25,
          24.9625,
          9.975,
          10.025,
          10.0125,
          9.9625,
          10,
          9.9875,
          10,
          10.0125,
          10,
          10.0125,
          4.0125,
          4,
          3.9875,
          3.975,
          4.0125,
          4,
          4,
          4,
          4.025,
          4.0125,
          0,
          0,
          0,
          0,
          0,
          0,
          0,
          0,
          0,
          0,
          59.95,
          60.025,
          60.0375,
          60.025,
          59.9625,
          59.9875,
          59.9875,
          60.0875,
          59.9875,
          60.0125,
          24.9875,
          25.025,
          24.9875,
          25,
          24.9625,
          25.0125,
          24.9875,
          25.025,
          25.025,
          24.9875,
          10.0125,
          10.025,
          9.9875,
          10.0125,
          10.0125,
          10.0125,
          9.9875,
          9.975,
          10.0125,
          9.9625,
          4.0125,
          4,
          4,
          4.025,
          4,
          4,
          4.0125,
          4.0125,
          4.0125,
          4,
          0,
          0,
          0,
          0,
          0,
          0,
          0,
          0,
          0,
          0,
          60.025,
          59.975,
          60.0125,
          60.0875,
          59.95,
          60.05,
          60,
          59.9125,
          60,
          59.9875,
          24.9875,
          25,
          25,
          25.0125,
          25,
          25,
          25.0375,
          25,
          24.975,
          24.9625,
          10.0125,
          9.9625,
          10.0125,
          9.9875,
          10,
          9.975,
          10,
          9.975,
          10.025,
          10.0125,
          3.9875,
          4.0125,
          4,
          4.0125,
          4,
          4,
          4.0125,
          4.0125,
          3.9875,
          3.9875,
          0,
          0,
          0,
          0,
          0,
          0,
          0,
          0,
          0,
          0,
          59.9875,
          59.95,
          60.0125,
          59.9,
          59.975,
          60.05,
          60.05,
          60.0625,
          59.9875,
          59.9375,
          24.9375,
          25,
          25.05,
          24.9875,
          24.9875,
          25.025,
          24.975,
          24.9875,
          24.975,
          24.9875,
          9.9875,
          10,
          9.9875,
          10.0125,
          10.0125,
          9.975,
          9.9875,
          10.025,
          10.025,
          9.9875,
          4,
          4,
          4,
          4.0125,
          4.0125,
          4.0125,
          4,
          3.975,
          4.0125,
          4,
          0,
          0,
          0,
          0,
          0,
          0,
          0,
          0,
          0,
          0,
          59.95,
          59.9875,
          60,
          59.875,
          59.9125,
          59.9875,
          60.0375,
          60,
          59.975,
          59.9875,
          24.9875,
          25.0375,
          24.9875,
          24.9625,
          25.0125,
          24.975,
          25.0625,
          25,
          24.9625,
          25,
          10.0125,
          9.975,
          9.975,
          10.0125,
          10,
          10,
          9.9625,
          10.0125,
          10.025,
          10.025,
          4.0125,
          4.0125,
          4.025,
          4,
          4.0125,
          4,
          4.0125,
          3.9875,
          4.0125,
          4
         ]
        },
        {
         "name": "pred_ppm",
         "type": "scatter",
         "y": [
          0,
          0,
          0,
          0,
          0,
          0,
          0,
          0,
          0,
          0,
          47.512157599427134,
          43.6190465991806,
          44.94596777144609,
          45.898138928704675,
          43.14174727372598,
          44.27557136963874,
          47.81724947215728,
          45.85052721675479,
          48.07855841899935,
          49.27422778179249,
          27.030902734310477,
          27.227120498330112,
          25.30396587369751,
          25.318441084143018,
          26.952056151913936,
          28.293410037006254,
          26.02381328987133,
          28.22110465838505,
          27.017657096382994,
          27.118695174337777,
          11.936632614731248,
          10.475498554587901,
          10.345861845927214,
          11.119806894642133,
          11.963084669769847,
          11.670238360020349,
          11.257885891230746,
          11.816165579609953,
          11.47579225455152,
          10.138984746010456,
          4.698455729604967,
          4.777175154152061,
          4.711498865608166,
          4.598405103597298,
          4.662898926040529,
          4.746924975956049,
          4.58489316773915,
          4.556306673762758,
          4.967983024763278,
          4.451920070415895,
          0,
          0,
          0,
          0,
          0,
          0,
          0,
          0,
          0,
          0,
          47.26646652638652,
          44.20676813346511,
          44.160606332010005,
          50.0599751829377,
          48.17736995998508,
          48.698008916043214,
          50.60549104449314,
          46.72019192621696,
          46.687214212591336,
          56.08775268448765,
          23.194147716716223,
          24.396961639708735,
          25.636833688958998,
          25.464775004568065,
          23.808258263390677,
          24.64520696633958,
          26.58328041921521,
          25.789603054298833,
          26.798934444903963,
          25.783282951306695,
          9.999401838067161,
          10.702212995684851,
          9.989942662400017,
          11.133440825418235,
          10.522207062342368,
          10.666234220913816,
          9.814335613036794,
          9.822968206487285,
          10.933951801187648,
          10.171574629569996,
          3.808169381194486,
          4.071496090638435,
          3.9938488780403527,
          3.7878701685626766,
          3.852372149450252,
          4.163948612524236,
          4.214266020935263,
          4.197859679108297,
          4.280988373095645,
          4.1162098405416465,
          0,
          0,
          0,
          0,
          0,
          0,
          0,
          0,
          0,
          0,
          36.4871183820963,
          40.542620822195104,
          41.52043549740052,
          42.20414226221535,
          42.270494379965164,
          47.33324927452038,
          45.70820992117924,
          44.45265776340687,
          43.49760753108307,
          48.50027555407297,
          23.102079090514987,
          25.50221735104705,
          26.139909907348848,
          23.717915265562095,
          22.94865459822089,
          25.136868794429986,
          23.986137899553082,
          23.20612215535627,
          24.937878277521403,
          26.5636932153432,
          9.690997086724135,
          9.669869704697613,
          9.970394799689704,
          9.33925059375237,
          10.660828151166296,
          9.907408186067217,
          9.752613616721575,
          9.09924136875144,
          10.11591301818368,
          10.068615652636714,
          4.020365748896086,
          3.913357983154979,
          3.837640787784027,
          3.9511808600903255,
          4.069918910181844,
          3.8493597822989805,
          3.570797213399435,
          3.7291668192353877,
          4.059767603528438,
          3.9916267598505066,
          0,
          0,
          0,
          0,
          0,
          0,
          0,
          0,
          0,
          0,
          28.54158413252055,
          31.318051848081613,
          32.07537924790127,
          32.142312415391544,
          31.291727182131122,
          33.79365164821,
          34.05032244862003,
          32.79221947807706,
          35.20629934105261,
          35.74248765689169,
          19.023434725775505,
          18.804412104494173,
          19.35215861189078,
          20.237950465449124,
          18.85114316172091,
          18.85182665729263,
          20.636423767019522,
          19.89268918518549,
          20.306452186749787,
          19.691800981772975,
          7.358514444558957,
          8.207546090587464,
          8.745903068002253,
          8.096951973239861,
          8.08505841007041,
          8.09430026609774,
          7.662346765613137,
          8.437369711871069,
          8.08771397777173,
          8.74592960437529,
          3.3133447951965866,
          3.19786718369666,
          3.3486289047459783,
          3.3893593953420393,
          3.2832123085023603,
          3.4059680854688543,
          3.3576571616285014,
          3.3488017530915863,
          3.243888012205014,
          3.401654537374133,
          0,
          0,
          0,
          0,
          0,
          0,
          0,
          0,
          0,
          0,
          48.404547718933955,
          48.56215197161013,
          51.01122360273926,
          54.48414089664908,
          51.65658948852069,
          48.124353313843564,
          57.35648060266854,
          54.888306436186966,
          56.66125479153023,
          54.39071712574739,
          25.265435531170926,
          24.064553967316954,
          23.807255787004305,
          25.824386498131943,
          25.073494197133897,
          26.307397232356713,
          25.831140372475787,
          25.098680352948097,
          26.962493309732114,
          24.752342514824573,
          9.917091870019773,
          8.77206012712472,
          9.658944340656353,
          9.802339798540865,
          9.526251883718341,
          9.759611742107198,
          9.895495714489531,
          9.38687692723322,
          9.026575092890145,
          9.576583112938172,
          3.6528504714349377,
          3.319946320839146,
          3.623359457020928,
          3.4782750388454455,
          3.298535512041784,
          3.3729578854166635,
          3.433068548672751,
          3.170733276147833,
          3.632275250939366,
          3.604447056608568,
          0,
          0,
          0,
          0,
          0,
          0,
          0,
          0,
          0,
          0,
          51.706786354141784,
          53.004291302756364,
          54.3334762574346,
          52.90315099161934,
          54.50021511810677,
          60.76662253087498,
          51.272782766116066,
          55.929780395842286,
          54.98026009086223,
          53.97471590629831,
          30.169667325404664,
          26.447786935872017,
          30.218295860225695,
          31.913008377630383,
          31.57925563113693,
          30.667535147563743,
          26.90587229665078,
          33.07317134279968,
          30.70797247328737,
          30.01246380481511,
          10.934765416352327,
          11.91974887738054,
          10.96061904361879,
          12.698129600994495,
          12.210865206255356,
          11.879498118682228,
          13.022864734224148,
          13.32610722436143,
          13.462854994380079,
          12.741273590764086,
          4.421354185985214,
          4.985479079613539,
          4.541589831355121,
          4.869360806878144,
          5.256765406574289,
          5.085861858614656,
          5.219558490778602,
          4.656147218211733,
          4.8118095900269156,
          4.8629122713356185,
          0,
          0,
          0,
          0,
          0,
          0,
          0,
          0,
          0,
          0,
          86.07412514988624,
          81.8048698262091,
          77.81900352840368,
          84.70860295307892,
          92.25450484913078,
          94.446798011188,
          86.41948941292807,
          93.98861694915813,
          94.56293926973471,
          95.09597965391299,
          52.65105489920028,
          60.64240545098021,
          58.07954365504898,
          56.9860411736151,
          58.36393830845847,
          51.17004947101784,
          54.94787298006039,
          60.9681738167324,
          59.713549495976466,
          55.399210659913464,
          30.333826710251827,
          28.161734659890158,
          30.263981500706585,
          29.243919845631144,
          25.743647529441418,
          29.602054228551722,
          30.15290628187849,
          28.87650667578333,
          26.130581972706764,
          31.560522422843135,
          11.935259578122977,
          11.757551751463879,
          12.934231861265951,
          12.114580197900759,
          11.86548385119383,
          12.61252586849006,
          12.875776244419214,
          12.282266536662876,
          12.31163414483305,
          13.008998852510448,
          0,
          0,
          0,
          0,
          0,
          0,
          0,
          0,
          0,
          0,
          46.609331398127615,
          52.35119323839801,
          46.27514126425702,
          53.828132897777024,
          49.87031237650721,
          54.24505788502593,
          52.85421293804524,
          55.48363853035905,
          55.25377831419695,
          60.03939965130035,
          32.88014944752297,
          28.951877181485056,
          32.803906122116736,
          29.15399433627095,
          28.491337667881282,
          29.962014671637018,
          34.09853045918225,
          31.988713505280177,
          33.117763224595066,
          36.06398093619508,
          13.448728658497727,
          14.201518680854933,
          13.71725346069289,
          12.61851687290388,
          14.45081747904018,
          12.531009750234308,
          13.715538014550406,
          13.620899641658154,
          12.102250646417609,
          14.201518680854933,
          5.412306922571358,
          5.332728086595216,
          5.207991572813563,
          5.106065827460288,
          4.878063753055351,
          5.390594546868246,
          5.377068884928842,
          5.4379247154281565,
          5.52020844390066,
          5.438791801218236
         ]
        },
        {
         "name": "Humidity",
         "type": "scatter",
         "y": [
          59.1384887695,
          59.1735839844,
          59.2208862305,
          59.2224121094,
          59.2330932617,
          59.231567382799994,
          59.278869628900004,
          59.280395507799994,
          59.3063354492,
          59.286499023400005,
          59.927368164099995,
          59.922790527299995,
          59.9304199219,
          59.977722168,
          60.000610351599995,
          60.008239746099996,
          59.9914550781,
          60.026550293,
          60.049438476599995,
          60.0631713867,
          60.285949707,
          60.2722167969,
          60.3225708008,
          60.336303710900005,
          60.3225708008,
          60.330200195299994,
          60.313415527299995,
          60.195922851599995,
          60.0784301758,
          59.9975585938,
          60.067749023400005,
          60.108947753900004,
          60.122680664099995,
          60.169982910200005,
          60.1684570313,
          60.166931152299995,
          60.1928710938,
          60.206604003900004,
          60.195922851599995,
          60.2584838867,
          60.414123535200005,
          60.44921875,
          60.417175293,
          60.409545898400005,
          60.462951660200005,
          60.476684570299994,
          60.4904174805,
          60.488891601599995,
          60.484313964799995,
          60.4858398438,
          60.911560058599996,
          60.7971191406,
          60.6643676758,
          60.494995117200006,
          60.432434082,
          60.3881835938,
          60.398864746099996,
          60.3942871094,
          60.4080200195,
          60.433959960900005,
          60.873413085900005,
          60.8840942383,
          60.9313964844,
          60.960388183599996,
          60.971069335900005,
          60.9909057617,
          60.9802246094,
          61.0641479492,
          61.083984375,
          61.094665527299995,
          61.2182617188,
          61.2106323242,
          61.2670898438,
          61.2838745117,
          61.288452148400005,
          61.296081543,
          61.3342285156,
          61.344909668,
          61.3647460938,
          61.363220214799995,
          61.195373535200005,
          61.032104492200006,
          60.874938964799995,
          60.836791992200006,
          60.856628418,
          60.8520507813,
          60.865783691400004,
          60.8764648438,
          60.9085083008,
          60.9313964844,
          61.198425293,
          61.1511230469,
          61.204528808599996,
          61.1938476563,
          61.2503051758,
          61.264038085900005,
          61.247253418,
          61.2365722656,
          61.2380981445,
          61.294555664099995,
          60.470581054700006,
          60.475158691400004,
          60.494995117200006,
          60.487365722700005,
          60.501098632799994,
          60.536193847700005,
          60.5346679688,
          60.536193847700005,
          60.5346679688,
          60.606384277299995,
          61.062622070299994,
          60.871887207,
          60.6506347656,
          60.5880737305,
          60.5224609375,
          60.557556152299995,
          60.5651855469,
          60.606384277299995,
          60.623168945299994,
          60.646057128900004,
          60.7986450195,
          60.8215332031,
          60.862731933599996,
          60.83984375,
          60.8963012695,
          60.888671875,
          60.9085083008,
          60.928344726599995,
          60.923767089799995,
          60.958862304700006,
          61.026000976599995,
          61.0549926758,
          61.0900878906,
          61.0641479492,
          61.0900878906,
          61.0549926758,
          61.056518554700006,
          61.051940918,
          61.083984375,
          61.1038208008,
          60.5880737305,
          60.595703125,
          60.6369018555,
          60.653686523400005,
          60.661315918,
          60.7177734375,
          60.740661621099996,
          60.7482910156,
          60.758972168,
          60.751342773400005,
          59.4177246094,
          59.446716308599996,
          59.457397460900005,
          59.4650268555,
          59.500122070299994,
          59.535217285200005,
          59.5275878906,
          59.5504760742,
          59.5886230469,
          59.617614746099996,
          60.2462768555,
          60.256958007799994,
          60.264587402299995,
          60.299682617200006,
          60.316467285200005,
          60.342407226599995,
          60.3561401367,
          60.3881835938,
          60.383605957,
          60.433959960900005,
          60.6323242188,
          60.5758666992,
          60.6079101563,
          60.633850097700005,
          60.6628417969,
          60.621643066400004,
          60.6628417969,
          60.661315918,
          60.6872558594,
          60.719299316400004,
          60.256958007799994,
          60.240173339799995,
          60.269165039099995,
          60.2615356445,
          60.317993164099995,
          60.3561401367,
          60.330200195299994,
          60.3713989258,
          60.397338867200006,
          60.4049682617,
          60.6033325195,
          60.5834960938,
          60.6246948242,
          60.635375976599995,
          60.6399536133,
          60.6567382813,
          60.710144043,
          60.7177734375,
          60.682678222700005,
          60.6994628906,
          79.1580200195,
          79.1687011719,
          79.1915893555,
          79.1748046875,
          79.216003418,
          79.2266845703,
          79.1091918945,
          78.8635253906,
          78.7185668945,
          78.6407470703,
          79.3411254883,
          79.345703125,
          79.3685913086,
          79.35791015630001,
          79.3899536133,
          79.4128417969,
          79.3991088867,
          79.4616699219,
          79.4876098633,
          79.50439453130001,
          79.7592163086,
          79.7760009766,
          79.8141479492,
          79.8645019531,
          79.8843383789,
          79.9102783203,
          79.9270629883,
          79.9560546875,
          79.9850463867,
          79.9652099609,
          80.1330566406,
          80.1071166992,
          80.1177978516,
          80.1681518555,
          80.1727294922,
          80.1712036133,
          80.1727294922,
          80.1986694336,
          80.2185058594,
          80.1651000977,
          79.6524047852,
          79.6966552734,
          79.7225952148,
          79.74853515630001,
          79.7714233398,
          79.7912597656,
          79.8294067383,
          79.8400878906,
          79.8629760742,
          79.8919677734,
          60.704040527299995,
          60.7360839844,
          60.7376098633,
          60.745239257799994,
          60.752868652299995,
          60.7788085938,
          60.7498168945,
          60.696411132799994,
          60.432434082,
          60.311889648400005,
          61.117553710900005,
          60.887145996099996,
          60.7482910156,
          60.710144043,
          60.714721679700006,
          60.707092285200005,
          60.7360839844,
          60.7833862305,
          60.775756835900005,
          60.801696777299995,
          60.8596801758,
          60.8154296875,
          60.8688354492,
          60.8581542969,
          60.905456543,
          60.934448242200006,
          60.905456543,
          60.928344726599995,
          60.9420776367,
          60.977172851599995,
          60.9329223633,
          60.995483398400005,
          60.975646972700005,
          60.9802246094,
          60.9939575195,
          61.013793945299994,
          61.003112793,
          61.0534667969,
          61.0549926758,
          61.0595703125,
          61.1282348633,
          61.0961914063,
          61.1129760742,
          61.087036132799994,
          60.939025878900004,
          60.7299804688,
          60.627746582,
          60.5773925781,
          60.523986816400004,
          60.556030273400005,
          29.960632324200002,
          29.9499511719,
          29.942321777300002,
          29.9560546875,
          30.000305175799998,
          29.9560546875,
          29.948425293000003,
          29.9774169922,
          29.975891113299998,
          29.9652099609,
          30.1025390625,
          30.073547363299998,
          30.078125,
          30.073547363299998,
          29.9957275391,
          29.899597168000003,
          29.8217773438,
          29.789733886700002,
          29.7760009766,
          29.786682128899997,
          29.6569824219,
          29.682922363299998,
          29.7241210938,
          29.713439941399997,
          29.7149658203,
          29.682922363299998,
          29.7393798828,
          29.707336425799998,
          29.736328125,
          29.771423339800002,
          29.646301269499997,
          29.6447753906,
          29.652404785199998,
          29.6722412109,
          29.670715331999997,
          29.6936035156,
          29.698181152300002,
          29.7271728516,
          29.701232910199998,
          29.6783447266,
          29.673767089800002,
          29.6722412109,
          29.652404785199998,
          29.6783447266,
          29.695129394499997,
          29.6325683594,
          29.658508300799998,
          29.6722412109,
          29.673767089800002,
          29.6905517578,
          60.975646972700005,
          61.001586914099995,
          61.012268066400004,
          61.050415039099995,
          61.051940918,
          61.03515625,
          61.0885620117,
          61.074829101599995,
          61.106872558599996,
          61.0534667969,
          61.521911621099996,
          61.508178710900005,
          61.561584472700005,
          61.5539550781,
          61.5798950195,
          61.5844726563,
          61.595153808599996,
          61.611938476599995,
          61.604309082,
          61.5844726563,
          60.964965820299994,
          60.9817504883,
          61.013793945299994,
          61.058044433599996,
          61.056518554700006,
          61.0763549805,
          61.1267089844,
          61.1282348633,
          61.1511230469,
          61.1770629883,
          61.2548828125,
          61.241149902299995,
          61.2976074219,
          61.296081543,
          61.343383789099995,
          61.314392089799995,
          61.3464355469,
          61.341857910200005,
          61.3708496094,
          61.378479003900004,
          61.415100097700005,
          61.398315429700006,
          61.436462402299995,
          61.410522460900005,
          61.4181518555,
          61.422729492200006,
          61.4303588867,
          61.3891601563,
          61.2716674805,
          61.0534667969
         ]
        },
        {
         "name": "Temperature",
         "type": "scatter",
         "y": [
          30.9311676025,
          30.928649902300002,
          30.9362030029,
          30.9336853027,
          30.941238403299998,
          30.928649902300002,
          30.941238403299998,
          30.9336853027,
          30.9311676025,
          30.9336853027,
          30.928649902300002,
          30.9362030029,
          30.9336853027,
          30.9513092041,
          30.928649902300002,
          30.9362030029,
          30.9336853027,
          30.9311676025,
          30.9387207031,
          30.9311676025,
          30.9513092041,
          30.948791503899997,
          30.9311676025,
          30.953826904299998,
          30.9462738037,
          30.9437561035,
          30.961380004899997,
          30.9437561035,
          30.9513092041,
          30.9437561035,
          30.9387207031,
          30.9311676025,
          30.948791503899997,
          30.9362030029,
          30.9387207031,
          30.956344604499996,
          30.948791503899997,
          30.9462738037,
          30.9437561035,
          30.956344604499996,
          30.956344604499996,
          30.948791503899997,
          30.9513092041,
          30.948791503899997,
          30.9513092041,
          30.948791503899997,
          30.941238403299998,
          30.948791503899997,
          30.9513092041,
          30.9437561035,
          30.8506011963,
          30.848083496100003,
          30.8455657959,
          30.8581542969,
          30.8506011963,
          30.843048095700002,
          30.8506011963,
          30.8581542969,
          30.8506011963,
          30.8581542969,
          30.8531188965,
          30.855636596700002,
          30.8581542969,
          30.8506011963,
          30.843048095700002,
          30.8606719971,
          30.8631896973,
          30.8606719971,
          30.8531188965,
          30.8506011963,
          30.8380126953,
          30.8506011963,
          30.8380126953,
          30.840530395500004,
          30.8380126953,
          30.835494995100003,
          30.8229064941,
          30.8455657959,
          30.827941894499997,
          30.835494995100003,
          30.8304595947,
          30.832977294899997,
          30.8506011963,
          30.8380126953,
          30.840530395500004,
          30.843048095700002,
          30.835494995100003,
          30.848083496100003,
          30.835494995100003,
          30.848083496100003,
          30.8254241943,
          30.8229064941,
          30.820388793899998,
          30.8178710938,
          30.820388793899998,
          30.8229064941,
          30.820388793899998,
          30.827941894499997,
          30.8254241943,
          30.827941894499997,
          30.968933105500003,
          30.9865570068,
          30.9790039063,
          30.981521606399998,
          30.9840393066,
          30.9714508057,
          30.9790039063,
          30.9865570068,
          30.9840393066,
          30.996627807600003,
          30.9840393066,
          30.976486206100002,
          30.9739685059,
          30.9664154053,
          30.9790039063,
          30.9714508057,
          30.968933105500003,
          30.976486206100002,
          30.9739685059,
          30.981521606399998,
          30.9664154053,
          30.968933105500003,
          30.976486206100002,
          30.968933105500003,
          30.961380004899997,
          30.963897705100003,
          30.976486206100002,
          30.9739685059,
          30.9714508057,
          30.9739685059,
          30.963897705100003,
          30.9714508057,
          30.963897705100003,
          30.9714508057,
          30.9588623047,
          30.9664154053,
          30.963897705100003,
          30.976486206100002,
          30.963897705100003,
          30.956344604499996,
          30.956344604499996,
          30.963897705100003,
          30.956344604499996,
          30.9588623047,
          30.9664154053,
          30.968933105500003,
          30.9714508057,
          30.9588623047,
          30.961380004899997,
          30.963897705100003,
          30.963897705100003,
          30.981521606399998,
          30.9840393066,
          30.981521606399998,
          30.9739685059,
          30.981521606399998,
          30.9840393066,
          30.9915924072,
          30.994110107399997,
          30.981521606399998,
          30.9865570068,
          30.9840393066,
          30.9865570068,
          30.968933105500003,
          30.976486206100002,
          30.963897705100003,
          30.9714508057,
          30.9790039063,
          30.9714508057,
          30.9739685059,
          30.963897705100003,
          30.9714508057,
          30.968933105500003,
          30.9714508057,
          30.968933105500003,
          30.9664154053,
          30.963897705100003,
          30.9714508057,
          30.963897705100003,
          30.956344604499996,
          30.9588623047,
          30.9462738037,
          30.963897705100003,
          30.9714508057,
          30.9588623047,
          30.9664154053,
          30.963897705100003,
          30.9664154053,
          30.963897705100003,
          30.9664154053,
          30.9513092041,
          30.953826904299998,
          30.9513092041,
          30.963897705100003,
          30.961380004899997,
          30.9437561035,
          30.961380004899997,
          30.953826904299998,
          30.9513092041,
          30.9588623047,
          30.976486206100002,
          30.9588623047,
          30.976486206100002,
          30.968933105500003,
          30.9714508057,
          30.9739685059,
          30.9664154053,
          30.9790039063,
          30.956344604499996,
          30.963897705100003,
          30.9714508057,
          30.9588623047,
          30.9714508057,
          30.968933105500003,
          30.9664154053,
          30.9739685059,
          30.9714508057,
          30.948791503899997,
          30.9664154053,
          30.963897705100003,
          30.9714508057,
          30.9588623047,
          30.956344604499996,
          30.968933105500003,
          30.961380004899997,
          30.953826904299998,
          30.956344604499996,
          30.963897705100003,
          30.9714508057,
          30.9588623047,
          30.953826904299998,
          30.956344604499996,
          30.953826904299998,
          30.9513092041,
          30.948791503899997,
          30.9513092041,
          30.953826904299998,
          30.961380004899997,
          30.953826904299998,
          30.961380004899997,
          30.9513092041,
          30.9437561035,
          30.9513092041,
          30.9588623047,
          30.9462738037,
          30.9437561035,
          30.956344604499996,
          30.9437561035,
          30.9513092041,
          30.953826904299998,
          31.02684021,
          31.009216308600003,
          31.016769409200002,
          31.0243225098,
          31.0218048096,
          31.029357910199998,
          31.0117340088,
          31.029357910199998,
          31.0218048096,
          31.0243225098,
          31.0192871094,
          31.0218048096,
          31.0243225098,
          31.0218048096,
          31.0192871094,
          31.0218048096,
          31.014251709,
          31.016769409200002,
          31.014251709,
          31.0218048096,
          31.02684021,
          31.0343933105,
          31.02684021,
          31.0343933105,
          31.036911010700003,
          31.0192871094,
          31.036911010700003,
          31.0243225098,
          31.0318756104,
          31.029357910199998,
          31.0419464111,
          31.0243225098,
          31.036911010700003,
          31.0192871094,
          31.02684021,
          31.029357910199998,
          31.0218048096,
          31.014251709,
          31.0318756104,
          31.029357910199998,
          31.0218048096,
          31.0192871094,
          31.0117340088,
          31.0192871094,
          31.0218048096,
          31.014251709,
          31.016769409200002,
          31.0192871094,
          31.0117340088,
          31.009216308600003,
          31.001663208000004,
          30.994110107399997,
          31.0117340088,
          30.994110107399997,
          31.001663208000004,
          30.9991455078,
          31.001663208000004,
          30.994110107399997,
          30.9915924072,
          30.9991455078,
          30.9991455078,
          31.001663208000004,
          31.004180908200002,
          30.9915924072,
          30.989074706999997,
          30.996627807600003,
          30.989074706999997,
          30.996627807600003,
          30.989074706999997,
          30.9915924072,
          30.994110107399997,
          31.001663208000004,
          31.004180908200002,
          31.001663208000004,
          31.004180908200002,
          31.016769409200002,
          31.004180908200002,
          31.0117340088,
          31.004180908200002,
          31.016769409200002,
          30.996627807600003,
          31.004180908200002,
          31.0066986084,
          30.9991455078,
          31.001663208000004,
          31.014251709,
          31.0066986084,
          31.004180908200002,
          31.0117340088,
          31.0192871094,
          30.996627807600003,
          30.9991455078,
          31.0117340088,
          30.9991455078,
          31.0066986084,
          30.994110107399997,
          31.001663208000004,
          31.004180908200002,
          30.9915924072,
          31.009216308600003,
          30.8657073975,
          30.8531188965,
          30.8506011963,
          30.8581542969,
          30.8657073975,
          30.8531188965,
          30.8657073975,
          30.848083496100003,
          30.8707427979,
          30.8531188965,
          30.8959197998,
          30.8833312988,
          30.875778198200003,
          30.888366699200002,
          30.8908843994,
          30.888366699200002,
          30.885848999,
          30.8782958984,
          30.885848999,
          30.8833312988,
          30.8833312988,
          30.9009552002,
          30.8934020996,
          30.8959197998,
          30.888366699200002,
          30.8959197998,
          30.8984375,
          30.8908843994,
          30.8934020996,
          30.8908843994,
          30.8934020996,
          30.8908843994,
          30.8833312988,
          30.8908843994,
          30.888366699200002,
          30.8908843994,
          30.8984375,
          30.8959197998,
          30.8984375,
          30.8908843994,
          30.8908843994,
          30.8934020996,
          30.9009552002,
          30.888366699200002,
          30.8908843994,
          30.9034729004,
          30.8908843994,
          30.888366699200002,
          30.9059906006,
          30.9034729004
         ]
        }
       ],
       "layout": {
        "template": {
         "data": {
          "bar": [
           {
            "error_x": {
             "color": "#2a3f5f"
            },
            "error_y": {
             "color": "#2a3f5f"
            },
            "marker": {
             "line": {
              "color": "#E5ECF6",
              "width": 0.5
             }
            },
            "type": "bar"
           }
          ],
          "barpolar": [
           {
            "marker": {
             "line": {
              "color": "#E5ECF6",
              "width": 0.5
             }
            },
            "type": "barpolar"
           }
          ],
          "carpet": [
           {
            "aaxis": {
             "endlinecolor": "#2a3f5f",
             "gridcolor": "white",
             "linecolor": "white",
             "minorgridcolor": "white",
             "startlinecolor": "#2a3f5f"
            },
            "baxis": {
             "endlinecolor": "#2a3f5f",
             "gridcolor": "white",
             "linecolor": "white",
             "minorgridcolor": "white",
             "startlinecolor": "#2a3f5f"
            },
            "type": "carpet"
           }
          ],
          "choropleth": [
           {
            "colorbar": {
             "outlinewidth": 0,
             "ticks": ""
            },
            "type": "choropleth"
           }
          ],
          "contour": [
           {
            "colorbar": {
             "outlinewidth": 0,
             "ticks": ""
            },
            "colorscale": [
             [
              0,
              "#0d0887"
             ],
             [
              0.1111111111111111,
              "#46039f"
             ],
             [
              0.2222222222222222,
              "#7201a8"
             ],
             [
              0.3333333333333333,
              "#9c179e"
             ],
             [
              0.4444444444444444,
              "#bd3786"
             ],
             [
              0.5555555555555556,
              "#d8576b"
             ],
             [
              0.6666666666666666,
              "#ed7953"
             ],
             [
              0.7777777777777778,
              "#fb9f3a"
             ],
             [
              0.8888888888888888,
              "#fdca26"
             ],
             [
              1,
              "#f0f921"
             ]
            ],
            "type": "contour"
           }
          ],
          "contourcarpet": [
           {
            "colorbar": {
             "outlinewidth": 0,
             "ticks": ""
            },
            "type": "contourcarpet"
           }
          ],
          "heatmap": [
           {
            "colorbar": {
             "outlinewidth": 0,
             "ticks": ""
            },
            "colorscale": [
             [
              0,
              "#0d0887"
             ],
             [
              0.1111111111111111,
              "#46039f"
             ],
             [
              0.2222222222222222,
              "#7201a8"
             ],
             [
              0.3333333333333333,
              "#9c179e"
             ],
             [
              0.4444444444444444,
              "#bd3786"
             ],
             [
              0.5555555555555556,
              "#d8576b"
             ],
             [
              0.6666666666666666,
              "#ed7953"
             ],
             [
              0.7777777777777778,
              "#fb9f3a"
             ],
             [
              0.8888888888888888,
              "#fdca26"
             ],
             [
              1,
              "#f0f921"
             ]
            ],
            "type": "heatmap"
           }
          ],
          "heatmapgl": [
           {
            "colorbar": {
             "outlinewidth": 0,
             "ticks": ""
            },
            "colorscale": [
             [
              0,
              "#0d0887"
             ],
             [
              0.1111111111111111,
              "#46039f"
             ],
             [
              0.2222222222222222,
              "#7201a8"
             ],
             [
              0.3333333333333333,
              "#9c179e"
             ],
             [
              0.4444444444444444,
              "#bd3786"
             ],
             [
              0.5555555555555556,
              "#d8576b"
             ],
             [
              0.6666666666666666,
              "#ed7953"
             ],
             [
              0.7777777777777778,
              "#fb9f3a"
             ],
             [
              0.8888888888888888,
              "#fdca26"
             ],
             [
              1,
              "#f0f921"
             ]
            ],
            "type": "heatmapgl"
           }
          ],
          "histogram": [
           {
            "marker": {
             "colorbar": {
              "outlinewidth": 0,
              "ticks": ""
             }
            },
            "type": "histogram"
           }
          ],
          "histogram2d": [
           {
            "colorbar": {
             "outlinewidth": 0,
             "ticks": ""
            },
            "colorscale": [
             [
              0,
              "#0d0887"
             ],
             [
              0.1111111111111111,
              "#46039f"
             ],
             [
              0.2222222222222222,
              "#7201a8"
             ],
             [
              0.3333333333333333,
              "#9c179e"
             ],
             [
              0.4444444444444444,
              "#bd3786"
             ],
             [
              0.5555555555555556,
              "#d8576b"
             ],
             [
              0.6666666666666666,
              "#ed7953"
             ],
             [
              0.7777777777777778,
              "#fb9f3a"
             ],
             [
              0.8888888888888888,
              "#fdca26"
             ],
             [
              1,
              "#f0f921"
             ]
            ],
            "type": "histogram2d"
           }
          ],
          "histogram2dcontour": [
           {
            "colorbar": {
             "outlinewidth": 0,
             "ticks": ""
            },
            "colorscale": [
             [
              0,
              "#0d0887"
             ],
             [
              0.1111111111111111,
              "#46039f"
             ],
             [
              0.2222222222222222,
              "#7201a8"
             ],
             [
              0.3333333333333333,
              "#9c179e"
             ],
             [
              0.4444444444444444,
              "#bd3786"
             ],
             [
              0.5555555555555556,
              "#d8576b"
             ],
             [
              0.6666666666666666,
              "#ed7953"
             ],
             [
              0.7777777777777778,
              "#fb9f3a"
             ],
             [
              0.8888888888888888,
              "#fdca26"
             ],
             [
              1,
              "#f0f921"
             ]
            ],
            "type": "histogram2dcontour"
           }
          ],
          "mesh3d": [
           {
            "colorbar": {
             "outlinewidth": 0,
             "ticks": ""
            },
            "type": "mesh3d"
           }
          ],
          "parcoords": [
           {
            "line": {
             "colorbar": {
              "outlinewidth": 0,
              "ticks": ""
             }
            },
            "type": "parcoords"
           }
          ],
          "pie": [
           {
            "automargin": true,
            "type": "pie"
           }
          ],
          "scatter": [
           {
            "marker": {
             "colorbar": {
              "outlinewidth": 0,
              "ticks": ""
             }
            },
            "type": "scatter"
           }
          ],
          "scatter3d": [
           {
            "line": {
             "colorbar": {
              "outlinewidth": 0,
              "ticks": ""
             }
            },
            "marker": {
             "colorbar": {
              "outlinewidth": 0,
              "ticks": ""
             }
            },
            "type": "scatter3d"
           }
          ],
          "scattercarpet": [
           {
            "marker": {
             "colorbar": {
              "outlinewidth": 0,
              "ticks": ""
             }
            },
            "type": "scattercarpet"
           }
          ],
          "scattergeo": [
           {
            "marker": {
             "colorbar": {
              "outlinewidth": 0,
              "ticks": ""
             }
            },
            "type": "scattergeo"
           }
          ],
          "scattergl": [
           {
            "marker": {
             "colorbar": {
              "outlinewidth": 0,
              "ticks": ""
             }
            },
            "type": "scattergl"
           }
          ],
          "scattermapbox": [
           {
            "marker": {
             "colorbar": {
              "outlinewidth": 0,
              "ticks": ""
             }
            },
            "type": "scattermapbox"
           }
          ],
          "scatterpolar": [
           {
            "marker": {
             "colorbar": {
              "outlinewidth": 0,
              "ticks": ""
             }
            },
            "type": "scatterpolar"
           }
          ],
          "scatterpolargl": [
           {
            "marker": {
             "colorbar": {
              "outlinewidth": 0,
              "ticks": ""
             }
            },
            "type": "scatterpolargl"
           }
          ],
          "scatterternary": [
           {
            "marker": {
             "colorbar": {
              "outlinewidth": 0,
              "ticks": ""
             }
            },
            "type": "scatterternary"
           }
          ],
          "surface": [
           {
            "colorbar": {
             "outlinewidth": 0,
             "ticks": ""
            },
            "colorscale": [
             [
              0,
              "#0d0887"
             ],
             [
              0.1111111111111111,
              "#46039f"
             ],
             [
              0.2222222222222222,
              "#7201a8"
             ],
             [
              0.3333333333333333,
              "#9c179e"
             ],
             [
              0.4444444444444444,
              "#bd3786"
             ],
             [
              0.5555555555555556,
              "#d8576b"
             ],
             [
              0.6666666666666666,
              "#ed7953"
             ],
             [
              0.7777777777777778,
              "#fb9f3a"
             ],
             [
              0.8888888888888888,
              "#fdca26"
             ],
             [
              1,
              "#f0f921"
             ]
            ],
            "type": "surface"
           }
          ],
          "table": [
           {
            "cells": {
             "fill": {
              "color": "#EBF0F8"
             },
             "line": {
              "color": "white"
             }
            },
            "header": {
             "fill": {
              "color": "#C8D4E3"
             },
             "line": {
              "color": "white"
             }
            },
            "type": "table"
           }
          ]
         },
         "layout": {
          "annotationdefaults": {
           "arrowcolor": "#2a3f5f",
           "arrowhead": 0,
           "arrowwidth": 1
          },
          "autotypenumbers": "strict",
          "coloraxis": {
           "colorbar": {
            "outlinewidth": 0,
            "ticks": ""
           }
          },
          "colorscale": {
           "diverging": [
            [
             0,
             "#8e0152"
            ],
            [
             0.1,
             "#c51b7d"
            ],
            [
             0.2,
             "#de77ae"
            ],
            [
             0.3,
             "#f1b6da"
            ],
            [
             0.4,
             "#fde0ef"
            ],
            [
             0.5,
             "#f7f7f7"
            ],
            [
             0.6,
             "#e6f5d0"
            ],
            [
             0.7,
             "#b8e186"
            ],
            [
             0.8,
             "#7fbc41"
            ],
            [
             0.9,
             "#4d9221"
            ],
            [
             1,
             "#276419"
            ]
           ],
           "sequential": [
            [
             0,
             "#0d0887"
            ],
            [
             0.1111111111111111,
             "#46039f"
            ],
            [
             0.2222222222222222,
             "#7201a8"
            ],
            [
             0.3333333333333333,
             "#9c179e"
            ],
            [
             0.4444444444444444,
             "#bd3786"
            ],
            [
             0.5555555555555556,
             "#d8576b"
            ],
            [
             0.6666666666666666,
             "#ed7953"
            ],
            [
             0.7777777777777778,
             "#fb9f3a"
            ],
            [
             0.8888888888888888,
             "#fdca26"
            ],
            [
             1,
             "#f0f921"
            ]
           ],
           "sequentialminus": [
            [
             0,
             "#0d0887"
            ],
            [
             0.1111111111111111,
             "#46039f"
            ],
            [
             0.2222222222222222,
             "#7201a8"
            ],
            [
             0.3333333333333333,
             "#9c179e"
            ],
            [
             0.4444444444444444,
             "#bd3786"
            ],
            [
             0.5555555555555556,
             "#d8576b"
            ],
            [
             0.6666666666666666,
             "#ed7953"
            ],
            [
             0.7777777777777778,
             "#fb9f3a"
            ],
            [
             0.8888888888888888,
             "#fdca26"
            ],
            [
             1,
             "#f0f921"
            ]
           ]
          },
          "colorway": [
           "#636efa",
           "#EF553B",
           "#00cc96",
           "#ab63fa",
           "#FFA15A",
           "#19d3f3",
           "#FF6692",
           "#B6E880",
           "#FF97FF",
           "#FECB52"
          ],
          "font": {
           "color": "#2a3f5f"
          },
          "geo": {
           "bgcolor": "white",
           "lakecolor": "white",
           "landcolor": "#E5ECF6",
           "showlakes": true,
           "showland": true,
           "subunitcolor": "white"
          },
          "hoverlabel": {
           "align": "left"
          },
          "hovermode": "closest",
          "mapbox": {
           "style": "light"
          },
          "paper_bgcolor": "white",
          "plot_bgcolor": "#E5ECF6",
          "polar": {
           "angularaxis": {
            "gridcolor": "white",
            "linecolor": "white",
            "ticks": ""
           },
           "bgcolor": "#E5ECF6",
           "radialaxis": {
            "gridcolor": "white",
            "linecolor": "white",
            "ticks": ""
           }
          },
          "scene": {
           "xaxis": {
            "backgroundcolor": "#E5ECF6",
            "gridcolor": "white",
            "gridwidth": 2,
            "linecolor": "white",
            "showbackground": true,
            "ticks": "",
            "zerolinecolor": "white"
           },
           "yaxis": {
            "backgroundcolor": "#E5ECF6",
            "gridcolor": "white",
            "gridwidth": 2,
            "linecolor": "white",
            "showbackground": true,
            "ticks": "",
            "zerolinecolor": "white"
           },
           "zaxis": {
            "backgroundcolor": "#E5ECF6",
            "gridcolor": "white",
            "gridwidth": 2,
            "linecolor": "white",
            "showbackground": true,
            "ticks": "",
            "zerolinecolor": "white"
           }
          },
          "shapedefaults": {
           "line": {
            "color": "#2a3f5f"
           }
          },
          "ternary": {
           "aaxis": {
            "gridcolor": "white",
            "linecolor": "white",
            "ticks": ""
           },
           "baxis": {
            "gridcolor": "white",
            "linecolor": "white",
            "ticks": ""
           },
           "bgcolor": "#E5ECF6",
           "caxis": {
            "gridcolor": "white",
            "linecolor": "white",
            "ticks": ""
           }
          },
          "title": {
           "x": 0.05
          },
          "xaxis": {
           "automargin": true,
           "gridcolor": "white",
           "linecolor": "white",
           "ticks": "",
           "title": {
            "standoff": 15
           },
           "zerolinecolor": "white",
           "zerolinewidth": 2
          },
          "yaxis": {
           "automargin": true,
           "gridcolor": "white",
           "linecolor": "white",
           "ticks": "",
           "title": {
            "standoff": 15
           },
           "zerolinecolor": "white",
           "zerolinewidth": 2
          }
         }
        },
        "title": {
         "text": "(29%~80%) (magic_comp) (RMSE=10.04)"
        },
        "xaxis": {
         "range": [
          0,
          400
         ]
        }
       }
      },
      "text/html": [
       "<div>                            <div id=\"5f27c76c-c5b5-45cd-9ea1-d82dace8c180\" class=\"plotly-graph-div\" style=\"height:525px; width:100%;\"></div>            <script type=\"text/javascript\">                require([\"plotly\"], function(Plotly) {                    window.PLOTLYENV=window.PLOTLYENV || {};                                    if (document.getElementById(\"5f27c76c-c5b5-45cd-9ea1-d82dace8c180\")) {                    Plotly.newPlot(                        \"5f27c76c-c5b5-45cd-9ea1-d82dace8c180\",                        [{\"name\": \"ppm\", \"type\": \"scatter\", \"y\": [0.0, 0.0, 0.0, 0.0, 0.0, 0.0, 0.0, 0.0, 0.0, 0.0, 60.025, 60.0125, 60.0, 59.9375, 60.0125, 60.0, 59.9875, 59.9375, 60.0125, 60.025, 25.0, 24.975, 25.0125, 25.0125, 24.9875, 25.0, 25.0125, 25.0, 25.0125, 25.0, 10.0, 9.9875, 10.0125, 10.0125, 10.025, 9.9875, 10.0125, 10.0125, 10.0125, 10.0125, 4.0125, 4.0, 4.025, 3.975, 4.0125, 3.9875, 4.0, 4.0125, 4.0125, 4.0125, 0.0, 0.0, 0.0, 0.0, 0.0, 0.0, 0.0, 0.0, 0.0, 0.0, 60.0375, 59.9375, 59.8875, 60.0375, 60.0, 59.9375, 60.0, 59.9625, 60.0, 59.975, 24.975, 25.025, 25.025, 24.9625, 24.9875, 24.975, 24.9875, 25.0375, 25.0, 25.025, 9.9875, 9.975, 10.0, 9.9875, 10.0125, 10.025, 10.0, 9.9875, 10.0, 10.0125, 4.0, 4.0125, 3.9875, 3.9875, 4.025, 4.0, 4.025, 4.0, 4.0125, 4.0125, 0.0, 0.0, 0.0, 0.0, 0.0, 0.0, 0.0, 0.0, 0.0, 0.0, 59.975, 60.0, 60.0125, 59.9625, 60.025, 59.9875, 60.0, 60.0375, 60.0625, 59.9375, 24.975, 24.9875, 24.9875, 24.9375, 25.05, 24.9625, 25.0, 24.9625, 25.0, 25.025, 10.0, 10.0, 9.9875, 10.0125, 10.0125, 9.9875, 10.0125, 10.0125, 10.0, 10.0375, 4.0125, 4.0, 4.0125, 4.0125, 4.0125, 4.0, 4.0125, 4.0, 4.0, 4.0, 0.0, 0.0, 0.0, 0.0, 0.0, 0.0, 0.0, 0.0, 0.0, 0.0, 59.975, 60.05, 60.0125, 60.0, 60.05, 60.0125, 60.125, 60.025, 59.9625, 60.0125, 25.0125, 24.9625, 25.0125, 25.025, 25.025, 24.9625, 25.0375, 25.0375, 25.0, 24.9625, 9.975, 10.025, 10.0125, 9.9625, 10.0, 9.9875, 10.0, 10.0125, 10.0, 10.0125, 4.0125, 4.0, 3.9875, 3.975, 4.0125, 4.0, 4.0, 4.0, 4.025, 4.0125, 0.0, 0.0, 0.0, 0.0, 0.0, 0.0, 0.0, 0.0, 0.0, 0.0, 59.95, 60.025, 60.0375, 60.025, 59.9625, 59.9875, 59.9875, 60.0875, 59.9875, 60.0125, 24.9875, 25.025, 24.9875, 25.0, 24.9625, 25.0125, 24.9875, 25.025, 25.025, 24.9875, 10.0125, 10.025, 9.9875, 10.0125, 10.0125, 10.0125, 9.9875, 9.975, 10.0125, 9.9625, 4.0125, 4.0, 4.0, 4.025, 4.0, 4.0, 4.0125, 4.0125, 4.0125, 4.0, 0.0, 0.0, 0.0, 0.0, 0.0, 0.0, 0.0, 0.0, 0.0, 0.0, 60.025, 59.975, 60.0125, 60.0875, 59.95, 60.05, 60.0, 59.9125, 60.0, 59.9875, 24.9875, 25.0, 25.0, 25.0125, 25.0, 25.0, 25.0375, 25.0, 24.975, 24.9625, 10.0125, 9.9625, 10.0125, 9.9875, 10.0, 9.975, 10.0, 9.975, 10.025, 10.0125, 3.9875, 4.0125, 4.0, 4.0125, 4.0, 4.0, 4.0125, 4.0125, 3.9875, 3.9875, 0.0, 0.0, 0.0, 0.0, 0.0, 0.0, 0.0, 0.0, 0.0, 0.0, 59.9875, 59.95, 60.0125, 59.9, 59.975, 60.05, 60.05, 60.0625, 59.9875, 59.9375, 24.9375, 25.0, 25.05, 24.9875, 24.9875, 25.025, 24.975, 24.9875, 24.975, 24.9875, 9.9875, 10.0, 9.9875, 10.0125, 10.0125, 9.975, 9.9875, 10.025, 10.025, 9.9875, 4.0, 4.0, 4.0, 4.0125, 4.0125, 4.0125, 4.0, 3.975, 4.0125, 4.0, 0.0, 0.0, 0.0, 0.0, 0.0, 0.0, 0.0, 0.0, 0.0, 0.0, 59.95, 59.9875, 60.0, 59.875, 59.9125, 59.9875, 60.0375, 60.0, 59.975, 59.9875, 24.9875, 25.0375, 24.9875, 24.9625, 25.0125, 24.975, 25.0625, 25.0, 24.9625, 25.0, 10.0125, 9.975, 9.975, 10.0125, 10.0, 10.0, 9.9625, 10.0125, 10.025, 10.025, 4.0125, 4.0125, 4.025, 4.0, 4.0125, 4.0, 4.0125, 3.9875, 4.0125, 4.0]}, {\"name\": \"pred_ppm\", \"type\": \"scatter\", \"y\": [0.0, 0.0, 0.0, 0.0, 0.0, 0.0, 0.0, 0.0, 0.0, 0.0, 47.512157599427134, 43.6190465991806, 44.94596777144609, 45.898138928704675, 43.14174727372598, 44.27557136963874, 47.81724947215728, 45.85052721675479, 48.07855841899935, 49.27422778179249, 27.030902734310477, 27.227120498330112, 25.30396587369751, 25.318441084143018, 26.952056151913936, 28.293410037006254, 26.02381328987133, 28.22110465838505, 27.017657096382994, 27.118695174337777, 11.936632614731248, 10.475498554587901, 10.345861845927214, 11.119806894642133, 11.963084669769847, 11.670238360020349, 11.257885891230746, 11.816165579609953, 11.47579225455152, 10.138984746010456, 4.698455729604967, 4.777175154152061, 4.711498865608166, 4.598405103597298, 4.662898926040529, 4.746924975956049, 4.58489316773915, 4.556306673762758, 4.967983024763278, 4.451920070415895, 0.0, 0.0, 0.0, 0.0, 0.0, 0.0, 0.0, 0.0, 0.0, 0.0, 47.26646652638652, 44.20676813346511, 44.160606332010005, 50.0599751829377, 48.17736995998508, 48.698008916043214, 50.60549104449314, 46.72019192621696, 46.687214212591336, 56.08775268448765, 23.194147716716223, 24.396961639708735, 25.636833688958998, 25.464775004568065, 23.808258263390677, 24.64520696633958, 26.58328041921521, 25.789603054298833, 26.798934444903963, 25.783282951306695, 9.999401838067161, 10.702212995684851, 9.989942662400017, 11.133440825418235, 10.522207062342368, 10.666234220913816, 9.814335613036794, 9.822968206487285, 10.933951801187648, 10.171574629569996, 3.808169381194486, 4.071496090638435, 3.9938488780403527, 3.7878701685626766, 3.852372149450252, 4.163948612524236, 4.214266020935263, 4.197859679108297, 4.280988373095645, 4.1162098405416465, 0.0, 0.0, 0.0, 0.0, 0.0, 0.0, 0.0, 0.0, 0.0, 0.0, 36.4871183820963, 40.542620822195104, 41.52043549740052, 42.20414226221535, 42.270494379965164, 47.33324927452038, 45.70820992117924, 44.45265776340687, 43.49760753108307, 48.50027555407297, 23.102079090514987, 25.50221735104705, 26.139909907348848, 23.717915265562095, 22.94865459822089, 25.136868794429986, 23.986137899553082, 23.20612215535627, 24.937878277521403, 26.5636932153432, 9.690997086724135, 9.669869704697613, 9.970394799689704, 9.33925059375237, 10.660828151166296, 9.907408186067217, 9.752613616721575, 9.09924136875144, 10.11591301818368, 10.068615652636714, 4.020365748896086, 3.913357983154979, 3.837640787784027, 3.9511808600903255, 4.069918910181844, 3.8493597822989805, 3.570797213399435, 3.7291668192353877, 4.059767603528438, 3.9916267598505066, 0.0, 0.0, 0.0, 0.0, 0.0, 0.0, 0.0, 0.0, 0.0, 0.0, 28.54158413252055, 31.318051848081613, 32.07537924790127, 32.142312415391544, 31.291727182131122, 33.79365164821, 34.05032244862003, 32.79221947807706, 35.20629934105261, 35.74248765689169, 19.023434725775505, 18.804412104494173, 19.35215861189078, 20.237950465449124, 18.85114316172091, 18.85182665729263, 20.636423767019522, 19.89268918518549, 20.306452186749787, 19.691800981772975, 7.358514444558957, 8.207546090587464, 8.745903068002253, 8.096951973239861, 8.08505841007041, 8.09430026609774, 7.662346765613137, 8.437369711871069, 8.08771397777173, 8.74592960437529, 3.3133447951965866, 3.19786718369666, 3.3486289047459783, 3.3893593953420393, 3.2832123085023603, 3.4059680854688543, 3.3576571616285014, 3.3488017530915863, 3.243888012205014, 3.401654537374133, 0.0, 0.0, 0.0, 0.0, 0.0, 0.0, 0.0, 0.0, 0.0, 0.0, 48.404547718933955, 48.56215197161013, 51.01122360273926, 54.48414089664908, 51.65658948852069, 48.124353313843564, 57.35648060266854, 54.888306436186966, 56.66125479153023, 54.39071712574739, 25.265435531170926, 24.064553967316954, 23.807255787004305, 25.824386498131943, 25.073494197133897, 26.307397232356713, 25.831140372475787, 25.098680352948097, 26.962493309732114, 24.752342514824573, 9.917091870019773, 8.77206012712472, 9.658944340656353, 9.802339798540865, 9.526251883718341, 9.759611742107198, 9.895495714489531, 9.38687692723322, 9.026575092890145, 9.576583112938172, 3.6528504714349377, 3.319946320839146, 3.623359457020928, 3.4782750388454455, 3.298535512041784, 3.3729578854166635, 3.433068548672751, 3.170733276147833, 3.632275250939366, 3.604447056608568, 0.0, 0.0, 0.0, 0.0, 0.0, 0.0, 0.0, 0.0, 0.0, 0.0, 51.706786354141784, 53.004291302756364, 54.3334762574346, 52.90315099161934, 54.50021511810677, 60.76662253087498, 51.272782766116066, 55.929780395842286, 54.98026009086223, 53.97471590629831, 30.169667325404664, 26.447786935872017, 30.218295860225695, 31.913008377630383, 31.57925563113693, 30.667535147563743, 26.90587229665078, 33.07317134279968, 30.70797247328737, 30.01246380481511, 10.934765416352327, 11.91974887738054, 10.96061904361879, 12.698129600994495, 12.210865206255356, 11.879498118682228, 13.022864734224148, 13.32610722436143, 13.462854994380079, 12.741273590764086, 4.421354185985214, 4.985479079613539, 4.541589831355121, 4.869360806878144, 5.256765406574289, 5.085861858614656, 5.219558490778602, 4.656147218211733, 4.8118095900269156, 4.8629122713356185, 0.0, 0.0, 0.0, 0.0, 0.0, 0.0, 0.0, 0.0, 0.0, 0.0, 86.07412514988624, 81.8048698262091, 77.81900352840368, 84.70860295307892, 92.25450484913078, 94.446798011188, 86.41948941292807, 93.98861694915813, 94.56293926973471, 95.09597965391299, 52.65105489920028, 60.64240545098021, 58.07954365504898, 56.9860411736151, 58.36393830845847, 51.17004947101784, 54.94787298006039, 60.9681738167324, 59.713549495976466, 55.399210659913464, 30.333826710251827, 28.161734659890158, 30.263981500706585, 29.243919845631144, 25.743647529441418, 29.602054228551722, 30.15290628187849, 28.87650667578333, 26.130581972706764, 31.560522422843135, 11.935259578122977, 11.757551751463879, 12.934231861265951, 12.114580197900759, 11.86548385119383, 12.61252586849006, 12.875776244419214, 12.282266536662876, 12.31163414483305, 13.008998852510448, 0.0, 0.0, 0.0, 0.0, 0.0, 0.0, 0.0, 0.0, 0.0, 0.0, 46.609331398127615, 52.35119323839801, 46.27514126425702, 53.828132897777024, 49.87031237650721, 54.24505788502593, 52.85421293804524, 55.48363853035905, 55.25377831419695, 60.03939965130035, 32.88014944752297, 28.951877181485056, 32.803906122116736, 29.15399433627095, 28.491337667881282, 29.962014671637018, 34.09853045918225, 31.988713505280177, 33.117763224595066, 36.06398093619508, 13.448728658497727, 14.201518680854933, 13.71725346069289, 12.61851687290388, 14.45081747904018, 12.531009750234308, 13.715538014550406, 13.620899641658154, 12.102250646417609, 14.201518680854933, 5.412306922571358, 5.332728086595216, 5.207991572813563, 5.106065827460288, 4.878063753055351, 5.390594546868246, 5.377068884928842, 5.4379247154281565, 5.52020844390066, 5.438791801218236]}, {\"name\": \"Humidity\", \"type\": \"scatter\", \"y\": [59.1384887695, 59.1735839844, 59.2208862305, 59.2224121094, 59.2330932617, 59.231567382799994, 59.278869628900004, 59.280395507799994, 59.3063354492, 59.286499023400005, 59.927368164099995, 59.922790527299995, 59.9304199219, 59.977722168, 60.000610351599995, 60.008239746099996, 59.9914550781, 60.026550293, 60.049438476599995, 60.0631713867, 60.285949707, 60.2722167969, 60.3225708008, 60.336303710900005, 60.3225708008, 60.330200195299994, 60.313415527299995, 60.195922851599995, 60.0784301758, 59.9975585938, 60.067749023400005, 60.108947753900004, 60.122680664099995, 60.169982910200005, 60.1684570313, 60.166931152299995, 60.1928710938, 60.206604003900004, 60.195922851599995, 60.2584838867, 60.414123535200005, 60.44921875, 60.417175293, 60.409545898400005, 60.462951660200005, 60.476684570299994, 60.4904174805, 60.488891601599995, 60.484313964799995, 60.4858398438, 60.911560058599996, 60.7971191406, 60.6643676758, 60.494995117200006, 60.432434082, 60.3881835938, 60.398864746099996, 60.3942871094, 60.4080200195, 60.433959960900005, 60.873413085900005, 60.8840942383, 60.9313964844, 60.960388183599996, 60.971069335900005, 60.9909057617, 60.9802246094, 61.0641479492, 61.083984375, 61.094665527299995, 61.2182617188, 61.2106323242, 61.2670898438, 61.2838745117, 61.288452148400005, 61.296081543, 61.3342285156, 61.344909668, 61.3647460938, 61.363220214799995, 61.195373535200005, 61.032104492200006, 60.874938964799995, 60.836791992200006, 60.856628418, 60.8520507813, 60.865783691400004, 60.8764648438, 60.9085083008, 60.9313964844, 61.198425293, 61.1511230469, 61.204528808599996, 61.1938476563, 61.2503051758, 61.264038085900005, 61.247253418, 61.2365722656, 61.2380981445, 61.294555664099995, 60.470581054700006, 60.475158691400004, 60.494995117200006, 60.487365722700005, 60.501098632799994, 60.536193847700005, 60.5346679688, 60.536193847700005, 60.5346679688, 60.606384277299995, 61.062622070299994, 60.871887207, 60.6506347656, 60.5880737305, 60.5224609375, 60.557556152299995, 60.5651855469, 60.606384277299995, 60.623168945299994, 60.646057128900004, 60.7986450195, 60.8215332031, 60.862731933599996, 60.83984375, 60.8963012695, 60.888671875, 60.9085083008, 60.928344726599995, 60.923767089799995, 60.958862304700006, 61.026000976599995, 61.0549926758, 61.0900878906, 61.0641479492, 61.0900878906, 61.0549926758, 61.056518554700006, 61.051940918, 61.083984375, 61.1038208008, 60.5880737305, 60.595703125, 60.6369018555, 60.653686523400005, 60.661315918, 60.7177734375, 60.740661621099996, 60.7482910156, 60.758972168, 60.751342773400005, 59.4177246094, 59.446716308599996, 59.457397460900005, 59.4650268555, 59.500122070299994, 59.535217285200005, 59.5275878906, 59.5504760742, 59.5886230469, 59.617614746099996, 60.2462768555, 60.256958007799994, 60.264587402299995, 60.299682617200006, 60.316467285200005, 60.342407226599995, 60.3561401367, 60.3881835938, 60.383605957, 60.433959960900005, 60.6323242188, 60.5758666992, 60.6079101563, 60.633850097700005, 60.6628417969, 60.621643066400004, 60.6628417969, 60.661315918, 60.6872558594, 60.719299316400004, 60.256958007799994, 60.240173339799995, 60.269165039099995, 60.2615356445, 60.317993164099995, 60.3561401367, 60.330200195299994, 60.3713989258, 60.397338867200006, 60.4049682617, 60.6033325195, 60.5834960938, 60.6246948242, 60.635375976599995, 60.6399536133, 60.6567382813, 60.710144043, 60.7177734375, 60.682678222700005, 60.6994628906, 79.1580200195, 79.1687011719, 79.1915893555, 79.1748046875, 79.216003418, 79.2266845703, 79.1091918945, 78.8635253906, 78.7185668945, 78.6407470703, 79.3411254883, 79.345703125, 79.3685913086, 79.35791015630001, 79.3899536133, 79.4128417969, 79.3991088867, 79.4616699219, 79.4876098633, 79.50439453130001, 79.7592163086, 79.7760009766, 79.8141479492, 79.8645019531, 79.8843383789, 79.9102783203, 79.9270629883, 79.9560546875, 79.9850463867, 79.9652099609, 80.1330566406, 80.1071166992, 80.1177978516, 80.1681518555, 80.1727294922, 80.1712036133, 80.1727294922, 80.1986694336, 80.2185058594, 80.1651000977, 79.6524047852, 79.6966552734, 79.7225952148, 79.74853515630001, 79.7714233398, 79.7912597656, 79.8294067383, 79.8400878906, 79.8629760742, 79.8919677734, 60.704040527299995, 60.7360839844, 60.7376098633, 60.745239257799994, 60.752868652299995, 60.7788085938, 60.7498168945, 60.696411132799994, 60.432434082, 60.311889648400005, 61.117553710900005, 60.887145996099996, 60.7482910156, 60.710144043, 60.714721679700006, 60.707092285200005, 60.7360839844, 60.7833862305, 60.775756835900005, 60.801696777299995, 60.8596801758, 60.8154296875, 60.8688354492, 60.8581542969, 60.905456543, 60.934448242200006, 60.905456543, 60.928344726599995, 60.9420776367, 60.977172851599995, 60.9329223633, 60.995483398400005, 60.975646972700005, 60.9802246094, 60.9939575195, 61.013793945299994, 61.003112793, 61.0534667969, 61.0549926758, 61.0595703125, 61.1282348633, 61.0961914063, 61.1129760742, 61.087036132799994, 60.939025878900004, 60.7299804688, 60.627746582, 60.5773925781, 60.523986816400004, 60.556030273400005, 29.960632324200002, 29.9499511719, 29.942321777300002, 29.9560546875, 30.000305175799998, 29.9560546875, 29.948425293000003, 29.9774169922, 29.975891113299998, 29.9652099609, 30.1025390625, 30.073547363299998, 30.078125, 30.073547363299998, 29.9957275391, 29.899597168000003, 29.8217773438, 29.789733886700002, 29.7760009766, 29.786682128899997, 29.6569824219, 29.682922363299998, 29.7241210938, 29.713439941399997, 29.7149658203, 29.682922363299998, 29.7393798828, 29.707336425799998, 29.736328125, 29.771423339800002, 29.646301269499997, 29.6447753906, 29.652404785199998, 29.6722412109, 29.670715331999997, 29.6936035156, 29.698181152300002, 29.7271728516, 29.701232910199998, 29.6783447266, 29.673767089800002, 29.6722412109, 29.652404785199998, 29.6783447266, 29.695129394499997, 29.6325683594, 29.658508300799998, 29.6722412109, 29.673767089800002, 29.6905517578, 60.975646972700005, 61.001586914099995, 61.012268066400004, 61.050415039099995, 61.051940918, 61.03515625, 61.0885620117, 61.074829101599995, 61.106872558599996, 61.0534667969, 61.521911621099996, 61.508178710900005, 61.561584472700005, 61.5539550781, 61.5798950195, 61.5844726563, 61.595153808599996, 61.611938476599995, 61.604309082, 61.5844726563, 60.964965820299994, 60.9817504883, 61.013793945299994, 61.058044433599996, 61.056518554700006, 61.0763549805, 61.1267089844, 61.1282348633, 61.1511230469, 61.1770629883, 61.2548828125, 61.241149902299995, 61.2976074219, 61.296081543, 61.343383789099995, 61.314392089799995, 61.3464355469, 61.341857910200005, 61.3708496094, 61.378479003900004, 61.415100097700005, 61.398315429700006, 61.436462402299995, 61.410522460900005, 61.4181518555, 61.422729492200006, 61.4303588867, 61.3891601563, 61.2716674805, 61.0534667969]}, {\"name\": \"Temperature\", \"type\": \"scatter\", \"y\": [30.9311676025, 30.928649902300002, 30.9362030029, 30.9336853027, 30.941238403299998, 30.928649902300002, 30.941238403299998, 30.9336853027, 30.9311676025, 30.9336853027, 30.928649902300002, 30.9362030029, 30.9336853027, 30.9513092041, 30.928649902300002, 30.9362030029, 30.9336853027, 30.9311676025, 30.9387207031, 30.9311676025, 30.9513092041, 30.948791503899997, 30.9311676025, 30.953826904299998, 30.9462738037, 30.9437561035, 30.961380004899997, 30.9437561035, 30.9513092041, 30.9437561035, 30.9387207031, 30.9311676025, 30.948791503899997, 30.9362030029, 30.9387207031, 30.956344604499996, 30.948791503899997, 30.9462738037, 30.9437561035, 30.956344604499996, 30.956344604499996, 30.948791503899997, 30.9513092041, 30.948791503899997, 30.9513092041, 30.948791503899997, 30.941238403299998, 30.948791503899997, 30.9513092041, 30.9437561035, 30.8506011963, 30.848083496100003, 30.8455657959, 30.8581542969, 30.8506011963, 30.843048095700002, 30.8506011963, 30.8581542969, 30.8506011963, 30.8581542969, 30.8531188965, 30.855636596700002, 30.8581542969, 30.8506011963, 30.843048095700002, 30.8606719971, 30.8631896973, 30.8606719971, 30.8531188965, 30.8506011963, 30.8380126953, 30.8506011963, 30.8380126953, 30.840530395500004, 30.8380126953, 30.835494995100003, 30.8229064941, 30.8455657959, 30.827941894499997, 30.835494995100003, 30.8304595947, 30.832977294899997, 30.8506011963, 30.8380126953, 30.840530395500004, 30.843048095700002, 30.835494995100003, 30.848083496100003, 30.835494995100003, 30.848083496100003, 30.8254241943, 30.8229064941, 30.820388793899998, 30.8178710938, 30.820388793899998, 30.8229064941, 30.820388793899998, 30.827941894499997, 30.8254241943, 30.827941894499997, 30.968933105500003, 30.9865570068, 30.9790039063, 30.981521606399998, 30.9840393066, 30.9714508057, 30.9790039063, 30.9865570068, 30.9840393066, 30.996627807600003, 30.9840393066, 30.976486206100002, 30.9739685059, 30.9664154053, 30.9790039063, 30.9714508057, 30.968933105500003, 30.976486206100002, 30.9739685059, 30.981521606399998, 30.9664154053, 30.968933105500003, 30.976486206100002, 30.968933105500003, 30.961380004899997, 30.963897705100003, 30.976486206100002, 30.9739685059, 30.9714508057, 30.9739685059, 30.963897705100003, 30.9714508057, 30.963897705100003, 30.9714508057, 30.9588623047, 30.9664154053, 30.963897705100003, 30.976486206100002, 30.963897705100003, 30.956344604499996, 30.956344604499996, 30.963897705100003, 30.956344604499996, 30.9588623047, 30.9664154053, 30.968933105500003, 30.9714508057, 30.9588623047, 30.961380004899997, 30.963897705100003, 30.963897705100003, 30.981521606399998, 30.9840393066, 30.981521606399998, 30.9739685059, 30.981521606399998, 30.9840393066, 30.9915924072, 30.994110107399997, 30.981521606399998, 30.9865570068, 30.9840393066, 30.9865570068, 30.968933105500003, 30.976486206100002, 30.963897705100003, 30.9714508057, 30.9790039063, 30.9714508057, 30.9739685059, 30.963897705100003, 30.9714508057, 30.968933105500003, 30.9714508057, 30.968933105500003, 30.9664154053, 30.963897705100003, 30.9714508057, 30.963897705100003, 30.956344604499996, 30.9588623047, 30.9462738037, 30.963897705100003, 30.9714508057, 30.9588623047, 30.9664154053, 30.963897705100003, 30.9664154053, 30.963897705100003, 30.9664154053, 30.9513092041, 30.953826904299998, 30.9513092041, 30.963897705100003, 30.961380004899997, 30.9437561035, 30.961380004899997, 30.953826904299998, 30.9513092041, 30.9588623047, 30.976486206100002, 30.9588623047, 30.976486206100002, 30.968933105500003, 30.9714508057, 30.9739685059, 30.9664154053, 30.9790039063, 30.956344604499996, 30.963897705100003, 30.9714508057, 30.9588623047, 30.9714508057, 30.968933105500003, 30.9664154053, 30.9739685059, 30.9714508057, 30.948791503899997, 30.9664154053, 30.963897705100003, 30.9714508057, 30.9588623047, 30.956344604499996, 30.968933105500003, 30.961380004899997, 30.953826904299998, 30.956344604499996, 30.963897705100003, 30.9714508057, 30.9588623047, 30.953826904299998, 30.956344604499996, 30.953826904299998, 30.9513092041, 30.948791503899997, 30.9513092041, 30.953826904299998, 30.961380004899997, 30.953826904299998, 30.961380004899997, 30.9513092041, 30.9437561035, 30.9513092041, 30.9588623047, 30.9462738037, 30.9437561035, 30.956344604499996, 30.9437561035, 30.9513092041, 30.953826904299998, 31.02684021, 31.009216308600003, 31.016769409200002, 31.0243225098, 31.0218048096, 31.029357910199998, 31.0117340088, 31.029357910199998, 31.0218048096, 31.0243225098, 31.0192871094, 31.0218048096, 31.0243225098, 31.0218048096, 31.0192871094, 31.0218048096, 31.014251709, 31.016769409200002, 31.014251709, 31.0218048096, 31.02684021, 31.0343933105, 31.02684021, 31.0343933105, 31.036911010700003, 31.0192871094, 31.036911010700003, 31.0243225098, 31.0318756104, 31.029357910199998, 31.0419464111, 31.0243225098, 31.036911010700003, 31.0192871094, 31.02684021, 31.029357910199998, 31.0218048096, 31.014251709, 31.0318756104, 31.029357910199998, 31.0218048096, 31.0192871094, 31.0117340088, 31.0192871094, 31.0218048096, 31.014251709, 31.016769409200002, 31.0192871094, 31.0117340088, 31.009216308600003, 31.001663208000004, 30.994110107399997, 31.0117340088, 30.994110107399997, 31.001663208000004, 30.9991455078, 31.001663208000004, 30.994110107399997, 30.9915924072, 30.9991455078, 30.9991455078, 31.001663208000004, 31.004180908200002, 30.9915924072, 30.989074706999997, 30.996627807600003, 30.989074706999997, 30.996627807600003, 30.989074706999997, 30.9915924072, 30.994110107399997, 31.001663208000004, 31.004180908200002, 31.001663208000004, 31.004180908200002, 31.016769409200002, 31.004180908200002, 31.0117340088, 31.004180908200002, 31.016769409200002, 30.996627807600003, 31.004180908200002, 31.0066986084, 30.9991455078, 31.001663208000004, 31.014251709, 31.0066986084, 31.004180908200002, 31.0117340088, 31.0192871094, 30.996627807600003, 30.9991455078, 31.0117340088, 30.9991455078, 31.0066986084, 30.994110107399997, 31.001663208000004, 31.004180908200002, 30.9915924072, 31.009216308600003, 30.8657073975, 30.8531188965, 30.8506011963, 30.8581542969, 30.8657073975, 30.8531188965, 30.8657073975, 30.848083496100003, 30.8707427979, 30.8531188965, 30.8959197998, 30.8833312988, 30.875778198200003, 30.888366699200002, 30.8908843994, 30.888366699200002, 30.885848999, 30.8782958984, 30.885848999, 30.8833312988, 30.8833312988, 30.9009552002, 30.8934020996, 30.8959197998, 30.888366699200002, 30.8959197998, 30.8984375, 30.8908843994, 30.8934020996, 30.8908843994, 30.8934020996, 30.8908843994, 30.8833312988, 30.8908843994, 30.888366699200002, 30.8908843994, 30.8984375, 30.8959197998, 30.8984375, 30.8908843994, 30.8908843994, 30.8934020996, 30.9009552002, 30.888366699200002, 30.8908843994, 30.9034729004, 30.8908843994, 30.888366699200002, 30.9059906006, 30.9034729004]}],                        {\"template\": {\"data\": {\"bar\": [{\"error_x\": {\"color\": \"#2a3f5f\"}, \"error_y\": {\"color\": \"#2a3f5f\"}, \"marker\": {\"line\": {\"color\": \"#E5ECF6\", \"width\": 0.5}}, \"type\": \"bar\"}], \"barpolar\": [{\"marker\": {\"line\": {\"color\": \"#E5ECF6\", \"width\": 0.5}}, \"type\": \"barpolar\"}], \"carpet\": [{\"aaxis\": {\"endlinecolor\": \"#2a3f5f\", \"gridcolor\": \"white\", \"linecolor\": \"white\", \"minorgridcolor\": \"white\", \"startlinecolor\": \"#2a3f5f\"}, \"baxis\": {\"endlinecolor\": \"#2a3f5f\", \"gridcolor\": \"white\", \"linecolor\": \"white\", \"minorgridcolor\": \"white\", \"startlinecolor\": \"#2a3f5f\"}, \"type\": \"carpet\"}], \"choropleth\": [{\"colorbar\": {\"outlinewidth\": 0, \"ticks\": \"\"}, \"type\": \"choropleth\"}], \"contour\": [{\"colorbar\": {\"outlinewidth\": 0, \"ticks\": \"\"}, \"colorscale\": [[0.0, \"#0d0887\"], [0.1111111111111111, \"#46039f\"], [0.2222222222222222, \"#7201a8\"], [0.3333333333333333, \"#9c179e\"], [0.4444444444444444, \"#bd3786\"], [0.5555555555555556, \"#d8576b\"], [0.6666666666666666, \"#ed7953\"], [0.7777777777777778, \"#fb9f3a\"], [0.8888888888888888, \"#fdca26\"], [1.0, \"#f0f921\"]], \"type\": \"contour\"}], \"contourcarpet\": [{\"colorbar\": {\"outlinewidth\": 0, \"ticks\": \"\"}, \"type\": \"contourcarpet\"}], \"heatmap\": [{\"colorbar\": {\"outlinewidth\": 0, \"ticks\": \"\"}, \"colorscale\": [[0.0, \"#0d0887\"], [0.1111111111111111, \"#46039f\"], [0.2222222222222222, \"#7201a8\"], [0.3333333333333333, \"#9c179e\"], [0.4444444444444444, \"#bd3786\"], [0.5555555555555556, \"#d8576b\"], [0.6666666666666666, \"#ed7953\"], [0.7777777777777778, \"#fb9f3a\"], [0.8888888888888888, \"#fdca26\"], [1.0, \"#f0f921\"]], \"type\": \"heatmap\"}], \"heatmapgl\": [{\"colorbar\": {\"outlinewidth\": 0, \"ticks\": \"\"}, \"colorscale\": [[0.0, \"#0d0887\"], [0.1111111111111111, \"#46039f\"], [0.2222222222222222, \"#7201a8\"], [0.3333333333333333, \"#9c179e\"], [0.4444444444444444, \"#bd3786\"], [0.5555555555555556, \"#d8576b\"], [0.6666666666666666, \"#ed7953\"], [0.7777777777777778, \"#fb9f3a\"], [0.8888888888888888, \"#fdca26\"], [1.0, \"#f0f921\"]], \"type\": \"heatmapgl\"}], \"histogram\": [{\"marker\": {\"colorbar\": {\"outlinewidth\": 0, \"ticks\": \"\"}}, \"type\": \"histogram\"}], \"histogram2d\": [{\"colorbar\": {\"outlinewidth\": 0, \"ticks\": \"\"}, \"colorscale\": [[0.0, \"#0d0887\"], [0.1111111111111111, \"#46039f\"], [0.2222222222222222, \"#7201a8\"], [0.3333333333333333, \"#9c179e\"], [0.4444444444444444, \"#bd3786\"], [0.5555555555555556, \"#d8576b\"], [0.6666666666666666, \"#ed7953\"], [0.7777777777777778, \"#fb9f3a\"], [0.8888888888888888, \"#fdca26\"], [1.0, \"#f0f921\"]], \"type\": \"histogram2d\"}], \"histogram2dcontour\": [{\"colorbar\": {\"outlinewidth\": 0, \"ticks\": \"\"}, \"colorscale\": [[0.0, \"#0d0887\"], [0.1111111111111111, \"#46039f\"], [0.2222222222222222, \"#7201a8\"], [0.3333333333333333, \"#9c179e\"], [0.4444444444444444, \"#bd3786\"], [0.5555555555555556, \"#d8576b\"], [0.6666666666666666, \"#ed7953\"], [0.7777777777777778, \"#fb9f3a\"], [0.8888888888888888, \"#fdca26\"], [1.0, \"#f0f921\"]], \"type\": \"histogram2dcontour\"}], \"mesh3d\": [{\"colorbar\": {\"outlinewidth\": 0, \"ticks\": \"\"}, \"type\": \"mesh3d\"}], \"parcoords\": [{\"line\": {\"colorbar\": {\"outlinewidth\": 0, \"ticks\": \"\"}}, \"type\": \"parcoords\"}], \"pie\": [{\"automargin\": true, \"type\": \"pie\"}], \"scatter\": [{\"marker\": {\"colorbar\": {\"outlinewidth\": 0, \"ticks\": \"\"}}, \"type\": \"scatter\"}], \"scatter3d\": [{\"line\": {\"colorbar\": {\"outlinewidth\": 0, \"ticks\": \"\"}}, \"marker\": {\"colorbar\": {\"outlinewidth\": 0, \"ticks\": \"\"}}, \"type\": \"scatter3d\"}], \"scattercarpet\": [{\"marker\": {\"colorbar\": {\"outlinewidth\": 0, \"ticks\": \"\"}}, \"type\": \"scattercarpet\"}], \"scattergeo\": [{\"marker\": {\"colorbar\": {\"outlinewidth\": 0, \"ticks\": \"\"}}, \"type\": \"scattergeo\"}], \"scattergl\": [{\"marker\": {\"colorbar\": {\"outlinewidth\": 0, \"ticks\": \"\"}}, \"type\": \"scattergl\"}], \"scattermapbox\": [{\"marker\": {\"colorbar\": {\"outlinewidth\": 0, \"ticks\": \"\"}}, \"type\": \"scattermapbox\"}], \"scatterpolar\": [{\"marker\": {\"colorbar\": {\"outlinewidth\": 0, \"ticks\": \"\"}}, \"type\": \"scatterpolar\"}], \"scatterpolargl\": [{\"marker\": {\"colorbar\": {\"outlinewidth\": 0, \"ticks\": \"\"}}, \"type\": \"scatterpolargl\"}], \"scatterternary\": [{\"marker\": {\"colorbar\": {\"outlinewidth\": 0, \"ticks\": \"\"}}, \"type\": \"scatterternary\"}], \"surface\": [{\"colorbar\": {\"outlinewidth\": 0, \"ticks\": \"\"}, \"colorscale\": [[0.0, \"#0d0887\"], [0.1111111111111111, \"#46039f\"], [0.2222222222222222, \"#7201a8\"], [0.3333333333333333, \"#9c179e\"], [0.4444444444444444, \"#bd3786\"], [0.5555555555555556, \"#d8576b\"], [0.6666666666666666, \"#ed7953\"], [0.7777777777777778, \"#fb9f3a\"], [0.8888888888888888, \"#fdca26\"], [1.0, \"#f0f921\"]], \"type\": \"surface\"}], \"table\": [{\"cells\": {\"fill\": {\"color\": \"#EBF0F8\"}, \"line\": {\"color\": \"white\"}}, \"header\": {\"fill\": {\"color\": \"#C8D4E3\"}, \"line\": {\"color\": \"white\"}}, \"type\": \"table\"}]}, \"layout\": {\"annotationdefaults\": {\"arrowcolor\": \"#2a3f5f\", \"arrowhead\": 0, \"arrowwidth\": 1}, \"autotypenumbers\": \"strict\", \"coloraxis\": {\"colorbar\": {\"outlinewidth\": 0, \"ticks\": \"\"}}, \"colorscale\": {\"diverging\": [[0, \"#8e0152\"], [0.1, \"#c51b7d\"], [0.2, \"#de77ae\"], [0.3, \"#f1b6da\"], [0.4, \"#fde0ef\"], [0.5, \"#f7f7f7\"], [0.6, \"#e6f5d0\"], [0.7, \"#b8e186\"], [0.8, \"#7fbc41\"], [0.9, \"#4d9221\"], [1, \"#276419\"]], \"sequential\": [[0.0, \"#0d0887\"], [0.1111111111111111, \"#46039f\"], [0.2222222222222222, \"#7201a8\"], [0.3333333333333333, \"#9c179e\"], [0.4444444444444444, \"#bd3786\"], [0.5555555555555556, \"#d8576b\"], [0.6666666666666666, \"#ed7953\"], [0.7777777777777778, \"#fb9f3a\"], [0.8888888888888888, \"#fdca26\"], [1.0, \"#f0f921\"]], \"sequentialminus\": [[0.0, \"#0d0887\"], [0.1111111111111111, \"#46039f\"], [0.2222222222222222, \"#7201a8\"], [0.3333333333333333, \"#9c179e\"], [0.4444444444444444, \"#bd3786\"], [0.5555555555555556, \"#d8576b\"], [0.6666666666666666, \"#ed7953\"], [0.7777777777777778, \"#fb9f3a\"], [0.8888888888888888, \"#fdca26\"], [1.0, \"#f0f921\"]]}, \"colorway\": [\"#636efa\", \"#EF553B\", \"#00cc96\", \"#ab63fa\", \"#FFA15A\", \"#19d3f3\", \"#FF6692\", \"#B6E880\", \"#FF97FF\", \"#FECB52\"], \"font\": {\"color\": \"#2a3f5f\"}, \"geo\": {\"bgcolor\": \"white\", \"lakecolor\": \"white\", \"landcolor\": \"#E5ECF6\", \"showlakes\": true, \"showland\": true, \"subunitcolor\": \"white\"}, \"hoverlabel\": {\"align\": \"left\"}, \"hovermode\": \"closest\", \"mapbox\": {\"style\": \"light\"}, \"paper_bgcolor\": \"white\", \"plot_bgcolor\": \"#E5ECF6\", \"polar\": {\"angularaxis\": {\"gridcolor\": \"white\", \"linecolor\": \"white\", \"ticks\": \"\"}, \"bgcolor\": \"#E5ECF6\", \"radialaxis\": {\"gridcolor\": \"white\", \"linecolor\": \"white\", \"ticks\": \"\"}}, \"scene\": {\"xaxis\": {\"backgroundcolor\": \"#E5ECF6\", \"gridcolor\": \"white\", \"gridwidth\": 2, \"linecolor\": \"white\", \"showbackground\": true, \"ticks\": \"\", \"zerolinecolor\": \"white\"}, \"yaxis\": {\"backgroundcolor\": \"#E5ECF6\", \"gridcolor\": \"white\", \"gridwidth\": 2, \"linecolor\": \"white\", \"showbackground\": true, \"ticks\": \"\", \"zerolinecolor\": \"white\"}, \"zaxis\": {\"backgroundcolor\": \"#E5ECF6\", \"gridcolor\": \"white\", \"gridwidth\": 2, \"linecolor\": \"white\", \"showbackground\": true, \"ticks\": \"\", \"zerolinecolor\": \"white\"}}, \"shapedefaults\": {\"line\": {\"color\": \"#2a3f5f\"}}, \"ternary\": {\"aaxis\": {\"gridcolor\": \"white\", \"linecolor\": \"white\", \"ticks\": \"\"}, \"baxis\": {\"gridcolor\": \"white\", \"linecolor\": \"white\", \"ticks\": \"\"}, \"bgcolor\": \"#E5ECF6\", \"caxis\": {\"gridcolor\": \"white\", \"linecolor\": \"white\", \"ticks\": \"\"}}, \"title\": {\"x\": 0.05}, \"xaxis\": {\"automargin\": true, \"gridcolor\": \"white\", \"linecolor\": \"white\", \"ticks\": \"\", \"title\": {\"standoff\": 15}, \"zerolinecolor\": \"white\", \"zerolinewidth\": 2}, \"yaxis\": {\"automargin\": true, \"gridcolor\": \"white\", \"linecolor\": \"white\", \"ticks\": \"\", \"title\": {\"standoff\": 15}, \"zerolinecolor\": \"white\", \"zerolinewidth\": 2}}}, \"title\": {\"text\": \"(29%~80%) (magic_comp) (RMSE=10.04)\"}, \"xaxis\": {\"range\": [0, 400]}},                        {\"responsive\": true}                    ).then(function(){\n",
       "                            \n",
       "var gd = document.getElementById('5f27c76c-c5b5-45cd-9ea1-d82dace8c180');\n",
       "var x = new MutationObserver(function (mutations, observer) {{\n",
       "        var display = window.getComputedStyle(gd).display;\n",
       "        if (!display || display === 'none') {{\n",
       "            console.log([gd, 'removed!']);\n",
       "            Plotly.purge(gd);\n",
       "            observer.disconnect();\n",
       "        }}\n",
       "}});\n",
       "\n",
       "// Listen for the removal of the full notebook cells\n",
       "var notebookContainer = gd.closest('#notebook-container');\n",
       "if (notebookContainer) {{\n",
       "    x.observe(notebookContainer, {childList: true});\n",
       "}}\n",
       "\n",
       "// Listen for the clearing of the current output cell\n",
       "var outputEl = gd.closest('.output');\n",
       "if (outputEl) {{\n",
       "    x.observe(outputEl, {childList: true});\n",
       "}}\n",
       "\n",
       "                        })                };                });            </script>        </div>"
      ]
     },
     "metadata": {},
     "output_type": "display_data"
    }
   ],
   "source": [
    "# load training data\n",
    "dk_0C = df_0C.copy().reset_index(drop=True)\n",
    "dk_10C = df_10C.copy().reset_index(drop=True)\n",
    "dk_20C = df_20C.copy().reset_index(drop=True)\n",
    "dk_30C = df_30C.copy().reset_index(drop=True)\n",
    "dk_40C = df_40C.copy().reset_index(drop=True)\n",
    "\n",
    "# copy testing data\n",
    "dk_test_30C_1 = df_test_30C_1.copy().reset_index(drop=True)\n",
    "dk_test_30C_2 = df_test_30C_2.copy().reset_index(drop=True)\n",
    "dk_test_30C_3 = df_test_30C_3.copy().reset_index(drop=True)\n",
    "dk_test_30C_4 = df_test_30C_4.copy().reset_index(drop=True)\n",
    "dk_test_30C_5 = df_test_30C_5.copy().reset_index(drop=True)\n",
    "dk_test_30C_6 = df_test_30C_6.copy().reset_index(drop=True)\n",
    "dk_test_30C_7 = df_test_30C_7.copy().reset_index(drop=True)\n",
    "dk_test_30C_8 = df_test_30C_8.copy().reset_index(drop=True)\n",
    "# dk_test_30C_9 = df_test_30C_9.copy().reset_index(drop=True)\n",
    "# dk_test_30C_10 = df_test_30C_10.copy().reset_index(drop=True)\n",
    "# dk_test_30C_11 = df_test_30C_11.copy().reset_index(drop=True)\n",
    "\n",
    "#setting temperature range\n",
    "'''dict = {temp. 1 : ([training data1, data2], [blind test data1, data2], white_card_std data)}'''\n",
    "\n",
    "temp_data_dict = { \n",
    "\n",
    "    # 0~40C\n",
    "    'temp. 1': ([dk_0C, dk_10C, dk_20C, dk_30C, dk_40C], [\n",
    "                                                          dk_test_30C_1, \n",
    "                                                          dk_test_30C_2, \n",
    "                                                          dk_test_30C_3, \n",
    "                                                          dk_test_30C_4, \n",
    "                                                          dk_test_30C_5,\n",
    "                                                          dk_test_30C_6,\n",
    "                                                          dk_test_30C_7,\n",
    "                                                          dk_test_30C_8,\n",
    "#                                                           dk_test_30C_9,\n",
    "#                                                           dk_test_30C_10,\n",
    "#                                                           dk_test_30C_11,\n",
    "                                                         ]),\n",
    "\n",
    "\n",
    "\n",
    "                  } \n",
    "    \n",
    "# implement temp. range loop\n",
    "for temp_data, temp_blind_test in temp_data_dict.values():\n",
    "    \n",
    "\n",
    "    # plot each model 4D data\n",
    "#             module_4D.plot_4D_multi_model(temp_data, temp_blind_test, channel_list, sensor_number)\n",
    "\n",
    "    # concate training data        \n",
    "    df_all = pd.concat(temp_data).reset_index(drop=True)\n",
    "    df_test = pd.concat(temp_blind_test).reset_index(drop=True)   \n",
    "    \n",
    "    # 取0ppm資料\n",
    "    dk_all_0ppm = df_all[df_all['ppm']<1].copy()\n",
    "\n",
    "    # 取4ppm資料\n",
    "    dk_all_4ppm = df_all[(df_all['ppm']>3)&(df_all['ppm']<5)].copy()\n",
    "    \n",
    "    # 取10ppm資料\n",
    "    dk_all_10ppm = df_all[(df_all['ppm']>9)&(df_all['ppm']<11)].copy()\n",
    "\n",
    "    # 取25ppm資料\n",
    "    dk_all_25ppm = df_all[(df_all['ppm']>24)&(df_all['ppm']<26)].copy()\n",
    "    \n",
    "    # 取60ppm資料\n",
    "    dk_all_60ppm = df_all[(df_all['ppm']>59)&(df_all['ppm']<61)].copy()\n",
    "\n",
    "    \n",
    "    dk_data_dict = {\n",
    "#                     0:(dk_all_0ppm),\n",
    "                    4:(dk_all_4ppm),\n",
    "                    10:(dk_all_10ppm),\n",
    "                    25:(dk_all_25ppm),\n",
    "#                     60:(dk_all_60ppm)\n",
    "               }\n",
    "    \n",
    "\n",
    "    #training model for 0ppm, 10ppm, 60ppm surface\n",
    "    surf_coef_list = []                           # store ppm surface coefficient\n",
    "    for ppm, ppm_data in dk_data_dict.items():\n",
    "\n",
    "        dk_data = ppm_data\n",
    "        y_train = dk_data[train_channel] + shift \n",
    "        x_train = dk_data[['Temperature', 'Humidity']]\n",
    "        y_test = df_test[test_channel]\n",
    "        x_test = df_test[['Temperature', 'Humidity']]\n",
    "\n",
    "#             channels = train_channel\n",
    "\n",
    "        #開始計算濃度平面 model by Ridge regression\n",
    "#         step = humidity_step\n",
    "        os.chdir(path)              \n",
    "        loss_list = []\n",
    "        loss_each_step_list = []\n",
    "        sensor = model.model(folder_name=folder_name,\n",
    "                             sensor_number=sensor_number,\n",
    "                             channel=train_channel,\n",
    "                             x_train=x_train, \n",
    "                             y_train=y_train, \n",
    "                             x_test=x_test, \n",
    "                             y_test=y_test, \n",
    "                             model_name=model_name, \n",
    "                             degree=degree,\n",
    "                             step=humidity_step,\n",
    "                             output_modify=output_modify,\n",
    "                             shift=shift,            \n",
    "                             multiple=multiple,\n",
    "                             ppm=ppm,\n",
    "                             humidity_feature=sensor_humidity_feature                             \n",
    "                             )\n",
    "        sensor.regression()\n",
    "        intercept_and_coefficient = sensor.save_sensor_side_coef()\n",
    "#         print(intercept_and_coefficient)\n",
    "#         sensor.loss()\n",
    "#         loss_each_step = sensor.loss_each_step()    \n",
    "        sensor.plot()\n",
    "#         sensor.save_plot()\n",
    "#         sensor.coef()\n",
    "        \n",
    "        surf_coef_list.append(intercept_and_coefficient) \n",
    "   \n",
    "    test_data = df_test[[test_channel, 'Temperature', 'Humidity', 'ppm']]\n",
    "    ppm_list = []\n",
    "    for index, row in test_data.iterrows():\n",
    "        signal, temperature, humidity, _ = row\n",
    "#         signal_0ppm = interpolation.calculate_ppm_surface_signal(surf_coef_list[0], x0=temperature, x1=humidity, degree=degree)\n",
    "        signal_4ppm = interpolation.calculate_ppm_surface_signal(surf_coef_list[0], x0=temperature, x1=humidity, degree=degree)\n",
    "        signal_10ppm = interpolation.calculate_ppm_surface_signal(surf_coef_list[1], x0=temperature, x1=humidity, degree=degree)\n",
    "        signal_25ppm = interpolation.calculate_ppm_surface_signal(surf_coef_list[2], x0=temperature, x1=humidity, degree=degree)\n",
    "#         signal_60ppm = interpolation.calculate_ppm_surface_signal(surf_coef_list[4], x0=temperature, x1=humidity, degree=degree)\n",
    "        \n",
    "\n",
    "#         print(signal_0ppm, signal_10ppm, signal_60ppm)\n",
    "        \n",
    "        signal_ppm_dict = {\n",
    "#                              0:signal_0ppm,\n",
    "                             4:signal_4ppm,\n",
    "                            10:signal_10ppm,\n",
    "                            25:signal_25ppm,\n",
    "#                             60:signal_60ppm,\n",
    "                           }\n",
    "\n",
    "        if interpolation_model == 'linear':\n",
    "            ppm = interpolation.linear_interpolation(signal_ppm_dict, signal, 4, 10, 25)\n",
    "            \n",
    "        elif interpolation_model == 'log':\n",
    "            ppm = interpolation.log_interpolation(signal_ppm_dict, signal, 4, 10, 25)\n",
    "            \n",
    "        ppm_list.append(ppm)\n",
    "\n",
    "    # RMSE\n",
    "    rmse_test = np.sqrt(mean_squared_error(ppm_list, test_data['ppm'])).round(2)\n",
    "\n",
    "    # Interpolation prediction result    \n",
    "    predict_test_data = test_data.copy()\n",
    "    predict_test_data['pred_ppm'] = ppm_list\n",
    "    temp = int(predict_test_data['Temperature'].mean())\n",
    "    hum_min = int(predict_test_data['Humidity'].min())\n",
    "    hum_max = int(predict_test_data['Humidity'].max())\n",
    "    title = '({}%~{}%) ({}) (RMSE={})'.format(hum_min, hum_max, test_channel, rmse_test)\n",
    "    \n",
    "    # plot prediction result\n",
    "#     predict_test_data.iplot(kind='scatter', y=['ppm', 'pred_ppm', 'Humidity', 'Temperature'], title=title)\n",
    "    plot_data = []\n",
    "    trace_ppm = go.Scatter(y=predict_test_data['ppm'], name='ppm')\n",
    "    plot_data.append(trace_ppm)\n",
    "    \n",
    "    trace_pred_ppm = go.Scatter(y=predict_test_data['pred_ppm'], name='pred_ppm')\n",
    "    plot_data.append(trace_pred_ppm)\n",
    "\n",
    "    trace_RH = go.Scatter(y=predict_test_data['Humidity'], name='Humidity')\n",
    "    plot_data.append(trace_RH)\n",
    "\n",
    "    trace_temp = go.Scatter(y=predict_test_data['Temperature'], name='Temperature')\n",
    "    plot_data.append(trace_temp)\n",
    "\n",
    "    layout = go.Layout(xaxis=dict(range=[0, predict_test_data.shape[0]]), title=title)\n",
    "\n",
    "    fig = go.Figure(data=plot_data, layout=layout)\n",
    "    fig.show()\n",
    "    \n",
    "    # save figure\n",
    "    savePath = os.path.join(os.getcwd(), folder_name)\n",
    "    filename = '({}%~{}%)({})(shift {})(RMSE={})'.format(hum_min, hum_max, test_channel, shift ,rmse_test)\n",
    "    fig.write_image(savePath + '/' + filename + '.jpeg', width=1280, height=720)\n",
    "    "
   ]
  },
  {
   "cell_type": "markdown",
   "metadata": {
    "slideshow": {
     "slide_type": "slide"
    }
   },
   "source": [
    "# Overview 4D data"
   ]
  },
  {
   "cell_type": "code",
   "execution_count": 199,
   "metadata": {
    "scrolled": false,
    "slideshow": {
     "slide_type": "subslide"
    }
   },
   "outputs": [],
   "source": [
    "# 4D plot\n",
    "training_data = {\n",
    "             '0C':df_0C,\n",
    "             '10C':df_10C,\n",
    "             '20C':df_20C,\n",
    "             '30C':df_30C,\n",
    "             '40C':df_40C,\n",
    "                 }\n",
    "\n",
    "testing_data = {\n",
    "             '30C_test_1':df_test_30C_1,\n",
    "             '30C_test_2':df_test_30C_2,\n",
    "             '30C_test_3':df_test_30C_3,\n",
    "\n",
    "               }\n",
    "\n",
    "channel_list=['583nm #1']\n",
    "# module_4D.plot_4D(training_data, testing_data, channel_list, sensor_number)\n",
    "\n",
    "# channel_list=['583nm #1_comp']\n",
    "# module_4D.plot_4D(training_data, testing_data, channel_list, sensor_number)\n",
    "\n",
    "# channel_list=['440nm #2', '440nm #2_comp']\n",
    "# module_4D.plot_4D(training_data, testing_data, channel_list, sensor_number)"
   ]
  },
  {
   "cell_type": "markdown",
   "metadata": {},
   "source": [
    "# Analysis data"
   ]
  },
  {
   "cell_type": "code",
   "execution_count": 200,
   "metadata": {},
   "outputs": [],
   "source": [
    "def plot_overlay(data_list, cal_channel='583nm #1', QC_channel='583nm #1_comp', save_figure=True, offset=False):\n",
    "    save_figure = save_figure\n",
    "    offset = offset\n",
    "    cal_channel = cal_channel\n",
    "    QC_channel = QC_channel\n",
    "\n",
    "    plot_data = []\n",
    "    data_list = data_list\n",
    "\n",
    "    if offset == True:\n",
    "        trace_ppm = go.Scatter(y=df_30C[cal_channel]-df_30C.loc[1,cal_channel], name=cal_channel+' calibration')\n",
    "        plot_data.append(trace_ppm)\n",
    "\n",
    "        for i,j in enumerate(data_list):\n",
    "            trace_ppm = go.Scatter(y=j[QC_channel]-j.loc[1,QC_channel], name=QC_channel+' QC{}'.format(i+1))\n",
    "            plot_data.append(trace_ppm) \n",
    "    else:\n",
    "        trace_ppm = go.Scatter(y=df_30C[cal_channel], name=cal_channel+' calibration')\n",
    "        plot_data.append(trace_ppm)\n",
    "\n",
    "        for i,j in enumerate(data_list):\n",
    "            trace_ppm = go.Scatter(y=j[QC_channel], name=QC_channel+' QC{}'.format(i+1))\n",
    "            plot_data.append(trace_ppm)\n",
    "\n",
    "\n",
    "    title = '{} raw data overlay'.format(QC_channel)    \n",
    "    layout = go.Layout(title=title)\n",
    "    fig = go.Figure(data=plot_data, layout=layout)\n",
    "    fig.show()\n",
    "\n",
    "    if save_figure == True:\n",
    "        # save figure\n",
    "        savePath = os.path.join(os.getcwd(), folder_name)\n",
    "        filename = title\n",
    "        fig.write_image(savePath + '/' + filename + '.jpeg', width=1280, height=720)"
   ]
  },
  {
   "cell_type": "code",
   "execution_count": 201,
   "metadata": {
    "scrolled": false
   },
   "outputs": [
    {
     "data": {
      "application/vnd.plotly.v1+json": {
       "config": {
        "plotlyServerURL": "https://plot.ly"
       },
       "data": [
        {
         "name": "magic calibration",
         "type": "scatter",
         "y": [
          17150,
          17145,
          17149,
          17142,
          17143,
          17144,
          17136,
          17154,
          17146,
          17149,
          16085,
          16072,
          16075,
          16084,
          16066,
          16081,
          16073,
          16062,
          16059,
          16053,
          16182,
          16185,
          16186,
          16196,
          16178,
          16181,
          16174,
          16178,
          16179,
          16186,
          16343,
          16350,
          16347,
          16343,
          16341,
          16345,
          16360,
          16341,
          16343,
          16349,
          16541,
          16514,
          16525,
          16518,
          16532,
          16506,
          16534,
          16501,
          16516,
          16517
         ]
        },
        {
         "name": "magic_comp QC1",
         "type": "scatter",
         "y": [
          17274.27646095849,
          17260.566187064527,
          17253.67404784151,
          17264.96506028766,
          17253.057950167855,
          17236.922415566733,
          17244.73705398549,
          17260.642606543097,
          17248.940070485794,
          17248.301158154194,
          16060.297867374806,
          16075.494848100381,
          16070.168137625453,
          16066.55783111622,
          16077.398220417015,
          16072.846969313641,
          16059.192820585438,
          16066.621593876265,
          16058.256093667758,
          16053.85881315943,
          16160.428142933111,
          16159.125873531217,
          16171.968777652377,
          16172.052590075331,
          16160.906084756656,
          16152.276119548593,
          16167.241265524992,
          16152.72972746846,
          16160.515044406628,
          16159.793433291583,
          16305.209539987309,
          16328.267586911188,
          16330.676959038434,
          16317.745723103211,
          16304.81717441935,
          16309.404791228426,
          16315.699059748149,
          16307.090564008135,
          16312.244314737733,
          16334.345350939937,
          16482.140160120307,
          16478.832804253772,
          16481.533016374302,
          16486.17065509973,
          16483.527997069865,
          16480.05495584248,
          16486.62542775361,
          16487.94012799789,
          16471.334134393033,
          16492.324347338985
         ]
        },
        {
         "name": "magic_comp QC2",
         "type": "scatter",
         "y": [
          17075.498841705736,
          17038.88235568126,
          17055.178281249726,
          17062.651970484414,
          17053.238055861115,
          17037.11809133226,
          17050.53667712339,
          17054.94209029939,
          17044.223657734557,
          17055.94396670721,
          16060.77422058619,
          16072.630705195565,
          16072.830954269908,
          16050.600227697225,
          16057.33853480478,
          16055.538383151674,
          16048.753197879614,
          16062.875605528334,
          16062.955972446065,
          16030.484444034191,
          16186.60670734119,
          16177.768507244324,
          16168.895701334379,
          16170.107332051539,
          16181.984391864331,
          16175.852379002736,
          16162.362680250864,
          16167.906011484905,
          16160.974089809692,
          16167.867753900493,
          16335.342124700093,
          16323.357123516605,
          16335.757792508952,
          16316.427107856605,
          16326.443448693215,
          16324.067266105249,
          16338.986237228191,
          16338.964606988862,
          16319.596769149784,
          16332.52564768101,
          16520.537203521686,
          16507.668223808334,
          16511.32451887368,
          16521.445658796663,
          16518.24482884501,
          16503.35971642943,
          16501.01685211485,
          16501.87936038809,
          16498.078395340228,
          16505.648813086835
         ]
        },
        {
         "name": "magic_comp QC3",
         "type": "scatter",
         "y": [
          17370.767552314686,
          17373.019649945956,
          17362.707892196344,
          17358.65122204168,
          17353.299308379796,
          17362.332812567733,
          17351.935347871044,
          17365.917440195935,
          17372.636550856645,
          17342.655052703893,
          16107.46511890621,
          16088.717360763661,
          16084.473779481918,
          16081.529217004803,
          16081.329553489339,
          16061.216923767135,
          16067.398453333466,
          16072.384598769826,
          16076.22184542559,
          16056.954732194456,
          16188.403102317703,
          16170.893262023783,
          16166.57354961331,
          16183.758396657306,
          16189.541896297807,
          16173.411316606038,
          16181.827090495433,
          16187.670312656837,
          16174.882973871856,
          16163.700567886626,
          16342.921267889356,
          16343.430045275582,
          16337.451179019536,
          16350.126342753843,
          16325.474694115692,
          16338.700174464324,
          16341.70149680901,
          16355.198058716473,
          16334.836716186217,
          16335.580311433736,
          16512.131480026124,
          16517.4386904901,
          16521.082074652437,
          16515.510276101493,
          16509.9275894201,
          16520.68985206373,
          16535.18776783573,
          16526.638644434548,
          16510.331520241645,
          16513.627521016366
         ]
        },
        {
         "name": "magic_comp QC4",
         "type": "scatter",
         "y": [
          17425.276210560867,
          17419.968006031795,
          17422.704874385872,
          17409.390354778483,
          17428.1096957946,
          17412.45556817506,
          17425.83158960296,
          17417.38996617093,
          17418.443896191166,
          17427.18323508303,
          16151.058714051691,
          16134.568797098089,
          16130.347849646525,
          16129.849555989615,
          16134.662201685655,
          16120.927862512086,
          16119.63938875344,
          16126.371704487385,
          16113.71764766412,
          16111.053972309026,
          16222.83141099282,
          16224.955150921302,
          16219.839213491046,
          16211.923790954723,
          16224.4915754664,
          16224.461818266134,
          16208.397881198272,
          16214.975925964003,
          16211.256526449522,
          16216.638747296896,
          16395.846670739636,
          16374.677500572765,
          16362.669330738741,
          16377.601209592414,
          16377.727190037,
          16377.601494031967,
          16388.124634613567,
          16369.612225009187,
          16377.726774725832,
          16362.699345590056,
          16549.26818463408,
          16556.13429128158,
          16547.230097419222,
          16545.104869965395,
          16551.187981456933,
          16543.843026563216,
          16546.873171551142,
          16547.2604718816,
          16553.34435906379,
          16544.3276986927
         ]
        },
        {
         "name": "magic_comp QC5",
         "type": "scatter",
         "y": [
          16940.86034768302,
          16967.84950623699,
          16953.81617053179,
          16955.891254068767,
          16942.832424804146,
          16956.116146665976,
          16953.825126591386,
          16966.062568917034,
          16953.700704316474,
          16942.446128263535,
          16057.247144105635,
          16056.598078176403,
          16047.943511945612,
          16036.247497427983,
          16045.68570648184,
          16058.291456660982,
          16027.148094960543,
          16034.82983257073,
          16029.285101065401,
          16036.525011274209,
          16172.568340398882,
          16181.10076216472,
          16182.985811816003,
          16168.666645129284,
          16173.83833918892,
          16165.258609689714,
          16168.51833045229,
          16173.680949910477,
          16161.037313904584,
          16176.103634207793,
          16338.365508183748,
          16362.002897107122,
          16343.440480386076,
          16340.57548639652,
          16346.042668769827,
          16341.415998760443,
          16338.784977982672,
          16349.027712473808,
          16356.469049813362,
          16345.17725669637,
          16530.49931777474,
          16548.764041373794,
          16532.058975586442,
          16540.041326543284,
          16550.049158344515,
          16545.716573930164,
          16542.518690728975,
          16557.610452608373,
          16531.586121347882,
          16533.105430947897
         ]
        },
        {
         "name": "magic_comp QC6",
         "type": "scatter",
         "y": [
          17287.024768965268,
          17277.593639643164,
          17275.302047493828,
          17266.19200680871,
          17276.72834513198,
          17279.551738610477,
          17272.17059687043,
          17278.528553405682,
          17275.705872311,
          17293.126740072035,
          16045.805548380085,
          16041.418809873863,
          16037.034481282612,
          16041.75794748756,
          16036.463549239306,
          16017.1519158513,
          16047.274152045276,
          16031.853140621863,
          16034.879823390087,
          16038.1973467036,
          16141.518777348587,
          16164.960246582876,
          16141.232778310832,
          16131.598170543939,
          16133.483922366606,
          16138.555869468988,
          16161.930357060208,
          16125.183702825681,
          16138.41577284526,
          16142.46548917627,
          16321.913217264551,
          16306.398999145706,
          16321.436943790668,
          16295.112194446614,
          16302.141681867623,
          16307.054909122282,
          16290.655446213963,
          16286.488576005808,
          16284.861358401435,
          16294.61788666113,
          16494.812074496807,
          16471.63734022876,
          16489.49318540049,
          16476.17810862028,
          16461.463865210753,
          16467.724177175667,
          16462.760895567553,
          16484.805063660653,
          16478.35900207872,
          16476.287305771024
         ]
        },
        {
         "name": "magic_comp QC7",
         "type": "scatter",
         "y": [
          17036.30632164706,
          17030.78846951282,
          17029.26685329133,
          17044.206883445284,
          17051.34814216952,
          17040.060579298934,
          17048.802401342637,
          17044.400274169147,
          17050.199948733163,
          17063.10735283167,
          15955.24838270682,
          15964.286642594148,
          15973.162385898988,
          15958.058633176232,
          15942.907687397466,
          15938.765270922826,
          15954.501233370796,
          15939.628299444064,
          15938.522346264914,
          15937.533169782953,
          16042.454943104041,
          16017.415876763696,
          16025.092728327803,
          16028.453419325258,
          16024.22571593083,
          16047.644232293525,
          16034.931064431059,
          16016.514466285247,
          16020.16802767209,
          16033.545411393621,
          16140.328501727989,
          16153.57299020857,
          16140.8132366579,
          16146.841598433306,
          16169.48748010347,
          16144.796023457468,
          16141.465916728823,
          16149.124195664308,
          16166.920773029953,
          16133.459697980588,
          16305.864563495095,
          16308.55453985055,
          16291.76067836798,
          16303.245493425089,
          16307.015707784865,
          16296.042426828144,
          16292.457267697087,
          16300.860405087247,
          16300.29999390723,
          16290.71065845503
         ]
        },
        {
         "name": "magic_comp QC8",
         "type": "scatter",
         "y": [
          17289.85381509755,
          17296.225651658377,
          17306.854722974316,
          17308.31560212435,
          17310.123820678717,
          17298.969144631646,
          17310.47204062884,
          17295.47788465822,
          17308.823262883303,
          17293.48139522525,
          16063.504311334149,
          16042.86156758437,
          16064.659094157772,
          16037.962896322806,
          16051.499778691988,
          16036.596714269694,
          16041.182217898946,
          16032.546202895235,
          16033.321002366329,
          16018.601357991589,
          16125.207523041254,
          16147.869300180048,
          16125.691169097601,
          16146.598628926764,
          16150.611940265091,
          16141.75713521848,
          16118.872377778247,
          16130.129030956641,
          16124.004929445777,
          16108.89560367462,
          16283.59148940632,
          16273.92069264608,
          16279.985367603866,
          16294.848152027671,
          16270.813396960177,
          16296.08041870231,
          16280.165281120377,
          16281.365188527327,
          16302.327688716974,
          16273.92069264608,
          16454.001749361003,
          16456.883724969717,
          16461.53966902727,
          16465.158335585253,
          16473.972433910385,
          16454.95164438093,
          16455.25694459746,
          16453.0589476509,
          16450.41997120996,
          16453.240723570558
         ]
        }
       ],
       "layout": {
        "template": {
         "data": {
          "bar": [
           {
            "error_x": {
             "color": "#2a3f5f"
            },
            "error_y": {
             "color": "#2a3f5f"
            },
            "marker": {
             "line": {
              "color": "#E5ECF6",
              "width": 0.5
             }
            },
            "type": "bar"
           }
          ],
          "barpolar": [
           {
            "marker": {
             "line": {
              "color": "#E5ECF6",
              "width": 0.5
             }
            },
            "type": "barpolar"
           }
          ],
          "carpet": [
           {
            "aaxis": {
             "endlinecolor": "#2a3f5f",
             "gridcolor": "white",
             "linecolor": "white",
             "minorgridcolor": "white",
             "startlinecolor": "#2a3f5f"
            },
            "baxis": {
             "endlinecolor": "#2a3f5f",
             "gridcolor": "white",
             "linecolor": "white",
             "minorgridcolor": "white",
             "startlinecolor": "#2a3f5f"
            },
            "type": "carpet"
           }
          ],
          "choropleth": [
           {
            "colorbar": {
             "outlinewidth": 0,
             "ticks": ""
            },
            "type": "choropleth"
           }
          ],
          "contour": [
           {
            "colorbar": {
             "outlinewidth": 0,
             "ticks": ""
            },
            "colorscale": [
             [
              0,
              "#0d0887"
             ],
             [
              0.1111111111111111,
              "#46039f"
             ],
             [
              0.2222222222222222,
              "#7201a8"
             ],
             [
              0.3333333333333333,
              "#9c179e"
             ],
             [
              0.4444444444444444,
              "#bd3786"
             ],
             [
              0.5555555555555556,
              "#d8576b"
             ],
             [
              0.6666666666666666,
              "#ed7953"
             ],
             [
              0.7777777777777778,
              "#fb9f3a"
             ],
             [
              0.8888888888888888,
              "#fdca26"
             ],
             [
              1,
              "#f0f921"
             ]
            ],
            "type": "contour"
           }
          ],
          "contourcarpet": [
           {
            "colorbar": {
             "outlinewidth": 0,
             "ticks": ""
            },
            "type": "contourcarpet"
           }
          ],
          "heatmap": [
           {
            "colorbar": {
             "outlinewidth": 0,
             "ticks": ""
            },
            "colorscale": [
             [
              0,
              "#0d0887"
             ],
             [
              0.1111111111111111,
              "#46039f"
             ],
             [
              0.2222222222222222,
              "#7201a8"
             ],
             [
              0.3333333333333333,
              "#9c179e"
             ],
             [
              0.4444444444444444,
              "#bd3786"
             ],
             [
              0.5555555555555556,
              "#d8576b"
             ],
             [
              0.6666666666666666,
              "#ed7953"
             ],
             [
              0.7777777777777778,
              "#fb9f3a"
             ],
             [
              0.8888888888888888,
              "#fdca26"
             ],
             [
              1,
              "#f0f921"
             ]
            ],
            "type": "heatmap"
           }
          ],
          "heatmapgl": [
           {
            "colorbar": {
             "outlinewidth": 0,
             "ticks": ""
            },
            "colorscale": [
             [
              0,
              "#0d0887"
             ],
             [
              0.1111111111111111,
              "#46039f"
             ],
             [
              0.2222222222222222,
              "#7201a8"
             ],
             [
              0.3333333333333333,
              "#9c179e"
             ],
             [
              0.4444444444444444,
              "#bd3786"
             ],
             [
              0.5555555555555556,
              "#d8576b"
             ],
             [
              0.6666666666666666,
              "#ed7953"
             ],
             [
              0.7777777777777778,
              "#fb9f3a"
             ],
             [
              0.8888888888888888,
              "#fdca26"
             ],
             [
              1,
              "#f0f921"
             ]
            ],
            "type": "heatmapgl"
           }
          ],
          "histogram": [
           {
            "marker": {
             "colorbar": {
              "outlinewidth": 0,
              "ticks": ""
             }
            },
            "type": "histogram"
           }
          ],
          "histogram2d": [
           {
            "colorbar": {
             "outlinewidth": 0,
             "ticks": ""
            },
            "colorscale": [
             [
              0,
              "#0d0887"
             ],
             [
              0.1111111111111111,
              "#46039f"
             ],
             [
              0.2222222222222222,
              "#7201a8"
             ],
             [
              0.3333333333333333,
              "#9c179e"
             ],
             [
              0.4444444444444444,
              "#bd3786"
             ],
             [
              0.5555555555555556,
              "#d8576b"
             ],
             [
              0.6666666666666666,
              "#ed7953"
             ],
             [
              0.7777777777777778,
              "#fb9f3a"
             ],
             [
              0.8888888888888888,
              "#fdca26"
             ],
             [
              1,
              "#f0f921"
             ]
            ],
            "type": "histogram2d"
           }
          ],
          "histogram2dcontour": [
           {
            "colorbar": {
             "outlinewidth": 0,
             "ticks": ""
            },
            "colorscale": [
             [
              0,
              "#0d0887"
             ],
             [
              0.1111111111111111,
              "#46039f"
             ],
             [
              0.2222222222222222,
              "#7201a8"
             ],
             [
              0.3333333333333333,
              "#9c179e"
             ],
             [
              0.4444444444444444,
              "#bd3786"
             ],
             [
              0.5555555555555556,
              "#d8576b"
             ],
             [
              0.6666666666666666,
              "#ed7953"
             ],
             [
              0.7777777777777778,
              "#fb9f3a"
             ],
             [
              0.8888888888888888,
              "#fdca26"
             ],
             [
              1,
              "#f0f921"
             ]
            ],
            "type": "histogram2dcontour"
           }
          ],
          "mesh3d": [
           {
            "colorbar": {
             "outlinewidth": 0,
             "ticks": ""
            },
            "type": "mesh3d"
           }
          ],
          "parcoords": [
           {
            "line": {
             "colorbar": {
              "outlinewidth": 0,
              "ticks": ""
             }
            },
            "type": "parcoords"
           }
          ],
          "pie": [
           {
            "automargin": true,
            "type": "pie"
           }
          ],
          "scatter": [
           {
            "marker": {
             "colorbar": {
              "outlinewidth": 0,
              "ticks": ""
             }
            },
            "type": "scatter"
           }
          ],
          "scatter3d": [
           {
            "line": {
             "colorbar": {
              "outlinewidth": 0,
              "ticks": ""
             }
            },
            "marker": {
             "colorbar": {
              "outlinewidth": 0,
              "ticks": ""
             }
            },
            "type": "scatter3d"
           }
          ],
          "scattercarpet": [
           {
            "marker": {
             "colorbar": {
              "outlinewidth": 0,
              "ticks": ""
             }
            },
            "type": "scattercarpet"
           }
          ],
          "scattergeo": [
           {
            "marker": {
             "colorbar": {
              "outlinewidth": 0,
              "ticks": ""
             }
            },
            "type": "scattergeo"
           }
          ],
          "scattergl": [
           {
            "marker": {
             "colorbar": {
              "outlinewidth": 0,
              "ticks": ""
             }
            },
            "type": "scattergl"
           }
          ],
          "scattermapbox": [
           {
            "marker": {
             "colorbar": {
              "outlinewidth": 0,
              "ticks": ""
             }
            },
            "type": "scattermapbox"
           }
          ],
          "scatterpolar": [
           {
            "marker": {
             "colorbar": {
              "outlinewidth": 0,
              "ticks": ""
             }
            },
            "type": "scatterpolar"
           }
          ],
          "scatterpolargl": [
           {
            "marker": {
             "colorbar": {
              "outlinewidth": 0,
              "ticks": ""
             }
            },
            "type": "scatterpolargl"
           }
          ],
          "scatterternary": [
           {
            "marker": {
             "colorbar": {
              "outlinewidth": 0,
              "ticks": ""
             }
            },
            "type": "scatterternary"
           }
          ],
          "surface": [
           {
            "colorbar": {
             "outlinewidth": 0,
             "ticks": ""
            },
            "colorscale": [
             [
              0,
              "#0d0887"
             ],
             [
              0.1111111111111111,
              "#46039f"
             ],
             [
              0.2222222222222222,
              "#7201a8"
             ],
             [
              0.3333333333333333,
              "#9c179e"
             ],
             [
              0.4444444444444444,
              "#bd3786"
             ],
             [
              0.5555555555555556,
              "#d8576b"
             ],
             [
              0.6666666666666666,
              "#ed7953"
             ],
             [
              0.7777777777777778,
              "#fb9f3a"
             ],
             [
              0.8888888888888888,
              "#fdca26"
             ],
             [
              1,
              "#f0f921"
             ]
            ],
            "type": "surface"
           }
          ],
          "table": [
           {
            "cells": {
             "fill": {
              "color": "#EBF0F8"
             },
             "line": {
              "color": "white"
             }
            },
            "header": {
             "fill": {
              "color": "#C8D4E3"
             },
             "line": {
              "color": "white"
             }
            },
            "type": "table"
           }
          ]
         },
         "layout": {
          "annotationdefaults": {
           "arrowcolor": "#2a3f5f",
           "arrowhead": 0,
           "arrowwidth": 1
          },
          "autotypenumbers": "strict",
          "coloraxis": {
           "colorbar": {
            "outlinewidth": 0,
            "ticks": ""
           }
          },
          "colorscale": {
           "diverging": [
            [
             0,
             "#8e0152"
            ],
            [
             0.1,
             "#c51b7d"
            ],
            [
             0.2,
             "#de77ae"
            ],
            [
             0.3,
             "#f1b6da"
            ],
            [
             0.4,
             "#fde0ef"
            ],
            [
             0.5,
             "#f7f7f7"
            ],
            [
             0.6,
             "#e6f5d0"
            ],
            [
             0.7,
             "#b8e186"
            ],
            [
             0.8,
             "#7fbc41"
            ],
            [
             0.9,
             "#4d9221"
            ],
            [
             1,
             "#276419"
            ]
           ],
           "sequential": [
            [
             0,
             "#0d0887"
            ],
            [
             0.1111111111111111,
             "#46039f"
            ],
            [
             0.2222222222222222,
             "#7201a8"
            ],
            [
             0.3333333333333333,
             "#9c179e"
            ],
            [
             0.4444444444444444,
             "#bd3786"
            ],
            [
             0.5555555555555556,
             "#d8576b"
            ],
            [
             0.6666666666666666,
             "#ed7953"
            ],
            [
             0.7777777777777778,
             "#fb9f3a"
            ],
            [
             0.8888888888888888,
             "#fdca26"
            ],
            [
             1,
             "#f0f921"
            ]
           ],
           "sequentialminus": [
            [
             0,
             "#0d0887"
            ],
            [
             0.1111111111111111,
             "#46039f"
            ],
            [
             0.2222222222222222,
             "#7201a8"
            ],
            [
             0.3333333333333333,
             "#9c179e"
            ],
            [
             0.4444444444444444,
             "#bd3786"
            ],
            [
             0.5555555555555556,
             "#d8576b"
            ],
            [
             0.6666666666666666,
             "#ed7953"
            ],
            [
             0.7777777777777778,
             "#fb9f3a"
            ],
            [
             0.8888888888888888,
             "#fdca26"
            ],
            [
             1,
             "#f0f921"
            ]
           ]
          },
          "colorway": [
           "#636efa",
           "#EF553B",
           "#00cc96",
           "#ab63fa",
           "#FFA15A",
           "#19d3f3",
           "#FF6692",
           "#B6E880",
           "#FF97FF",
           "#FECB52"
          ],
          "font": {
           "color": "#2a3f5f"
          },
          "geo": {
           "bgcolor": "white",
           "lakecolor": "white",
           "landcolor": "#E5ECF6",
           "showlakes": true,
           "showland": true,
           "subunitcolor": "white"
          },
          "hoverlabel": {
           "align": "left"
          },
          "hovermode": "closest",
          "mapbox": {
           "style": "light"
          },
          "paper_bgcolor": "white",
          "plot_bgcolor": "#E5ECF6",
          "polar": {
           "angularaxis": {
            "gridcolor": "white",
            "linecolor": "white",
            "ticks": ""
           },
           "bgcolor": "#E5ECF6",
           "radialaxis": {
            "gridcolor": "white",
            "linecolor": "white",
            "ticks": ""
           }
          },
          "scene": {
           "xaxis": {
            "backgroundcolor": "#E5ECF6",
            "gridcolor": "white",
            "gridwidth": 2,
            "linecolor": "white",
            "showbackground": true,
            "ticks": "",
            "zerolinecolor": "white"
           },
           "yaxis": {
            "backgroundcolor": "#E5ECF6",
            "gridcolor": "white",
            "gridwidth": 2,
            "linecolor": "white",
            "showbackground": true,
            "ticks": "",
            "zerolinecolor": "white"
           },
           "zaxis": {
            "backgroundcolor": "#E5ECF6",
            "gridcolor": "white",
            "gridwidth": 2,
            "linecolor": "white",
            "showbackground": true,
            "ticks": "",
            "zerolinecolor": "white"
           }
          },
          "shapedefaults": {
           "line": {
            "color": "#2a3f5f"
           }
          },
          "ternary": {
           "aaxis": {
            "gridcolor": "white",
            "linecolor": "white",
            "ticks": ""
           },
           "baxis": {
            "gridcolor": "white",
            "linecolor": "white",
            "ticks": ""
           },
           "bgcolor": "#E5ECF6",
           "caxis": {
            "gridcolor": "white",
            "linecolor": "white",
            "ticks": ""
           }
          },
          "title": {
           "x": 0.05
          },
          "xaxis": {
           "automargin": true,
           "gridcolor": "white",
           "linecolor": "white",
           "ticks": "",
           "title": {
            "standoff": 15
           },
           "zerolinecolor": "white",
           "zerolinewidth": 2
          },
          "yaxis": {
           "automargin": true,
           "gridcolor": "white",
           "linecolor": "white",
           "ticks": "",
           "title": {
            "standoff": 15
           },
           "zerolinecolor": "white",
           "zerolinewidth": 2
          }
         }
        },
        "title": {
         "text": "magic_comp raw data overlay"
        }
       }
      },
      "text/html": [
       "<div>                            <div id=\"cf6de261-04fa-4db4-8d5f-d61ace3adac8\" class=\"plotly-graph-div\" style=\"height:525px; width:100%;\"></div>            <script type=\"text/javascript\">                require([\"plotly\"], function(Plotly) {                    window.PLOTLYENV=window.PLOTLYENV || {};                                    if (document.getElementById(\"cf6de261-04fa-4db4-8d5f-d61ace3adac8\")) {                    Plotly.newPlot(                        \"cf6de261-04fa-4db4-8d5f-d61ace3adac8\",                        [{\"name\": \"magic calibration\", \"type\": \"scatter\", \"y\": [17150, 17145, 17149, 17142, 17143, 17144, 17136, 17154, 17146, 17149, 16085, 16072, 16075, 16084, 16066, 16081, 16073, 16062, 16059, 16053, 16182, 16185, 16186, 16196, 16178, 16181, 16174, 16178, 16179, 16186, 16343, 16350, 16347, 16343, 16341, 16345, 16360, 16341, 16343, 16349, 16541, 16514, 16525, 16518, 16532, 16506, 16534, 16501, 16516, 16517]}, {\"name\": \"magic_comp QC1\", \"type\": \"scatter\", \"y\": [17274.27646095849, 17260.566187064527, 17253.67404784151, 17264.96506028766, 17253.057950167855, 17236.922415566733, 17244.73705398549, 17260.642606543097, 17248.940070485794, 17248.301158154194, 16060.297867374806, 16075.494848100381, 16070.168137625453, 16066.55783111622, 16077.398220417015, 16072.846969313641, 16059.192820585438, 16066.621593876265, 16058.256093667758, 16053.85881315943, 16160.428142933111, 16159.125873531217, 16171.968777652377, 16172.052590075331, 16160.906084756656, 16152.276119548593, 16167.241265524992, 16152.72972746846, 16160.515044406628, 16159.793433291583, 16305.209539987309, 16328.267586911188, 16330.676959038434, 16317.745723103211, 16304.81717441935, 16309.404791228426, 16315.699059748149, 16307.090564008135, 16312.244314737733, 16334.345350939937, 16482.140160120307, 16478.832804253772, 16481.533016374302, 16486.17065509973, 16483.527997069865, 16480.05495584248, 16486.62542775361, 16487.94012799789, 16471.334134393033, 16492.324347338985]}, {\"name\": \"magic_comp QC2\", \"type\": \"scatter\", \"y\": [17075.498841705736, 17038.88235568126, 17055.178281249726, 17062.651970484414, 17053.238055861115, 17037.11809133226, 17050.53667712339, 17054.94209029939, 17044.223657734557, 17055.94396670721, 16060.77422058619, 16072.630705195565, 16072.830954269908, 16050.600227697225, 16057.33853480478, 16055.538383151674, 16048.753197879614, 16062.875605528334, 16062.955972446065, 16030.484444034191, 16186.60670734119, 16177.768507244324, 16168.895701334379, 16170.107332051539, 16181.984391864331, 16175.852379002736, 16162.362680250864, 16167.906011484905, 16160.974089809692, 16167.867753900493, 16335.342124700093, 16323.357123516605, 16335.757792508952, 16316.427107856605, 16326.443448693215, 16324.067266105249, 16338.986237228191, 16338.964606988862, 16319.596769149784, 16332.52564768101, 16520.537203521686, 16507.668223808334, 16511.32451887368, 16521.445658796663, 16518.24482884501, 16503.35971642943, 16501.01685211485, 16501.87936038809, 16498.078395340228, 16505.648813086835]}, {\"name\": \"magic_comp QC3\", \"type\": \"scatter\", \"y\": [17370.767552314686, 17373.019649945956, 17362.707892196344, 17358.65122204168, 17353.299308379796, 17362.332812567733, 17351.935347871044, 17365.917440195935, 17372.636550856645, 17342.655052703893, 16107.46511890621, 16088.717360763661, 16084.473779481918, 16081.529217004803, 16081.329553489339, 16061.216923767135, 16067.398453333466, 16072.384598769826, 16076.22184542559, 16056.954732194456, 16188.403102317703, 16170.893262023783, 16166.57354961331, 16183.758396657306, 16189.541896297807, 16173.411316606038, 16181.827090495433, 16187.670312656837, 16174.882973871856, 16163.700567886626, 16342.921267889356, 16343.430045275582, 16337.451179019536, 16350.126342753843, 16325.474694115692, 16338.700174464324, 16341.70149680901, 16355.198058716473, 16334.836716186217, 16335.580311433736, 16512.131480026124, 16517.4386904901, 16521.082074652437, 16515.510276101493, 16509.9275894201, 16520.68985206373, 16535.18776783573, 16526.638644434548, 16510.331520241645, 16513.627521016366]}, {\"name\": \"magic_comp QC4\", \"type\": \"scatter\", \"y\": [17425.276210560867, 17419.968006031795, 17422.704874385872, 17409.390354778483, 17428.1096957946, 17412.45556817506, 17425.83158960296, 17417.38996617093, 17418.443896191166, 17427.18323508303, 16151.058714051691, 16134.568797098089, 16130.347849646525, 16129.849555989615, 16134.662201685655, 16120.927862512086, 16119.63938875344, 16126.371704487385, 16113.71764766412, 16111.053972309026, 16222.83141099282, 16224.955150921302, 16219.839213491046, 16211.923790954723, 16224.4915754664, 16224.461818266134, 16208.397881198272, 16214.975925964003, 16211.256526449522, 16216.638747296896, 16395.846670739636, 16374.677500572765, 16362.669330738741, 16377.601209592414, 16377.727190037, 16377.601494031967, 16388.124634613567, 16369.612225009187, 16377.726774725832, 16362.699345590056, 16549.26818463408, 16556.13429128158, 16547.230097419222, 16545.104869965395, 16551.187981456933, 16543.843026563216, 16546.873171551142, 16547.2604718816, 16553.34435906379, 16544.3276986927]}, {\"name\": \"magic_comp QC5\", \"type\": \"scatter\", \"y\": [16940.86034768302, 16967.84950623699, 16953.81617053179, 16955.891254068767, 16942.832424804146, 16956.116146665976, 16953.825126591386, 16966.062568917034, 16953.700704316474, 16942.446128263535, 16057.247144105635, 16056.598078176403, 16047.943511945612, 16036.247497427983, 16045.68570648184, 16058.291456660982, 16027.148094960543, 16034.82983257073, 16029.285101065401, 16036.525011274209, 16172.568340398882, 16181.10076216472, 16182.985811816003, 16168.666645129284, 16173.83833918892, 16165.258609689714, 16168.51833045229, 16173.680949910477, 16161.037313904584, 16176.103634207793, 16338.365508183748, 16362.002897107122, 16343.440480386076, 16340.57548639652, 16346.042668769827, 16341.415998760443, 16338.784977982672, 16349.027712473808, 16356.469049813362, 16345.17725669637, 16530.49931777474, 16548.764041373794, 16532.058975586442, 16540.041326543284, 16550.049158344515, 16545.716573930164, 16542.518690728975, 16557.610452608373, 16531.586121347882, 16533.105430947897]}, {\"name\": \"magic_comp QC6\", \"type\": \"scatter\", \"y\": [17287.024768965268, 17277.593639643164, 17275.302047493828, 17266.19200680871, 17276.72834513198, 17279.551738610477, 17272.17059687043, 17278.528553405682, 17275.705872311, 17293.126740072035, 16045.805548380085, 16041.418809873863, 16037.034481282612, 16041.75794748756, 16036.463549239306, 16017.1519158513, 16047.274152045276, 16031.853140621863, 16034.879823390087, 16038.1973467036, 16141.518777348587, 16164.960246582876, 16141.232778310832, 16131.598170543939, 16133.483922366606, 16138.555869468988, 16161.930357060208, 16125.183702825681, 16138.41577284526, 16142.46548917627, 16321.913217264551, 16306.398999145706, 16321.436943790668, 16295.112194446614, 16302.141681867623, 16307.054909122282, 16290.655446213963, 16286.488576005808, 16284.861358401435, 16294.61788666113, 16494.812074496807, 16471.63734022876, 16489.49318540049, 16476.17810862028, 16461.463865210753, 16467.724177175667, 16462.760895567553, 16484.805063660653, 16478.35900207872, 16476.287305771024]}, {\"name\": \"magic_comp QC7\", \"type\": \"scatter\", \"y\": [17036.30632164706, 17030.78846951282, 17029.26685329133, 17044.206883445284, 17051.34814216952, 17040.060579298934, 17048.802401342637, 17044.400274169147, 17050.199948733163, 17063.10735283167, 15955.24838270682, 15964.286642594148, 15973.162385898988, 15958.058633176232, 15942.907687397466, 15938.765270922826, 15954.501233370796, 15939.628299444064, 15938.522346264914, 15937.533169782953, 16042.454943104041, 16017.415876763696, 16025.092728327803, 16028.453419325258, 16024.22571593083, 16047.644232293525, 16034.931064431059, 16016.514466285247, 16020.16802767209, 16033.545411393621, 16140.328501727989, 16153.57299020857, 16140.8132366579, 16146.841598433306, 16169.48748010347, 16144.796023457468, 16141.465916728823, 16149.124195664308, 16166.920773029953, 16133.459697980588, 16305.864563495095, 16308.55453985055, 16291.76067836798, 16303.245493425089, 16307.015707784865, 16296.042426828144, 16292.457267697087, 16300.860405087247, 16300.29999390723, 16290.71065845503]}, {\"name\": \"magic_comp QC8\", \"type\": \"scatter\", \"y\": [17289.85381509755, 17296.225651658377, 17306.854722974316, 17308.31560212435, 17310.123820678717, 17298.969144631646, 17310.47204062884, 17295.47788465822, 17308.823262883303, 17293.48139522525, 16063.504311334149, 16042.86156758437, 16064.659094157772, 16037.962896322806, 16051.499778691988, 16036.596714269694, 16041.182217898946, 16032.546202895235, 16033.321002366329, 16018.601357991589, 16125.207523041254, 16147.869300180048, 16125.691169097601, 16146.598628926764, 16150.611940265091, 16141.75713521848, 16118.872377778247, 16130.129030956641, 16124.004929445777, 16108.89560367462, 16283.59148940632, 16273.92069264608, 16279.985367603866, 16294.848152027671, 16270.813396960177, 16296.08041870231, 16280.165281120377, 16281.365188527327, 16302.327688716974, 16273.92069264608, 16454.001749361003, 16456.883724969717, 16461.53966902727, 16465.158335585253, 16473.972433910385, 16454.95164438093, 16455.25694459746, 16453.0589476509, 16450.41997120996, 16453.240723570558]}],                        {\"template\": {\"data\": {\"bar\": [{\"error_x\": {\"color\": \"#2a3f5f\"}, \"error_y\": {\"color\": \"#2a3f5f\"}, \"marker\": {\"line\": {\"color\": \"#E5ECF6\", \"width\": 0.5}}, \"type\": \"bar\"}], \"barpolar\": [{\"marker\": {\"line\": {\"color\": \"#E5ECF6\", \"width\": 0.5}}, \"type\": \"barpolar\"}], \"carpet\": [{\"aaxis\": {\"endlinecolor\": \"#2a3f5f\", \"gridcolor\": \"white\", \"linecolor\": \"white\", \"minorgridcolor\": \"white\", \"startlinecolor\": \"#2a3f5f\"}, \"baxis\": {\"endlinecolor\": \"#2a3f5f\", \"gridcolor\": \"white\", \"linecolor\": \"white\", \"minorgridcolor\": \"white\", \"startlinecolor\": \"#2a3f5f\"}, \"type\": \"carpet\"}], \"choropleth\": [{\"colorbar\": {\"outlinewidth\": 0, \"ticks\": \"\"}, \"type\": \"choropleth\"}], \"contour\": [{\"colorbar\": {\"outlinewidth\": 0, \"ticks\": \"\"}, \"colorscale\": [[0.0, \"#0d0887\"], [0.1111111111111111, \"#46039f\"], [0.2222222222222222, \"#7201a8\"], [0.3333333333333333, \"#9c179e\"], [0.4444444444444444, \"#bd3786\"], [0.5555555555555556, \"#d8576b\"], [0.6666666666666666, \"#ed7953\"], [0.7777777777777778, \"#fb9f3a\"], [0.8888888888888888, \"#fdca26\"], [1.0, \"#f0f921\"]], \"type\": \"contour\"}], \"contourcarpet\": [{\"colorbar\": {\"outlinewidth\": 0, \"ticks\": \"\"}, \"type\": \"contourcarpet\"}], \"heatmap\": [{\"colorbar\": {\"outlinewidth\": 0, \"ticks\": \"\"}, \"colorscale\": [[0.0, \"#0d0887\"], [0.1111111111111111, \"#46039f\"], [0.2222222222222222, \"#7201a8\"], [0.3333333333333333, \"#9c179e\"], [0.4444444444444444, \"#bd3786\"], [0.5555555555555556, \"#d8576b\"], [0.6666666666666666, \"#ed7953\"], [0.7777777777777778, \"#fb9f3a\"], [0.8888888888888888, \"#fdca26\"], [1.0, \"#f0f921\"]], \"type\": \"heatmap\"}], \"heatmapgl\": [{\"colorbar\": {\"outlinewidth\": 0, \"ticks\": \"\"}, \"colorscale\": [[0.0, \"#0d0887\"], [0.1111111111111111, \"#46039f\"], [0.2222222222222222, \"#7201a8\"], [0.3333333333333333, \"#9c179e\"], [0.4444444444444444, \"#bd3786\"], [0.5555555555555556, \"#d8576b\"], [0.6666666666666666, \"#ed7953\"], [0.7777777777777778, \"#fb9f3a\"], [0.8888888888888888, \"#fdca26\"], [1.0, \"#f0f921\"]], \"type\": \"heatmapgl\"}], \"histogram\": [{\"marker\": {\"colorbar\": {\"outlinewidth\": 0, \"ticks\": \"\"}}, \"type\": \"histogram\"}], \"histogram2d\": [{\"colorbar\": {\"outlinewidth\": 0, \"ticks\": \"\"}, \"colorscale\": [[0.0, \"#0d0887\"], [0.1111111111111111, \"#46039f\"], [0.2222222222222222, \"#7201a8\"], [0.3333333333333333, \"#9c179e\"], [0.4444444444444444, \"#bd3786\"], [0.5555555555555556, \"#d8576b\"], [0.6666666666666666, \"#ed7953\"], [0.7777777777777778, \"#fb9f3a\"], [0.8888888888888888, \"#fdca26\"], [1.0, \"#f0f921\"]], \"type\": \"histogram2d\"}], \"histogram2dcontour\": [{\"colorbar\": {\"outlinewidth\": 0, \"ticks\": \"\"}, \"colorscale\": [[0.0, \"#0d0887\"], [0.1111111111111111, \"#46039f\"], [0.2222222222222222, \"#7201a8\"], [0.3333333333333333, \"#9c179e\"], [0.4444444444444444, \"#bd3786\"], [0.5555555555555556, \"#d8576b\"], [0.6666666666666666, \"#ed7953\"], [0.7777777777777778, \"#fb9f3a\"], [0.8888888888888888, \"#fdca26\"], [1.0, \"#f0f921\"]], \"type\": \"histogram2dcontour\"}], \"mesh3d\": [{\"colorbar\": {\"outlinewidth\": 0, \"ticks\": \"\"}, \"type\": \"mesh3d\"}], \"parcoords\": [{\"line\": {\"colorbar\": {\"outlinewidth\": 0, \"ticks\": \"\"}}, \"type\": \"parcoords\"}], \"pie\": [{\"automargin\": true, \"type\": \"pie\"}], \"scatter\": [{\"marker\": {\"colorbar\": {\"outlinewidth\": 0, \"ticks\": \"\"}}, \"type\": \"scatter\"}], \"scatter3d\": [{\"line\": {\"colorbar\": {\"outlinewidth\": 0, \"ticks\": \"\"}}, \"marker\": {\"colorbar\": {\"outlinewidth\": 0, \"ticks\": \"\"}}, \"type\": \"scatter3d\"}], \"scattercarpet\": [{\"marker\": {\"colorbar\": {\"outlinewidth\": 0, \"ticks\": \"\"}}, \"type\": \"scattercarpet\"}], \"scattergeo\": [{\"marker\": {\"colorbar\": {\"outlinewidth\": 0, \"ticks\": \"\"}}, \"type\": \"scattergeo\"}], \"scattergl\": [{\"marker\": {\"colorbar\": {\"outlinewidth\": 0, \"ticks\": \"\"}}, \"type\": \"scattergl\"}], \"scattermapbox\": [{\"marker\": {\"colorbar\": {\"outlinewidth\": 0, \"ticks\": \"\"}}, \"type\": \"scattermapbox\"}], \"scatterpolar\": [{\"marker\": {\"colorbar\": {\"outlinewidth\": 0, \"ticks\": \"\"}}, \"type\": \"scatterpolar\"}], \"scatterpolargl\": [{\"marker\": {\"colorbar\": {\"outlinewidth\": 0, \"ticks\": \"\"}}, \"type\": \"scatterpolargl\"}], \"scatterternary\": [{\"marker\": {\"colorbar\": {\"outlinewidth\": 0, \"ticks\": \"\"}}, \"type\": \"scatterternary\"}], \"surface\": [{\"colorbar\": {\"outlinewidth\": 0, \"ticks\": \"\"}, \"colorscale\": [[0.0, \"#0d0887\"], [0.1111111111111111, \"#46039f\"], [0.2222222222222222, \"#7201a8\"], [0.3333333333333333, \"#9c179e\"], [0.4444444444444444, \"#bd3786\"], [0.5555555555555556, \"#d8576b\"], [0.6666666666666666, \"#ed7953\"], [0.7777777777777778, \"#fb9f3a\"], [0.8888888888888888, \"#fdca26\"], [1.0, \"#f0f921\"]], \"type\": \"surface\"}], \"table\": [{\"cells\": {\"fill\": {\"color\": \"#EBF0F8\"}, \"line\": {\"color\": \"white\"}}, \"header\": {\"fill\": {\"color\": \"#C8D4E3\"}, \"line\": {\"color\": \"white\"}}, \"type\": \"table\"}]}, \"layout\": {\"annotationdefaults\": {\"arrowcolor\": \"#2a3f5f\", \"arrowhead\": 0, \"arrowwidth\": 1}, \"autotypenumbers\": \"strict\", \"coloraxis\": {\"colorbar\": {\"outlinewidth\": 0, \"ticks\": \"\"}}, \"colorscale\": {\"diverging\": [[0, \"#8e0152\"], [0.1, \"#c51b7d\"], [0.2, \"#de77ae\"], [0.3, \"#f1b6da\"], [0.4, \"#fde0ef\"], [0.5, \"#f7f7f7\"], [0.6, \"#e6f5d0\"], [0.7, \"#b8e186\"], [0.8, \"#7fbc41\"], [0.9, \"#4d9221\"], [1, \"#276419\"]], \"sequential\": [[0.0, \"#0d0887\"], [0.1111111111111111, \"#46039f\"], [0.2222222222222222, \"#7201a8\"], [0.3333333333333333, \"#9c179e\"], [0.4444444444444444, \"#bd3786\"], [0.5555555555555556, \"#d8576b\"], [0.6666666666666666, \"#ed7953\"], [0.7777777777777778, \"#fb9f3a\"], [0.8888888888888888, \"#fdca26\"], [1.0, \"#f0f921\"]], \"sequentialminus\": [[0.0, \"#0d0887\"], [0.1111111111111111, \"#46039f\"], [0.2222222222222222, \"#7201a8\"], [0.3333333333333333, \"#9c179e\"], [0.4444444444444444, \"#bd3786\"], [0.5555555555555556, \"#d8576b\"], [0.6666666666666666, \"#ed7953\"], [0.7777777777777778, \"#fb9f3a\"], [0.8888888888888888, \"#fdca26\"], [1.0, \"#f0f921\"]]}, \"colorway\": [\"#636efa\", \"#EF553B\", \"#00cc96\", \"#ab63fa\", \"#FFA15A\", \"#19d3f3\", \"#FF6692\", \"#B6E880\", \"#FF97FF\", \"#FECB52\"], \"font\": {\"color\": \"#2a3f5f\"}, \"geo\": {\"bgcolor\": \"white\", \"lakecolor\": \"white\", \"landcolor\": \"#E5ECF6\", \"showlakes\": true, \"showland\": true, \"subunitcolor\": \"white\"}, \"hoverlabel\": {\"align\": \"left\"}, \"hovermode\": \"closest\", \"mapbox\": {\"style\": \"light\"}, \"paper_bgcolor\": \"white\", \"plot_bgcolor\": \"#E5ECF6\", \"polar\": {\"angularaxis\": {\"gridcolor\": \"white\", \"linecolor\": \"white\", \"ticks\": \"\"}, \"bgcolor\": \"#E5ECF6\", \"radialaxis\": {\"gridcolor\": \"white\", \"linecolor\": \"white\", \"ticks\": \"\"}}, \"scene\": {\"xaxis\": {\"backgroundcolor\": \"#E5ECF6\", \"gridcolor\": \"white\", \"gridwidth\": 2, \"linecolor\": \"white\", \"showbackground\": true, \"ticks\": \"\", \"zerolinecolor\": \"white\"}, \"yaxis\": {\"backgroundcolor\": \"#E5ECF6\", \"gridcolor\": \"white\", \"gridwidth\": 2, \"linecolor\": \"white\", \"showbackground\": true, \"ticks\": \"\", \"zerolinecolor\": \"white\"}, \"zaxis\": {\"backgroundcolor\": \"#E5ECF6\", \"gridcolor\": \"white\", \"gridwidth\": 2, \"linecolor\": \"white\", \"showbackground\": true, \"ticks\": \"\", \"zerolinecolor\": \"white\"}}, \"shapedefaults\": {\"line\": {\"color\": \"#2a3f5f\"}}, \"ternary\": {\"aaxis\": {\"gridcolor\": \"white\", \"linecolor\": \"white\", \"ticks\": \"\"}, \"baxis\": {\"gridcolor\": \"white\", \"linecolor\": \"white\", \"ticks\": \"\"}, \"bgcolor\": \"#E5ECF6\", \"caxis\": {\"gridcolor\": \"white\", \"linecolor\": \"white\", \"ticks\": \"\"}}, \"title\": {\"x\": 0.05}, \"xaxis\": {\"automargin\": true, \"gridcolor\": \"white\", \"linecolor\": \"white\", \"ticks\": \"\", \"title\": {\"standoff\": 15}, \"zerolinecolor\": \"white\", \"zerolinewidth\": 2}, \"yaxis\": {\"automargin\": true, \"gridcolor\": \"white\", \"linecolor\": \"white\", \"ticks\": \"\", \"title\": {\"standoff\": 15}, \"zerolinecolor\": \"white\", \"zerolinewidth\": 2}}}, \"title\": {\"text\": \"magic_comp raw data overlay\"}},                        {\"responsive\": true}                    ).then(function(){\n",
       "                            \n",
       "var gd = document.getElementById('cf6de261-04fa-4db4-8d5f-d61ace3adac8');\n",
       "var x = new MutationObserver(function (mutations, observer) {{\n",
       "        var display = window.getComputedStyle(gd).display;\n",
       "        if (!display || display === 'none') {{\n",
       "            console.log([gd, 'removed!']);\n",
       "            Plotly.purge(gd);\n",
       "            observer.disconnect();\n",
       "        }}\n",
       "}});\n",
       "\n",
       "// Listen for the removal of the full notebook cells\n",
       "var notebookContainer = gd.closest('#notebook-container');\n",
       "if (notebookContainer) {{\n",
       "    x.observe(notebookContainer, {childList: true});\n",
       "}}\n",
       "\n",
       "// Listen for the clearing of the current output cell\n",
       "var outputEl = gd.closest('.output');\n",
       "if (outputEl) {{\n",
       "    x.observe(outputEl, {childList: true});\n",
       "}}\n",
       "\n",
       "                        })                };                });            </script>        </div>"
      ]
     },
     "metadata": {},
     "output_type": "display_data"
    }
   ],
   "source": [
    "plot_overlay(data_list=test_data_list, cal_channel='magic', QC_channel='magic_comp', save_figure=True, offset=False)\n",
    "# plot_overlay(data_list=test_data_list, cal_channel='magic', QC_channel='magic', save_figure=True, offset=False)\n",
    "# plot_overlay(data_list=test_data_list, cal_channel='670nm #1', QC_channel='670nm #1', save_figure=True, offset=False)\n",
    "# plot_overlay(data_list=test_data_list, cal_channel='583nm #1', QC_channel='583nm #1', save_figure=True, offset=False)\n",
    "# ams = ['410nm #1', '440nm #1', '470nm #1', '510nm #1', '550nm #1',\n",
    "#        '583nm #1', '620nm #1', '670nm #1', '900nm #1']\n",
    "# for c in ams:\n",
    "#     plot_overlay(data_list=test_data_list, cal_channel=c, QC_channel=c, save_figure=True, offset=False)"
   ]
  },
  {
   "cell_type": "code",
   "execution_count": 202,
   "metadata": {},
   "outputs": [
    {
     "data": {
      "application/vnd.plotly.v1+json": {
       "config": {
        "plotlyServerURL": "https://plot.ly"
       },
       "data": [
        {
         "name": "60ppm-4ppm",
         "text": [
          393,
          416,
          426,
          387,
          465,
          407,
          320,
          390
         ],
         "textposition": "auto",
         "type": "bar",
         "x": [
          "QC1",
          "QC2",
          "QC3",
          "QC4",
          "QC5",
          "QC6",
          "QC7",
          "QC8"
         ],
         "y": [
          393,
          416,
          426,
          387,
          465,
          407,
          320,
          390
         ]
        },
        {
         "name": "25ppm-4ppm",
         "text": [
          309,
          306,
          317,
          294,
          355,
          303,
          222,
          281
         ],
         "textposition": "auto",
         "type": "bar",
         "x": [
          "QC1",
          "QC2",
          "QC3",
          "QC4",
          "QC5",
          "QC6",
          "QC7",
          "QC8"
         ],
         "y": [
          309,
          306,
          317,
          294,
          355,
          303,
          222,
          281
         ]
        },
        {
         "name": "10ppm-4ppm",
         "text": [
          158,
          162,
          160,
          159,
          199,
          140,
          131,
          148
         ],
         "textposition": "auto",
         "type": "bar",
         "x": [
          "QC1",
          "QC2",
          "QC3",
          "QC4",
          "QC5",
          "QC6",
          "QC7",
          "QC8"
         ],
         "y": [
          158,
          162,
          160,
          159,
          199,
          140,
          131,
          148
         ]
        }
       ],
       "layout": {
        "template": {
         "data": {
          "bar": [
           {
            "error_x": {
             "color": "#2a3f5f"
            },
            "error_y": {
             "color": "#2a3f5f"
            },
            "marker": {
             "line": {
              "color": "#E5ECF6",
              "width": 0.5
             }
            },
            "type": "bar"
           }
          ],
          "barpolar": [
           {
            "marker": {
             "line": {
              "color": "#E5ECF6",
              "width": 0.5
             }
            },
            "type": "barpolar"
           }
          ],
          "carpet": [
           {
            "aaxis": {
             "endlinecolor": "#2a3f5f",
             "gridcolor": "white",
             "linecolor": "white",
             "minorgridcolor": "white",
             "startlinecolor": "#2a3f5f"
            },
            "baxis": {
             "endlinecolor": "#2a3f5f",
             "gridcolor": "white",
             "linecolor": "white",
             "minorgridcolor": "white",
             "startlinecolor": "#2a3f5f"
            },
            "type": "carpet"
           }
          ],
          "choropleth": [
           {
            "colorbar": {
             "outlinewidth": 0,
             "ticks": ""
            },
            "type": "choropleth"
           }
          ],
          "contour": [
           {
            "colorbar": {
             "outlinewidth": 0,
             "ticks": ""
            },
            "colorscale": [
             [
              0,
              "#0d0887"
             ],
             [
              0.1111111111111111,
              "#46039f"
             ],
             [
              0.2222222222222222,
              "#7201a8"
             ],
             [
              0.3333333333333333,
              "#9c179e"
             ],
             [
              0.4444444444444444,
              "#bd3786"
             ],
             [
              0.5555555555555556,
              "#d8576b"
             ],
             [
              0.6666666666666666,
              "#ed7953"
             ],
             [
              0.7777777777777778,
              "#fb9f3a"
             ],
             [
              0.8888888888888888,
              "#fdca26"
             ],
             [
              1,
              "#f0f921"
             ]
            ],
            "type": "contour"
           }
          ],
          "contourcarpet": [
           {
            "colorbar": {
             "outlinewidth": 0,
             "ticks": ""
            },
            "type": "contourcarpet"
           }
          ],
          "heatmap": [
           {
            "colorbar": {
             "outlinewidth": 0,
             "ticks": ""
            },
            "colorscale": [
             [
              0,
              "#0d0887"
             ],
             [
              0.1111111111111111,
              "#46039f"
             ],
             [
              0.2222222222222222,
              "#7201a8"
             ],
             [
              0.3333333333333333,
              "#9c179e"
             ],
             [
              0.4444444444444444,
              "#bd3786"
             ],
             [
              0.5555555555555556,
              "#d8576b"
             ],
             [
              0.6666666666666666,
              "#ed7953"
             ],
             [
              0.7777777777777778,
              "#fb9f3a"
             ],
             [
              0.8888888888888888,
              "#fdca26"
             ],
             [
              1,
              "#f0f921"
             ]
            ],
            "type": "heatmap"
           }
          ],
          "heatmapgl": [
           {
            "colorbar": {
             "outlinewidth": 0,
             "ticks": ""
            },
            "colorscale": [
             [
              0,
              "#0d0887"
             ],
             [
              0.1111111111111111,
              "#46039f"
             ],
             [
              0.2222222222222222,
              "#7201a8"
             ],
             [
              0.3333333333333333,
              "#9c179e"
             ],
             [
              0.4444444444444444,
              "#bd3786"
             ],
             [
              0.5555555555555556,
              "#d8576b"
             ],
             [
              0.6666666666666666,
              "#ed7953"
             ],
             [
              0.7777777777777778,
              "#fb9f3a"
             ],
             [
              0.8888888888888888,
              "#fdca26"
             ],
             [
              1,
              "#f0f921"
             ]
            ],
            "type": "heatmapgl"
           }
          ],
          "histogram": [
           {
            "marker": {
             "colorbar": {
              "outlinewidth": 0,
              "ticks": ""
             }
            },
            "type": "histogram"
           }
          ],
          "histogram2d": [
           {
            "colorbar": {
             "outlinewidth": 0,
             "ticks": ""
            },
            "colorscale": [
             [
              0,
              "#0d0887"
             ],
             [
              0.1111111111111111,
              "#46039f"
             ],
             [
              0.2222222222222222,
              "#7201a8"
             ],
             [
              0.3333333333333333,
              "#9c179e"
             ],
             [
              0.4444444444444444,
              "#bd3786"
             ],
             [
              0.5555555555555556,
              "#d8576b"
             ],
             [
              0.6666666666666666,
              "#ed7953"
             ],
             [
              0.7777777777777778,
              "#fb9f3a"
             ],
             [
              0.8888888888888888,
              "#fdca26"
             ],
             [
              1,
              "#f0f921"
             ]
            ],
            "type": "histogram2d"
           }
          ],
          "histogram2dcontour": [
           {
            "colorbar": {
             "outlinewidth": 0,
             "ticks": ""
            },
            "colorscale": [
             [
              0,
              "#0d0887"
             ],
             [
              0.1111111111111111,
              "#46039f"
             ],
             [
              0.2222222222222222,
              "#7201a8"
             ],
             [
              0.3333333333333333,
              "#9c179e"
             ],
             [
              0.4444444444444444,
              "#bd3786"
             ],
             [
              0.5555555555555556,
              "#d8576b"
             ],
             [
              0.6666666666666666,
              "#ed7953"
             ],
             [
              0.7777777777777778,
              "#fb9f3a"
             ],
             [
              0.8888888888888888,
              "#fdca26"
             ],
             [
              1,
              "#f0f921"
             ]
            ],
            "type": "histogram2dcontour"
           }
          ],
          "mesh3d": [
           {
            "colorbar": {
             "outlinewidth": 0,
             "ticks": ""
            },
            "type": "mesh3d"
           }
          ],
          "parcoords": [
           {
            "line": {
             "colorbar": {
              "outlinewidth": 0,
              "ticks": ""
             }
            },
            "type": "parcoords"
           }
          ],
          "pie": [
           {
            "automargin": true,
            "type": "pie"
           }
          ],
          "scatter": [
           {
            "marker": {
             "colorbar": {
              "outlinewidth": 0,
              "ticks": ""
             }
            },
            "type": "scatter"
           }
          ],
          "scatter3d": [
           {
            "line": {
             "colorbar": {
              "outlinewidth": 0,
              "ticks": ""
             }
            },
            "marker": {
             "colorbar": {
              "outlinewidth": 0,
              "ticks": ""
             }
            },
            "type": "scatter3d"
           }
          ],
          "scattercarpet": [
           {
            "marker": {
             "colorbar": {
              "outlinewidth": 0,
              "ticks": ""
             }
            },
            "type": "scattercarpet"
           }
          ],
          "scattergeo": [
           {
            "marker": {
             "colorbar": {
              "outlinewidth": 0,
              "ticks": ""
             }
            },
            "type": "scattergeo"
           }
          ],
          "scattergl": [
           {
            "marker": {
             "colorbar": {
              "outlinewidth": 0,
              "ticks": ""
             }
            },
            "type": "scattergl"
           }
          ],
          "scattermapbox": [
           {
            "marker": {
             "colorbar": {
              "outlinewidth": 0,
              "ticks": ""
             }
            },
            "type": "scattermapbox"
           }
          ],
          "scatterpolar": [
           {
            "marker": {
             "colorbar": {
              "outlinewidth": 0,
              "ticks": ""
             }
            },
            "type": "scatterpolar"
           }
          ],
          "scatterpolargl": [
           {
            "marker": {
             "colorbar": {
              "outlinewidth": 0,
              "ticks": ""
             }
            },
            "type": "scatterpolargl"
           }
          ],
          "scatterternary": [
           {
            "marker": {
             "colorbar": {
              "outlinewidth": 0,
              "ticks": ""
             }
            },
            "type": "scatterternary"
           }
          ],
          "surface": [
           {
            "colorbar": {
             "outlinewidth": 0,
             "ticks": ""
            },
            "colorscale": [
             [
              0,
              "#0d0887"
             ],
             [
              0.1111111111111111,
              "#46039f"
             ],
             [
              0.2222222222222222,
              "#7201a8"
             ],
             [
              0.3333333333333333,
              "#9c179e"
             ],
             [
              0.4444444444444444,
              "#bd3786"
             ],
             [
              0.5555555555555556,
              "#d8576b"
             ],
             [
              0.6666666666666666,
              "#ed7953"
             ],
             [
              0.7777777777777778,
              "#fb9f3a"
             ],
             [
              0.8888888888888888,
              "#fdca26"
             ],
             [
              1,
              "#f0f921"
             ]
            ],
            "type": "surface"
           }
          ],
          "table": [
           {
            "cells": {
             "fill": {
              "color": "#EBF0F8"
             },
             "line": {
              "color": "white"
             }
            },
            "header": {
             "fill": {
              "color": "#C8D4E3"
             },
             "line": {
              "color": "white"
             }
            },
            "type": "table"
           }
          ]
         },
         "layout": {
          "annotationdefaults": {
           "arrowcolor": "#2a3f5f",
           "arrowhead": 0,
           "arrowwidth": 1
          },
          "autotypenumbers": "strict",
          "coloraxis": {
           "colorbar": {
            "outlinewidth": 0,
            "ticks": ""
           }
          },
          "colorscale": {
           "diverging": [
            [
             0,
             "#8e0152"
            ],
            [
             0.1,
             "#c51b7d"
            ],
            [
             0.2,
             "#de77ae"
            ],
            [
             0.3,
             "#f1b6da"
            ],
            [
             0.4,
             "#fde0ef"
            ],
            [
             0.5,
             "#f7f7f7"
            ],
            [
             0.6,
             "#e6f5d0"
            ],
            [
             0.7,
             "#b8e186"
            ],
            [
             0.8,
             "#7fbc41"
            ],
            [
             0.9,
             "#4d9221"
            ],
            [
             1,
             "#276419"
            ]
           ],
           "sequential": [
            [
             0,
             "#0d0887"
            ],
            [
             0.1111111111111111,
             "#46039f"
            ],
            [
             0.2222222222222222,
             "#7201a8"
            ],
            [
             0.3333333333333333,
             "#9c179e"
            ],
            [
             0.4444444444444444,
             "#bd3786"
            ],
            [
             0.5555555555555556,
             "#d8576b"
            ],
            [
             0.6666666666666666,
             "#ed7953"
            ],
            [
             0.7777777777777778,
             "#fb9f3a"
            ],
            [
             0.8888888888888888,
             "#fdca26"
            ],
            [
             1,
             "#f0f921"
            ]
           ],
           "sequentialminus": [
            [
             0,
             "#0d0887"
            ],
            [
             0.1111111111111111,
             "#46039f"
            ],
            [
             0.2222222222222222,
             "#7201a8"
            ],
            [
             0.3333333333333333,
             "#9c179e"
            ],
            [
             0.4444444444444444,
             "#bd3786"
            ],
            [
             0.5555555555555556,
             "#d8576b"
            ],
            [
             0.6666666666666666,
             "#ed7953"
            ],
            [
             0.7777777777777778,
             "#fb9f3a"
            ],
            [
             0.8888888888888888,
             "#fdca26"
            ],
            [
             1,
             "#f0f921"
            ]
           ]
          },
          "colorway": [
           "#636efa",
           "#EF553B",
           "#00cc96",
           "#ab63fa",
           "#FFA15A",
           "#19d3f3",
           "#FF6692",
           "#B6E880",
           "#FF97FF",
           "#FECB52"
          ],
          "font": {
           "color": "#2a3f5f"
          },
          "geo": {
           "bgcolor": "white",
           "lakecolor": "white",
           "landcolor": "#E5ECF6",
           "showlakes": true,
           "showland": true,
           "subunitcolor": "white"
          },
          "hoverlabel": {
           "align": "left"
          },
          "hovermode": "closest",
          "mapbox": {
           "style": "light"
          },
          "paper_bgcolor": "white",
          "plot_bgcolor": "#E5ECF6",
          "polar": {
           "angularaxis": {
            "gridcolor": "white",
            "linecolor": "white",
            "ticks": ""
           },
           "bgcolor": "#E5ECF6",
           "radialaxis": {
            "gridcolor": "white",
            "linecolor": "white",
            "ticks": ""
           }
          },
          "scene": {
           "xaxis": {
            "backgroundcolor": "#E5ECF6",
            "gridcolor": "white",
            "gridwidth": 2,
            "linecolor": "white",
            "showbackground": true,
            "ticks": "",
            "zerolinecolor": "white"
           },
           "yaxis": {
            "backgroundcolor": "#E5ECF6",
            "gridcolor": "white",
            "gridwidth": 2,
            "linecolor": "white",
            "showbackground": true,
            "ticks": "",
            "zerolinecolor": "white"
           },
           "zaxis": {
            "backgroundcolor": "#E5ECF6",
            "gridcolor": "white",
            "gridwidth": 2,
            "linecolor": "white",
            "showbackground": true,
            "ticks": "",
            "zerolinecolor": "white"
           }
          },
          "shapedefaults": {
           "line": {
            "color": "#2a3f5f"
           }
          },
          "ternary": {
           "aaxis": {
            "gridcolor": "white",
            "linecolor": "white",
            "ticks": ""
           },
           "baxis": {
            "gridcolor": "white",
            "linecolor": "white",
            "ticks": ""
           },
           "bgcolor": "#E5ECF6",
           "caxis": {
            "gridcolor": "white",
            "linecolor": "white",
            "ticks": ""
           }
          },
          "title": {
           "x": 0.05
          },
          "xaxis": {
           "automargin": true,
           "gridcolor": "white",
           "linecolor": "white",
           "ticks": "",
           "title": {
            "standoff": 15
           },
           "zerolinecolor": "white",
           "zerolinewidth": 2
          },
          "yaxis": {
           "automargin": true,
           "gridcolor": "white",
           "linecolor": "white",
           "ticks": "",
           "title": {
            "standoff": 15
           },
           "zerolinecolor": "white",
           "zerolinewidth": 2
          }
         }
        },
        "title": {
         "text": "magic response separation (baseline 4ppm)"
        }
       }
      },
      "text/html": [
       "<div>                            <div id=\"c18bd349-f3d7-41ce-ad5e-2ff564f7a037\" class=\"plotly-graph-div\" style=\"height:525px; width:100%;\"></div>            <script type=\"text/javascript\">                require([\"plotly\"], function(Plotly) {                    window.PLOTLYENV=window.PLOTLYENV || {};                                    if (document.getElementById(\"c18bd349-f3d7-41ce-ad5e-2ff564f7a037\")) {                    Plotly.newPlot(                        \"c18bd349-f3d7-41ce-ad5e-2ff564f7a037\",                        [{\"name\": \"60ppm-4ppm\", \"text\": [393.0, 416.0, 426.0, 387.0, 465.0, 407.0, 320.0, 390.0], \"textposition\": \"auto\", \"type\": \"bar\", \"x\": [\"QC1\", \"QC2\", \"QC3\", \"QC4\", \"QC5\", \"QC6\", \"QC7\", \"QC8\"], \"y\": [393, 416, 426, 387, 465, 407, 320, 390]}, {\"name\": \"25ppm-4ppm\", \"text\": [309.0, 306.0, 317.0, 294.0, 355.0, 303.0, 222.0, 281.0], \"textposition\": \"auto\", \"type\": \"bar\", \"x\": [\"QC1\", \"QC2\", \"QC3\", \"QC4\", \"QC5\", \"QC6\", \"QC7\", \"QC8\"], \"y\": [309, 306, 317, 294, 355, 303, 222, 281]}, {\"name\": \"10ppm-4ppm\", \"text\": [158.0, 162.0, 160.0, 159.0, 199.0, 140.0, 131.0, 148.0], \"textposition\": \"auto\", \"type\": \"bar\", \"x\": [\"QC1\", \"QC2\", \"QC3\", \"QC4\", \"QC5\", \"QC6\", \"QC7\", \"QC8\"], \"y\": [158, 162, 160, 159, 199, 140, 131, 148]}],                        {\"template\": {\"data\": {\"bar\": [{\"error_x\": {\"color\": \"#2a3f5f\"}, \"error_y\": {\"color\": \"#2a3f5f\"}, \"marker\": {\"line\": {\"color\": \"#E5ECF6\", \"width\": 0.5}}, \"type\": \"bar\"}], \"barpolar\": [{\"marker\": {\"line\": {\"color\": \"#E5ECF6\", \"width\": 0.5}}, \"type\": \"barpolar\"}], \"carpet\": [{\"aaxis\": {\"endlinecolor\": \"#2a3f5f\", \"gridcolor\": \"white\", \"linecolor\": \"white\", \"minorgridcolor\": \"white\", \"startlinecolor\": \"#2a3f5f\"}, \"baxis\": {\"endlinecolor\": \"#2a3f5f\", \"gridcolor\": \"white\", \"linecolor\": \"white\", \"minorgridcolor\": \"white\", \"startlinecolor\": \"#2a3f5f\"}, \"type\": \"carpet\"}], \"choropleth\": [{\"colorbar\": {\"outlinewidth\": 0, \"ticks\": \"\"}, \"type\": \"choropleth\"}], \"contour\": [{\"colorbar\": {\"outlinewidth\": 0, \"ticks\": \"\"}, \"colorscale\": [[0.0, \"#0d0887\"], [0.1111111111111111, \"#46039f\"], [0.2222222222222222, \"#7201a8\"], [0.3333333333333333, \"#9c179e\"], [0.4444444444444444, \"#bd3786\"], [0.5555555555555556, \"#d8576b\"], [0.6666666666666666, \"#ed7953\"], [0.7777777777777778, \"#fb9f3a\"], [0.8888888888888888, \"#fdca26\"], [1.0, \"#f0f921\"]], \"type\": \"contour\"}], \"contourcarpet\": [{\"colorbar\": {\"outlinewidth\": 0, \"ticks\": \"\"}, \"type\": \"contourcarpet\"}], \"heatmap\": [{\"colorbar\": {\"outlinewidth\": 0, \"ticks\": \"\"}, \"colorscale\": [[0.0, \"#0d0887\"], [0.1111111111111111, \"#46039f\"], [0.2222222222222222, \"#7201a8\"], [0.3333333333333333, \"#9c179e\"], [0.4444444444444444, \"#bd3786\"], [0.5555555555555556, \"#d8576b\"], [0.6666666666666666, \"#ed7953\"], [0.7777777777777778, \"#fb9f3a\"], [0.8888888888888888, \"#fdca26\"], [1.0, \"#f0f921\"]], \"type\": \"heatmap\"}], \"heatmapgl\": [{\"colorbar\": {\"outlinewidth\": 0, \"ticks\": \"\"}, \"colorscale\": [[0.0, \"#0d0887\"], [0.1111111111111111, \"#46039f\"], [0.2222222222222222, \"#7201a8\"], [0.3333333333333333, \"#9c179e\"], [0.4444444444444444, \"#bd3786\"], [0.5555555555555556, \"#d8576b\"], [0.6666666666666666, \"#ed7953\"], [0.7777777777777778, \"#fb9f3a\"], [0.8888888888888888, \"#fdca26\"], [1.0, \"#f0f921\"]], \"type\": \"heatmapgl\"}], \"histogram\": [{\"marker\": {\"colorbar\": {\"outlinewidth\": 0, \"ticks\": \"\"}}, \"type\": \"histogram\"}], \"histogram2d\": [{\"colorbar\": {\"outlinewidth\": 0, \"ticks\": \"\"}, \"colorscale\": [[0.0, \"#0d0887\"], [0.1111111111111111, \"#46039f\"], [0.2222222222222222, \"#7201a8\"], [0.3333333333333333, \"#9c179e\"], [0.4444444444444444, \"#bd3786\"], [0.5555555555555556, \"#d8576b\"], [0.6666666666666666, \"#ed7953\"], [0.7777777777777778, \"#fb9f3a\"], [0.8888888888888888, \"#fdca26\"], [1.0, \"#f0f921\"]], \"type\": \"histogram2d\"}], \"histogram2dcontour\": [{\"colorbar\": {\"outlinewidth\": 0, \"ticks\": \"\"}, \"colorscale\": [[0.0, \"#0d0887\"], [0.1111111111111111, \"#46039f\"], [0.2222222222222222, \"#7201a8\"], [0.3333333333333333, \"#9c179e\"], [0.4444444444444444, \"#bd3786\"], [0.5555555555555556, \"#d8576b\"], [0.6666666666666666, \"#ed7953\"], [0.7777777777777778, \"#fb9f3a\"], [0.8888888888888888, \"#fdca26\"], [1.0, \"#f0f921\"]], \"type\": \"histogram2dcontour\"}], \"mesh3d\": [{\"colorbar\": {\"outlinewidth\": 0, \"ticks\": \"\"}, \"type\": \"mesh3d\"}], \"parcoords\": [{\"line\": {\"colorbar\": {\"outlinewidth\": 0, \"ticks\": \"\"}}, \"type\": \"parcoords\"}], \"pie\": [{\"automargin\": true, \"type\": \"pie\"}], \"scatter\": [{\"marker\": {\"colorbar\": {\"outlinewidth\": 0, \"ticks\": \"\"}}, \"type\": \"scatter\"}], \"scatter3d\": [{\"line\": {\"colorbar\": {\"outlinewidth\": 0, \"ticks\": \"\"}}, \"marker\": {\"colorbar\": {\"outlinewidth\": 0, \"ticks\": \"\"}}, \"type\": \"scatter3d\"}], \"scattercarpet\": [{\"marker\": {\"colorbar\": {\"outlinewidth\": 0, \"ticks\": \"\"}}, \"type\": \"scattercarpet\"}], \"scattergeo\": [{\"marker\": {\"colorbar\": {\"outlinewidth\": 0, \"ticks\": \"\"}}, \"type\": \"scattergeo\"}], \"scattergl\": [{\"marker\": {\"colorbar\": {\"outlinewidth\": 0, \"ticks\": \"\"}}, \"type\": \"scattergl\"}], \"scattermapbox\": [{\"marker\": {\"colorbar\": {\"outlinewidth\": 0, \"ticks\": \"\"}}, \"type\": \"scattermapbox\"}], \"scatterpolar\": [{\"marker\": {\"colorbar\": {\"outlinewidth\": 0, \"ticks\": \"\"}}, \"type\": \"scatterpolar\"}], \"scatterpolargl\": [{\"marker\": {\"colorbar\": {\"outlinewidth\": 0, \"ticks\": \"\"}}, \"type\": \"scatterpolargl\"}], \"scatterternary\": [{\"marker\": {\"colorbar\": {\"outlinewidth\": 0, \"ticks\": \"\"}}, \"type\": \"scatterternary\"}], \"surface\": [{\"colorbar\": {\"outlinewidth\": 0, \"ticks\": \"\"}, \"colorscale\": [[0.0, \"#0d0887\"], [0.1111111111111111, \"#46039f\"], [0.2222222222222222, \"#7201a8\"], [0.3333333333333333, \"#9c179e\"], [0.4444444444444444, \"#bd3786\"], [0.5555555555555556, \"#d8576b\"], [0.6666666666666666, \"#ed7953\"], [0.7777777777777778, \"#fb9f3a\"], [0.8888888888888888, \"#fdca26\"], [1.0, \"#f0f921\"]], \"type\": \"surface\"}], \"table\": [{\"cells\": {\"fill\": {\"color\": \"#EBF0F8\"}, \"line\": {\"color\": \"white\"}}, \"header\": {\"fill\": {\"color\": \"#C8D4E3\"}, \"line\": {\"color\": \"white\"}}, \"type\": \"table\"}]}, \"layout\": {\"annotationdefaults\": {\"arrowcolor\": \"#2a3f5f\", \"arrowhead\": 0, \"arrowwidth\": 1}, \"autotypenumbers\": \"strict\", \"coloraxis\": {\"colorbar\": {\"outlinewidth\": 0, \"ticks\": \"\"}}, \"colorscale\": {\"diverging\": [[0, \"#8e0152\"], [0.1, \"#c51b7d\"], [0.2, \"#de77ae\"], [0.3, \"#f1b6da\"], [0.4, \"#fde0ef\"], [0.5, \"#f7f7f7\"], [0.6, \"#e6f5d0\"], [0.7, \"#b8e186\"], [0.8, \"#7fbc41\"], [0.9, \"#4d9221\"], [1, \"#276419\"]], \"sequential\": [[0.0, \"#0d0887\"], [0.1111111111111111, \"#46039f\"], [0.2222222222222222, \"#7201a8\"], [0.3333333333333333, \"#9c179e\"], [0.4444444444444444, \"#bd3786\"], [0.5555555555555556, \"#d8576b\"], [0.6666666666666666, \"#ed7953\"], [0.7777777777777778, \"#fb9f3a\"], [0.8888888888888888, \"#fdca26\"], [1.0, \"#f0f921\"]], \"sequentialminus\": [[0.0, \"#0d0887\"], [0.1111111111111111, \"#46039f\"], [0.2222222222222222, \"#7201a8\"], [0.3333333333333333, \"#9c179e\"], [0.4444444444444444, \"#bd3786\"], [0.5555555555555556, \"#d8576b\"], [0.6666666666666666, \"#ed7953\"], [0.7777777777777778, \"#fb9f3a\"], [0.8888888888888888, \"#fdca26\"], [1.0, \"#f0f921\"]]}, \"colorway\": [\"#636efa\", \"#EF553B\", \"#00cc96\", \"#ab63fa\", \"#FFA15A\", \"#19d3f3\", \"#FF6692\", \"#B6E880\", \"#FF97FF\", \"#FECB52\"], \"font\": {\"color\": \"#2a3f5f\"}, \"geo\": {\"bgcolor\": \"white\", \"lakecolor\": \"white\", \"landcolor\": \"#E5ECF6\", \"showlakes\": true, \"showland\": true, \"subunitcolor\": \"white\"}, \"hoverlabel\": {\"align\": \"left\"}, \"hovermode\": \"closest\", \"mapbox\": {\"style\": \"light\"}, \"paper_bgcolor\": \"white\", \"plot_bgcolor\": \"#E5ECF6\", \"polar\": {\"angularaxis\": {\"gridcolor\": \"white\", \"linecolor\": \"white\", \"ticks\": \"\"}, \"bgcolor\": \"#E5ECF6\", \"radialaxis\": {\"gridcolor\": \"white\", \"linecolor\": \"white\", \"ticks\": \"\"}}, \"scene\": {\"xaxis\": {\"backgroundcolor\": \"#E5ECF6\", \"gridcolor\": \"white\", \"gridwidth\": 2, \"linecolor\": \"white\", \"showbackground\": true, \"ticks\": \"\", \"zerolinecolor\": \"white\"}, \"yaxis\": {\"backgroundcolor\": \"#E5ECF6\", \"gridcolor\": \"white\", \"gridwidth\": 2, \"linecolor\": \"white\", \"showbackground\": true, \"ticks\": \"\", \"zerolinecolor\": \"white\"}, \"zaxis\": {\"backgroundcolor\": \"#E5ECF6\", \"gridcolor\": \"white\", \"gridwidth\": 2, \"linecolor\": \"white\", \"showbackground\": true, \"ticks\": \"\", \"zerolinecolor\": \"white\"}}, \"shapedefaults\": {\"line\": {\"color\": \"#2a3f5f\"}}, \"ternary\": {\"aaxis\": {\"gridcolor\": \"white\", \"linecolor\": \"white\", \"ticks\": \"\"}, \"baxis\": {\"gridcolor\": \"white\", \"linecolor\": \"white\", \"ticks\": \"\"}, \"bgcolor\": \"#E5ECF6\", \"caxis\": {\"gridcolor\": \"white\", \"linecolor\": \"white\", \"ticks\": \"\"}}, \"title\": {\"x\": 0.05}, \"xaxis\": {\"automargin\": true, \"gridcolor\": \"white\", \"linecolor\": \"white\", \"ticks\": \"\", \"title\": {\"standoff\": 15}, \"zerolinecolor\": \"white\", \"zerolinewidth\": 2}, \"yaxis\": {\"automargin\": true, \"gridcolor\": \"white\", \"linecolor\": \"white\", \"ticks\": \"\", \"title\": {\"standoff\": 15}, \"zerolinecolor\": \"white\", \"zerolinewidth\": 2}}}, \"title\": {\"text\": \"magic response separation (baseline 4ppm)\"}},                        {\"responsive\": true}                    ).then(function(){\n",
       "                            \n",
       "var gd = document.getElementById('c18bd349-f3d7-41ce-ad5e-2ff564f7a037');\n",
       "var x = new MutationObserver(function (mutations, observer) {{\n",
       "        var display = window.getComputedStyle(gd).display;\n",
       "        if (!display || display === 'none') {{\n",
       "            console.log([gd, 'removed!']);\n",
       "            Plotly.purge(gd);\n",
       "            observer.disconnect();\n",
       "        }}\n",
       "}});\n",
       "\n",
       "// Listen for the removal of the full notebook cells\n",
       "var notebookContainer = gd.closest('#notebook-container');\n",
       "if (notebookContainer) {{\n",
       "    x.observe(notebookContainer, {childList: true});\n",
       "}}\n",
       "\n",
       "// Listen for the clearing of the current output cell\n",
       "var outputEl = gd.closest('.output');\n",
       "if (outputEl) {{\n",
       "    x.observe(outputEl, {childList: true});\n",
       "}}\n",
       "\n",
       "                        })                };                });            </script>        </div>"
      ]
     },
     "metadata": {},
     "output_type": "display_data"
    }
   ],
   "source": [
    "save_figure = True\n",
    "QC_channel = 'magic'\n",
    "selected_range = { 'cycle 1':(15, 25, 35, 45)}\n",
    "\n",
    "diff_list = []\n",
    "for i,j in enumerate(test_data_list):\n",
    "    diff = []\n",
    "    a,b,c,d = selected_range.get('cycle 1')\n",
    "    diff_a = j.loc[a, QC_channel]-j.loc[d, QC_channel]\n",
    "    diff.append(abs(diff_a))\n",
    "    diff_b = j.loc[b, QC_channel]-j.loc[d, QC_channel]\n",
    "    diff.append(abs(diff_b))\n",
    "    diff_c = j.loc[c, QC_channel]-j.loc[d, QC_channel]\n",
    "    diff.append(abs(diff_c))\n",
    "    diff_list.append(diff)\n",
    "index = ['QC{}'.format(i+1) for i in range(0, len(test_data_list))]\n",
    "by_diff = pd.DataFrame(diff_list, columns=['60ppm-4ppm','25ppm-4ppm','10ppm-4ppm'], index=index)\n",
    "\n",
    "plot_data = []\n",
    "trace = go.Bar(x=by_diff.index, y=by_diff.loc[:,'60ppm-4ppm'], name='60ppm-4ppm', text=by_diff.loc[:,'60ppm-4ppm'], textposition='auto')\n",
    "plot_data.append(trace)\n",
    "trace = go.Bar(x=by_diff.index, y=by_diff.loc[:,'25ppm-4ppm'], name='25ppm-4ppm', text=by_diff.loc[:,'25ppm-4ppm'], textposition='auto')\n",
    "plot_data.append(trace)\n",
    "trace = go.Bar(x=by_diff.index, y=by_diff.loc[:,'10ppm-4ppm'], name='10ppm-4ppm', text=by_diff.loc[:,'10ppm-4ppm'], textposition='auto')\n",
    "plot_data.append(trace)\n",
    "layout = go.Layout(title='{} response separation (baseline 4ppm)'.format(QC_channel))\n",
    "fig = go.Figure(data=plot_data, layout=layout)\n",
    "fig.update_layout()\n",
    "fig.show()\n",
    "\n",
    "if save_figure == True:\n",
    "    # save figure\n",
    "    savePath = os.path.join(os.getcwd(), folder_name)\n",
    "    filename = '{} response separation (baseline 4ppm)'.format(QC_channel)\n",
    "    fig.write_image(savePath + '/' + filename + '.jpeg', width=1280, height=720)"
   ]
  },
  {
   "cell_type": "code",
   "execution_count": 203,
   "metadata": {},
   "outputs": [
    {
     "data": {
      "application/vnd.plotly.v1+json": {
       "config": {
        "plotlyServerURL": "https://plot.ly"
       },
       "data": [
        {
         "name": "drift_670nm #1",
         "textfont": {
          "size": 14
         },
         "textposition": "top center",
         "type": "scatter",
         "x": [
          "QC1",
          "QC2",
          "QC3",
          "QC4",
          "QC5",
          "QC6",
          "QC7",
          "QC8"
         ],
         "y": [
          0.9984319349248316,
          0.9964150140512001,
          0.9848270400752013,
          0.9774810315235019,
          0.9804838459660158,
          0.9760236718170693,
          0.9761790343380015,
          0.9698420990303986
         ]
        },
        {
         "name": "drift_magic",
         "textfont": {
          "size": 14
         },
         "textposition": "top center",
         "type": "scatter",
         "x": [
          "QC1",
          "QC2",
          "QC3",
          "QC4",
          "QC5",
          "QC6",
          "QC7",
          "QC8"
         ],
         "y": [
          1.0027763191170296,
          0.9989633518557838,
          0.9913759134027412,
          0.9865390124422966,
          0.9821803493754553,
          0.9796242866359844,
          0.9707677378649329,
          0.9733011337786924
         ]
        },
        {
         "name": "parameter",
         "textfont": {
          "size": 14
         },
         "textposition": "top center",
         "type": "scatter",
         "x": [
          "QC1",
          "QC2",
          "QC3",
          "QC4",
          "QC5",
          "QC6",
          "QC7",
          "QC8"
         ],
         "y": [
          0.9956676438111111,
          0.9974490177243744,
          0.9933941573130802,
          0.9908184260282109,
          0.9982727170111698,
          0.9963244941269478,
          1.0055742442419542,
          0.9964460796065606
         ]
        }
       ],
       "layout": {
        "template": {
         "data": {
          "bar": [
           {
            "error_x": {
             "color": "#2a3f5f"
            },
            "error_y": {
             "color": "#2a3f5f"
            },
            "marker": {
             "line": {
              "color": "#E5ECF6",
              "width": 0.5
             }
            },
            "type": "bar"
           }
          ],
          "barpolar": [
           {
            "marker": {
             "line": {
              "color": "#E5ECF6",
              "width": 0.5
             }
            },
            "type": "barpolar"
           }
          ],
          "carpet": [
           {
            "aaxis": {
             "endlinecolor": "#2a3f5f",
             "gridcolor": "white",
             "linecolor": "white",
             "minorgridcolor": "white",
             "startlinecolor": "#2a3f5f"
            },
            "baxis": {
             "endlinecolor": "#2a3f5f",
             "gridcolor": "white",
             "linecolor": "white",
             "minorgridcolor": "white",
             "startlinecolor": "#2a3f5f"
            },
            "type": "carpet"
           }
          ],
          "choropleth": [
           {
            "colorbar": {
             "outlinewidth": 0,
             "ticks": ""
            },
            "type": "choropleth"
           }
          ],
          "contour": [
           {
            "colorbar": {
             "outlinewidth": 0,
             "ticks": ""
            },
            "colorscale": [
             [
              0,
              "#0d0887"
             ],
             [
              0.1111111111111111,
              "#46039f"
             ],
             [
              0.2222222222222222,
              "#7201a8"
             ],
             [
              0.3333333333333333,
              "#9c179e"
             ],
             [
              0.4444444444444444,
              "#bd3786"
             ],
             [
              0.5555555555555556,
              "#d8576b"
             ],
             [
              0.6666666666666666,
              "#ed7953"
             ],
             [
              0.7777777777777778,
              "#fb9f3a"
             ],
             [
              0.8888888888888888,
              "#fdca26"
             ],
             [
              1,
              "#f0f921"
             ]
            ],
            "type": "contour"
           }
          ],
          "contourcarpet": [
           {
            "colorbar": {
             "outlinewidth": 0,
             "ticks": ""
            },
            "type": "contourcarpet"
           }
          ],
          "heatmap": [
           {
            "colorbar": {
             "outlinewidth": 0,
             "ticks": ""
            },
            "colorscale": [
             [
              0,
              "#0d0887"
             ],
             [
              0.1111111111111111,
              "#46039f"
             ],
             [
              0.2222222222222222,
              "#7201a8"
             ],
             [
              0.3333333333333333,
              "#9c179e"
             ],
             [
              0.4444444444444444,
              "#bd3786"
             ],
             [
              0.5555555555555556,
              "#d8576b"
             ],
             [
              0.6666666666666666,
              "#ed7953"
             ],
             [
              0.7777777777777778,
              "#fb9f3a"
             ],
             [
              0.8888888888888888,
              "#fdca26"
             ],
             [
              1,
              "#f0f921"
             ]
            ],
            "type": "heatmap"
           }
          ],
          "heatmapgl": [
           {
            "colorbar": {
             "outlinewidth": 0,
             "ticks": ""
            },
            "colorscale": [
             [
              0,
              "#0d0887"
             ],
             [
              0.1111111111111111,
              "#46039f"
             ],
             [
              0.2222222222222222,
              "#7201a8"
             ],
             [
              0.3333333333333333,
              "#9c179e"
             ],
             [
              0.4444444444444444,
              "#bd3786"
             ],
             [
              0.5555555555555556,
              "#d8576b"
             ],
             [
              0.6666666666666666,
              "#ed7953"
             ],
             [
              0.7777777777777778,
              "#fb9f3a"
             ],
             [
              0.8888888888888888,
              "#fdca26"
             ],
             [
              1,
              "#f0f921"
             ]
            ],
            "type": "heatmapgl"
           }
          ],
          "histogram": [
           {
            "marker": {
             "colorbar": {
              "outlinewidth": 0,
              "ticks": ""
             }
            },
            "type": "histogram"
           }
          ],
          "histogram2d": [
           {
            "colorbar": {
             "outlinewidth": 0,
             "ticks": ""
            },
            "colorscale": [
             [
              0,
              "#0d0887"
             ],
             [
              0.1111111111111111,
              "#46039f"
             ],
             [
              0.2222222222222222,
              "#7201a8"
             ],
             [
              0.3333333333333333,
              "#9c179e"
             ],
             [
              0.4444444444444444,
              "#bd3786"
             ],
             [
              0.5555555555555556,
              "#d8576b"
             ],
             [
              0.6666666666666666,
              "#ed7953"
             ],
             [
              0.7777777777777778,
              "#fb9f3a"
             ],
             [
              0.8888888888888888,
              "#fdca26"
             ],
             [
              1,
              "#f0f921"
             ]
            ],
            "type": "histogram2d"
           }
          ],
          "histogram2dcontour": [
           {
            "colorbar": {
             "outlinewidth": 0,
             "ticks": ""
            },
            "colorscale": [
             [
              0,
              "#0d0887"
             ],
             [
              0.1111111111111111,
              "#46039f"
             ],
             [
              0.2222222222222222,
              "#7201a8"
             ],
             [
              0.3333333333333333,
              "#9c179e"
             ],
             [
              0.4444444444444444,
              "#bd3786"
             ],
             [
              0.5555555555555556,
              "#d8576b"
             ],
             [
              0.6666666666666666,
              "#ed7953"
             ],
             [
              0.7777777777777778,
              "#fb9f3a"
             ],
             [
              0.8888888888888888,
              "#fdca26"
             ],
             [
              1,
              "#f0f921"
             ]
            ],
            "type": "histogram2dcontour"
           }
          ],
          "mesh3d": [
           {
            "colorbar": {
             "outlinewidth": 0,
             "ticks": ""
            },
            "type": "mesh3d"
           }
          ],
          "parcoords": [
           {
            "line": {
             "colorbar": {
              "outlinewidth": 0,
              "ticks": ""
             }
            },
            "type": "parcoords"
           }
          ],
          "pie": [
           {
            "automargin": true,
            "type": "pie"
           }
          ],
          "scatter": [
           {
            "marker": {
             "colorbar": {
              "outlinewidth": 0,
              "ticks": ""
             }
            },
            "type": "scatter"
           }
          ],
          "scatter3d": [
           {
            "line": {
             "colorbar": {
              "outlinewidth": 0,
              "ticks": ""
             }
            },
            "marker": {
             "colorbar": {
              "outlinewidth": 0,
              "ticks": ""
             }
            },
            "type": "scatter3d"
           }
          ],
          "scattercarpet": [
           {
            "marker": {
             "colorbar": {
              "outlinewidth": 0,
              "ticks": ""
             }
            },
            "type": "scattercarpet"
           }
          ],
          "scattergeo": [
           {
            "marker": {
             "colorbar": {
              "outlinewidth": 0,
              "ticks": ""
             }
            },
            "type": "scattergeo"
           }
          ],
          "scattergl": [
           {
            "marker": {
             "colorbar": {
              "outlinewidth": 0,
              "ticks": ""
             }
            },
            "type": "scattergl"
           }
          ],
          "scattermapbox": [
           {
            "marker": {
             "colorbar": {
              "outlinewidth": 0,
              "ticks": ""
             }
            },
            "type": "scattermapbox"
           }
          ],
          "scatterpolar": [
           {
            "marker": {
             "colorbar": {
              "outlinewidth": 0,
              "ticks": ""
             }
            },
            "type": "scatterpolar"
           }
          ],
          "scatterpolargl": [
           {
            "marker": {
             "colorbar": {
              "outlinewidth": 0,
              "ticks": ""
             }
            },
            "type": "scatterpolargl"
           }
          ],
          "scatterternary": [
           {
            "marker": {
             "colorbar": {
              "outlinewidth": 0,
              "ticks": ""
             }
            },
            "type": "scatterternary"
           }
          ],
          "surface": [
           {
            "colorbar": {
             "outlinewidth": 0,
             "ticks": ""
            },
            "colorscale": [
             [
              0,
              "#0d0887"
             ],
             [
              0.1111111111111111,
              "#46039f"
             ],
             [
              0.2222222222222222,
              "#7201a8"
             ],
             [
              0.3333333333333333,
              "#9c179e"
             ],
             [
              0.4444444444444444,
              "#bd3786"
             ],
             [
              0.5555555555555556,
              "#d8576b"
             ],
             [
              0.6666666666666666,
              "#ed7953"
             ],
             [
              0.7777777777777778,
              "#fb9f3a"
             ],
             [
              0.8888888888888888,
              "#fdca26"
             ],
             [
              1,
              "#f0f921"
             ]
            ],
            "type": "surface"
           }
          ],
          "table": [
           {
            "cells": {
             "fill": {
              "color": "#EBF0F8"
             },
             "line": {
              "color": "white"
             }
            },
            "header": {
             "fill": {
              "color": "#C8D4E3"
             },
             "line": {
              "color": "white"
             }
            },
            "type": "table"
           }
          ]
         },
         "layout": {
          "annotationdefaults": {
           "arrowcolor": "#2a3f5f",
           "arrowhead": 0,
           "arrowwidth": 1
          },
          "autotypenumbers": "strict",
          "coloraxis": {
           "colorbar": {
            "outlinewidth": 0,
            "ticks": ""
           }
          },
          "colorscale": {
           "diverging": [
            [
             0,
             "#8e0152"
            ],
            [
             0.1,
             "#c51b7d"
            ],
            [
             0.2,
             "#de77ae"
            ],
            [
             0.3,
             "#f1b6da"
            ],
            [
             0.4,
             "#fde0ef"
            ],
            [
             0.5,
             "#f7f7f7"
            ],
            [
             0.6,
             "#e6f5d0"
            ],
            [
             0.7,
             "#b8e186"
            ],
            [
             0.8,
             "#7fbc41"
            ],
            [
             0.9,
             "#4d9221"
            ],
            [
             1,
             "#276419"
            ]
           ],
           "sequential": [
            [
             0,
             "#0d0887"
            ],
            [
             0.1111111111111111,
             "#46039f"
            ],
            [
             0.2222222222222222,
             "#7201a8"
            ],
            [
             0.3333333333333333,
             "#9c179e"
            ],
            [
             0.4444444444444444,
             "#bd3786"
            ],
            [
             0.5555555555555556,
             "#d8576b"
            ],
            [
             0.6666666666666666,
             "#ed7953"
            ],
            [
             0.7777777777777778,
             "#fb9f3a"
            ],
            [
             0.8888888888888888,
             "#fdca26"
            ],
            [
             1,
             "#f0f921"
            ]
           ],
           "sequentialminus": [
            [
             0,
             "#0d0887"
            ],
            [
             0.1111111111111111,
             "#46039f"
            ],
            [
             0.2222222222222222,
             "#7201a8"
            ],
            [
             0.3333333333333333,
             "#9c179e"
            ],
            [
             0.4444444444444444,
             "#bd3786"
            ],
            [
             0.5555555555555556,
             "#d8576b"
            ],
            [
             0.6666666666666666,
             "#ed7953"
            ],
            [
             0.7777777777777778,
             "#fb9f3a"
            ],
            [
             0.8888888888888888,
             "#fdca26"
            ],
            [
             1,
             "#f0f921"
            ]
           ]
          },
          "colorway": [
           "#636efa",
           "#EF553B",
           "#00cc96",
           "#ab63fa",
           "#FFA15A",
           "#19d3f3",
           "#FF6692",
           "#B6E880",
           "#FF97FF",
           "#FECB52"
          ],
          "font": {
           "color": "#2a3f5f"
          },
          "geo": {
           "bgcolor": "white",
           "lakecolor": "white",
           "landcolor": "#E5ECF6",
           "showlakes": true,
           "showland": true,
           "subunitcolor": "white"
          },
          "hoverlabel": {
           "align": "left"
          },
          "hovermode": "closest",
          "mapbox": {
           "style": "light"
          },
          "paper_bgcolor": "white",
          "plot_bgcolor": "#E5ECF6",
          "polar": {
           "angularaxis": {
            "gridcolor": "white",
            "linecolor": "white",
            "ticks": ""
           },
           "bgcolor": "#E5ECF6",
           "radialaxis": {
            "gridcolor": "white",
            "linecolor": "white",
            "ticks": ""
           }
          },
          "scene": {
           "xaxis": {
            "backgroundcolor": "#E5ECF6",
            "gridcolor": "white",
            "gridwidth": 2,
            "linecolor": "white",
            "showbackground": true,
            "ticks": "",
            "zerolinecolor": "white"
           },
           "yaxis": {
            "backgroundcolor": "#E5ECF6",
            "gridcolor": "white",
            "gridwidth": 2,
            "linecolor": "white",
            "showbackground": true,
            "ticks": "",
            "zerolinecolor": "white"
           },
           "zaxis": {
            "backgroundcolor": "#E5ECF6",
            "gridcolor": "white",
            "gridwidth": 2,
            "linecolor": "white",
            "showbackground": true,
            "ticks": "",
            "zerolinecolor": "white"
           }
          },
          "shapedefaults": {
           "line": {
            "color": "#2a3f5f"
           }
          },
          "ternary": {
           "aaxis": {
            "gridcolor": "white",
            "linecolor": "white",
            "ticks": ""
           },
           "baxis": {
            "gridcolor": "white",
            "linecolor": "white",
            "ticks": ""
           },
           "bgcolor": "#E5ECF6",
           "caxis": {
            "gridcolor": "white",
            "linecolor": "white",
            "ticks": ""
           }
          },
          "title": {
           "x": 0.05
          },
          "xaxis": {
           "automargin": true,
           "gridcolor": "white",
           "linecolor": "white",
           "ticks": "",
           "title": {
            "standoff": 15
           },
           "zerolinecolor": "white",
           "zerolinewidth": 2
          },
          "yaxis": {
           "automargin": true,
           "gridcolor": "white",
           "linecolor": "white",
           "ticks": "",
           "title": {
            "standoff": 15
           },
           "zerolinecolor": "white",
           "zerolinewidth": 2
          }
         }
        },
        "title": {
         "text": "Drifting ratio and parameter"
        }
       }
      },
      "text/html": [
       "<div>                            <div id=\"85c18def-4ab5-4575-9624-be82b36ce268\" class=\"plotly-graph-div\" style=\"height:525px; width:100%;\"></div>            <script type=\"text/javascript\">                require([\"plotly\"], function(Plotly) {                    window.PLOTLYENV=window.PLOTLYENV || {};                                    if (document.getElementById(\"85c18def-4ab5-4575-9624-be82b36ce268\")) {                    Plotly.newPlot(                        \"85c18def-4ab5-4575-9624-be82b36ce268\",                        [{\"name\": \"drift_670nm #1\", \"textfont\": {\"size\": 14}, \"textposition\": \"top center\", \"type\": \"scatter\", \"x\": [\"QC1\", \"QC2\", \"QC3\", \"QC4\", \"QC5\", \"QC6\", \"QC7\", \"QC8\"], \"y\": [0.9984319349248316, 0.9964150140512001, 0.9848270400752013, 0.9774810315235019, 0.9804838459660158, 0.9760236718170693, 0.9761790343380015, 0.9698420990303986]}, {\"name\": \"drift_magic\", \"textfont\": {\"size\": 14}, \"textposition\": \"top center\", \"type\": \"scatter\", \"x\": [\"QC1\", \"QC2\", \"QC3\", \"QC4\", \"QC5\", \"QC6\", \"QC7\", \"QC8\"], \"y\": [1.0027763191170296, 0.9989633518557838, 0.9913759134027412, 0.9865390124422966, 0.9821803493754553, 0.9796242866359844, 0.9707677378649329, 0.9733011337786924]}, {\"name\": \"parameter\", \"textfont\": {\"size\": 14}, \"textposition\": \"top center\", \"type\": \"scatter\", \"x\": [\"QC1\", \"QC2\", \"QC3\", \"QC4\", \"QC5\", \"QC6\", \"QC7\", \"QC8\"], \"y\": [0.9956676438111111, 0.9974490177243744, 0.9933941573130802, 0.9908184260282109, 0.9982727170111698, 0.9963244941269478, 1.0055742442419542, 0.9964460796065606]}],                        {\"template\": {\"data\": {\"bar\": [{\"error_x\": {\"color\": \"#2a3f5f\"}, \"error_y\": {\"color\": \"#2a3f5f\"}, \"marker\": {\"line\": {\"color\": \"#E5ECF6\", \"width\": 0.5}}, \"type\": \"bar\"}], \"barpolar\": [{\"marker\": {\"line\": {\"color\": \"#E5ECF6\", \"width\": 0.5}}, \"type\": \"barpolar\"}], \"carpet\": [{\"aaxis\": {\"endlinecolor\": \"#2a3f5f\", \"gridcolor\": \"white\", \"linecolor\": \"white\", \"minorgridcolor\": \"white\", \"startlinecolor\": \"#2a3f5f\"}, \"baxis\": {\"endlinecolor\": \"#2a3f5f\", \"gridcolor\": \"white\", \"linecolor\": \"white\", \"minorgridcolor\": \"white\", \"startlinecolor\": \"#2a3f5f\"}, \"type\": \"carpet\"}], \"choropleth\": [{\"colorbar\": {\"outlinewidth\": 0, \"ticks\": \"\"}, \"type\": \"choropleth\"}], \"contour\": [{\"colorbar\": {\"outlinewidth\": 0, \"ticks\": \"\"}, \"colorscale\": [[0.0, \"#0d0887\"], [0.1111111111111111, \"#46039f\"], [0.2222222222222222, \"#7201a8\"], [0.3333333333333333, \"#9c179e\"], [0.4444444444444444, \"#bd3786\"], [0.5555555555555556, \"#d8576b\"], [0.6666666666666666, \"#ed7953\"], [0.7777777777777778, \"#fb9f3a\"], [0.8888888888888888, \"#fdca26\"], [1.0, \"#f0f921\"]], \"type\": \"contour\"}], \"contourcarpet\": [{\"colorbar\": {\"outlinewidth\": 0, \"ticks\": \"\"}, \"type\": \"contourcarpet\"}], \"heatmap\": [{\"colorbar\": {\"outlinewidth\": 0, \"ticks\": \"\"}, \"colorscale\": [[0.0, \"#0d0887\"], [0.1111111111111111, \"#46039f\"], [0.2222222222222222, \"#7201a8\"], [0.3333333333333333, \"#9c179e\"], [0.4444444444444444, \"#bd3786\"], [0.5555555555555556, \"#d8576b\"], [0.6666666666666666, \"#ed7953\"], [0.7777777777777778, \"#fb9f3a\"], [0.8888888888888888, \"#fdca26\"], [1.0, \"#f0f921\"]], \"type\": \"heatmap\"}], \"heatmapgl\": [{\"colorbar\": {\"outlinewidth\": 0, \"ticks\": \"\"}, \"colorscale\": [[0.0, \"#0d0887\"], [0.1111111111111111, \"#46039f\"], [0.2222222222222222, \"#7201a8\"], [0.3333333333333333, \"#9c179e\"], [0.4444444444444444, \"#bd3786\"], [0.5555555555555556, \"#d8576b\"], [0.6666666666666666, \"#ed7953\"], [0.7777777777777778, \"#fb9f3a\"], [0.8888888888888888, \"#fdca26\"], [1.0, \"#f0f921\"]], \"type\": \"heatmapgl\"}], \"histogram\": [{\"marker\": {\"colorbar\": {\"outlinewidth\": 0, \"ticks\": \"\"}}, \"type\": \"histogram\"}], \"histogram2d\": [{\"colorbar\": {\"outlinewidth\": 0, \"ticks\": \"\"}, \"colorscale\": [[0.0, \"#0d0887\"], [0.1111111111111111, \"#46039f\"], [0.2222222222222222, \"#7201a8\"], [0.3333333333333333, \"#9c179e\"], [0.4444444444444444, \"#bd3786\"], [0.5555555555555556, \"#d8576b\"], [0.6666666666666666, \"#ed7953\"], [0.7777777777777778, \"#fb9f3a\"], [0.8888888888888888, \"#fdca26\"], [1.0, \"#f0f921\"]], \"type\": \"histogram2d\"}], \"histogram2dcontour\": [{\"colorbar\": {\"outlinewidth\": 0, \"ticks\": \"\"}, \"colorscale\": [[0.0, \"#0d0887\"], [0.1111111111111111, \"#46039f\"], [0.2222222222222222, \"#7201a8\"], [0.3333333333333333, \"#9c179e\"], [0.4444444444444444, \"#bd3786\"], [0.5555555555555556, \"#d8576b\"], [0.6666666666666666, \"#ed7953\"], [0.7777777777777778, \"#fb9f3a\"], [0.8888888888888888, \"#fdca26\"], [1.0, \"#f0f921\"]], \"type\": \"histogram2dcontour\"}], \"mesh3d\": [{\"colorbar\": {\"outlinewidth\": 0, \"ticks\": \"\"}, \"type\": \"mesh3d\"}], \"parcoords\": [{\"line\": {\"colorbar\": {\"outlinewidth\": 0, \"ticks\": \"\"}}, \"type\": \"parcoords\"}], \"pie\": [{\"automargin\": true, \"type\": \"pie\"}], \"scatter\": [{\"marker\": {\"colorbar\": {\"outlinewidth\": 0, \"ticks\": \"\"}}, \"type\": \"scatter\"}], \"scatter3d\": [{\"line\": {\"colorbar\": {\"outlinewidth\": 0, \"ticks\": \"\"}}, \"marker\": {\"colorbar\": {\"outlinewidth\": 0, \"ticks\": \"\"}}, \"type\": \"scatter3d\"}], \"scattercarpet\": [{\"marker\": {\"colorbar\": {\"outlinewidth\": 0, \"ticks\": \"\"}}, \"type\": \"scattercarpet\"}], \"scattergeo\": [{\"marker\": {\"colorbar\": {\"outlinewidth\": 0, \"ticks\": \"\"}}, \"type\": \"scattergeo\"}], \"scattergl\": [{\"marker\": {\"colorbar\": {\"outlinewidth\": 0, \"ticks\": \"\"}}, \"type\": \"scattergl\"}], \"scattermapbox\": [{\"marker\": {\"colorbar\": {\"outlinewidth\": 0, \"ticks\": \"\"}}, \"type\": \"scattermapbox\"}], \"scatterpolar\": [{\"marker\": {\"colorbar\": {\"outlinewidth\": 0, \"ticks\": \"\"}}, \"type\": \"scatterpolar\"}], \"scatterpolargl\": [{\"marker\": {\"colorbar\": {\"outlinewidth\": 0, \"ticks\": \"\"}}, \"type\": \"scatterpolargl\"}], \"scatterternary\": [{\"marker\": {\"colorbar\": {\"outlinewidth\": 0, \"ticks\": \"\"}}, \"type\": \"scatterternary\"}], \"surface\": [{\"colorbar\": {\"outlinewidth\": 0, \"ticks\": \"\"}, \"colorscale\": [[0.0, \"#0d0887\"], [0.1111111111111111, \"#46039f\"], [0.2222222222222222, \"#7201a8\"], [0.3333333333333333, \"#9c179e\"], [0.4444444444444444, \"#bd3786\"], [0.5555555555555556, \"#d8576b\"], [0.6666666666666666, \"#ed7953\"], [0.7777777777777778, \"#fb9f3a\"], [0.8888888888888888, \"#fdca26\"], [1.0, \"#f0f921\"]], \"type\": \"surface\"}], \"table\": [{\"cells\": {\"fill\": {\"color\": \"#EBF0F8\"}, \"line\": {\"color\": \"white\"}}, \"header\": {\"fill\": {\"color\": \"#C8D4E3\"}, \"line\": {\"color\": \"white\"}}, \"type\": \"table\"}]}, \"layout\": {\"annotationdefaults\": {\"arrowcolor\": \"#2a3f5f\", \"arrowhead\": 0, \"arrowwidth\": 1}, \"autotypenumbers\": \"strict\", \"coloraxis\": {\"colorbar\": {\"outlinewidth\": 0, \"ticks\": \"\"}}, \"colorscale\": {\"diverging\": [[0, \"#8e0152\"], [0.1, \"#c51b7d\"], [0.2, \"#de77ae\"], [0.3, \"#f1b6da\"], [0.4, \"#fde0ef\"], [0.5, \"#f7f7f7\"], [0.6, \"#e6f5d0\"], [0.7, \"#b8e186\"], [0.8, \"#7fbc41\"], [0.9, \"#4d9221\"], [1, \"#276419\"]], \"sequential\": [[0.0, \"#0d0887\"], [0.1111111111111111, \"#46039f\"], [0.2222222222222222, \"#7201a8\"], [0.3333333333333333, \"#9c179e\"], [0.4444444444444444, \"#bd3786\"], [0.5555555555555556, \"#d8576b\"], [0.6666666666666666, \"#ed7953\"], [0.7777777777777778, \"#fb9f3a\"], [0.8888888888888888, \"#fdca26\"], [1.0, \"#f0f921\"]], \"sequentialminus\": [[0.0, \"#0d0887\"], [0.1111111111111111, \"#46039f\"], [0.2222222222222222, \"#7201a8\"], [0.3333333333333333, \"#9c179e\"], [0.4444444444444444, \"#bd3786\"], [0.5555555555555556, \"#d8576b\"], [0.6666666666666666, \"#ed7953\"], [0.7777777777777778, \"#fb9f3a\"], [0.8888888888888888, \"#fdca26\"], [1.0, \"#f0f921\"]]}, \"colorway\": [\"#636efa\", \"#EF553B\", \"#00cc96\", \"#ab63fa\", \"#FFA15A\", \"#19d3f3\", \"#FF6692\", \"#B6E880\", \"#FF97FF\", \"#FECB52\"], \"font\": {\"color\": \"#2a3f5f\"}, \"geo\": {\"bgcolor\": \"white\", \"lakecolor\": \"white\", \"landcolor\": \"#E5ECF6\", \"showlakes\": true, \"showland\": true, \"subunitcolor\": \"white\"}, \"hoverlabel\": {\"align\": \"left\"}, \"hovermode\": \"closest\", \"mapbox\": {\"style\": \"light\"}, \"paper_bgcolor\": \"white\", \"plot_bgcolor\": \"#E5ECF6\", \"polar\": {\"angularaxis\": {\"gridcolor\": \"white\", \"linecolor\": \"white\", \"ticks\": \"\"}, \"bgcolor\": \"#E5ECF6\", \"radialaxis\": {\"gridcolor\": \"white\", \"linecolor\": \"white\", \"ticks\": \"\"}}, \"scene\": {\"xaxis\": {\"backgroundcolor\": \"#E5ECF6\", \"gridcolor\": \"white\", \"gridwidth\": 2, \"linecolor\": \"white\", \"showbackground\": true, \"ticks\": \"\", \"zerolinecolor\": \"white\"}, \"yaxis\": {\"backgroundcolor\": \"#E5ECF6\", \"gridcolor\": \"white\", \"gridwidth\": 2, \"linecolor\": \"white\", \"showbackground\": true, \"ticks\": \"\", \"zerolinecolor\": \"white\"}, \"zaxis\": {\"backgroundcolor\": \"#E5ECF6\", \"gridcolor\": \"white\", \"gridwidth\": 2, \"linecolor\": \"white\", \"showbackground\": true, \"ticks\": \"\", \"zerolinecolor\": \"white\"}}, \"shapedefaults\": {\"line\": {\"color\": \"#2a3f5f\"}}, \"ternary\": {\"aaxis\": {\"gridcolor\": \"white\", \"linecolor\": \"white\", \"ticks\": \"\"}, \"baxis\": {\"gridcolor\": \"white\", \"linecolor\": \"white\", \"ticks\": \"\"}, \"bgcolor\": \"#E5ECF6\", \"caxis\": {\"gridcolor\": \"white\", \"linecolor\": \"white\", \"ticks\": \"\"}}, \"title\": {\"x\": 0.05}, \"xaxis\": {\"automargin\": true, \"gridcolor\": \"white\", \"linecolor\": \"white\", \"ticks\": \"\", \"title\": {\"standoff\": 15}, \"zerolinecolor\": \"white\", \"zerolinewidth\": 2}, \"yaxis\": {\"automargin\": true, \"gridcolor\": \"white\", \"linecolor\": \"white\", \"ticks\": \"\", \"title\": {\"standoff\": 15}, \"zerolinecolor\": \"white\", \"zerolinewidth\": 2}}}, \"title\": {\"text\": \"Drifting ratio and parameter\"}},                        {\"responsive\": true}                    ).then(function(){\n",
       "                            \n",
       "var gd = document.getElementById('85c18def-4ab5-4575-9624-be82b36ce268');\n",
       "var x = new MutationObserver(function (mutations, observer) {{\n",
       "        var display = window.getComputedStyle(gd).display;\n",
       "        if (!display || display === 'none') {{\n",
       "            console.log([gd, 'removed!']);\n",
       "            Plotly.purge(gd);\n",
       "            observer.disconnect();\n",
       "        }}\n",
       "}});\n",
       "\n",
       "// Listen for the removal of the full notebook cells\n",
       "var notebookContainer = gd.closest('#notebook-container');\n",
       "if (notebookContainer) {{\n",
       "    x.observe(notebookContainer, {childList: true});\n",
       "}}\n",
       "\n",
       "// Listen for the clearing of the current output cell\n",
       "var outputEl = gd.closest('.output');\n",
       "if (outputEl) {{\n",
       "    x.observe(outputEl, {childList: true});\n",
       "}}\n",
       "\n",
       "                        })                };                });            </script>        </div>"
      ]
     },
     "metadata": {},
     "output_type": "display_data"
    },
    {
     "data": {
      "application/vnd.plotly.v1+json": {
       "config": {
        "plotlyServerURL": "https://plot.ly"
       },
       "data": [
        {
         "name": "parameter difference",
         "textfont": {
          "size": 14
         },
         "textposition": "top center",
         "type": "scatter",
         "x": [
          "QC1",
          "QC2",
          "QC3",
          "QC4",
          "QC5",
          "QC6",
          "QC7",
          "QC8"
         ],
         "y": [
          0,
          0.0017813739132633843,
          -0.00227348649803083,
          -0.00484921778290015,
          0.0026050732000587606,
          0.0006568503158367323,
          0.009906600430843127,
          0.0007784357954495613
         ]
        }
       ],
       "layout": {
        "template": {
         "data": {
          "bar": [
           {
            "error_x": {
             "color": "#2a3f5f"
            },
            "error_y": {
             "color": "#2a3f5f"
            },
            "marker": {
             "line": {
              "color": "#E5ECF6",
              "width": 0.5
             }
            },
            "type": "bar"
           }
          ],
          "barpolar": [
           {
            "marker": {
             "line": {
              "color": "#E5ECF6",
              "width": 0.5
             }
            },
            "type": "barpolar"
           }
          ],
          "carpet": [
           {
            "aaxis": {
             "endlinecolor": "#2a3f5f",
             "gridcolor": "white",
             "linecolor": "white",
             "minorgridcolor": "white",
             "startlinecolor": "#2a3f5f"
            },
            "baxis": {
             "endlinecolor": "#2a3f5f",
             "gridcolor": "white",
             "linecolor": "white",
             "minorgridcolor": "white",
             "startlinecolor": "#2a3f5f"
            },
            "type": "carpet"
           }
          ],
          "choropleth": [
           {
            "colorbar": {
             "outlinewidth": 0,
             "ticks": ""
            },
            "type": "choropleth"
           }
          ],
          "contour": [
           {
            "colorbar": {
             "outlinewidth": 0,
             "ticks": ""
            },
            "colorscale": [
             [
              0,
              "#0d0887"
             ],
             [
              0.1111111111111111,
              "#46039f"
             ],
             [
              0.2222222222222222,
              "#7201a8"
             ],
             [
              0.3333333333333333,
              "#9c179e"
             ],
             [
              0.4444444444444444,
              "#bd3786"
             ],
             [
              0.5555555555555556,
              "#d8576b"
             ],
             [
              0.6666666666666666,
              "#ed7953"
             ],
             [
              0.7777777777777778,
              "#fb9f3a"
             ],
             [
              0.8888888888888888,
              "#fdca26"
             ],
             [
              1,
              "#f0f921"
             ]
            ],
            "type": "contour"
           }
          ],
          "contourcarpet": [
           {
            "colorbar": {
             "outlinewidth": 0,
             "ticks": ""
            },
            "type": "contourcarpet"
           }
          ],
          "heatmap": [
           {
            "colorbar": {
             "outlinewidth": 0,
             "ticks": ""
            },
            "colorscale": [
             [
              0,
              "#0d0887"
             ],
             [
              0.1111111111111111,
              "#46039f"
             ],
             [
              0.2222222222222222,
              "#7201a8"
             ],
             [
              0.3333333333333333,
              "#9c179e"
             ],
             [
              0.4444444444444444,
              "#bd3786"
             ],
             [
              0.5555555555555556,
              "#d8576b"
             ],
             [
              0.6666666666666666,
              "#ed7953"
             ],
             [
              0.7777777777777778,
              "#fb9f3a"
             ],
             [
              0.8888888888888888,
              "#fdca26"
             ],
             [
              1,
              "#f0f921"
             ]
            ],
            "type": "heatmap"
           }
          ],
          "heatmapgl": [
           {
            "colorbar": {
             "outlinewidth": 0,
             "ticks": ""
            },
            "colorscale": [
             [
              0,
              "#0d0887"
             ],
             [
              0.1111111111111111,
              "#46039f"
             ],
             [
              0.2222222222222222,
              "#7201a8"
             ],
             [
              0.3333333333333333,
              "#9c179e"
             ],
             [
              0.4444444444444444,
              "#bd3786"
             ],
             [
              0.5555555555555556,
              "#d8576b"
             ],
             [
              0.6666666666666666,
              "#ed7953"
             ],
             [
              0.7777777777777778,
              "#fb9f3a"
             ],
             [
              0.8888888888888888,
              "#fdca26"
             ],
             [
              1,
              "#f0f921"
             ]
            ],
            "type": "heatmapgl"
           }
          ],
          "histogram": [
           {
            "marker": {
             "colorbar": {
              "outlinewidth": 0,
              "ticks": ""
             }
            },
            "type": "histogram"
           }
          ],
          "histogram2d": [
           {
            "colorbar": {
             "outlinewidth": 0,
             "ticks": ""
            },
            "colorscale": [
             [
              0,
              "#0d0887"
             ],
             [
              0.1111111111111111,
              "#46039f"
             ],
             [
              0.2222222222222222,
              "#7201a8"
             ],
             [
              0.3333333333333333,
              "#9c179e"
             ],
             [
              0.4444444444444444,
              "#bd3786"
             ],
             [
              0.5555555555555556,
              "#d8576b"
             ],
             [
              0.6666666666666666,
              "#ed7953"
             ],
             [
              0.7777777777777778,
              "#fb9f3a"
             ],
             [
              0.8888888888888888,
              "#fdca26"
             ],
             [
              1,
              "#f0f921"
             ]
            ],
            "type": "histogram2d"
           }
          ],
          "histogram2dcontour": [
           {
            "colorbar": {
             "outlinewidth": 0,
             "ticks": ""
            },
            "colorscale": [
             [
              0,
              "#0d0887"
             ],
             [
              0.1111111111111111,
              "#46039f"
             ],
             [
              0.2222222222222222,
              "#7201a8"
             ],
             [
              0.3333333333333333,
              "#9c179e"
             ],
             [
              0.4444444444444444,
              "#bd3786"
             ],
             [
              0.5555555555555556,
              "#d8576b"
             ],
             [
              0.6666666666666666,
              "#ed7953"
             ],
             [
              0.7777777777777778,
              "#fb9f3a"
             ],
             [
              0.8888888888888888,
              "#fdca26"
             ],
             [
              1,
              "#f0f921"
             ]
            ],
            "type": "histogram2dcontour"
           }
          ],
          "mesh3d": [
           {
            "colorbar": {
             "outlinewidth": 0,
             "ticks": ""
            },
            "type": "mesh3d"
           }
          ],
          "parcoords": [
           {
            "line": {
             "colorbar": {
              "outlinewidth": 0,
              "ticks": ""
             }
            },
            "type": "parcoords"
           }
          ],
          "pie": [
           {
            "automargin": true,
            "type": "pie"
           }
          ],
          "scatter": [
           {
            "marker": {
             "colorbar": {
              "outlinewidth": 0,
              "ticks": ""
             }
            },
            "type": "scatter"
           }
          ],
          "scatter3d": [
           {
            "line": {
             "colorbar": {
              "outlinewidth": 0,
              "ticks": ""
             }
            },
            "marker": {
             "colorbar": {
              "outlinewidth": 0,
              "ticks": ""
             }
            },
            "type": "scatter3d"
           }
          ],
          "scattercarpet": [
           {
            "marker": {
             "colorbar": {
              "outlinewidth": 0,
              "ticks": ""
             }
            },
            "type": "scattercarpet"
           }
          ],
          "scattergeo": [
           {
            "marker": {
             "colorbar": {
              "outlinewidth": 0,
              "ticks": ""
             }
            },
            "type": "scattergeo"
           }
          ],
          "scattergl": [
           {
            "marker": {
             "colorbar": {
              "outlinewidth": 0,
              "ticks": ""
             }
            },
            "type": "scattergl"
           }
          ],
          "scattermapbox": [
           {
            "marker": {
             "colorbar": {
              "outlinewidth": 0,
              "ticks": ""
             }
            },
            "type": "scattermapbox"
           }
          ],
          "scatterpolar": [
           {
            "marker": {
             "colorbar": {
              "outlinewidth": 0,
              "ticks": ""
             }
            },
            "type": "scatterpolar"
           }
          ],
          "scatterpolargl": [
           {
            "marker": {
             "colorbar": {
              "outlinewidth": 0,
              "ticks": ""
             }
            },
            "type": "scatterpolargl"
           }
          ],
          "scatterternary": [
           {
            "marker": {
             "colorbar": {
              "outlinewidth": 0,
              "ticks": ""
             }
            },
            "type": "scatterternary"
           }
          ],
          "surface": [
           {
            "colorbar": {
             "outlinewidth": 0,
             "ticks": ""
            },
            "colorscale": [
             [
              0,
              "#0d0887"
             ],
             [
              0.1111111111111111,
              "#46039f"
             ],
             [
              0.2222222222222222,
              "#7201a8"
             ],
             [
              0.3333333333333333,
              "#9c179e"
             ],
             [
              0.4444444444444444,
              "#bd3786"
             ],
             [
              0.5555555555555556,
              "#d8576b"
             ],
             [
              0.6666666666666666,
              "#ed7953"
             ],
             [
              0.7777777777777778,
              "#fb9f3a"
             ],
             [
              0.8888888888888888,
              "#fdca26"
             ],
             [
              1,
              "#f0f921"
             ]
            ],
            "type": "surface"
           }
          ],
          "table": [
           {
            "cells": {
             "fill": {
              "color": "#EBF0F8"
             },
             "line": {
              "color": "white"
             }
            },
            "header": {
             "fill": {
              "color": "#C8D4E3"
             },
             "line": {
              "color": "white"
             }
            },
            "type": "table"
           }
          ]
         },
         "layout": {
          "annotationdefaults": {
           "arrowcolor": "#2a3f5f",
           "arrowhead": 0,
           "arrowwidth": 1
          },
          "autotypenumbers": "strict",
          "coloraxis": {
           "colorbar": {
            "outlinewidth": 0,
            "ticks": ""
           }
          },
          "colorscale": {
           "diverging": [
            [
             0,
             "#8e0152"
            ],
            [
             0.1,
             "#c51b7d"
            ],
            [
             0.2,
             "#de77ae"
            ],
            [
             0.3,
             "#f1b6da"
            ],
            [
             0.4,
             "#fde0ef"
            ],
            [
             0.5,
             "#f7f7f7"
            ],
            [
             0.6,
             "#e6f5d0"
            ],
            [
             0.7,
             "#b8e186"
            ],
            [
             0.8,
             "#7fbc41"
            ],
            [
             0.9,
             "#4d9221"
            ],
            [
             1,
             "#276419"
            ]
           ],
           "sequential": [
            [
             0,
             "#0d0887"
            ],
            [
             0.1111111111111111,
             "#46039f"
            ],
            [
             0.2222222222222222,
             "#7201a8"
            ],
            [
             0.3333333333333333,
             "#9c179e"
            ],
            [
             0.4444444444444444,
             "#bd3786"
            ],
            [
             0.5555555555555556,
             "#d8576b"
            ],
            [
             0.6666666666666666,
             "#ed7953"
            ],
            [
             0.7777777777777778,
             "#fb9f3a"
            ],
            [
             0.8888888888888888,
             "#fdca26"
            ],
            [
             1,
             "#f0f921"
            ]
           ],
           "sequentialminus": [
            [
             0,
             "#0d0887"
            ],
            [
             0.1111111111111111,
             "#46039f"
            ],
            [
             0.2222222222222222,
             "#7201a8"
            ],
            [
             0.3333333333333333,
             "#9c179e"
            ],
            [
             0.4444444444444444,
             "#bd3786"
            ],
            [
             0.5555555555555556,
             "#d8576b"
            ],
            [
             0.6666666666666666,
             "#ed7953"
            ],
            [
             0.7777777777777778,
             "#fb9f3a"
            ],
            [
             0.8888888888888888,
             "#fdca26"
            ],
            [
             1,
             "#f0f921"
            ]
           ]
          },
          "colorway": [
           "#636efa",
           "#EF553B",
           "#00cc96",
           "#ab63fa",
           "#FFA15A",
           "#19d3f3",
           "#FF6692",
           "#B6E880",
           "#FF97FF",
           "#FECB52"
          ],
          "font": {
           "color": "#2a3f5f"
          },
          "geo": {
           "bgcolor": "white",
           "lakecolor": "white",
           "landcolor": "#E5ECF6",
           "showlakes": true,
           "showland": true,
           "subunitcolor": "white"
          },
          "hoverlabel": {
           "align": "left"
          },
          "hovermode": "closest",
          "mapbox": {
           "style": "light"
          },
          "paper_bgcolor": "white",
          "plot_bgcolor": "#E5ECF6",
          "polar": {
           "angularaxis": {
            "gridcolor": "white",
            "linecolor": "white",
            "ticks": ""
           },
           "bgcolor": "#E5ECF6",
           "radialaxis": {
            "gridcolor": "white",
            "linecolor": "white",
            "ticks": ""
           }
          },
          "scene": {
           "xaxis": {
            "backgroundcolor": "#E5ECF6",
            "gridcolor": "white",
            "gridwidth": 2,
            "linecolor": "white",
            "showbackground": true,
            "ticks": "",
            "zerolinecolor": "white"
           },
           "yaxis": {
            "backgroundcolor": "#E5ECF6",
            "gridcolor": "white",
            "gridwidth": 2,
            "linecolor": "white",
            "showbackground": true,
            "ticks": "",
            "zerolinecolor": "white"
           },
           "zaxis": {
            "backgroundcolor": "#E5ECF6",
            "gridcolor": "white",
            "gridwidth": 2,
            "linecolor": "white",
            "showbackground": true,
            "ticks": "",
            "zerolinecolor": "white"
           }
          },
          "shapedefaults": {
           "line": {
            "color": "#2a3f5f"
           }
          },
          "ternary": {
           "aaxis": {
            "gridcolor": "white",
            "linecolor": "white",
            "ticks": ""
           },
           "baxis": {
            "gridcolor": "white",
            "linecolor": "white",
            "ticks": ""
           },
           "bgcolor": "#E5ECF6",
           "caxis": {
            "gridcolor": "white",
            "linecolor": "white",
            "ticks": ""
           }
          },
          "title": {
           "x": 0.05
          },
          "xaxis": {
           "automargin": true,
           "gridcolor": "white",
           "linecolor": "white",
           "ticks": "",
           "title": {
            "standoff": 15
           },
           "zerolinecolor": "white",
           "zerolinewidth": 2
          },
          "yaxis": {
           "automargin": true,
           "gridcolor": "white",
           "linecolor": "white",
           "ticks": "",
           "title": {
            "standoff": 15
           },
           "zerolinecolor": "white",
           "zerolinewidth": 2
          }
         }
        },
        "title": {
         "text": "parameter difference"
        }
       }
      },
      "text/html": [
       "<div>                            <div id=\"2612d777-72d9-47e0-bd26-36fb7c2ca806\" class=\"plotly-graph-div\" style=\"height:525px; width:100%;\"></div>            <script type=\"text/javascript\">                require([\"plotly\"], function(Plotly) {                    window.PLOTLYENV=window.PLOTLYENV || {};                                    if (document.getElementById(\"2612d777-72d9-47e0-bd26-36fb7c2ca806\")) {                    Plotly.newPlot(                        \"2612d777-72d9-47e0-bd26-36fb7c2ca806\",                        [{\"name\": \"parameter difference\", \"textfont\": {\"size\": 14}, \"textposition\": \"top center\", \"type\": \"scatter\", \"x\": [\"QC1\", \"QC2\", \"QC3\", \"QC4\", \"QC5\", \"QC6\", \"QC7\", \"QC8\"], \"y\": [0.0, 0.0017813739132633843, -0.00227348649803083, -0.00484921778290015, 0.0026050732000587606, 0.0006568503158367323, 0.009906600430843127, 0.0007784357954495613]}],                        {\"template\": {\"data\": {\"bar\": [{\"error_x\": {\"color\": \"#2a3f5f\"}, \"error_y\": {\"color\": \"#2a3f5f\"}, \"marker\": {\"line\": {\"color\": \"#E5ECF6\", \"width\": 0.5}}, \"type\": \"bar\"}], \"barpolar\": [{\"marker\": {\"line\": {\"color\": \"#E5ECF6\", \"width\": 0.5}}, \"type\": \"barpolar\"}], \"carpet\": [{\"aaxis\": {\"endlinecolor\": \"#2a3f5f\", \"gridcolor\": \"white\", \"linecolor\": \"white\", \"minorgridcolor\": \"white\", \"startlinecolor\": \"#2a3f5f\"}, \"baxis\": {\"endlinecolor\": \"#2a3f5f\", \"gridcolor\": \"white\", \"linecolor\": \"white\", \"minorgridcolor\": \"white\", \"startlinecolor\": \"#2a3f5f\"}, \"type\": \"carpet\"}], \"choropleth\": [{\"colorbar\": {\"outlinewidth\": 0, \"ticks\": \"\"}, \"type\": \"choropleth\"}], \"contour\": [{\"colorbar\": {\"outlinewidth\": 0, \"ticks\": \"\"}, \"colorscale\": [[0.0, \"#0d0887\"], [0.1111111111111111, \"#46039f\"], [0.2222222222222222, \"#7201a8\"], [0.3333333333333333, \"#9c179e\"], [0.4444444444444444, \"#bd3786\"], [0.5555555555555556, \"#d8576b\"], [0.6666666666666666, \"#ed7953\"], [0.7777777777777778, \"#fb9f3a\"], [0.8888888888888888, \"#fdca26\"], [1.0, \"#f0f921\"]], \"type\": \"contour\"}], \"contourcarpet\": [{\"colorbar\": {\"outlinewidth\": 0, \"ticks\": \"\"}, \"type\": \"contourcarpet\"}], \"heatmap\": [{\"colorbar\": {\"outlinewidth\": 0, \"ticks\": \"\"}, \"colorscale\": [[0.0, \"#0d0887\"], [0.1111111111111111, \"#46039f\"], [0.2222222222222222, \"#7201a8\"], [0.3333333333333333, \"#9c179e\"], [0.4444444444444444, \"#bd3786\"], [0.5555555555555556, \"#d8576b\"], [0.6666666666666666, \"#ed7953\"], [0.7777777777777778, \"#fb9f3a\"], [0.8888888888888888, \"#fdca26\"], [1.0, \"#f0f921\"]], \"type\": \"heatmap\"}], \"heatmapgl\": [{\"colorbar\": {\"outlinewidth\": 0, \"ticks\": \"\"}, \"colorscale\": [[0.0, \"#0d0887\"], [0.1111111111111111, \"#46039f\"], [0.2222222222222222, \"#7201a8\"], [0.3333333333333333, \"#9c179e\"], [0.4444444444444444, \"#bd3786\"], [0.5555555555555556, \"#d8576b\"], [0.6666666666666666, \"#ed7953\"], [0.7777777777777778, \"#fb9f3a\"], [0.8888888888888888, \"#fdca26\"], [1.0, \"#f0f921\"]], \"type\": \"heatmapgl\"}], \"histogram\": [{\"marker\": {\"colorbar\": {\"outlinewidth\": 0, \"ticks\": \"\"}}, \"type\": \"histogram\"}], \"histogram2d\": [{\"colorbar\": {\"outlinewidth\": 0, \"ticks\": \"\"}, \"colorscale\": [[0.0, \"#0d0887\"], [0.1111111111111111, \"#46039f\"], [0.2222222222222222, \"#7201a8\"], [0.3333333333333333, \"#9c179e\"], [0.4444444444444444, \"#bd3786\"], [0.5555555555555556, \"#d8576b\"], [0.6666666666666666, \"#ed7953\"], [0.7777777777777778, \"#fb9f3a\"], [0.8888888888888888, \"#fdca26\"], [1.0, \"#f0f921\"]], \"type\": \"histogram2d\"}], \"histogram2dcontour\": [{\"colorbar\": {\"outlinewidth\": 0, \"ticks\": \"\"}, \"colorscale\": [[0.0, \"#0d0887\"], [0.1111111111111111, \"#46039f\"], [0.2222222222222222, \"#7201a8\"], [0.3333333333333333, \"#9c179e\"], [0.4444444444444444, \"#bd3786\"], [0.5555555555555556, \"#d8576b\"], [0.6666666666666666, \"#ed7953\"], [0.7777777777777778, \"#fb9f3a\"], [0.8888888888888888, \"#fdca26\"], [1.0, \"#f0f921\"]], \"type\": \"histogram2dcontour\"}], \"mesh3d\": [{\"colorbar\": {\"outlinewidth\": 0, \"ticks\": \"\"}, \"type\": \"mesh3d\"}], \"parcoords\": [{\"line\": {\"colorbar\": {\"outlinewidth\": 0, \"ticks\": \"\"}}, \"type\": \"parcoords\"}], \"pie\": [{\"automargin\": true, \"type\": \"pie\"}], \"scatter\": [{\"marker\": {\"colorbar\": {\"outlinewidth\": 0, \"ticks\": \"\"}}, \"type\": \"scatter\"}], \"scatter3d\": [{\"line\": {\"colorbar\": {\"outlinewidth\": 0, \"ticks\": \"\"}}, \"marker\": {\"colorbar\": {\"outlinewidth\": 0, \"ticks\": \"\"}}, \"type\": \"scatter3d\"}], \"scattercarpet\": [{\"marker\": {\"colorbar\": {\"outlinewidth\": 0, \"ticks\": \"\"}}, \"type\": \"scattercarpet\"}], \"scattergeo\": [{\"marker\": {\"colorbar\": {\"outlinewidth\": 0, \"ticks\": \"\"}}, \"type\": \"scattergeo\"}], \"scattergl\": [{\"marker\": {\"colorbar\": {\"outlinewidth\": 0, \"ticks\": \"\"}}, \"type\": \"scattergl\"}], \"scattermapbox\": [{\"marker\": {\"colorbar\": {\"outlinewidth\": 0, \"ticks\": \"\"}}, \"type\": \"scattermapbox\"}], \"scatterpolar\": [{\"marker\": {\"colorbar\": {\"outlinewidth\": 0, \"ticks\": \"\"}}, \"type\": \"scatterpolar\"}], \"scatterpolargl\": [{\"marker\": {\"colorbar\": {\"outlinewidth\": 0, \"ticks\": \"\"}}, \"type\": \"scatterpolargl\"}], \"scatterternary\": [{\"marker\": {\"colorbar\": {\"outlinewidth\": 0, \"ticks\": \"\"}}, \"type\": \"scatterternary\"}], \"surface\": [{\"colorbar\": {\"outlinewidth\": 0, \"ticks\": \"\"}, \"colorscale\": [[0.0, \"#0d0887\"], [0.1111111111111111, \"#46039f\"], [0.2222222222222222, \"#7201a8\"], [0.3333333333333333, \"#9c179e\"], [0.4444444444444444, \"#bd3786\"], [0.5555555555555556, \"#d8576b\"], [0.6666666666666666, \"#ed7953\"], [0.7777777777777778, \"#fb9f3a\"], [0.8888888888888888, \"#fdca26\"], [1.0, \"#f0f921\"]], \"type\": \"surface\"}], \"table\": [{\"cells\": {\"fill\": {\"color\": \"#EBF0F8\"}, \"line\": {\"color\": \"white\"}}, \"header\": {\"fill\": {\"color\": \"#C8D4E3\"}, \"line\": {\"color\": \"white\"}}, \"type\": \"table\"}]}, \"layout\": {\"annotationdefaults\": {\"arrowcolor\": \"#2a3f5f\", \"arrowhead\": 0, \"arrowwidth\": 1}, \"autotypenumbers\": \"strict\", \"coloraxis\": {\"colorbar\": {\"outlinewidth\": 0, \"ticks\": \"\"}}, \"colorscale\": {\"diverging\": [[0, \"#8e0152\"], [0.1, \"#c51b7d\"], [0.2, \"#de77ae\"], [0.3, \"#f1b6da\"], [0.4, \"#fde0ef\"], [0.5, \"#f7f7f7\"], [0.6, \"#e6f5d0\"], [0.7, \"#b8e186\"], [0.8, \"#7fbc41\"], [0.9, \"#4d9221\"], [1, \"#276419\"]], \"sequential\": [[0.0, \"#0d0887\"], [0.1111111111111111, \"#46039f\"], [0.2222222222222222, \"#7201a8\"], [0.3333333333333333, \"#9c179e\"], [0.4444444444444444, \"#bd3786\"], [0.5555555555555556, \"#d8576b\"], [0.6666666666666666, \"#ed7953\"], [0.7777777777777778, \"#fb9f3a\"], [0.8888888888888888, \"#fdca26\"], [1.0, \"#f0f921\"]], \"sequentialminus\": [[0.0, \"#0d0887\"], [0.1111111111111111, \"#46039f\"], [0.2222222222222222, \"#7201a8\"], [0.3333333333333333, \"#9c179e\"], [0.4444444444444444, \"#bd3786\"], [0.5555555555555556, \"#d8576b\"], [0.6666666666666666, \"#ed7953\"], [0.7777777777777778, \"#fb9f3a\"], [0.8888888888888888, \"#fdca26\"], [1.0, \"#f0f921\"]]}, \"colorway\": [\"#636efa\", \"#EF553B\", \"#00cc96\", \"#ab63fa\", \"#FFA15A\", \"#19d3f3\", \"#FF6692\", \"#B6E880\", \"#FF97FF\", \"#FECB52\"], \"font\": {\"color\": \"#2a3f5f\"}, \"geo\": {\"bgcolor\": \"white\", \"lakecolor\": \"white\", \"landcolor\": \"#E5ECF6\", \"showlakes\": true, \"showland\": true, \"subunitcolor\": \"white\"}, \"hoverlabel\": {\"align\": \"left\"}, \"hovermode\": \"closest\", \"mapbox\": {\"style\": \"light\"}, \"paper_bgcolor\": \"white\", \"plot_bgcolor\": \"#E5ECF6\", \"polar\": {\"angularaxis\": {\"gridcolor\": \"white\", \"linecolor\": \"white\", \"ticks\": \"\"}, \"bgcolor\": \"#E5ECF6\", \"radialaxis\": {\"gridcolor\": \"white\", \"linecolor\": \"white\", \"ticks\": \"\"}}, \"scene\": {\"xaxis\": {\"backgroundcolor\": \"#E5ECF6\", \"gridcolor\": \"white\", \"gridwidth\": 2, \"linecolor\": \"white\", \"showbackground\": true, \"ticks\": \"\", \"zerolinecolor\": \"white\"}, \"yaxis\": {\"backgroundcolor\": \"#E5ECF6\", \"gridcolor\": \"white\", \"gridwidth\": 2, \"linecolor\": \"white\", \"showbackground\": true, \"ticks\": \"\", \"zerolinecolor\": \"white\"}, \"zaxis\": {\"backgroundcolor\": \"#E5ECF6\", \"gridcolor\": \"white\", \"gridwidth\": 2, \"linecolor\": \"white\", \"showbackground\": true, \"ticks\": \"\", \"zerolinecolor\": \"white\"}}, \"shapedefaults\": {\"line\": {\"color\": \"#2a3f5f\"}}, \"ternary\": {\"aaxis\": {\"gridcolor\": \"white\", \"linecolor\": \"white\", \"ticks\": \"\"}, \"baxis\": {\"gridcolor\": \"white\", \"linecolor\": \"white\", \"ticks\": \"\"}, \"bgcolor\": \"#E5ECF6\", \"caxis\": {\"gridcolor\": \"white\", \"linecolor\": \"white\", \"ticks\": \"\"}}, \"title\": {\"x\": 0.05}, \"xaxis\": {\"automargin\": true, \"gridcolor\": \"white\", \"linecolor\": \"white\", \"ticks\": \"\", \"title\": {\"standoff\": 15}, \"zerolinecolor\": \"white\", \"zerolinewidth\": 2}, \"yaxis\": {\"automargin\": true, \"gridcolor\": \"white\", \"linecolor\": \"white\", \"ticks\": \"\", \"title\": {\"standoff\": 15}, \"zerolinecolor\": \"white\", \"zerolinewidth\": 2}}}, \"title\": {\"text\": \"parameter difference\"}},                        {\"responsive\": true}                    ).then(function(){\n",
       "                            \n",
       "var gd = document.getElementById('2612d777-72d9-47e0-bd26-36fb7c2ca806');\n",
       "var x = new MutationObserver(function (mutations, observer) {{\n",
       "        var display = window.getComputedStyle(gd).display;\n",
       "        if (!display || display === 'none') {{\n",
       "            console.log([gd, 'removed!']);\n",
       "            Plotly.purge(gd);\n",
       "            observer.disconnect();\n",
       "        }}\n",
       "}});\n",
       "\n",
       "// Listen for the removal of the full notebook cells\n",
       "var notebookContainer = gd.closest('#notebook-container');\n",
       "if (notebookContainer) {{\n",
       "    x.observe(notebookContainer, {childList: true});\n",
       "}}\n",
       "\n",
       "// Listen for the clearing of the current output cell\n",
       "var outputEl = gd.closest('.output');\n",
       "if (outputEl) {{\n",
       "    x.observe(outputEl, {childList: true});\n",
       "}}\n",
       "\n",
       "                        })                };                });            </script>        </div>"
      ]
     },
     "metadata": {},
     "output_type": "display_data"
    }
   ],
   "source": [
    "save_drifting_ratio_and_parameter = True\n",
    "save_parameter_difference = True\n",
    "df_ref = df_30C\n",
    "df_qc = test_data_list\n",
    "ref_channel = '670nm #1'\n",
    "target_channel = 'magic'\n",
    "\n",
    "result = []\n",
    "for df_qc in test_data_list:    \n",
    "    ratio_ref = ratio_calculator(df_qc, df_ref, ref_channel)\n",
    "    ratio_target = ratio_calculator(df_qc, df_ref, target_channel)\n",
    "    para = ratio_ref/ratio_target\n",
    "    result.append([ratio_ref, ratio_target, para])\n",
    "\n",
    "index = ['QC{}'.format(i+1) for i in range(0, len(test_data_list))]\n",
    "by_ratio_parameter = pd.DataFrame(result, columns=['ratio_ref','ratio_target', 'parameter'], index=index)\n",
    "by_ratio_parameter['parameter difference'] = by_ratio_parameter.loc[:,'parameter'] - by_ratio_parameter.loc['QC1','parameter']\n",
    "\n",
    "plot_data = []\n",
    "trace = go.Scatter(x=by_ratio_parameter.index, y=by_ratio_parameter.loc[:, 'ratio_ref'], name='drift_{}'.format(ref_channel))\n",
    "plot_data.append(trace)\n",
    "trace = go.Scatter(x=by_ratio_parameter.index, y=by_ratio_parameter.loc[:, 'ratio_target'], name='drift_{}'.format(target_channel))\n",
    "plot_data.append(trace)\n",
    "trace = go.Scatter(x=by_ratio_parameter.index, y=by_ratio_parameter.loc[:, 'parameter'], name='parameter')\n",
    "plot_data.append(trace)\n",
    "layout = go.Layout(title='Drifting ratio and parameter')\n",
    "fig = go.Figure(data=plot_data, layout=layout)\n",
    "fig.update_traces(textposition='top center', textfont_size=14)\n",
    "fig.show()\n",
    "\n",
    "if save_drifting_ratio_and_parameter == True:\n",
    "    savePath = os.path.join(os.getcwd(), folder_name)\n",
    "    filename = 'Drifting ratio and parameter'\n",
    "    fig.write_image(savePath + '/' + filename + '.jpeg', width=1280, height=720)\n",
    "#     by_ratio_parameter.to_csv(savePath + '/' + filename + '.csv')\n",
    "\n",
    "plot_data = []\n",
    "trace = go.Scatter(x=by_ratio_parameter.index, y=by_ratio_parameter.loc[:, 'parameter difference'], name='parameter difference')\n",
    "plot_data.append(trace)\n",
    "layout = go.Layout(title='parameter difference')\n",
    "fig = go.Figure(data=plot_data, layout=layout)\n",
    "fig.update_traces(textposition='top center', textfont_size=14)\n",
    "fig.show()\n",
    "\n",
    "if save_parameter_difference == True:\n",
    "    savePath = os.path.join(os.getcwd(), folder_name)\n",
    "    filename = 'parameter difference'\n",
    "    fig.write_image(savePath + '/' + filename + '.jpeg', width=1280, height=720)\n",
    "#     by_ratio_parameter.to_csv(savePath + '/' + filename + '.csv')"
   ]
  },
  {
   "cell_type": "code",
   "execution_count": null,
   "metadata": {},
   "outputs": [],
   "source": []
  },
  {
   "cell_type": "code",
   "execution_count": null,
   "metadata": {},
   "outputs": [],
   "source": []
  },
  {
   "cell_type": "code",
   "execution_count": null,
   "metadata": {},
   "outputs": [],
   "source": []
  }
 ],
 "metadata": {
  "kernelspec": {
   "display_name": "Python 3",
   "language": "python",
   "name": "python3"
  },
  "language_info": {
   "codemirror_mode": {
    "name": "ipython",
    "version": 3
   },
   "file_extension": ".py",
   "mimetype": "text/x-python",
   "name": "python",
   "nbconvert_exporter": "python",
   "pygments_lexer": "ipython3",
   "version": "3.7.3"
  }
 },
 "nbformat": 4,
 "nbformat_minor": 4
}
